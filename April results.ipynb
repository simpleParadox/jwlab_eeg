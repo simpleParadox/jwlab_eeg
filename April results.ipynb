{
 "cells": [
  {
   "cell_type": "markdown",
   "metadata": {},
   "source": [
    "# April 23 Results\n",
    "\n",
    "#### These are after removal for attention and for messy eeg\n",
    "\n",
    "### 9 month olds : new seg only, all ps!\n",
    "- training: 0.1815\n",
    "\n",
    "- average_trials: .47\n",
    "\n",
    "- fully_averaged: .56\n",
    "\n",
    "### 9 month olds : new seg only, min number of trials: \n",
    "\n",
    "### 12 month olds : new seg only, all ps!\n",
    "- training: 0.2129\n",
    "\n",
    "- average_trials: .51\n",
    "\n",
    "- fully_averaged: .56\n",
    "\n",
    "\n",
    "### 9 month olds : new seg only, all ps!\n",
    "- training: 0.34\n",
    "\n",
    "- average_trials: .56\n",
    "\n",
    "- fully_averaged: .56\n",
    "\n",
    "\n",
    "\n",
    "\n",
    "\n"
   ]
  }
 ],
 "metadata": {
  "kernelspec": {
   "display_name": "Python 3",
   "language": "python",
   "name": "python3"
  },
  "language_info": {
   "codemirror_mode": {
    "name": "ipython",
    "version": 3
   },
   "file_extension": ".py",
   "mimetype": "text/x-python",
   "name": "python",
   "nbconvert_exporter": "python",
   "pygments_lexer": "ipython3",
   "version": "3.7.4"
  }
 },
 "nbformat": 4,
 "nbformat_minor": 2
}
