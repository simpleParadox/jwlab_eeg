{
 "cells": [
  {
   "cell_type": "code",
   "execution_count": 1,
   "metadata": {},
   "outputs": [],
   "source": [
    "import setup_jwlab\n",
    "import pandas as pd\n",
    "import numpy as np\n",
    "\n",
    "from jwlab.constants_null import all_participants, twelve_month_participants, nine_month_participants\n",
    "from jwlab.mldata_db_null import get_data\n",
    "from jwlab.data_processing_null import get_num_win\n",
    "from jwlab.dataoptions_null import DataOptions\n",
    "from jwlab.cluster_analysis_null import cluster_analysis_procedure\n",
    "from jwlab.label_remapping_null import label_remapping_sliding_window\n",
    "from jwlab.results_db_null import log_model\n"
   ]
  },
  {
   "cell_type": "code",
   "execution_count": 3,
   "metadata": {},
   "outputs": [
    {
     "ename": "NameError",
     "evalue": "name 'participants' is not defined",
     "output_type": "error",
     "traceback": [
      "\u001b[0;31m---------------------------------------------------------------------------\u001b[0m",
      "\u001b[0;31mNameError\u001b[0m                                 Traceback (most recent call last)",
      "\u001b[0;32m<ipython-input-3-65b23f2d9b09>\u001b[0m in \u001b[0;36m<module>\u001b[0;34m\u001b[0m\n\u001b[1;32m     29\u001b[0m \u001b[0mcrossval_config\u001b[0m \u001b[0;34m=\u001b[0m \u001b[0;34m[\u001b[0m\u001b[0;36m3\u001b[0m\u001b[0;34m,\u001b[0m \u001b[0;36m15\u001b[0m\u001b[0;34m]\u001b[0m\u001b[0;34m\u001b[0m\u001b[0;34m\u001b[0m\u001b[0m\n\u001b[1;32m     30\u001b[0m \u001b[0;34m\u001b[0m\u001b[0m\n\u001b[0;32m---> 31\u001b[0;31m \u001b[0mresult\u001b[0m \u001b[0;34m=\u001b[0m \u001b[0mcluster_analysis_procedure\u001b[0m\u001b[0;34m(\u001b[0m\u001b[0mdf_list\u001b[0m\u001b[0;34m,\u001b[0m \u001b[0my\u001b[0m\u001b[0;34m,\u001b[0m \u001b[0mnum_win\u001b[0m\u001b[0;34m,\u001b[0m \u001b[0mcrossval_config\u001b[0m\u001b[0;34m,\u001b[0m \u001b[0mcrossval\u001b[0m\u001b[0;34m=\u001b[0m\u001b[0;34m'default'\u001b[0m\u001b[0;34m)\u001b[0m\u001b[0;34m\u001b[0m\u001b[0;34m\u001b[0m\u001b[0m\n\u001b[0m",
      "\u001b[0;32m~/Desktop/Studies/Animates EEG/8_Github/jwlab_eeg/classification/notebooks/../code/jwlab/cluster_analysis_null.py\u001b[0m in \u001b[0;36mcluster_analysis_procedure\u001b[0;34m(X, y, num_win, cross_val_config, crossval)\u001b[0m\n\u001b[1;32m     84\u001b[0m \u001b[0;34m\u001b[0m\u001b[0m\n\u001b[1;32m     85\u001b[0m     \u001b[0;32mif\u001b[0m \u001b[0mcrossval\u001b[0m \u001b[0;34m==\u001b[0m \u001b[0;34m'default'\u001b[0m\u001b[0;34m:\u001b[0m\u001b[0;34m\u001b[0m\u001b[0;34m\u001b[0m\u001b[0m\n\u001b[0;32m---> 86\u001b[0;31m         \u001b[0mresults\u001b[0m \u001b[0;34m=\u001b[0m \u001b[0mcross_validaton\u001b[0m\u001b[0;34m(\u001b[0m\u001b[0mnum_iterations\u001b[0m\u001b[0;34m,\u001b[0m \u001b[0mnum_win\u001b[0m\u001b[0;34m,\u001b[0m \u001b[0mnum_folds\u001b[0m\u001b[0;34m,\u001b[0m \u001b[0mX\u001b[0m\u001b[0;34m,\u001b[0m \u001b[0my\u001b[0m\u001b[0;34m,\u001b[0m \u001b[0mparticipants\u001b[0m\u001b[0;34m)\u001b[0m\u001b[0;34m\u001b[0m\u001b[0;34m\u001b[0m\u001b[0m\n\u001b[0m\u001b[1;32m     87\u001b[0m     \u001b[0;32melif\u001b[0m \u001b[0mcrossval\u001b[0m \u001b[0;34m==\u001b[0m \u001b[0;34m'train_raw_test_fully_averaged'\u001b[0m\u001b[0;34m:\u001b[0m\u001b[0;34m\u001b[0m\u001b[0;34m\u001b[0m\u001b[0m\n\u001b[1;32m     88\u001b[0m         \u001b[0mresults\u001b[0m \u001b[0;34m=\u001b[0m \u001b[0mcross_val_raw_pred_avg\u001b[0m\u001b[0;34m(\u001b[0m\u001b[0mnum_iterations\u001b[0m\u001b[0;34m,\u001b[0m \u001b[0mnum_win\u001b[0m\u001b[0;34m,\u001b[0m \u001b[0mnum_folds\u001b[0m\u001b[0;34m,\u001b[0m \u001b[0mX\u001b[0m\u001b[0;34m,\u001b[0m \u001b[0my\u001b[0m\u001b[0;34m)\u001b[0m\u001b[0;34m\u001b[0m\u001b[0;34m\u001b[0m\u001b[0m\n",
      "\u001b[0;31mNameError\u001b[0m: name 'participants' is not defined"
     ]
    }
   ],
   "source": [
    "options = DataOptions(\n",
    "            version=\"1\",\n",
    "            participants=twelve_month_participants,\n",
    "            averaging=\"permutation\",\n",
    "            feature_settings=\"no_feature_extraction\",\n",
    "            use_custom_participants=False,\n",
    "            normalize_features=False,\n",
    "            include_pre_window=True,\n",
    "            sliding_window=[-200, 1000, [100], 10], \n",
    "            permutation_num_trials_per_avg=20,\n",
    "            randomize_label=False,\n",
    "        )\n",
    "        \n",
    "df_list = get_data(options)\n",
    "num_win = get_num_win(df_list)\n",
    "\n",
    "y = []\n",
    "for i in range(len(df_list)):\n",
    "    temp = []\n",
    "    for j in range(len(df_list[i])):\n",
    "        label = list(df_list[i][j]['label'].values)\n",
    "        temp += [np.asarray(label)]\n",
    "    y += [temp]\n",
    "# Drop unused columns\n",
    "for i in range(len(df_list)):\n",
    "    for j in range(len(df_list[i])):\n",
    "        df_list[i][j] = df_list[i][j].drop(columns=[\"label\", \"participant\", \"trial_id\"])\n",
    "\n",
    "crossval_config = [3, 15]\n",
    "\n",
    "result = cluster_analysis_procedure(df_list, y, num_win, crossval_config, crossval='default')"
   ]
  },
  {
   "cell_type": "code",
   "execution_count": null,
   "metadata": {},
   "outputs": [],
   "source": [
    "result"
   ]
  },
  {
   "cell_type": "code",
   "execution_count": null,
   "metadata": {},
   "outputs": [],
   "source": []
  }
 ],
 "metadata": {
  "kernelspec": {
   "display_name": "Python 3",
   "language": "python",
   "name": "python3"
  },
  "language_info": {
   "codemirror_mode": {
    "name": "ipython",
    "version": 3
   },
   "file_extension": ".py",
   "mimetype": "text/x-python",
   "name": "python",
   "nbconvert_exporter": "python",
   "pygments_lexer": "ipython3",
   "version": "3.7.4"
  }
 },
 "nbformat": 4,
 "nbformat_minor": 4
}
