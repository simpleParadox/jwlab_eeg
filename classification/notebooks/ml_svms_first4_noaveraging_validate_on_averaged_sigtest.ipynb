{
 "cells": [
  {
   "cell_type": "code",
   "execution_count": 3,
   "metadata": {},
   "outputs": [],
   "source": [
    "import pandas as pd\n",
    "import numpy as np"
   ]
  },
  {
   "cell_type": "code",
   "execution_count": 4,
   "metadata": {},
   "outputs": [],
   "source": [
    "from constants import cleaned_data_filepath\n",
    "participants = [\"107\", \"904\", \"905\", \"906\"]\n",
    "\n",
    "from ml_prep import prep_ml, average_trials_and_participants, no_average\n",
    "X,y,p,w,df = prep_ml(cleaned_data_filepath, participants, downsample_num=200, averaging=\"no_averaging\")"
   ]
  },
  {
   "cell_type": "code",
   "execution_count": 21,
   "metadata": {},
   "outputs": [],
   "source": [
    "from sklearn.svm import LinearSVC\n",
    "model = LinearSVC(C=1e-6, max_iter=2000)"
   ]
  },
  {
   "cell_type": "code",
   "execution_count": 22,
   "metadata": {},
   "outputs": [],
   "source": [
    "# from sklearn.ensemble import RandomForestClassifier\n",
    "# model = RandomForestClassifier()"
   ]
  },
  {
   "cell_type": "code",
   "execution_count": 23,
   "metadata": {},
   "outputs": [],
   "source": [
    "# from sklearn.ensemble import BaggingClassifier\n",
    "# model = BaggingClassifier(model)"
   ]
  },
  {
   "cell_type": "code",
   "execution_count": 24,
   "metadata": {},
   "outputs": [],
   "source": [
    "# from sklearn.model_selection import GridSearchCV\n",
    "\n",
    "# param_grid = [\n",
    "  # {'C': np.logspace(-10, -5, 3)}\n",
    " # ]\n",
    "\n",
    "# tuned_model = GridSearchCV(model, param_grid)\n",
    "# tuned_model.fit(X, y)\n",
    "\n",
    "# tuned_model.cv_results_"
   ]
  },
  {
   "cell_type": "code",
   "execution_count": 25,
   "metadata": {},
   "outputs": [
    {
     "name": "stderr",
     "output_type": "stream",
     "text": [
      "C:\\Users\\Karl\\Documents\\jwlab_eeg\\code\\jwlab_eeg\\classification\\ml_prep.py:98: RuntimeWarning: Mean of empty slice.\n",
      "  means = df_data[df.label == w].values.mean()\n",
      "c:\\users\\karl\\appdata\\local\\programs\\python\\python37\\lib\\site-packages\\numpy\\core\\_methods.py:85: RuntimeWarning: invalid value encountered in double_scalars\n",
      "  ret = ret.dtype.type(ret / rcount)\n"
     ]
    },
    {
     "name": "stdout",
     "output_type": "stream",
     "text": [
      "\r",
      "[                    ] 1%"
     ]
    },
    {
     "name": "stderr",
     "output_type": "stream",
     "text": [
      "C:\\Users\\Karl\\Documents\\jwlab_eeg\\code\\jwlab_eeg\\classification\\ml_prep.py:98: RuntimeWarning: Mean of empty slice.\n",
      "  means = df_data[df.label == w].values.mean()\n",
      "c:\\users\\karl\\appdata\\local\\programs\\python\\python37\\lib\\site-packages\\numpy\\core\\_methods.py:85: RuntimeWarning: invalid value encountered in double_scalars\n",
      "  ret = ret.dtype.type(ret / rcount)\n"
     ]
    },
    {
     "name": "stdout",
     "output_type": "stream",
     "text": [
      "\r",
      "[                    ] 2%"
     ]
    },
    {
     "name": "stderr",
     "output_type": "stream",
     "text": [
      "C:\\Users\\Karl\\Documents\\jwlab_eeg\\code\\jwlab_eeg\\classification\\ml_prep.py:98: RuntimeWarning: Mean of empty slice.\n",
      "  means = df_data[df.label == w].values.mean()\n",
      "c:\\users\\karl\\appdata\\local\\programs\\python\\python37\\lib\\site-packages\\numpy\\core\\_methods.py:85: RuntimeWarning: invalid value encountered in double_scalars\n",
      "  ret = ret.dtype.type(ret / rcount)\n"
     ]
    },
    {
     "name": "stdout",
     "output_type": "stream",
     "text": [
      "\r",
      "[                    ] 3%"
     ]
    },
    {
     "name": "stderr",
     "output_type": "stream",
     "text": [
      "C:\\Users\\Karl\\Documents\\jwlab_eeg\\code\\jwlab_eeg\\classification\\ml_prep.py:98: RuntimeWarning: Mean of empty slice.\n",
      "  means = df_data[df.label == w].values.mean()\n",
      "c:\\users\\karl\\appdata\\local\\programs\\python\\python37\\lib\\site-packages\\numpy\\core\\_methods.py:85: RuntimeWarning: invalid value encountered in double_scalars\n",
      "  ret = ret.dtype.type(ret / rcount)\n"
     ]
    },
    {
     "name": "stdout",
     "output_type": "stream",
     "text": [
      "\r",
      "[                    ] 4%"
     ]
    },
    {
     "name": "stderr",
     "output_type": "stream",
     "text": [
      "C:\\Users\\Karl\\Documents\\jwlab_eeg\\code\\jwlab_eeg\\classification\\ml_prep.py:98: RuntimeWarning: Mean of empty slice.\n",
      "  means = df_data[df.label == w].values.mean()\n",
      "c:\\users\\karl\\appdata\\local\\programs\\python\\python37\\lib\\site-packages\\numpy\\core\\_methods.py:85: RuntimeWarning: invalid value encountered in double_scalars\n",
      "  ret = ret.dtype.type(ret / rcount)\n"
     ]
    },
    {
     "name": "stdout",
     "output_type": "stream",
     "text": [
      "\r",
      "[=                   ] 5%"
     ]
    },
    {
     "name": "stderr",
     "output_type": "stream",
     "text": [
      "C:\\Users\\Karl\\Documents\\jwlab_eeg\\code\\jwlab_eeg\\classification\\ml_prep.py:98: RuntimeWarning: Mean of empty slice.\n",
      "  means = df_data[df.label == w].values.mean()\n",
      "c:\\users\\karl\\appdata\\local\\programs\\python\\python37\\lib\\site-packages\\numpy\\core\\_methods.py:85: RuntimeWarning: invalid value encountered in double_scalars\n",
      "  ret = ret.dtype.type(ret / rcount)\n"
     ]
    },
    {
     "name": "stdout",
     "output_type": "stream",
     "text": [
      "\r",
      "[=                   ] 6%"
     ]
    },
    {
     "name": "stderr",
     "output_type": "stream",
     "text": [
      "C:\\Users\\Karl\\Documents\\jwlab_eeg\\code\\jwlab_eeg\\classification\\ml_prep.py:98: RuntimeWarning: Mean of empty slice.\n",
      "  means = df_data[df.label == w].values.mean()\n",
      "c:\\users\\karl\\appdata\\local\\programs\\python\\python37\\lib\\site-packages\\numpy\\core\\_methods.py:85: RuntimeWarning: invalid value encountered in double_scalars\n",
      "  ret = ret.dtype.type(ret / rcount)\n"
     ]
    },
    {
     "name": "stdout",
     "output_type": "stream",
     "text": [
      "\r",
      "[=                   ] 7%"
     ]
    },
    {
     "name": "stderr",
     "output_type": "stream",
     "text": [
      "C:\\Users\\Karl\\Documents\\jwlab_eeg\\code\\jwlab_eeg\\classification\\ml_prep.py:98: RuntimeWarning: Mean of empty slice.\n",
      "  means = df_data[df.label == w].values.mean()\n",
      "c:\\users\\karl\\appdata\\local\\programs\\python\\python37\\lib\\site-packages\\numpy\\core\\_methods.py:85: RuntimeWarning: invalid value encountered in double_scalars\n",
      "  ret = ret.dtype.type(ret / rcount)\n"
     ]
    },
    {
     "name": "stdout",
     "output_type": "stream",
     "text": [
      "\r",
      "[=                   ] 8%"
     ]
    },
    {
     "name": "stderr",
     "output_type": "stream",
     "text": [
      "C:\\Users\\Karl\\Documents\\jwlab_eeg\\code\\jwlab_eeg\\classification\\ml_prep.py:98: RuntimeWarning: Mean of empty slice.\n",
      "  means = df_data[df.label == w].values.mean()\n",
      "c:\\users\\karl\\appdata\\local\\programs\\python\\python37\\lib\\site-packages\\numpy\\core\\_methods.py:85: RuntimeWarning: invalid value encountered in double_scalars\n",
      "  ret = ret.dtype.type(ret / rcount)\n"
     ]
    },
    {
     "name": "stdout",
     "output_type": "stream",
     "text": [
      "\r",
      "[=                   ] 9%"
     ]
    },
    {
     "name": "stderr",
     "output_type": "stream",
     "text": [
      "C:\\Users\\Karl\\Documents\\jwlab_eeg\\code\\jwlab_eeg\\classification\\ml_prep.py:98: RuntimeWarning: Mean of empty slice.\n",
      "  means = df_data[df.label == w].values.mean()\n",
      "c:\\users\\karl\\appdata\\local\\programs\\python\\python37\\lib\\site-packages\\numpy\\core\\_methods.py:85: RuntimeWarning: invalid value encountered in double_scalars\n",
      "  ret = ret.dtype.type(ret / rcount)\n"
     ]
    },
    {
     "name": "stdout",
     "output_type": "stream",
     "text": [
      "\r",
      "[==                  ] 10%"
     ]
    },
    {
     "name": "stderr",
     "output_type": "stream",
     "text": [
      "C:\\Users\\Karl\\Documents\\jwlab_eeg\\code\\jwlab_eeg\\classification\\ml_prep.py:98: RuntimeWarning: Mean of empty slice.\n",
      "  means = df_data[df.label == w].values.mean()\n",
      "c:\\users\\karl\\appdata\\local\\programs\\python\\python37\\lib\\site-packages\\numpy\\core\\_methods.py:85: RuntimeWarning: invalid value encountered in double_scalars\n",
      "  ret = ret.dtype.type(ret / rcount)\n"
     ]
    },
    {
     "name": "stdout",
     "output_type": "stream",
     "text": [
      "\r",
      "[==                  ] 11%"
     ]
    },
    {
     "name": "stderr",
     "output_type": "stream",
     "text": [
      "C:\\Users\\Karl\\Documents\\jwlab_eeg\\code\\jwlab_eeg\\classification\\ml_prep.py:98: RuntimeWarning: Mean of empty slice.\n",
      "  means = df_data[df.label == w].values.mean()\n",
      "c:\\users\\karl\\appdata\\local\\programs\\python\\python37\\lib\\site-packages\\numpy\\core\\_methods.py:85: RuntimeWarning: invalid value encountered in double_scalars\n",
      "  ret = ret.dtype.type(ret / rcount)\n"
     ]
    },
    {
     "name": "stdout",
     "output_type": "stream",
     "text": [
      "\r",
      "[==                  ] 12%"
     ]
    },
    {
     "name": "stderr",
     "output_type": "stream",
     "text": [
      "C:\\Users\\Karl\\Documents\\jwlab_eeg\\code\\jwlab_eeg\\classification\\ml_prep.py:98: RuntimeWarning: Mean of empty slice.\n",
      "  means = df_data[df.label == w].values.mean()\n",
      "c:\\users\\karl\\appdata\\local\\programs\\python\\python37\\lib\\site-packages\\numpy\\core\\_methods.py:85: RuntimeWarning: invalid value encountered in double_scalars\n",
      "  ret = ret.dtype.type(ret / rcount)\n"
     ]
    },
    {
     "name": "stdout",
     "output_type": "stream",
     "text": [
      "\r",
      "[==                  ] 13%"
     ]
    },
    {
     "name": "stderr",
     "output_type": "stream",
     "text": [
      "C:\\Users\\Karl\\Documents\\jwlab_eeg\\code\\jwlab_eeg\\classification\\ml_prep.py:98: RuntimeWarning: Mean of empty slice.\n",
      "  means = df_data[df.label == w].values.mean()\n",
      "c:\\users\\karl\\appdata\\local\\programs\\python\\python37\\lib\\site-packages\\numpy\\core\\_methods.py:85: RuntimeWarning: invalid value encountered in double_scalars\n",
      "  ret = ret.dtype.type(ret / rcount)\n"
     ]
    },
    {
     "name": "stdout",
     "output_type": "stream",
     "text": [
      "\r",
      "[==                  ] 14%"
     ]
    },
    {
     "name": "stderr",
     "output_type": "stream",
     "text": [
      "C:\\Users\\Karl\\Documents\\jwlab_eeg\\code\\jwlab_eeg\\classification\\ml_prep.py:98: RuntimeWarning: Mean of empty slice.\n",
      "  means = df_data[df.label == w].values.mean()\n",
      "c:\\users\\karl\\appdata\\local\\programs\\python\\python37\\lib\\site-packages\\numpy\\core\\_methods.py:85: RuntimeWarning: invalid value encountered in double_scalars\n",
      "  ret = ret.dtype.type(ret / rcount)\n"
     ]
    },
    {
     "name": "stdout",
     "output_type": "stream",
     "text": [
      "\r",
      "[===                 ] 15%"
     ]
    },
    {
     "name": "stderr",
     "output_type": "stream",
     "text": [
      "C:\\Users\\Karl\\Documents\\jwlab_eeg\\code\\jwlab_eeg\\classification\\ml_prep.py:98: RuntimeWarning: Mean of empty slice.\n",
      "  means = df_data[df.label == w].values.mean()\n",
      "c:\\users\\karl\\appdata\\local\\programs\\python\\python37\\lib\\site-packages\\numpy\\core\\_methods.py:85: RuntimeWarning: invalid value encountered in double_scalars\n",
      "  ret = ret.dtype.type(ret / rcount)\n"
     ]
    },
    {
     "name": "stdout",
     "output_type": "stream",
     "text": [
      "\r",
      "[===                 ] 16%"
     ]
    },
    {
     "name": "stderr",
     "output_type": "stream",
     "text": [
      "C:\\Users\\Karl\\Documents\\jwlab_eeg\\code\\jwlab_eeg\\classification\\ml_prep.py:98: RuntimeWarning: Mean of empty slice.\n",
      "  means = df_data[df.label == w].values.mean()\n",
      "c:\\users\\karl\\appdata\\local\\programs\\python\\python37\\lib\\site-packages\\numpy\\core\\_methods.py:85: RuntimeWarning: invalid value encountered in double_scalars\n",
      "  ret = ret.dtype.type(ret / rcount)\n"
     ]
    },
    {
     "name": "stdout",
     "output_type": "stream",
     "text": [
      "\r",
      "[===                 ] 17%"
     ]
    },
    {
     "name": "stderr",
     "output_type": "stream",
     "text": [
      "C:\\Users\\Karl\\Documents\\jwlab_eeg\\code\\jwlab_eeg\\classification\\ml_prep.py:98: RuntimeWarning: Mean of empty slice.\n",
      "  means = df_data[df.label == w].values.mean()\n",
      "c:\\users\\karl\\appdata\\local\\programs\\python\\python37\\lib\\site-packages\\numpy\\core\\_methods.py:85: RuntimeWarning: invalid value encountered in double_scalars\n",
      "  ret = ret.dtype.type(ret / rcount)\n"
     ]
    },
    {
     "name": "stdout",
     "output_type": "stream",
     "text": [
      "\r",
      "[===                 ] 18%"
     ]
    },
    {
     "name": "stderr",
     "output_type": "stream",
     "text": [
      "C:\\Users\\Karl\\Documents\\jwlab_eeg\\code\\jwlab_eeg\\classification\\ml_prep.py:98: RuntimeWarning: Mean of empty slice.\n",
      "  means = df_data[df.label == w].values.mean()\n",
      "c:\\users\\karl\\appdata\\local\\programs\\python\\python37\\lib\\site-packages\\numpy\\core\\_methods.py:85: RuntimeWarning: invalid value encountered in double_scalars\n",
      "  ret = ret.dtype.type(ret / rcount)\n"
     ]
    },
    {
     "name": "stdout",
     "output_type": "stream",
     "text": [
      "\r",
      "[===                 ] 19%"
     ]
    },
    {
     "name": "stderr",
     "output_type": "stream",
     "text": [
      "C:\\Users\\Karl\\Documents\\jwlab_eeg\\code\\jwlab_eeg\\classification\\ml_prep.py:98: RuntimeWarning: Mean of empty slice.\n",
      "  means = df_data[df.label == w].values.mean()\n",
      "c:\\users\\karl\\appdata\\local\\programs\\python\\python37\\lib\\site-packages\\numpy\\core\\_methods.py:85: RuntimeWarning: invalid value encountered in double_scalars\n",
      "  ret = ret.dtype.type(ret / rcount)\n"
     ]
    },
    {
     "name": "stdout",
     "output_type": "stream",
     "text": [
      "\r",
      "[====                ] 20%"
     ]
    },
    {
     "name": "stderr",
     "output_type": "stream",
     "text": [
      "C:\\Users\\Karl\\Documents\\jwlab_eeg\\code\\jwlab_eeg\\classification\\ml_prep.py:98: RuntimeWarning: Mean of empty slice.\n",
      "  means = df_data[df.label == w].values.mean()\n",
      "c:\\users\\karl\\appdata\\local\\programs\\python\\python37\\lib\\site-packages\\numpy\\core\\_methods.py:85: RuntimeWarning: invalid value encountered in double_scalars\n",
      "  ret = ret.dtype.type(ret / rcount)\n"
     ]
    },
    {
     "name": "stdout",
     "output_type": "stream",
     "text": [
      "\r",
      "[====                ] 21%"
     ]
    },
    {
     "name": "stderr",
     "output_type": "stream",
     "text": [
      "C:\\Users\\Karl\\Documents\\jwlab_eeg\\code\\jwlab_eeg\\classification\\ml_prep.py:98: RuntimeWarning: Mean of empty slice.\n",
      "  means = df_data[df.label == w].values.mean()\n",
      "c:\\users\\karl\\appdata\\local\\programs\\python\\python37\\lib\\site-packages\\numpy\\core\\_methods.py:85: RuntimeWarning: invalid value encountered in double_scalars\n",
      "  ret = ret.dtype.type(ret / rcount)\n"
     ]
    },
    {
     "name": "stdout",
     "output_type": "stream",
     "text": [
      "\r",
      "[====                ] 22%"
     ]
    },
    {
     "name": "stderr",
     "output_type": "stream",
     "text": [
      "C:\\Users\\Karl\\Documents\\jwlab_eeg\\code\\jwlab_eeg\\classification\\ml_prep.py:98: RuntimeWarning: Mean of empty slice.\n",
      "  means = df_data[df.label == w].values.mean()\n",
      "c:\\users\\karl\\appdata\\local\\programs\\python\\python37\\lib\\site-packages\\numpy\\core\\_methods.py:85: RuntimeWarning: invalid value encountered in double_scalars\n",
      "  ret = ret.dtype.type(ret / rcount)\n"
     ]
    },
    {
     "name": "stdout",
     "output_type": "stream",
     "text": [
      "\r",
      "[====                ] 23%"
     ]
    },
    {
     "name": "stderr",
     "output_type": "stream",
     "text": [
      "C:\\Users\\Karl\\Documents\\jwlab_eeg\\code\\jwlab_eeg\\classification\\ml_prep.py:98: RuntimeWarning: Mean of empty slice.\n",
      "  means = df_data[df.label == w].values.mean()\n",
      "c:\\users\\karl\\appdata\\local\\programs\\python\\python37\\lib\\site-packages\\numpy\\core\\_methods.py:85: RuntimeWarning: invalid value encountered in double_scalars\n",
      "  ret = ret.dtype.type(ret / rcount)\n"
     ]
    },
    {
     "name": "stdout",
     "output_type": "stream",
     "text": [
      "\r",
      "[====                ] 24%"
     ]
    },
    {
     "name": "stderr",
     "output_type": "stream",
     "text": [
      "C:\\Users\\Karl\\Documents\\jwlab_eeg\\code\\jwlab_eeg\\classification\\ml_prep.py:98: RuntimeWarning: Mean of empty slice.\n",
      "  means = df_data[df.label == w].values.mean()\n",
      "c:\\users\\karl\\appdata\\local\\programs\\python\\python37\\lib\\site-packages\\numpy\\core\\_methods.py:85: RuntimeWarning: invalid value encountered in double_scalars\n",
      "  ret = ret.dtype.type(ret / rcount)\n"
     ]
    },
    {
     "name": "stdout",
     "output_type": "stream",
     "text": [
      "\r",
      "[=====               ] 25%"
     ]
    },
    {
     "name": "stderr",
     "output_type": "stream",
     "text": [
      "C:\\Users\\Karl\\Documents\\jwlab_eeg\\code\\jwlab_eeg\\classification\\ml_prep.py:98: RuntimeWarning: Mean of empty slice.\n",
      "  means = df_data[df.label == w].values.mean()\n",
      "c:\\users\\karl\\appdata\\local\\programs\\python\\python37\\lib\\site-packages\\numpy\\core\\_methods.py:85: RuntimeWarning: invalid value encountered in double_scalars\n",
      "  ret = ret.dtype.type(ret / rcount)\n"
     ]
    },
    {
     "name": "stdout",
     "output_type": "stream",
     "text": [
      "\r",
      "[=====               ] 26%"
     ]
    },
    {
     "name": "stderr",
     "output_type": "stream",
     "text": [
      "C:\\Users\\Karl\\Documents\\jwlab_eeg\\code\\jwlab_eeg\\classification\\ml_prep.py:98: RuntimeWarning: Mean of empty slice.\n",
      "  means = df_data[df.label == w].values.mean()\n",
      "c:\\users\\karl\\appdata\\local\\programs\\python\\python37\\lib\\site-packages\\numpy\\core\\_methods.py:85: RuntimeWarning: invalid value encountered in double_scalars\n",
      "  ret = ret.dtype.type(ret / rcount)\n"
     ]
    },
    {
     "name": "stdout",
     "output_type": "stream",
     "text": [
      "\r",
      "[=====               ] 27%"
     ]
    },
    {
     "name": "stderr",
     "output_type": "stream",
     "text": [
      "C:\\Users\\Karl\\Documents\\jwlab_eeg\\code\\jwlab_eeg\\classification\\ml_prep.py:98: RuntimeWarning: Mean of empty slice.\n",
      "  means = df_data[df.label == w].values.mean()\n",
      "c:\\users\\karl\\appdata\\local\\programs\\python\\python37\\lib\\site-packages\\numpy\\core\\_methods.py:85: RuntimeWarning: invalid value encountered in double_scalars\n",
      "  ret = ret.dtype.type(ret / rcount)\n"
     ]
    },
    {
     "name": "stdout",
     "output_type": "stream",
     "text": [
      "\r",
      "[=====               ] 28%"
     ]
    },
    {
     "name": "stderr",
     "output_type": "stream",
     "text": [
      "C:\\Users\\Karl\\Documents\\jwlab_eeg\\code\\jwlab_eeg\\classification\\ml_prep.py:98: RuntimeWarning: Mean of empty slice.\n",
      "  means = df_data[df.label == w].values.mean()\n",
      "c:\\users\\karl\\appdata\\local\\programs\\python\\python37\\lib\\site-packages\\numpy\\core\\_methods.py:85: RuntimeWarning: invalid value encountered in double_scalars\n",
      "  ret = ret.dtype.type(ret / rcount)\n"
     ]
    },
    {
     "name": "stdout",
     "output_type": "stream",
     "text": [
      "\r",
      "[=====               ] 28%"
     ]
    },
    {
     "name": "stderr",
     "output_type": "stream",
     "text": [
      "C:\\Users\\Karl\\Documents\\jwlab_eeg\\code\\jwlab_eeg\\classification\\ml_prep.py:98: RuntimeWarning: Mean of empty slice.\n",
      "  means = df_data[df.label == w].values.mean()\n",
      "c:\\users\\karl\\appdata\\local\\programs\\python\\python37\\lib\\site-packages\\numpy\\core\\_methods.py:85: RuntimeWarning: invalid value encountered in double_scalars\n",
      "  ret = ret.dtype.type(ret / rcount)\n"
     ]
    },
    {
     "name": "stdout",
     "output_type": "stream",
     "text": [
      "\r",
      "[======              ] 30%"
     ]
    },
    {
     "name": "stderr",
     "output_type": "stream",
     "text": [
      "C:\\Users\\Karl\\Documents\\jwlab_eeg\\code\\jwlab_eeg\\classification\\ml_prep.py:98: RuntimeWarning: Mean of empty slice.\n",
      "  means = df_data[df.label == w].values.mean()\n",
      "c:\\users\\karl\\appdata\\local\\programs\\python\\python37\\lib\\site-packages\\numpy\\core\\_methods.py:85: RuntimeWarning: invalid value encountered in double_scalars\n",
      "  ret = ret.dtype.type(ret / rcount)\n"
     ]
    },
    {
     "name": "stdout",
     "output_type": "stream",
     "text": [
      "\r",
      "[======              ] 31%"
     ]
    },
    {
     "name": "stderr",
     "output_type": "stream",
     "text": [
      "C:\\Users\\Karl\\Documents\\jwlab_eeg\\code\\jwlab_eeg\\classification\\ml_prep.py:98: RuntimeWarning: Mean of empty slice.\n",
      "  means = df_data[df.label == w].values.mean()\n",
      "c:\\users\\karl\\appdata\\local\\programs\\python\\python37\\lib\\site-packages\\numpy\\core\\_methods.py:85: RuntimeWarning: invalid value encountered in double_scalars\n",
      "  ret = ret.dtype.type(ret / rcount)\n"
     ]
    },
    {
     "name": "stdout",
     "output_type": "stream",
     "text": [
      "\r",
      "[======              ] 32%"
     ]
    },
    {
     "name": "stderr",
     "output_type": "stream",
     "text": [
      "C:\\Users\\Karl\\Documents\\jwlab_eeg\\code\\jwlab_eeg\\classification\\ml_prep.py:98: RuntimeWarning: Mean of empty slice.\n",
      "  means = df_data[df.label == w].values.mean()\n",
      "c:\\users\\karl\\appdata\\local\\programs\\python\\python37\\lib\\site-packages\\numpy\\core\\_methods.py:85: RuntimeWarning: invalid value encountered in double_scalars\n",
      "  ret = ret.dtype.type(ret / rcount)\n"
     ]
    },
    {
     "name": "stdout",
     "output_type": "stream",
     "text": [
      "\r",
      "[======              ] 33%"
     ]
    },
    {
     "name": "stderr",
     "output_type": "stream",
     "text": [
      "C:\\Users\\Karl\\Documents\\jwlab_eeg\\code\\jwlab_eeg\\classification\\ml_prep.py:98: RuntimeWarning: Mean of empty slice.\n",
      "  means = df_data[df.label == w].values.mean()\n",
      "c:\\users\\karl\\appdata\\local\\programs\\python\\python37\\lib\\site-packages\\numpy\\core\\_methods.py:85: RuntimeWarning: invalid value encountered in double_scalars\n",
      "  ret = ret.dtype.type(ret / rcount)\n"
     ]
    },
    {
     "name": "stdout",
     "output_type": "stream",
     "text": [
      "\r",
      "[======              ] 34%"
     ]
    },
    {
     "name": "stderr",
     "output_type": "stream",
     "text": [
      "C:\\Users\\Karl\\Documents\\jwlab_eeg\\code\\jwlab_eeg\\classification\\ml_prep.py:98: RuntimeWarning: Mean of empty slice.\n",
      "  means = df_data[df.label == w].values.mean()\n",
      "c:\\users\\karl\\appdata\\local\\programs\\python\\python37\\lib\\site-packages\\numpy\\core\\_methods.py:85: RuntimeWarning: invalid value encountered in double_scalars\n",
      "  ret = ret.dtype.type(ret / rcount)\n"
     ]
    },
    {
     "name": "stdout",
     "output_type": "stream",
     "text": [
      "\r",
      "[=======             ] 35%"
     ]
    },
    {
     "name": "stderr",
     "output_type": "stream",
     "text": [
      "C:\\Users\\Karl\\Documents\\jwlab_eeg\\code\\jwlab_eeg\\classification\\ml_prep.py:98: RuntimeWarning: Mean of empty slice.\n",
      "  means = df_data[df.label == w].values.mean()\n",
      "c:\\users\\karl\\appdata\\local\\programs\\python\\python37\\lib\\site-packages\\numpy\\core\\_methods.py:85: RuntimeWarning: invalid value encountered in double_scalars\n",
      "  ret = ret.dtype.type(ret / rcount)\n"
     ]
    },
    {
     "name": "stdout",
     "output_type": "stream",
     "text": [
      "\r",
      "[=======             ] 36%"
     ]
    },
    {
     "name": "stderr",
     "output_type": "stream",
     "text": [
      "C:\\Users\\Karl\\Documents\\jwlab_eeg\\code\\jwlab_eeg\\classification\\ml_prep.py:98: RuntimeWarning: Mean of empty slice.\n",
      "  means = df_data[df.label == w].values.mean()\n",
      "c:\\users\\karl\\appdata\\local\\programs\\python\\python37\\lib\\site-packages\\numpy\\core\\_methods.py:85: RuntimeWarning: invalid value encountered in double_scalars\n",
      "  ret = ret.dtype.type(ret / rcount)\n"
     ]
    },
    {
     "name": "stdout",
     "output_type": "stream",
     "text": [
      "\r",
      "[=======             ] 37%"
     ]
    },
    {
     "name": "stderr",
     "output_type": "stream",
     "text": [
      "C:\\Users\\Karl\\Documents\\jwlab_eeg\\code\\jwlab_eeg\\classification\\ml_prep.py:98: RuntimeWarning: Mean of empty slice.\n",
      "  means = df_data[df.label == w].values.mean()\n",
      "c:\\users\\karl\\appdata\\local\\programs\\python\\python37\\lib\\site-packages\\numpy\\core\\_methods.py:85: RuntimeWarning: invalid value encountered in double_scalars\n",
      "  ret = ret.dtype.type(ret / rcount)\n"
     ]
    },
    {
     "name": "stdout",
     "output_type": "stream",
     "text": [
      "\r",
      "[=======             ] 38%"
     ]
    },
    {
     "name": "stderr",
     "output_type": "stream",
     "text": [
      "C:\\Users\\Karl\\Documents\\jwlab_eeg\\code\\jwlab_eeg\\classification\\ml_prep.py:98: RuntimeWarning: Mean of empty slice.\n",
      "  means = df_data[df.label == w].values.mean()\n",
      "c:\\users\\karl\\appdata\\local\\programs\\python\\python37\\lib\\site-packages\\numpy\\core\\_methods.py:85: RuntimeWarning: invalid value encountered in double_scalars\n",
      "  ret = ret.dtype.type(ret / rcount)\n"
     ]
    },
    {
     "name": "stdout",
     "output_type": "stream",
     "text": [
      "\r",
      "[=======             ] 39%"
     ]
    },
    {
     "name": "stderr",
     "output_type": "stream",
     "text": [
      "C:\\Users\\Karl\\Documents\\jwlab_eeg\\code\\jwlab_eeg\\classification\\ml_prep.py:98: RuntimeWarning: Mean of empty slice.\n",
      "  means = df_data[df.label == w].values.mean()\n",
      "c:\\users\\karl\\appdata\\local\\programs\\python\\python37\\lib\\site-packages\\numpy\\core\\_methods.py:85: RuntimeWarning: invalid value encountered in double_scalars\n",
      "  ret = ret.dtype.type(ret / rcount)\n"
     ]
    },
    {
     "name": "stdout",
     "output_type": "stream",
     "text": [
      "\r",
      "[========            ] 40%"
     ]
    },
    {
     "name": "stderr",
     "output_type": "stream",
     "text": [
      "C:\\Users\\Karl\\Documents\\jwlab_eeg\\code\\jwlab_eeg\\classification\\ml_prep.py:98: RuntimeWarning: Mean of empty slice.\n",
      "  means = df_data[df.label == w].values.mean()\n",
      "c:\\users\\karl\\appdata\\local\\programs\\python\\python37\\lib\\site-packages\\numpy\\core\\_methods.py:85: RuntimeWarning: invalid value encountered in double_scalars\n",
      "  ret = ret.dtype.type(ret / rcount)\n"
     ]
    },
    {
     "name": "stdout",
     "output_type": "stream",
     "text": [
      "\r",
      "[========            ] 41%"
     ]
    },
    {
     "name": "stderr",
     "output_type": "stream",
     "text": [
      "C:\\Users\\Karl\\Documents\\jwlab_eeg\\code\\jwlab_eeg\\classification\\ml_prep.py:98: RuntimeWarning: Mean of empty slice.\n",
      "  means = df_data[df.label == w].values.mean()\n",
      "c:\\users\\karl\\appdata\\local\\programs\\python\\python37\\lib\\site-packages\\numpy\\core\\_methods.py:85: RuntimeWarning: invalid value encountered in double_scalars\n",
      "  ret = ret.dtype.type(ret / rcount)\n"
     ]
    },
    {
     "name": "stdout",
     "output_type": "stream",
     "text": [
      "\r",
      "[========            ] 42%"
     ]
    },
    {
     "name": "stderr",
     "output_type": "stream",
     "text": [
      "C:\\Users\\Karl\\Documents\\jwlab_eeg\\code\\jwlab_eeg\\classification\\ml_prep.py:98: RuntimeWarning: Mean of empty slice.\n",
      "  means = df_data[df.label == w].values.mean()\n",
      "c:\\users\\karl\\appdata\\local\\programs\\python\\python37\\lib\\site-packages\\numpy\\core\\_methods.py:85: RuntimeWarning: invalid value encountered in double_scalars\n",
      "  ret = ret.dtype.type(ret / rcount)\n"
     ]
    },
    {
     "name": "stdout",
     "output_type": "stream",
     "text": [
      "\r",
      "[========            ] 43%"
     ]
    },
    {
     "name": "stderr",
     "output_type": "stream",
     "text": [
      "C:\\Users\\Karl\\Documents\\jwlab_eeg\\code\\jwlab_eeg\\classification\\ml_prep.py:98: RuntimeWarning: Mean of empty slice.\n",
      "  means = df_data[df.label == w].values.mean()\n",
      "c:\\users\\karl\\appdata\\local\\programs\\python\\python37\\lib\\site-packages\\numpy\\core\\_methods.py:85: RuntimeWarning: invalid value encountered in double_scalars\n",
      "  ret = ret.dtype.type(ret / rcount)\n"
     ]
    },
    {
     "name": "stdout",
     "output_type": "stream",
     "text": [
      "\r",
      "[========            ] 44%"
     ]
    },
    {
     "name": "stderr",
     "output_type": "stream",
     "text": [
      "C:\\Users\\Karl\\Documents\\jwlab_eeg\\code\\jwlab_eeg\\classification\\ml_prep.py:98: RuntimeWarning: Mean of empty slice.\n",
      "  means = df_data[df.label == w].values.mean()\n",
      "c:\\users\\karl\\appdata\\local\\programs\\python\\python37\\lib\\site-packages\\numpy\\core\\_methods.py:85: RuntimeWarning: invalid value encountered in double_scalars\n",
      "  ret = ret.dtype.type(ret / rcount)\n"
     ]
    },
    {
     "name": "stdout",
     "output_type": "stream",
     "text": [
      "\r",
      "[=========           ] 45%"
     ]
    },
    {
     "name": "stderr",
     "output_type": "stream",
     "text": [
      "C:\\Users\\Karl\\Documents\\jwlab_eeg\\code\\jwlab_eeg\\classification\\ml_prep.py:98: RuntimeWarning: Mean of empty slice.\n",
      "  means = df_data[df.label == w].values.mean()\n",
      "c:\\users\\karl\\appdata\\local\\programs\\python\\python37\\lib\\site-packages\\numpy\\core\\_methods.py:85: RuntimeWarning: invalid value encountered in double_scalars\n",
      "  ret = ret.dtype.type(ret / rcount)\n"
     ]
    },
    {
     "name": "stdout",
     "output_type": "stream",
     "text": [
      "\r",
      "[=========           ] 46%"
     ]
    },
    {
     "name": "stderr",
     "output_type": "stream",
     "text": [
      "C:\\Users\\Karl\\Documents\\jwlab_eeg\\code\\jwlab_eeg\\classification\\ml_prep.py:98: RuntimeWarning: Mean of empty slice.\n",
      "  means = df_data[df.label == w].values.mean()\n",
      "c:\\users\\karl\\appdata\\local\\programs\\python\\python37\\lib\\site-packages\\numpy\\core\\_methods.py:85: RuntimeWarning: invalid value encountered in double_scalars\n",
      "  ret = ret.dtype.type(ret / rcount)\n"
     ]
    },
    {
     "name": "stdout",
     "output_type": "stream",
     "text": [
      "\r",
      "[=========           ] 47%"
     ]
    },
    {
     "name": "stderr",
     "output_type": "stream",
     "text": [
      "C:\\Users\\Karl\\Documents\\jwlab_eeg\\code\\jwlab_eeg\\classification\\ml_prep.py:98: RuntimeWarning: Mean of empty slice.\n",
      "  means = df_data[df.label == w].values.mean()\n",
      "c:\\users\\karl\\appdata\\local\\programs\\python\\python37\\lib\\site-packages\\numpy\\core\\_methods.py:85: RuntimeWarning: invalid value encountered in double_scalars\n",
      "  ret = ret.dtype.type(ret / rcount)\n"
     ]
    },
    {
     "name": "stdout",
     "output_type": "stream",
     "text": [
      "\r",
      "[=========           ] 48%"
     ]
    },
    {
     "name": "stderr",
     "output_type": "stream",
     "text": [
      "C:\\Users\\Karl\\Documents\\jwlab_eeg\\code\\jwlab_eeg\\classification\\ml_prep.py:98: RuntimeWarning: Mean of empty slice.\n",
      "  means = df_data[df.label == w].values.mean()\n",
      "c:\\users\\karl\\appdata\\local\\programs\\python\\python37\\lib\\site-packages\\numpy\\core\\_methods.py:85: RuntimeWarning: invalid value encountered in double_scalars\n",
      "  ret = ret.dtype.type(ret / rcount)\n"
     ]
    },
    {
     "name": "stdout",
     "output_type": "stream",
     "text": [
      "\r",
      "[=========           ] 49%"
     ]
    },
    {
     "name": "stderr",
     "output_type": "stream",
     "text": [
      "C:\\Users\\Karl\\Documents\\jwlab_eeg\\code\\jwlab_eeg\\classification\\ml_prep.py:98: RuntimeWarning: Mean of empty slice.\n",
      "  means = df_data[df.label == w].values.mean()\n",
      "c:\\users\\karl\\appdata\\local\\programs\\python\\python37\\lib\\site-packages\\numpy\\core\\_methods.py:85: RuntimeWarning: invalid value encountered in double_scalars\n",
      "  ret = ret.dtype.type(ret / rcount)\n"
     ]
    },
    {
     "name": "stdout",
     "output_type": "stream",
     "text": [
      "\r",
      "[==========          ] 50%"
     ]
    },
    {
     "name": "stderr",
     "output_type": "stream",
     "text": [
      "C:\\Users\\Karl\\Documents\\jwlab_eeg\\code\\jwlab_eeg\\classification\\ml_prep.py:98: RuntimeWarning: Mean of empty slice.\n",
      "  means = df_data[df.label == w].values.mean()\n",
      "c:\\users\\karl\\appdata\\local\\programs\\python\\python37\\lib\\site-packages\\numpy\\core\\_methods.py:85: RuntimeWarning: invalid value encountered in double_scalars\n",
      "  ret = ret.dtype.type(ret / rcount)\n"
     ]
    },
    {
     "name": "stdout",
     "output_type": "stream",
     "text": [
      "\r",
      "[==========          ] 51%"
     ]
    },
    {
     "name": "stderr",
     "output_type": "stream",
     "text": [
      "C:\\Users\\Karl\\Documents\\jwlab_eeg\\code\\jwlab_eeg\\classification\\ml_prep.py:98: RuntimeWarning: Mean of empty slice.\n",
      "  means = df_data[df.label == w].values.mean()\n",
      "c:\\users\\karl\\appdata\\local\\programs\\python\\python37\\lib\\site-packages\\numpy\\core\\_methods.py:85: RuntimeWarning: invalid value encountered in double_scalars\n",
      "  ret = ret.dtype.type(ret / rcount)\n"
     ]
    },
    {
     "name": "stdout",
     "output_type": "stream",
     "text": [
      "\r",
      "[==========          ] 52%"
     ]
    },
    {
     "name": "stderr",
     "output_type": "stream",
     "text": [
      "C:\\Users\\Karl\\Documents\\jwlab_eeg\\code\\jwlab_eeg\\classification\\ml_prep.py:98: RuntimeWarning: Mean of empty slice.\n",
      "  means = df_data[df.label == w].values.mean()\n",
      "c:\\users\\karl\\appdata\\local\\programs\\python\\python37\\lib\\site-packages\\numpy\\core\\_methods.py:85: RuntimeWarning: invalid value encountered in double_scalars\n",
      "  ret = ret.dtype.type(ret / rcount)\n"
     ]
    },
    {
     "name": "stdout",
     "output_type": "stream",
     "text": [
      "\r",
      "[==========          ] 53%"
     ]
    },
    {
     "name": "stderr",
     "output_type": "stream",
     "text": [
      "C:\\Users\\Karl\\Documents\\jwlab_eeg\\code\\jwlab_eeg\\classification\\ml_prep.py:98: RuntimeWarning: Mean of empty slice.\n",
      "  means = df_data[df.label == w].values.mean()\n",
      "c:\\users\\karl\\appdata\\local\\programs\\python\\python37\\lib\\site-packages\\numpy\\core\\_methods.py:85: RuntimeWarning: invalid value encountered in double_scalars\n",
      "  ret = ret.dtype.type(ret / rcount)\n"
     ]
    },
    {
     "name": "stdout",
     "output_type": "stream",
     "text": [
      "\r",
      "[==========          ] 54%"
     ]
    },
    {
     "name": "stderr",
     "output_type": "stream",
     "text": [
      "C:\\Users\\Karl\\Documents\\jwlab_eeg\\code\\jwlab_eeg\\classification\\ml_prep.py:98: RuntimeWarning: Mean of empty slice.\n",
      "  means = df_data[df.label == w].values.mean()\n",
      "c:\\users\\karl\\appdata\\local\\programs\\python\\python37\\lib\\site-packages\\numpy\\core\\_methods.py:85: RuntimeWarning: invalid value encountered in double_scalars\n",
      "  ret = ret.dtype.type(ret / rcount)\n"
     ]
    },
    {
     "name": "stdout",
     "output_type": "stream",
     "text": [
      "\r",
      "[===========         ] 55%"
     ]
    },
    {
     "name": "stderr",
     "output_type": "stream",
     "text": [
      "C:\\Users\\Karl\\Documents\\jwlab_eeg\\code\\jwlab_eeg\\classification\\ml_prep.py:98: RuntimeWarning: Mean of empty slice.\n",
      "  means = df_data[df.label == w].values.mean()\n",
      "c:\\users\\karl\\appdata\\local\\programs\\python\\python37\\lib\\site-packages\\numpy\\core\\_methods.py:85: RuntimeWarning: invalid value encountered in double_scalars\n",
      "  ret = ret.dtype.type(ret / rcount)\n"
     ]
    },
    {
     "name": "stdout",
     "output_type": "stream",
     "text": [
      "\r",
      "[===========         ] 56%"
     ]
    },
    {
     "name": "stderr",
     "output_type": "stream",
     "text": [
      "C:\\Users\\Karl\\Documents\\jwlab_eeg\\code\\jwlab_eeg\\classification\\ml_prep.py:98: RuntimeWarning: Mean of empty slice.\n",
      "  means = df_data[df.label == w].values.mean()\n",
      "c:\\users\\karl\\appdata\\local\\programs\\python\\python37\\lib\\site-packages\\numpy\\core\\_methods.py:85: RuntimeWarning: invalid value encountered in double_scalars\n",
      "  ret = ret.dtype.type(ret / rcount)\n"
     ]
    },
    {
     "name": "stdout",
     "output_type": "stream",
     "text": [
      "\r",
      "[===========         ] 56%"
     ]
    },
    {
     "name": "stderr",
     "output_type": "stream",
     "text": [
      "C:\\Users\\Karl\\Documents\\jwlab_eeg\\code\\jwlab_eeg\\classification\\ml_prep.py:98: RuntimeWarning: Mean of empty slice.\n",
      "  means = df_data[df.label == w].values.mean()\n",
      "c:\\users\\karl\\appdata\\local\\programs\\python\\python37\\lib\\site-packages\\numpy\\core\\_methods.py:85: RuntimeWarning: invalid value encountered in double_scalars\n",
      "  ret = ret.dtype.type(ret / rcount)\n"
     ]
    },
    {
     "name": "stdout",
     "output_type": "stream",
     "text": [
      "\r",
      "[===========         ] 57%"
     ]
    },
    {
     "name": "stderr",
     "output_type": "stream",
     "text": [
      "C:\\Users\\Karl\\Documents\\jwlab_eeg\\code\\jwlab_eeg\\classification\\ml_prep.py:98: RuntimeWarning: Mean of empty slice.\n",
      "  means = df_data[df.label == w].values.mean()\n",
      "c:\\users\\karl\\appdata\\local\\programs\\python\\python37\\lib\\site-packages\\numpy\\core\\_methods.py:85: RuntimeWarning: invalid value encountered in double_scalars\n",
      "  ret = ret.dtype.type(ret / rcount)\n"
     ]
    },
    {
     "name": "stdout",
     "output_type": "stream",
     "text": [
      "\r",
      "[===========         ] 59%"
     ]
    },
    {
     "name": "stderr",
     "output_type": "stream",
     "text": [
      "C:\\Users\\Karl\\Documents\\jwlab_eeg\\code\\jwlab_eeg\\classification\\ml_prep.py:98: RuntimeWarning: Mean of empty slice.\n",
      "  means = df_data[df.label == w].values.mean()\n",
      "c:\\users\\karl\\appdata\\local\\programs\\python\\python37\\lib\\site-packages\\numpy\\core\\_methods.py:85: RuntimeWarning: invalid value encountered in double_scalars\n",
      "  ret = ret.dtype.type(ret / rcount)\n"
     ]
    },
    {
     "name": "stdout",
     "output_type": "stream",
     "text": [
      "\r",
      "[============        ] 60%"
     ]
    },
    {
     "name": "stderr",
     "output_type": "stream",
     "text": [
      "C:\\Users\\Karl\\Documents\\jwlab_eeg\\code\\jwlab_eeg\\classification\\ml_prep.py:98: RuntimeWarning: Mean of empty slice.\n",
      "  means = df_data[df.label == w].values.mean()\n",
      "c:\\users\\karl\\appdata\\local\\programs\\python\\python37\\lib\\site-packages\\numpy\\core\\_methods.py:85: RuntimeWarning: invalid value encountered in double_scalars\n",
      "  ret = ret.dtype.type(ret / rcount)\n"
     ]
    },
    {
     "name": "stdout",
     "output_type": "stream",
     "text": [
      "\r",
      "[============        ] 61%"
     ]
    },
    {
     "name": "stderr",
     "output_type": "stream",
     "text": [
      "C:\\Users\\Karl\\Documents\\jwlab_eeg\\code\\jwlab_eeg\\classification\\ml_prep.py:98: RuntimeWarning: Mean of empty slice.\n",
      "  means = df_data[df.label == w].values.mean()\n",
      "c:\\users\\karl\\appdata\\local\\programs\\python\\python37\\lib\\site-packages\\numpy\\core\\_methods.py:85: RuntimeWarning: invalid value encountered in double_scalars\n",
      "  ret = ret.dtype.type(ret / rcount)\n"
     ]
    },
    {
     "name": "stdout",
     "output_type": "stream",
     "text": [
      "\r",
      "[============        ] 62%"
     ]
    },
    {
     "name": "stderr",
     "output_type": "stream",
     "text": [
      "C:\\Users\\Karl\\Documents\\jwlab_eeg\\code\\jwlab_eeg\\classification\\ml_prep.py:98: RuntimeWarning: Mean of empty slice.\n",
      "  means = df_data[df.label == w].values.mean()\n",
      "c:\\users\\karl\\appdata\\local\\programs\\python\\python37\\lib\\site-packages\\numpy\\core\\_methods.py:85: RuntimeWarning: invalid value encountered in double_scalars\n",
      "  ret = ret.dtype.type(ret / rcount)\n"
     ]
    },
    {
     "name": "stdout",
     "output_type": "stream",
     "text": [
      "\r",
      "[============        ] 63%"
     ]
    },
    {
     "name": "stderr",
     "output_type": "stream",
     "text": [
      "C:\\Users\\Karl\\Documents\\jwlab_eeg\\code\\jwlab_eeg\\classification\\ml_prep.py:98: RuntimeWarning: Mean of empty slice.\n",
      "  means = df_data[df.label == w].values.mean()\n",
      "c:\\users\\karl\\appdata\\local\\programs\\python\\python37\\lib\\site-packages\\numpy\\core\\_methods.py:85: RuntimeWarning: invalid value encountered in double_scalars\n",
      "  ret = ret.dtype.type(ret / rcount)\n"
     ]
    },
    {
     "name": "stdout",
     "output_type": "stream",
     "text": [
      "\r",
      "[============        ] 64%"
     ]
    },
    {
     "name": "stderr",
     "output_type": "stream",
     "text": [
      "C:\\Users\\Karl\\Documents\\jwlab_eeg\\code\\jwlab_eeg\\classification\\ml_prep.py:98: RuntimeWarning: Mean of empty slice.\n",
      "  means = df_data[df.label == w].values.mean()\n",
      "c:\\users\\karl\\appdata\\local\\programs\\python\\python37\\lib\\site-packages\\numpy\\core\\_methods.py:85: RuntimeWarning: invalid value encountered in double_scalars\n",
      "  ret = ret.dtype.type(ret / rcount)\n"
     ]
    },
    {
     "name": "stdout",
     "output_type": "stream",
     "text": [
      "\r",
      "[=============       ] 65%"
     ]
    },
    {
     "name": "stderr",
     "output_type": "stream",
     "text": [
      "C:\\Users\\Karl\\Documents\\jwlab_eeg\\code\\jwlab_eeg\\classification\\ml_prep.py:98: RuntimeWarning: Mean of empty slice.\n",
      "  means = df_data[df.label == w].values.mean()\n",
      "c:\\users\\karl\\appdata\\local\\programs\\python\\python37\\lib\\site-packages\\numpy\\core\\_methods.py:85: RuntimeWarning: invalid value encountered in double_scalars\n",
      "  ret = ret.dtype.type(ret / rcount)\n"
     ]
    },
    {
     "name": "stdout",
     "output_type": "stream",
     "text": [
      "\r",
      "[=============       ] 66%"
     ]
    },
    {
     "name": "stderr",
     "output_type": "stream",
     "text": [
      "C:\\Users\\Karl\\Documents\\jwlab_eeg\\code\\jwlab_eeg\\classification\\ml_prep.py:98: RuntimeWarning: Mean of empty slice.\n",
      "  means = df_data[df.label == w].values.mean()\n",
      "c:\\users\\karl\\appdata\\local\\programs\\python\\python37\\lib\\site-packages\\numpy\\core\\_methods.py:85: RuntimeWarning: invalid value encountered in double_scalars\n",
      "  ret = ret.dtype.type(ret / rcount)\n"
     ]
    },
    {
     "name": "stdout",
     "output_type": "stream",
     "text": [
      "\r",
      "[=============       ] 67%"
     ]
    },
    {
     "name": "stderr",
     "output_type": "stream",
     "text": [
      "C:\\Users\\Karl\\Documents\\jwlab_eeg\\code\\jwlab_eeg\\classification\\ml_prep.py:98: RuntimeWarning: Mean of empty slice.\n",
      "  means = df_data[df.label == w].values.mean()\n",
      "c:\\users\\karl\\appdata\\local\\programs\\python\\python37\\lib\\site-packages\\numpy\\core\\_methods.py:85: RuntimeWarning: invalid value encountered in double_scalars\n",
      "  ret = ret.dtype.type(ret / rcount)\n"
     ]
    },
    {
     "name": "stdout",
     "output_type": "stream",
     "text": [
      "\r",
      "[=============       ] 68%"
     ]
    },
    {
     "name": "stderr",
     "output_type": "stream",
     "text": [
      "C:\\Users\\Karl\\Documents\\jwlab_eeg\\code\\jwlab_eeg\\classification\\ml_prep.py:98: RuntimeWarning: Mean of empty slice.\n",
      "  means = df_data[df.label == w].values.mean()\n",
      "c:\\users\\karl\\appdata\\local\\programs\\python\\python37\\lib\\site-packages\\numpy\\core\\_methods.py:85: RuntimeWarning: invalid value encountered in double_scalars\n",
      "  ret = ret.dtype.type(ret / rcount)\n"
     ]
    },
    {
     "name": "stdout",
     "output_type": "stream",
     "text": [
      "\r",
      "[=============       ] 69%"
     ]
    },
    {
     "name": "stderr",
     "output_type": "stream",
     "text": [
      "C:\\Users\\Karl\\Documents\\jwlab_eeg\\code\\jwlab_eeg\\classification\\ml_prep.py:98: RuntimeWarning: Mean of empty slice.\n",
      "  means = df_data[df.label == w].values.mean()\n",
      "c:\\users\\karl\\appdata\\local\\programs\\python\\python37\\lib\\site-packages\\numpy\\core\\_methods.py:85: RuntimeWarning: invalid value encountered in double_scalars\n",
      "  ret = ret.dtype.type(ret / rcount)\n"
     ]
    },
    {
     "name": "stdout",
     "output_type": "stream",
     "text": [
      "\r",
      "[==============      ] 70%"
     ]
    },
    {
     "name": "stderr",
     "output_type": "stream",
     "text": [
      "C:\\Users\\Karl\\Documents\\jwlab_eeg\\code\\jwlab_eeg\\classification\\ml_prep.py:98: RuntimeWarning: Mean of empty slice.\n",
      "  means = df_data[df.label == w].values.mean()\n",
      "c:\\users\\karl\\appdata\\local\\programs\\python\\python37\\lib\\site-packages\\numpy\\core\\_methods.py:85: RuntimeWarning: invalid value encountered in double_scalars\n",
      "  ret = ret.dtype.type(ret / rcount)\n"
     ]
    },
    {
     "name": "stdout",
     "output_type": "stream",
     "text": [
      "\r",
      "[==============      ] 71%"
     ]
    },
    {
     "name": "stderr",
     "output_type": "stream",
     "text": [
      "C:\\Users\\Karl\\Documents\\jwlab_eeg\\code\\jwlab_eeg\\classification\\ml_prep.py:98: RuntimeWarning: Mean of empty slice.\n",
      "  means = df_data[df.label == w].values.mean()\n",
      "c:\\users\\karl\\appdata\\local\\programs\\python\\python37\\lib\\site-packages\\numpy\\core\\_methods.py:85: RuntimeWarning: invalid value encountered in double_scalars\n",
      "  ret = ret.dtype.type(ret / rcount)\n"
     ]
    },
    {
     "name": "stdout",
     "output_type": "stream",
     "text": [
      "\r",
      "[==============      ] 72%"
     ]
    },
    {
     "name": "stderr",
     "output_type": "stream",
     "text": [
      "C:\\Users\\Karl\\Documents\\jwlab_eeg\\code\\jwlab_eeg\\classification\\ml_prep.py:98: RuntimeWarning: Mean of empty slice.\n",
      "  means = df_data[df.label == w].values.mean()\n",
      "c:\\users\\karl\\appdata\\local\\programs\\python\\python37\\lib\\site-packages\\numpy\\core\\_methods.py:85: RuntimeWarning: invalid value encountered in double_scalars\n",
      "  ret = ret.dtype.type(ret / rcount)\n"
     ]
    },
    {
     "name": "stdout",
     "output_type": "stream",
     "text": [
      "\r",
      "[==============      ] 73%"
     ]
    },
    {
     "name": "stderr",
     "output_type": "stream",
     "text": [
      "C:\\Users\\Karl\\Documents\\jwlab_eeg\\code\\jwlab_eeg\\classification\\ml_prep.py:98: RuntimeWarning: Mean of empty slice.\n",
      "  means = df_data[df.label == w].values.mean()\n",
      "c:\\users\\karl\\appdata\\local\\programs\\python\\python37\\lib\\site-packages\\numpy\\core\\_methods.py:85: RuntimeWarning: invalid value encountered in double_scalars\n",
      "  ret = ret.dtype.type(ret / rcount)\n"
     ]
    },
    {
     "name": "stdout",
     "output_type": "stream",
     "text": [
      "\r",
      "[==============      ] 74%"
     ]
    },
    {
     "name": "stderr",
     "output_type": "stream",
     "text": [
      "C:\\Users\\Karl\\Documents\\jwlab_eeg\\code\\jwlab_eeg\\classification\\ml_prep.py:98: RuntimeWarning: Mean of empty slice.\n",
      "  means = df_data[df.label == w].values.mean()\n",
      "c:\\users\\karl\\appdata\\local\\programs\\python\\python37\\lib\\site-packages\\numpy\\core\\_methods.py:85: RuntimeWarning: invalid value encountered in double_scalars\n",
      "  ret = ret.dtype.type(ret / rcount)\n"
     ]
    },
    {
     "name": "stdout",
     "output_type": "stream",
     "text": [
      "\r",
      "[===============     ] 75%"
     ]
    },
    {
     "name": "stderr",
     "output_type": "stream",
     "text": [
      "C:\\Users\\Karl\\Documents\\jwlab_eeg\\code\\jwlab_eeg\\classification\\ml_prep.py:98: RuntimeWarning: Mean of empty slice.\n",
      "  means = df_data[df.label == w].values.mean()\n",
      "c:\\users\\karl\\appdata\\local\\programs\\python\\python37\\lib\\site-packages\\numpy\\core\\_methods.py:85: RuntimeWarning: invalid value encountered in double_scalars\n",
      "  ret = ret.dtype.type(ret / rcount)\n"
     ]
    },
    {
     "name": "stdout",
     "output_type": "stream",
     "text": [
      "\r",
      "[===============     ] 76%"
     ]
    },
    {
     "name": "stderr",
     "output_type": "stream",
     "text": [
      "C:\\Users\\Karl\\Documents\\jwlab_eeg\\code\\jwlab_eeg\\classification\\ml_prep.py:98: RuntimeWarning: Mean of empty slice.\n",
      "  means = df_data[df.label == w].values.mean()\n",
      "c:\\users\\karl\\appdata\\local\\programs\\python\\python37\\lib\\site-packages\\numpy\\core\\_methods.py:85: RuntimeWarning: invalid value encountered in double_scalars\n",
      "  ret = ret.dtype.type(ret / rcount)\n"
     ]
    },
    {
     "name": "stdout",
     "output_type": "stream",
     "text": [
      "\r",
      "[===============     ] 77%"
     ]
    },
    {
     "name": "stderr",
     "output_type": "stream",
     "text": [
      "C:\\Users\\Karl\\Documents\\jwlab_eeg\\code\\jwlab_eeg\\classification\\ml_prep.py:98: RuntimeWarning: Mean of empty slice.\n",
      "  means = df_data[df.label == w].values.mean()\n",
      "c:\\users\\karl\\appdata\\local\\programs\\python\\python37\\lib\\site-packages\\numpy\\core\\_methods.py:85: RuntimeWarning: invalid value encountered in double_scalars\n",
      "  ret = ret.dtype.type(ret / rcount)\n"
     ]
    },
    {
     "name": "stdout",
     "output_type": "stream",
     "text": [
      "\r",
      "[===============     ] 78%"
     ]
    },
    {
     "name": "stderr",
     "output_type": "stream",
     "text": [
      "C:\\Users\\Karl\\Documents\\jwlab_eeg\\code\\jwlab_eeg\\classification\\ml_prep.py:98: RuntimeWarning: Mean of empty slice.\n",
      "  means = df_data[df.label == w].values.mean()\n",
      "c:\\users\\karl\\appdata\\local\\programs\\python\\python37\\lib\\site-packages\\numpy\\core\\_methods.py:85: RuntimeWarning: invalid value encountered in double_scalars\n",
      "  ret = ret.dtype.type(ret / rcount)\n"
     ]
    },
    {
     "name": "stdout",
     "output_type": "stream",
     "text": [
      "\r",
      "[===============     ] 79%"
     ]
    },
    {
     "name": "stderr",
     "output_type": "stream",
     "text": [
      "C:\\Users\\Karl\\Documents\\jwlab_eeg\\code\\jwlab_eeg\\classification\\ml_prep.py:98: RuntimeWarning: Mean of empty slice.\n",
      "  means = df_data[df.label == w].values.mean()\n",
      "c:\\users\\karl\\appdata\\local\\programs\\python\\python37\\lib\\site-packages\\numpy\\core\\_methods.py:85: RuntimeWarning: invalid value encountered in double_scalars\n",
      "  ret = ret.dtype.type(ret / rcount)\n"
     ]
    },
    {
     "name": "stdout",
     "output_type": "stream",
     "text": [
      "\r",
      "[================    ] 80%"
     ]
    },
    {
     "name": "stderr",
     "output_type": "stream",
     "text": [
      "C:\\Users\\Karl\\Documents\\jwlab_eeg\\code\\jwlab_eeg\\classification\\ml_prep.py:98: RuntimeWarning: Mean of empty slice.\n",
      "  means = df_data[df.label == w].values.mean()\n",
      "c:\\users\\karl\\appdata\\local\\programs\\python\\python37\\lib\\site-packages\\numpy\\core\\_methods.py:85: RuntimeWarning: invalid value encountered in double_scalars\n",
      "  ret = ret.dtype.type(ret / rcount)\n"
     ]
    },
    {
     "name": "stdout",
     "output_type": "stream",
     "text": [
      "\r",
      "[================    ] 81%"
     ]
    },
    {
     "name": "stderr",
     "output_type": "stream",
     "text": [
      "C:\\Users\\Karl\\Documents\\jwlab_eeg\\code\\jwlab_eeg\\classification\\ml_prep.py:98: RuntimeWarning: Mean of empty slice.\n",
      "  means = df_data[df.label == w].values.mean()\n",
      "c:\\users\\karl\\appdata\\local\\programs\\python\\python37\\lib\\site-packages\\numpy\\core\\_methods.py:85: RuntimeWarning: invalid value encountered in double_scalars\n",
      "  ret = ret.dtype.type(ret / rcount)\n"
     ]
    },
    {
     "name": "stdout",
     "output_type": "stream",
     "text": [
      "\r",
      "[================    ] 82%"
     ]
    },
    {
     "name": "stderr",
     "output_type": "stream",
     "text": [
      "C:\\Users\\Karl\\Documents\\jwlab_eeg\\code\\jwlab_eeg\\classification\\ml_prep.py:98: RuntimeWarning: Mean of empty slice.\n",
      "  means = df_data[df.label == w].values.mean()\n",
      "c:\\users\\karl\\appdata\\local\\programs\\python\\python37\\lib\\site-packages\\numpy\\core\\_methods.py:85: RuntimeWarning: invalid value encountered in double_scalars\n",
      "  ret = ret.dtype.type(ret / rcount)\n"
     ]
    },
    {
     "name": "stdout",
     "output_type": "stream",
     "text": [
      "\r",
      "[================    ] 83%"
     ]
    },
    {
     "name": "stderr",
     "output_type": "stream",
     "text": [
      "C:\\Users\\Karl\\Documents\\jwlab_eeg\\code\\jwlab_eeg\\classification\\ml_prep.py:98: RuntimeWarning: Mean of empty slice.\n",
      "  means = df_data[df.label == w].values.mean()\n",
      "c:\\users\\karl\\appdata\\local\\programs\\python\\python37\\lib\\site-packages\\numpy\\core\\_methods.py:85: RuntimeWarning: invalid value encountered in double_scalars\n",
      "  ret = ret.dtype.type(ret / rcount)\n"
     ]
    },
    {
     "name": "stdout",
     "output_type": "stream",
     "text": [
      "\r",
      "[================    ] 84%"
     ]
    },
    {
     "name": "stderr",
     "output_type": "stream",
     "text": [
      "C:\\Users\\Karl\\Documents\\jwlab_eeg\\code\\jwlab_eeg\\classification\\ml_prep.py:98: RuntimeWarning: Mean of empty slice.\n",
      "  means = df_data[df.label == w].values.mean()\n",
      "c:\\users\\karl\\appdata\\local\\programs\\python\\python37\\lib\\site-packages\\numpy\\core\\_methods.py:85: RuntimeWarning: invalid value encountered in double_scalars\n",
      "  ret = ret.dtype.type(ret / rcount)\n"
     ]
    },
    {
     "name": "stdout",
     "output_type": "stream",
     "text": [
      "\r",
      "[=================   ] 85%"
     ]
    },
    {
     "name": "stderr",
     "output_type": "stream",
     "text": [
      "C:\\Users\\Karl\\Documents\\jwlab_eeg\\code\\jwlab_eeg\\classification\\ml_prep.py:98: RuntimeWarning: Mean of empty slice.\n",
      "  means = df_data[df.label == w].values.mean()\n",
      "c:\\users\\karl\\appdata\\local\\programs\\python\\python37\\lib\\site-packages\\numpy\\core\\_methods.py:85: RuntimeWarning: invalid value encountered in double_scalars\n",
      "  ret = ret.dtype.type(ret / rcount)\n"
     ]
    },
    {
     "name": "stdout",
     "output_type": "stream",
     "text": [
      "\r",
      "[=================   ] 86%"
     ]
    },
    {
     "name": "stderr",
     "output_type": "stream",
     "text": [
      "C:\\Users\\Karl\\Documents\\jwlab_eeg\\code\\jwlab_eeg\\classification\\ml_prep.py:98: RuntimeWarning: Mean of empty slice.\n",
      "  means = df_data[df.label == w].values.mean()\n",
      "c:\\users\\karl\\appdata\\local\\programs\\python\\python37\\lib\\site-packages\\numpy\\core\\_methods.py:85: RuntimeWarning: invalid value encountered in double_scalars\n",
      "  ret = ret.dtype.type(ret / rcount)\n"
     ]
    },
    {
     "name": "stdout",
     "output_type": "stream",
     "text": [
      "\r",
      "[=================   ] 87%"
     ]
    },
    {
     "name": "stderr",
     "output_type": "stream",
     "text": [
      "C:\\Users\\Karl\\Documents\\jwlab_eeg\\code\\jwlab_eeg\\classification\\ml_prep.py:98: RuntimeWarning: Mean of empty slice.\n",
      "  means = df_data[df.label == w].values.mean()\n",
      "c:\\users\\karl\\appdata\\local\\programs\\python\\python37\\lib\\site-packages\\numpy\\core\\_methods.py:85: RuntimeWarning: invalid value encountered in double_scalars\n",
      "  ret = ret.dtype.type(ret / rcount)\n"
     ]
    },
    {
     "name": "stdout",
     "output_type": "stream",
     "text": [
      "\r",
      "[=================   ] 88%"
     ]
    },
    {
     "name": "stderr",
     "output_type": "stream",
     "text": [
      "C:\\Users\\Karl\\Documents\\jwlab_eeg\\code\\jwlab_eeg\\classification\\ml_prep.py:98: RuntimeWarning: Mean of empty slice.\n",
      "  means = df_data[df.label == w].values.mean()\n",
      "c:\\users\\karl\\appdata\\local\\programs\\python\\python37\\lib\\site-packages\\numpy\\core\\_methods.py:85: RuntimeWarning: invalid value encountered in double_scalars\n",
      "  ret = ret.dtype.type(ret / rcount)\n"
     ]
    },
    {
     "name": "stdout",
     "output_type": "stream",
     "text": [
      "\r",
      "[=================   ] 89%"
     ]
    },
    {
     "name": "stderr",
     "output_type": "stream",
     "text": [
      "C:\\Users\\Karl\\Documents\\jwlab_eeg\\code\\jwlab_eeg\\classification\\ml_prep.py:98: RuntimeWarning: Mean of empty slice.\n",
      "  means = df_data[df.label == w].values.mean()\n",
      "c:\\users\\karl\\appdata\\local\\programs\\python\\python37\\lib\\site-packages\\numpy\\core\\_methods.py:85: RuntimeWarning: invalid value encountered in double_scalars\n",
      "  ret = ret.dtype.type(ret / rcount)\n"
     ]
    },
    {
     "name": "stdout",
     "output_type": "stream",
     "text": [
      "\r",
      "[==================  ] 90%"
     ]
    },
    {
     "name": "stderr",
     "output_type": "stream",
     "text": [
      "C:\\Users\\Karl\\Documents\\jwlab_eeg\\code\\jwlab_eeg\\classification\\ml_prep.py:98: RuntimeWarning: Mean of empty slice.\n",
      "  means = df_data[df.label == w].values.mean()\n",
      "c:\\users\\karl\\appdata\\local\\programs\\python\\python37\\lib\\site-packages\\numpy\\core\\_methods.py:85: RuntimeWarning: invalid value encountered in double_scalars\n",
      "  ret = ret.dtype.type(ret / rcount)\n"
     ]
    },
    {
     "name": "stdout",
     "output_type": "stream",
     "text": [
      "\r",
      "[==================  ] 91%"
     ]
    },
    {
     "name": "stderr",
     "output_type": "stream",
     "text": [
      "C:\\Users\\Karl\\Documents\\jwlab_eeg\\code\\jwlab_eeg\\classification\\ml_prep.py:98: RuntimeWarning: Mean of empty slice.\n",
      "  means = df_data[df.label == w].values.mean()\n",
      "c:\\users\\karl\\appdata\\local\\programs\\python\\python37\\lib\\site-packages\\numpy\\core\\_methods.py:85: RuntimeWarning: invalid value encountered in double_scalars\n",
      "  ret = ret.dtype.type(ret / rcount)\n"
     ]
    },
    {
     "name": "stdout",
     "output_type": "stream",
     "text": [
      "\r",
      "[==================  ] 92%"
     ]
    },
    {
     "name": "stderr",
     "output_type": "stream",
     "text": [
      "C:\\Users\\Karl\\Documents\\jwlab_eeg\\code\\jwlab_eeg\\classification\\ml_prep.py:98: RuntimeWarning: Mean of empty slice.\n",
      "  means = df_data[df.label == w].values.mean()\n",
      "c:\\users\\karl\\appdata\\local\\programs\\python\\python37\\lib\\site-packages\\numpy\\core\\_methods.py:85: RuntimeWarning: invalid value encountered in double_scalars\n",
      "  ret = ret.dtype.type(ret / rcount)\n"
     ]
    },
    {
     "name": "stdout",
     "output_type": "stream",
     "text": [
      "\r",
      "[==================  ] 93%"
     ]
    },
    {
     "name": "stderr",
     "output_type": "stream",
     "text": [
      "C:\\Users\\Karl\\Documents\\jwlab_eeg\\code\\jwlab_eeg\\classification\\ml_prep.py:98: RuntimeWarning: Mean of empty slice.\n",
      "  means = df_data[df.label == w].values.mean()\n",
      "c:\\users\\karl\\appdata\\local\\programs\\python\\python37\\lib\\site-packages\\numpy\\core\\_methods.py:85: RuntimeWarning: invalid value encountered in double_scalars\n",
      "  ret = ret.dtype.type(ret / rcount)\n"
     ]
    },
    {
     "name": "stdout",
     "output_type": "stream",
     "text": [
      "\r",
      "[==================  ] 94%"
     ]
    },
    {
     "name": "stderr",
     "output_type": "stream",
     "text": [
      "C:\\Users\\Karl\\Documents\\jwlab_eeg\\code\\jwlab_eeg\\classification\\ml_prep.py:98: RuntimeWarning: Mean of empty slice.\n",
      "  means = df_data[df.label == w].values.mean()\n",
      "c:\\users\\karl\\appdata\\local\\programs\\python\\python37\\lib\\site-packages\\numpy\\core\\_methods.py:85: RuntimeWarning: invalid value encountered in double_scalars\n",
      "  ret = ret.dtype.type(ret / rcount)\n"
     ]
    },
    {
     "name": "stdout",
     "output_type": "stream",
     "text": [
      "\r",
      "[=================== ] 95%"
     ]
    },
    {
     "name": "stderr",
     "output_type": "stream",
     "text": [
      "C:\\Users\\Karl\\Documents\\jwlab_eeg\\code\\jwlab_eeg\\classification\\ml_prep.py:98: RuntimeWarning: Mean of empty slice.\n",
      "  means = df_data[df.label == w].values.mean()\n",
      "c:\\users\\karl\\appdata\\local\\programs\\python\\python37\\lib\\site-packages\\numpy\\core\\_methods.py:85: RuntimeWarning: invalid value encountered in double_scalars\n",
      "  ret = ret.dtype.type(ret / rcount)\n"
     ]
    },
    {
     "name": "stdout",
     "output_type": "stream",
     "text": [
      "\r",
      "[=================== ] 96%"
     ]
    },
    {
     "name": "stderr",
     "output_type": "stream",
     "text": [
      "C:\\Users\\Karl\\Documents\\jwlab_eeg\\code\\jwlab_eeg\\classification\\ml_prep.py:98: RuntimeWarning: Mean of empty slice.\n",
      "  means = df_data[df.label == w].values.mean()\n",
      "c:\\users\\karl\\appdata\\local\\programs\\python\\python37\\lib\\site-packages\\numpy\\core\\_methods.py:85: RuntimeWarning: invalid value encountered in double_scalars\n",
      "  ret = ret.dtype.type(ret / rcount)\n"
     ]
    },
    {
     "name": "stdout",
     "output_type": "stream",
     "text": [
      "\r",
      "[=================== ] 97%"
     ]
    },
    {
     "name": "stderr",
     "output_type": "stream",
     "text": [
      "C:\\Users\\Karl\\Documents\\jwlab_eeg\\code\\jwlab_eeg\\classification\\ml_prep.py:98: RuntimeWarning: Mean of empty slice.\n",
      "  means = df_data[df.label == w].values.mean()\n",
      "c:\\users\\karl\\appdata\\local\\programs\\python\\python37\\lib\\site-packages\\numpy\\core\\_methods.py:85: RuntimeWarning: invalid value encountered in double_scalars\n",
      "  ret = ret.dtype.type(ret / rcount)\n"
     ]
    },
    {
     "name": "stdout",
     "output_type": "stream",
     "text": [
      "\r",
      "[=================== ] 98%"
     ]
    },
    {
     "name": "stderr",
     "output_type": "stream",
     "text": [
      "C:\\Users\\Karl\\Documents\\jwlab_eeg\\code\\jwlab_eeg\\classification\\ml_prep.py:98: RuntimeWarning: Mean of empty slice.\n",
      "  means = df_data[df.label == w].values.mean()\n",
      "c:\\users\\karl\\appdata\\local\\programs\\python\\python37\\lib\\site-packages\\numpy\\core\\_methods.py:85: RuntimeWarning: invalid value encountered in double_scalars\n",
      "  ret = ret.dtype.type(ret / rcount)\n"
     ]
    },
    {
     "name": "stdout",
     "output_type": "stream",
     "text": [
      "\r",
      "[=================== ] 99%"
     ]
    },
    {
     "name": "stderr",
     "output_type": "stream",
     "text": [
      "C:\\Users\\Karl\\Documents\\jwlab_eeg\\code\\jwlab_eeg\\classification\\ml_prep.py:98: RuntimeWarning: Mean of empty slice.\n",
      "  means = df_data[df.label == w].values.mean()\n",
      "c:\\users\\karl\\appdata\\local\\programs\\python\\python37\\lib\\site-packages\\numpy\\core\\_methods.py:85: RuntimeWarning: invalid value encountered in double_scalars\n",
      "  ret = ret.dtype.type(ret / rcount)\n"
     ]
    },
    {
     "name": "stdout",
     "output_type": "stream",
     "text": [
      "\r",
      "[====================] 100%"
     ]
    }
   ],
   "source": [
    "import sys\n",
    "\n",
    "\n",
    "num_iters = 100\n",
    "\n",
    "errs = np.zeros(num_iters)\n",
    "for i in range(num_iters):\n",
    "    df.label = df.sample(frac=1, random_state=i).label\n",
    "    X,y,p,w = no_average(df)\n",
    "    Xp,yp,pp,wp = average_trials_and_participants(df)\n",
    "    \n",
    "    y[y<8] = 0\n",
    "    y[y>=8] = 1\n",
    "    \n",
    "    yp[yp<8] = 0\n",
    "    yp[yp>=8] = 1\n",
    "    \n",
    "    model.fit(X, y)\n",
    "    errs[i] = np.mean(model.predict(Xp) != yp)\n",
    "    \n",
    "    sys.stdout.write('\\r')\n",
    "    j = (i + 1) / num_iters\n",
    "    sys.stdout.write(\"[%-20s] %d%%\" % ('='*int(20*j), j*100))"
   ]
  },
  {
   "cell_type": "code",
   "execution_count": 26,
   "metadata": {},
   "outputs": [
    {
     "data": {
      "text/plain": [
       "array([0.33333333, 0.33333333, 0.33333333, 0.33333333, 0.33333333,\n",
       "       0.33333333, 0.33333333, 0.33333333, 0.33333333, 0.33333333,\n",
       "       0.33333333, 0.33333333, 0.33333333, 0.33333333, 0.33333333,\n",
       "       0.33333333, 0.33333333, 0.33333333, 0.33333333, 0.33333333,\n",
       "       0.33333333, 0.33333333, 0.33333333, 0.33333333, 0.33333333,\n",
       "       0.33333333, 0.33333333, 0.33333333, 0.33333333, 0.33333333,\n",
       "       0.33333333, 0.33333333, 0.33333333, 0.33333333, 0.33333333,\n",
       "       0.33333333, 0.33333333, 0.33333333, 0.33333333, 0.33333333,\n",
       "       0.33333333, 0.33333333, 0.33333333, 0.33333333, 0.33333333,\n",
       "       0.33333333, 0.33333333, 0.33333333, 0.33333333, 0.33333333,\n",
       "       0.33333333, 0.33333333, 0.33333333, 0.33333333, 0.33333333,\n",
       "       0.33333333, 0.33333333, 0.33333333, 0.33333333, 0.33333333,\n",
       "       0.33333333, 0.33333333, 0.33333333, 0.33333333, 0.33333333,\n",
       "       0.33333333, 0.33333333, 0.33333333, 0.33333333, 0.33333333,\n",
       "       0.33333333, 0.33333333, 0.33333333, 0.33333333, 0.33333333,\n",
       "       0.33333333, 0.33333333, 0.33333333, 0.33333333, 0.33333333,\n",
       "       0.33333333, 0.33333333, 0.33333333, 0.33333333, 0.33333333,\n",
       "       0.33333333, 0.33333333, 0.33333333, 0.33333333, 0.33333333,\n",
       "       0.33333333, 0.33333333, 0.33333333, 0.33333333, 0.33333333,\n",
       "       0.33333333, 0.33333333, 0.33333333, 0.33333333, 0.33333333])"
      ]
     },
     "execution_count": 26,
     "metadata": {},
     "output_type": "execute_result"
    }
   ],
   "source": [
    "errs"
   ]
  },
  {
   "cell_type": "code",
   "execution_count": 27,
   "metadata": {},
   "outputs": [
    {
     "data": {
      "text/plain": [
       "0.3333333333333334"
      ]
     },
     "execution_count": 27,
     "metadata": {},
     "output_type": "execute_result"
    }
   ],
   "source": [
    "np.mean(errs)"
   ]
  },
  {
   "cell_type": "code",
   "execution_count": 28,
   "metadata": {},
   "outputs": [
    {
     "data": {
      "text/plain": [
       "1.1102230246251565e-16"
      ]
     },
     "execution_count": 28,
     "metadata": {},
     "output_type": "execute_result"
    }
   ],
   "source": [
    "np.std(errs)"
   ]
  },
  {
   "cell_type": "code",
   "execution_count": 20,
   "metadata": {},
   "outputs": [
    {
     "data": {
      "image/png": "[encoded data removed]",
      "text/plain": [
       "<Figure size 432x288 with 1 Axes>"
      ]
     },
     "metadata": {
      "needs_background": "light"
     },
     "output_type": "display_data"
    }
   ],
   "source": []
  },
  {
   "cell_type": "code",
   "execution_count": null,
   "metadata": {},
   "outputs": [],
   "source": []
  }
 ],
 "metadata": {
  "kernelspec": {
   "display_name": "Python 3",
   "language": "python",
   "name": "python3"
  },
  "language_info": {
   "codemirror_mode": {
    "name": "ipython",
    "version": 3
   },
   "file_extension": ".py",
   "mimetype": "text/x-python",
   "name": "python",
   "nbconvert_exporter": "python",
   "pygments_lexer": "ipython3",
   "version": "3.7.3"
  }
 },
 "nbformat": 4,
 "nbformat_minor": 2
}
