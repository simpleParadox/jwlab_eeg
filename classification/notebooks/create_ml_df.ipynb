{
 "cells": [
  {
   "cell_type": "code",
   "execution_count": 1,
   "metadata": {},
   "outputs": [],
   "source": [
    "import setup_jwlab\n",
    "\n",
    "import pandas as pd\n",
    "import numpy as np\n",
    "\n",
    "from jwlab.run.computecanada_constants import data_path, bad_trials_path, df_path, messy_trials_path, db_path\n",
    "from jwlab.ml_prep import create_ml_df_internal, load_ml_data, save_ml_df"
   ]
  },
  {
   "cell_type": "code",
   "execution_count": 2,
   "metadata": {},
   "outputs": [
    {
     "name": "stdout",
     "output_type": "stream",
     "text": [
      "loaded\n"
     ]
    }
   ],
   "source": [
    "participants = [\"107\", \"109\", \"111\", \"112\", \"115\", \"116\", \"117\", \"119\", \"120\", \"121\", \"122\", \"124\", \n",
    "                \"904\", \"905\", \"906\", \"908\", \"909\", \"910\", \"912\", \"913\", \"914\", \"916\", \"917\", \"919\", \"920\",\n",
    "               \"921\", \"923\", \"924\", \"927\", \"928\", \"929\", \"930\", \"932\"]\n",
    "\n",
    "df, ys = load_ml_data(data_path, participants)"
   ]
  },
  {
   "cell_type": "code",
   "execution_count": 3,
   "metadata": {},
   "outputs": [
    {
     "name": "stdout",
     "output_type": "stream",
     "text": [
      "The number of bad trials of the participant - [107] that are removed is [15].\n",
      "The number of messy trials that are removed is - [34].\n",
      "The number of bad trials of the participant - [109] that are removed is [25].\n",
      "The number of messy trials that are removed is - [0].\n",
      "The number of bad trials of the participant - [111] that are removed is [32].\n",
      "The number of messy trials that are removed is - [30].\n",
      "The number of bad trials of the participant - [112] that are removed is [29].\n",
      "The number of messy trials that are removed is - [15].\n",
      "The number of bad trials of the participant - [115] that are removed is [20].\n",
      "The number of messy trials that are removed is - [14].\n",
      "The number of bad trials of the participant - [116] that are removed is [10].\n",
      "The number of messy trials that are removed is - [14].\n",
      "The number of bad trials of the participant - [117] that are removed is [0].\n",
      "The number of messy trials that are removed is - [0].\n",
      "The number of bad trials of the participant - [119] that are removed is [0].\n",
      "The number of messy trials that are removed is - [0].\n",
      "The number of bad trials of the participant - [120] that are removed is [0].\n",
      "The number of messy trials that are removed is - [0].\n",
      "The number of bad trials of the participant - [121] that are removed is [0].\n",
      "The number of messy trials that are removed is - [0].\n",
      "The number of bad trials of the participant - [122] that are removed is [0].\n",
      "The number of messy trials that are removed is - [0].\n",
      "The number of bad trials of the participant - [124] that are removed is [0].\n",
      "The number of messy trials that are removed is - [0].\n",
      "The number of bad trials of the participant - [904] that are removed is [30].\n",
      "The number of messy trials that are removed is - [50].\n",
      "The number of bad trials of the participant - [905] that are removed is [6].\n",
      "The number of messy trials that are removed is - [22].\n",
      "The number of bad trials of the participant - [906] that are removed is [34].\n",
      "The number of messy trials that are removed is - [30].\n",
      "The number of bad trials of the participant - [908] that are removed is [7].\n",
      "The number of messy trials that are removed is - [15].\n",
      "The number of bad trials of the participant - [909] that are removed is [17].\n",
      "The number of messy trials that are removed is - [6].\n",
      "The number of bad trials of the participant - [910] that are removed is [39].\n",
      "The number of messy trials that are removed is - [11].\n",
      "The number of bad trials of the participant - [912] that are removed is [22].\n",
      "The number of messy trials that are removed is - [10].\n",
      "The number of bad trials of the participant - [913] that are removed is [0].\n",
      "The number of messy trials that are removed is - [0].\n",
      "The number of bad trials of the participant - [914] that are removed is [10].\n",
      "The number of messy trials that are removed is - [0].\n",
      "The number of bad trials of the participant - [916] that are removed is [0].\n",
      "The number of messy trials that are removed is - [0].\n",
      "The number of bad trials of the participant - [917] that are removed is [0].\n",
      "The number of messy trials that are removed is - [0].\n",
      "The number of bad trials of the participant - [919] that are removed is [0].\n",
      "The number of messy trials that are removed is - [0].\n",
      "The number of bad trials of the participant - [920] that are removed is [0].\n",
      "The number of messy trials that are removed is - [0].\n",
      "The number of bad trials of the participant - [921] that are removed is [0].\n",
      "The number of messy trials that are removed is - [0].\n",
      "The number of bad trials of the participant - [923] that are removed is [0].\n",
      "The number of messy trials that are removed is - [0].\n",
      "The number of bad trials of the participant - [924] that are removed is [0].\n",
      "The number of messy trials that are removed is - [0].\n",
      "The number of bad trials of the participant - [927] that are removed is [0].\n",
      "The number of messy trials that are removed is - [0].\n",
      "The number of bad trials of the participant - [928] that are removed is [0].\n",
      "The number of messy trials that are removed is - [0].\n",
      "The number of bad trials of the participant - [929] that are removed is [0].\n",
      "The number of messy trials that are removed is - [0].\n",
      "The number of bad trials of the participant - [930] that are removed is [0].\n",
      "The number of messy trials that are removed is - [0].\n",
      "The number of bad trials of the participant - [932] that are removed is [0].\n",
      "The number of messy trials that are removed is - [0].\n",
      "([[9, 38, 43, 47, 48, 69, 74, 92, 99, 100, 101, 106, 107, 108, 109, 1, 9, 20, 24, 28, 35, 36, 40, 43, 44, 45, 47, 48, 54, 55, 69, 74, 75, 88, 92, 93, 94, 99, 100, 101, 102, 103, 104, 107, 108, 109, 107, 108, 109], [1, 3, 19, 39, 40, 43, 56, 60, 64, 71, 72, 73, 78, 81, 82, 88, 90, 91, 93, 94, 98, 100, 105, 108, 109], [12, 18, 16, 20, 22, 23, 27, 24, 28, 38, 43, 44, 45, 47, 53, 54, 55, 56, 57, 63, 65, 75, 76, 77, 79, 80, 86, 88, 90, 91, 93, 95, 7, 10, 13, 18, 19, 24, 25, 28, 34, 35, 37, 39, 40, 48, 55, 57, 61, 62, 63, 77, 83, 84, 86, 93, 95, 98, 100, 105, 106, 109], [31, 21, 35, 44, 51, 61, 63, 64, 67, 69, 70, 72, 74, 75, 77, 78, 79, 82, 84, 86, 87, 93, 94, 95, 97, 98, 99, 100, 101, 35, 44, 55, 56, 57, 59, 64, 74, 78, 82, 86, 95, 99, 100, 101], [20, 39, 41, 51, 61, 71, 73, 80, 103, 105, 108, 109, 110, 111, 119, 120, 126, 131, 134, 136, 3, 8, 11, 12, 15, 16, 19, 21, 44, 61, 106, 121, 127, 132], [18, 35, 40, 41, 42, 46, 47, 48, 49, 50, 1, 8, 17, 21, 27, 31, 36, 40, 41, 44, 46, 47, 50, 51], [], [], [], [], [], [], [9, 18, 19, 20, 21, 30, 36, 38, 45, 46, 59, 60, 63, 71, 76, 77, 84, 85, 87, 94, 96, 98, 100, 108, 110, 111, 112, 114, 115, 116, 10, 11, 19, 20, 21, 22, 31, 36, 37, 39, 43, 44, 46, 47, 52, 54, 55, 59, 60, 64, 68, 70, 72, 73, 76, 77, 78, 81, 83, 85, 86, 88, 90, 91, 94, 95, 97, 99, 100, 101, 102, 105, 106, 109, 111, 112, 113, 115, 116, 117], [37, 39, 67, 79, 82, 83, 1, 2, 27, 31, 32, 37, 38, 40, 42, 48, 51, 52, 58, 61, 64, 68, 70, 72, 77, 80, 83, 84], [1, 3, 6, 7, 9, 13, 20, 21, 22, 24, 26, 27, 28, 29, 30, 33, 36, 37, 38, 39, 41, 48, 50, 51, 52, 53, 54, 55, 56, 59, 60, 61, 62, 63, 1, 2, 3, 8, 14, 21, 23, 25, 27, 29, 30, 31, 34, 36, 37, 39, 40, 41, 42, 49, 50, 52, 53, 56, 57, 60, 61, 62, 63, 64], [40, 55, 56, 58, 67, 73, 23, 32, 40, 42, 49, 51, 52, 61, 62, 65, 71, 73, 75, 77, 78], [5, 14, 15, 22, 30, 40, 44, 45, 47, 48, 50, 53, 54, 55, 61, 62, 63, 14, 20, 43, 49, 56, 62], [1, 3, 4, 5, 8, 12, 13, 18, 19, 21, 22, 23, 24, 26, 28, 29, 30, 31, 32, 33, 35, 36, 37, 38, 39, 40, 41, 42, 43, 44, 45, 46, 47, 48, 49, 50, 51, 52, 53, 13, 23, 34, 36, 37, 38, 43, 46, 50, 53, 50], [2, 12, 3, 23, 4, 24, 1, 5, 6, 3, 23, 4, 24, 28, 34, 48, 51, 54, 56, 59, 60, 61, 63, 64, 65, 66, 67, 69, 4, 6, 26, 40, 49, 55, 57, 58, 67, 68], [], [19, 8, 18, 33, 50, 60, 61, 62, 63, 64], [], [], [], [], [], [], [], [], [], [], [], []], [49, 25, 62, 44, 34, 24, 0, 0, 0, 0, 0, 0, 80, 28, 64, 22, 23, 50, 32, 0, 10, 0, 0, 0, 0, 0, 0, 0, 0, 0, 0, 0, 0])\n",
      "participant:107\n",
      "len ys: 109\n",
      "ybad:[9, 38, 43, 47, 48, 69, 74, 92, 99, 100, 101, 106, 107, 108, 109, 1, 9, 20, 24, 28, 35, 36, 40, 43, 44, 45, 47, 48, 54, 55, 69, 74, 75, 88, 92, 93, 94, 99, 100, 101, 102, 103, 104, 107, 108, 109, 107, 108, 109]\n",
      "max: 109\n",
      "---------------------\n",
      "ybad:[1, 3, 19, 39, 40, 43, 56, 60, 64, 71, 72, 73, 78, 81, 82, 88, 90, 91, 93, 94, 98, 100, 105, 108, 109]\n",
      "max: 109\n",
      "---------------------\n",
      "ybad:[12, 18, 16, 20, 22, 23, 27, 24, 28, 38, 43, 44, 45, 47, 53, 54, 55, 56, 57, 63, 65, 75, 76, 77, 79, 80, 86, 88, 90, 91, 93, 95, 7, 10, 13, 18, 19, 24, 25, 28, 34, 35, 37, 39, 40, 48, 55, 57, 61, 62, 63, 77, 83, 84, 86, 93, 95, 98, 100, 105, 106, 109]\n",
      "max: 109\n",
      "---------------------\n",
      "ybad:[31, 21, 35, 44, 51, 61, 63, 64, 67, 69, 70, 72, 74, 75, 77, 78, 79, 82, 84, 86, 87, 93, 94, 95, 97, 98, 99, 100, 101, 35, 44, 55, 56, 57, 59, 64, 74, 78, 82, 86, 95, 99, 100, 101]\n",
      "max: 101\n",
      "---------------------\n",
      "ybad:[20, 39, 41, 51, 61, 71, 73, 80, 103, 105, 108, 109, 110, 111, 119, 120, 126, 131, 134, 136, 3, 8, 11, 12, 15, 16, 19, 21, 44, 61, 106, 121, 127, 132]\n",
      "max: 136\n"
     ]
    },
    {
     "ename": "IndexError",
     "evalue": "index 109 is out of bounds for axis 0 with size 109",
     "output_type": "error",
     "traceback": [
      "\u001b[0;31m---------------------------------------------------------------------------\u001b[0m",
      "\u001b[0;31mIndexError\u001b[0m                                Traceback (most recent call last)",
      "\u001b[0;32m<ipython-input-3-beb42417f166>\u001b[0m in \u001b[0;36m<module>\u001b[0;34m\u001b[0m\n\u001b[1;32m      3\u001b[0m                                  \u001b[0mbad_trials_filepath\u001b[0m\u001b[0;34m=\u001b[0m\u001b[0mbad_trials_path\u001b[0m\u001b[0;34m,\u001b[0m\u001b[0;34m\u001b[0m\u001b[0m\n\u001b[1;32m      4\u001b[0m                                  \u001b[0mmessy_trials_filepath\u001b[0m\u001b[0;34m=\u001b[0m\u001b[0mmessy_trials_path\u001b[0m\u001b[0;34m,\u001b[0m\u001b[0;34m\u001b[0m\u001b[0m\n\u001b[0;32m----> 5\u001b[0;31m                                  db_filepath=db_path)\n\u001b[0m",
      "\u001b[0;32m/project/6003615/kjslakov/jwlab_eeg/classification/notebooks/../code/jwlab/ml_prep.py\u001b[0m in \u001b[0;36mcreate_ml_df_internal\u001b[0;34m(df, ys, participants, downsample_num, bad_trials_filepath, messy_trials_filepath, db_filepath)\u001b[0m\n\u001b[1;32m    100\u001b[0m             \u001b[0mprint\u001b[0m\u001b[0;34m(\u001b[0m\u001b[0;34m\"ybad:\"\u001b[0m \u001b[0;34m+\u001b[0m \u001b[0mstr\u001b[0m\u001b[0;34m(\u001b[0m\u001b[0mybad\u001b[0m\u001b[0;34m[\u001b[0m\u001b[0meach_ps\u001b[0m\u001b[0;34m]\u001b[0m\u001b[0;34m[\u001b[0m\u001b[0mbad_trial\u001b[0m\u001b[0;34m]\u001b[0m\u001b[0;34m)\u001b[0m\u001b[0;34m,\u001b[0m \u001b[0mflush\u001b[0m\u001b[0;34m=\u001b[0m\u001b[0;32mTrue\u001b[0m\u001b[0;34m)\u001b[0m\u001b[0;34m\u001b[0m\u001b[0m\n\u001b[1;32m    101\u001b[0m             \u001b[0mprint\u001b[0m\u001b[0;34m(\u001b[0m\u001b[0;34m\"max: \"\u001b[0m \u001b[0;34m+\u001b[0m \u001b[0mstr\u001b[0m\u001b[0;34m(\u001b[0m\u001b[0mnp\u001b[0m\u001b[0;34m.\u001b[0m\u001b[0mmax\u001b[0m\u001b[0;34m(\u001b[0m\u001b[0mybad\u001b[0m\u001b[0;34m[\u001b[0m\u001b[0meach_ps\u001b[0m\u001b[0;34m]\u001b[0m\u001b[0;34m[\u001b[0m\u001b[0mbad_trial\u001b[0m\u001b[0;34m]\u001b[0m\u001b[0;34m)\u001b[0m\u001b[0;34m)\u001b[0m\u001b[0;34m,\u001b[0m \u001b[0mflush\u001b[0m\u001b[0;34m=\u001b[0m\u001b[0;32mTrue\u001b[0m\u001b[0;34m)\u001b[0m\u001b[0;34m\u001b[0m\u001b[0m\n\u001b[0;32m--> 102\u001b[0;31m             \u001b[0mys\u001b[0m\u001b[0;34m[\u001b[0m\u001b[0meach_ps\u001b[0m\u001b[0;34m]\u001b[0m\u001b[0;34m[\u001b[0m\u001b[0mnp\u001b[0m\u001b[0;34m.\u001b[0m\u001b[0marray\u001b[0m\u001b[0;34m(\u001b[0m\u001b[0mybad\u001b[0m\u001b[0;34m[\u001b[0m\u001b[0meach_ps\u001b[0m\u001b[0;34m]\u001b[0m\u001b[0;34m[\u001b[0m\u001b[0mbad_trial\u001b[0m\u001b[0;34m]\u001b[0m\u001b[0;34m)\u001b[0m\u001b[0;34m-\u001b[0m\u001b[0;36m1\u001b[0m\u001b[0;34m]\u001b[0m \u001b[0;34m=\u001b[0m \u001b[0;34m-\u001b[0m\u001b[0;36m1\u001b[0m\u001b[0;34m\u001b[0m\u001b[0m\n\u001b[0m\u001b[1;32m    103\u001b[0m             \u001b[0mprint\u001b[0m\u001b[0;34m(\u001b[0m\u001b[0;34m\"---------------------\"\u001b[0m\u001b[0;34m,\u001b[0m \u001b[0mflush\u001b[0m\u001b[0;34m=\u001b[0m\u001b[0;32mTrue\u001b[0m\u001b[0;34m)\u001b[0m\u001b[0;34m\u001b[0m\u001b[0m\n\u001b[1;32m    104\u001b[0m     \u001b[0my\u001b[0m \u001b[0;34m=\u001b[0m \u001b[0mnp\u001b[0m\u001b[0;34m.\u001b[0m\u001b[0mconcatenate\u001b[0m\u001b[0;34m(\u001b[0m\u001b[0mys\u001b[0m\u001b[0;34m)\u001b[0m\u001b[0;34m\u001b[0m\u001b[0m\n",
      "\u001b[0;31mIndexError\u001b[0m: index 109 is out of bounds for axis 0 with size 109"
     ]
    }
   ],
   "source": [
    "df_final = create_ml_df_internal(df, ys, participants,\n",
    "                                 downsample_num=300,\n",
    "                                 bad_trials_filepath=bad_trials_path,\n",
    "                                 messy_trials_filepath=messy_trials_path,\n",
    "                                 db_filepath=db_path)"
   ]
  },
  {
   "cell_type": "code",
   "execution_count": null,
   "metadata": {},
   "outputs": [],
   "source": [
    "save_ml_df(df_final, df_path)"
   ]
  },
  {
   "cell_type": "code",
   "execution_count": null,
   "metadata": {},
   "outputs": [],
   "source": []
  }
 ],
 "metadata": {
  "kernelspec": {
   "display_name": "Python 3",
   "language": "python",
   "name": "python3"
  },
  "language_info": {
   "codemirror_mode": {
    "name": "ipython",
    "version": 3
   },
   "file_extension": ".py",
   "mimetype": "text/x-python",
   "name": "python",
   "nbconvert_exporter": "python",
   "pygments_lexer": "ipython3",
   "version": "3.6.3"
  }
 },
 "nbformat": 4,
 "nbformat_minor": 4
}
