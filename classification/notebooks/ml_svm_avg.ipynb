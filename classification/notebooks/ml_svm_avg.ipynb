{
 "cells": [
  {
   "cell_type": "markdown",
   "metadata": {},
   "source": [
    "# Training Model: SVM"
   ]
  },
  {
   "cell_type": "markdown",
   "metadata": {},
   "source": [
    "# 9 month olds"
   ]
  },
  {
   "cell_type": "markdown",
   "metadata": {},
   "source": [
    "## 1. Importing libraries ..."
   ]
  },
  {
   "cell_type": "code",
   "execution_count": 1,
   "metadata": {},
   "outputs": [],
   "source": [
    "import pandas as pd\n",
    "import numpy as np\n",
    "import setup_jwlab\n",
    "from jwlab.constants import cleaned_data_filepath\n",
    "from jwlab.ml_prep import prep_ml\n",
    "from sklearn.svm import LinearSVC\n",
    "from sklearn.model_selection import train_test_split"
   ]
  },
  {
   "cell_type": "markdown",
   "metadata": {},
   "source": [
    "## 2. Importing 9-Month-Olds.."
   ]
  },
  {
   "cell_type": "code",
   "execution_count": 2,
   "metadata": {},
   "outputs": [],
   "source": [
    "participants = [\"904\", \"905\", \"906\", \"909\", \"910\", \"912\", \"908\", \"913\", \"914\", \"916\", \"917\", \"919\", \"920\", \"921\", \"923\", \"924\"]"
   ]
  },
  {
   "cell_type": "markdown",
   "metadata": {},
   "source": [
    "## 3. Set up averaging"
   ]
  },
  {
   "cell_type": "code",
   "execution_count": 8,
   "metadata": {},
   "outputs": [
    {
     "name": "stdout",
     "output_type": "stream",
     "text": [
      "loaded\n",
      "The number of bad trials of the participant - [904] that are removed is [30].\n",
      "The number of bad channels that are removed is - [50].\n",
      "The number of bad trials of the participant - [905] that are removed is [6].\n",
      "The number of bad channels that are removed is - [22].\n",
      "The number of bad trials of the participant - [906] that are removed is [34].\n",
      "The number of bad channels that are removed is - [30].\n",
      "The number of bad trials of the participant - [909] that are removed is [17].\n",
      "The number of bad channels that are removed is - [6].\n",
      "The number of bad trials of the participant - [910] that are removed is [39].\n",
      "The number of bad channels that are removed is - [11].\n",
      "The number of bad trials of the participant - [912] that are removed is [22].\n",
      "The number of bad channels that are removed is - [10].\n",
      "The number of bad trials of the participant - [908] that are removed is [7].\n",
      "The number of bad channels that are removed is - [15].\n",
      "The number of bad trials of the participant - [913] that are removed is [0].\n",
      "The number of bad channels that are removed is - [3].\n",
      "The number of bad trials of the participant - [914] that are removed is [10].\n",
      "The number of bad channels that are removed is - [10].\n",
      "The number of bad trials of the participant - [916] that are removed is [6].\n",
      "The number of bad channels that are removed is - [7].\n",
      "The number of bad trials of the participant - [917] that are removed is [4].\n",
      "The number of bad channels that are removed is - [1].\n",
      "The number of bad trials of the participant - [919] that are removed is [11].\n",
      "The number of bad channels that are removed is - [11].\n",
      "The number of bad trials of the participant - [920] that are removed is [10].\n",
      "The number of bad channels that are removed is - [10].\n",
      "The number of bad trials of the participant - [921] that are removed is [1].\n",
      "The number of bad channels that are removed is - [10].\n",
      "The number of bad trials of the participant - [923] that are removed is [8].\n",
      "The number of bad channels that are removed is - [10].\n",
      "The number of bad trials of the participant - [924] that are removed is [21].\n",
      "The number of bad channels that are removed is - [7].\n",
      "The number of good trials left for participant - [904] is - [37].\n",
      "The number of good trials left for participant - [905] is - [56].\n",
      "The number of good trials left for participant - [906] is - [0].\n",
      "The number of good trials left for participant - [909] is - [40].\n",
      "The number of good trials left for participant - [910] is - [3].\n",
      "The number of good trials left for participant - [912] is - [37].\n",
      "The number of good trials left for participant - [908] is - [56].\n",
      "The number of good trials left for participant - [913] is - [109].\n",
      "The number of good trials left for participant - [914] is - [44].\n",
      "The number of good trials left for participant - [916] is - [50].\n",
      "The number of good trials left for participant - [917] is - [59].\n",
      "The number of good trials left for participant - [919] is - [78].\n",
      "The number of good trials left for participant - [920] is - [47].\n",
      "The number of good trials left for participant - [921] is - [54].\n",
      "The number of good trials left for participant - [923] is - [26].\n",
      "The number of good trials left for participant - [924] is - [44].\n",
      "loaded\n",
      "The number of bad trials of the participant - [904] that are removed is [30].\n",
      "The number of bad channels that are removed is - [50].\n",
      "The number of bad trials of the participant - [905] that are removed is [6].\n",
      "The number of bad channels that are removed is - [22].\n",
      "The number of bad trials of the participant - [906] that are removed is [34].\n",
      "The number of bad channels that are removed is - [30].\n",
      "The number of bad trials of the participant - [909] that are removed is [17].\n",
      "The number of bad channels that are removed is - [6].\n",
      "The number of bad trials of the participant - [910] that are removed is [39].\n",
      "The number of bad channels that are removed is - [11].\n",
      "The number of bad trials of the participant - [912] that are removed is [22].\n",
      "The number of bad channels that are removed is - [10].\n",
      "The number of bad trials of the participant - [908] that are removed is [7].\n",
      "The number of bad channels that are removed is - [15].\n",
      "The number of bad trials of the participant - [913] that are removed is [0].\n",
      "The number of bad channels that are removed is - [3].\n",
      "The number of bad trials of the participant - [914] that are removed is [10].\n",
      "The number of bad channels that are removed is - [10].\n",
      "The number of bad trials of the participant - [916] that are removed is [6].\n",
      "The number of bad channels that are removed is - [7].\n",
      "The number of bad trials of the participant - [917] that are removed is [4].\n",
      "The number of bad channels that are removed is - [1].\n",
      "The number of bad trials of the participant - [919] that are removed is [11].\n",
      "The number of bad channels that are removed is - [11].\n",
      "The number of bad trials of the participant - [920] that are removed is [10].\n",
      "The number of bad channels that are removed is - [10].\n",
      "The number of bad trials of the participant - [921] that are removed is [1].\n",
      "The number of bad channels that are removed is - [10].\n",
      "The number of bad trials of the participant - [923] that are removed is [8].\n",
      "The number of bad channels that are removed is - [10].\n",
      "The number of bad trials of the participant - [924] that are removed is [21].\n",
      "The number of bad channels that are removed is - [7].\n",
      "The number of good trials left for participant - [904] is - [37].\n",
      "The number of good trials left for participant - [905] is - [56].\n",
      "The number of good trials left for participant - [906] is - [0].\n",
      "The number of good trials left for participant - [909] is - [40].\n",
      "The number of good trials left for participant - [910] is - [3].\n",
      "The number of good trials left for participant - [912] is - [37].\n",
      "The number of good trials left for participant - [908] is - [56].\n",
      "The number of good trials left for participant - [913] is - [109].\n",
      "The number of good trials left for participant - [914] is - [44].\n",
      "The number of good trials left for participant - [916] is - [50].\n",
      "The number of good trials left for participant - [917] is - [59].\n",
      "The number of good trials left for participant - [919] is - [78].\n",
      "The number of good trials left for participant - [920] is - [47].\n",
      "The number of good trials left for participant - [921] is - [54].\n",
      "The number of good trials left for participant - [923] is - [26].\n",
      "The number of good trials left for participant - [924] is - [44].\n",
      "loaded\n",
      "The number of bad trials of the participant - [904] that are removed is [30].\n",
      "The number of bad channels that are removed is - [50].\n",
      "The number of bad trials of the participant - [905] that are removed is [6].\n",
      "The number of bad channels that are removed is - [22].\n",
      "The number of bad trials of the participant - [906] that are removed is [34].\n",
      "The number of bad channels that are removed is - [30].\n",
      "The number of bad trials of the participant - [909] that are removed is [17].\n",
      "The number of bad channels that are removed is - [6].\n",
      "The number of bad trials of the participant - [910] that are removed is [39].\n",
      "The number of bad channels that are removed is - [11].\n",
      "The number of bad trials of the participant - [912] that are removed is [22].\n",
      "The number of bad channels that are removed is - [10].\n",
      "The number of bad trials of the participant - [908] that are removed is [7].\n",
      "The number of bad channels that are removed is - [15].\n",
      "The number of bad trials of the participant - [913] that are removed is [0].\n",
      "The number of bad channels that are removed is - [3].\n",
      "The number of bad trials of the participant - [914] that are removed is [10].\n",
      "The number of bad channels that are removed is - [10].\n",
      "The number of bad trials of the participant - [916] that are removed is [6].\n",
      "The number of bad channels that are removed is - [7].\n",
      "The number of bad trials of the participant - [917] that are removed is [4].\n",
      "The number of bad channels that are removed is - [1].\n",
      "The number of bad trials of the participant - [919] that are removed is [11].\n",
      "The number of bad channels that are removed is - [11].\n",
      "The number of bad trials of the participant - [920] that are removed is [10].\n",
      "The number of bad channels that are removed is - [10].\n",
      "The number of bad trials of the participant - [921] that are removed is [1].\n",
      "The number of bad channels that are removed is - [10].\n",
      "The number of bad trials of the participant - [923] that are removed is [8].\n"
     ]
    },
    {
     "name": "stdout",
     "output_type": "stream",
     "text": [
      "The number of bad channels that are removed is - [10].\n",
      "The number of bad trials of the participant - [924] that are removed is [21].\n",
      "The number of bad channels that are removed is - [7].\n",
      "The number of good trials left for participant - [904] is - [37].\n",
      "The number of good trials left for participant - [905] is - [56].\n",
      "The number of good trials left for participant - [906] is - [0].\n",
      "The number of good trials left for participant - [909] is - [40].\n",
      "The number of good trials left for participant - [910] is - [3].\n",
      "The number of good trials left for participant - [912] is - [37].\n",
      "The number of good trials left for participant - [908] is - [56].\n",
      "The number of good trials left for participant - [913] is - [109].\n",
      "The number of good trials left for participant - [914] is - [44].\n",
      "The number of good trials left for participant - [916] is - [50].\n",
      "The number of good trials left for participant - [917] is - [59].\n",
      "The number of good trials left for participant - [919] is - [78].\n",
      "The number of good trials left for participant - [920] is - [47].\n",
      "The number of good trials left for participant - [921] is - [54].\n",
      "The number of good trials left for participant - [923] is - [26].\n",
      "The number of good trials left for participant - [924] is - [44].\n"
     ]
    }
   ],
   "source": [
    "X,y,p,w,df = prep_ml(cleaned_data_filepath, participants, downsample_num=1000, averaging=\"no_averaging\")\n",
    "Xt,yt,pt,wt,dft = prep_ml(cleaned_data_filepath, participants, downsample_num=1000, averaging=\"average_trials\")\n",
    "Xa,ya,pa,wa,dfa = prep_ml(cleaned_data_filepath, participants, downsample_num=1000, averaging=\"average_trials_and_particpants\")\n"
   ]
  },
  {
   "cell_type": "code",
   "execution_count": 9,
   "metadata": {},
   "outputs": [
    {
     "data": {
      "text/plain": [
       "782"
      ]
     },
     "execution_count": 9,
     "metadata": {},
     "output_type": "execute_result"
    }
   ],
   "source": [
    "(n, d) = X.shape\n",
    "assert n == y.shape[0]\n",
    "n"
   ]
  },
  {
   "cell_type": "code",
   "execution_count": 10,
   "metadata": {},
   "outputs": [
    {
     "data": {
      "text/plain": [
       "256"
      ]
     },
     "execution_count": 10,
     "metadata": {},
     "output_type": "execute_result"
    }
   ],
   "source": [
    "(n, d) = Xt.shape\n",
    "assert n == yt.shape[0]\n",
    "n"
   ]
  },
  {
   "cell_type": "code",
   "execution_count": 11,
   "metadata": {},
   "outputs": [
    {
     "data": {
      "text/plain": [
       "16"
      ]
     },
     "execution_count": 11,
     "metadata": {},
     "output_type": "execute_result"
    }
   ],
   "source": [
    "(n, d) = Xa.shape\n",
    "assert n == ya.shape[0]\n",
    "n"
   ]
  },
  {
   "cell_type": "markdown",
   "metadata": {},
   "source": [
    "## 4. Setting up the SVM model ..."
   ]
  },
  {
   "cell_type": "code",
   "execution_count": 12,
   "metadata": {},
   "outputs": [],
   "source": [
    "model = LinearSVC(C=1e-9, max_iter=1000)"
   ]
  },
  {
   "cell_type": "markdown",
   "metadata": {},
   "source": [
    "## 5. Training and testing the model ..."
   ]
  },
  {
   "cell_type": "markdown",
   "metadata": {},
   "source": [
    "### 5.1. Train on raw, test on raw (validation)"
   ]
  },
  {
   "cell_type": "code",
   "execution_count": 13,
   "metadata": {},
   "outputs": [
    {
     "data": {
      "text/plain": [
       "0.3069053708439898"
      ]
     },
     "execution_count": 13,
     "metadata": {},
     "output_type": "execute_result"
    }
   ],
   "source": [
    "# from sklearn import preprocessing\n",
    "\n",
    "# scaler = preprocessing.StandardScaler().fit(X)\n",
    "# X,Xp = scaler.transform(X), scaler.transform(Xp)\n",
    "model.fit(X, y)\n",
    "np.mean(model.predict(X) != y)"
   ]
  },
  {
   "cell_type": "markdown",
   "metadata": {},
   "source": [
    "### 5.2. Train on raw, test on avg by trial (word repetition) "
   ]
  },
  {
   "cell_type": "code",
   "execution_count": 14,
   "metadata": {},
   "outputs": [
    {
     "data": {
      "text/plain": [
       "0.4453125"
      ]
     },
     "execution_count": 14,
     "metadata": {},
     "output_type": "execute_result"
    }
   ],
   "source": [
    "# from sklearn import preprocessing\n",
    "\n",
    "# scaler = preprocessing.StandardScaler().fit(X)\n",
    "# X,Xp = scaler.transform(X), scaler.transform(Xp)\n",
    "model.fit(X, y)\n",
    "np.mean(model.predict(Xt) != yt)"
   ]
  },
  {
   "cell_type": "markdown",
   "metadata": {},
   "source": [
    "### 5.3. Train on raw, test on avg by word and ps "
   ]
  },
  {
   "cell_type": "code",
   "execution_count": 15,
   "metadata": {},
   "outputs": [
    {
     "data": {
      "text/plain": [
       "0.5"
      ]
     },
     "execution_count": 15,
     "metadata": {},
     "output_type": "execute_result"
    }
   ],
   "source": [
    "# from sklearn import preprocessing\n",
    "\n",
    "# scaler = preprocessing.StandardScaler().fit(X)\n",
    "# X,Xp = scaler.transform(X), scaler.transform(Xp)\n",
    "model.fit(X, y)\n",
    "np.mean(model.predict(Xa) != ya)"
   ]
  },
  {
   "cell_type": "markdown",
   "metadata": {},
   "source": [
    "# 13 month olds"
   ]
  },
  {
   "cell_type": "markdown",
   "metadata": {},
   "source": [
    "# 2. Importing 13-Month-Olds.."
   ]
  },
  {
   "cell_type": "code",
   "execution_count": 16,
   "metadata": {},
   "outputs": [],
   "source": [
    "participants = [\"105\", \"106\", \"107\", \"109\", \"111\", \"112\", \"115\", \"116\", \"117\", \"119\", \"121\", \"122\", \"120\"]"
   ]
  },
  {
   "cell_type": "code",
   "execution_count": 17,
   "metadata": {},
   "outputs": [],
   "source": [
    "## 3. Set up averaging"
   ]
  },
  {
   "cell_type": "code",
   "execution_count": 6,
   "metadata": {},
   "outputs": [
    {
     "name": "stdout",
     "output_type": "stream",
     "text": [
      "loaded\n",
      "The number of bad trials of the participant - [904] that are removed is [30].\n",
      "The number of messy trials that are removed is - [50].\n",
      "The number of bad trials of the participant - [905] that are removed is [6].\n",
      "The number of messy trials that are removed is - [22].\n",
      "The number of bad trials of the participant - [906] that are removed is [34].\n",
      "The number of messy trials that are removed is - [30].\n",
      "The number of bad trials of the participant - [909] that are removed is [17].\n",
      "The number of messy trials that are removed is - [6].\n",
      "The number of bad trials of the participant - [910] that are removed is [39].\n",
      "The number of messy trials that are removed is - [11].\n",
      "The number of bad trials of the participant - [912] that are removed is [22].\n",
      "The number of messy trials that are removed is - [10].\n",
      "The number of bad trials of the participant - [908] that are removed is [7].\n",
      "The number of messy trials that are removed is - [15].\n",
      "The number of bad trials of the participant - [913] that are removed is [0].\n",
      "The number of messy trials that are removed is - [3].\n",
      "The number of bad trials of the participant - [914] that are removed is [10].\n",
      "The number of messy trials that are removed is - [10].\n",
      "The number of bad trials of the participant - [916] that are removed is [6].\n",
      "The number of messy trials that are removed is - [7].\n",
      "The number of bad trials of the participant - [917] that are removed is [4].\n",
      "The number of messy trials that are removed is - [1].\n",
      "The number of bad trials of the participant - [919] that are removed is [11].\n",
      "The number of messy trials that are removed is - [11].\n",
      "The number of bad trials of the participant - [920] that are removed is [10].\n",
      "The number of messy trials that are removed is - [10].\n",
      "The number of bad trials of the participant - [921] that are removed is [1].\n",
      "The number of messy trials that are removed is - [10].\n",
      "The number of bad trials of the participant - [923] that are removed is [8].\n",
      "The number of messy trials that are removed is - [10].\n",
      "The number of bad trials of the participant - [924] that are removed is [21].\n",
      "The number of messy trials that are removed is - [7].\n",
      "The number of bad trials of the participant - [105] that are removed is [10].\n",
      "The number of messy trials that are removed is - [7].\n",
      "The number of bad trials of the participant - [106] that are removed is [8].\n",
      "The number of messy trials that are removed is - [6].\n",
      "The number of bad trials of the participant - [107] that are removed is [15].\n",
      "The number of messy trials that are removed is - [34].\n",
      "The number of bad trials of the participant - [109] that are removed is [25].\n",
      "The number of messy trials that are removed is - [0].\n",
      "The number of bad trials of the participant - [111] that are removed is [32].\n",
      "The number of messy trials that are removed is - [30].\n",
      "The number of bad trials of the participant - [112] that are removed is [29].\n",
      "The number of messy trials that are removed is - [15].\n",
      "The number of bad trials of the participant - [115] that are removed is [20].\n",
      "The number of messy trials that are removed is - [14].\n",
      "The number of bad trials of the participant - [116] that are removed is [10].\n",
      "The number of messy trials that are removed is - [14].\n",
      "The number of bad trials of the participant - [117] that are removed is [8].\n",
      "The number of messy trials that are removed is - [8].\n",
      "The number of bad trials of the participant - [119] that are removed is [22].\n",
      "The number of messy trials that are removed is - [13].\n",
      "The number of bad trials of the participant - [121] that are removed is [30].\n",
      "The number of messy trials that are removed is - [13].\n",
      "The number of bad trials of the participant - [122] that are removed is [14].\n",
      "The number of messy trials that are removed is - [10].\n",
      "The number of bad trials of the participant - [120] that are removed is [16].\n",
      "The number of messy trials that are removed is - [5].\n",
      "The number of good trials left for participant - [904] is - [37].\n",
      "The number of good trials left for participant - [905] is - [56].\n",
      "The number of good trials left for participant - [906] is - [0].\n",
      "The number of good trials left for participant - [909] is - [40].\n",
      "The number of good trials left for participant - [910] is - [3].\n",
      "The number of good trials left for participant - [912] is - [37].\n",
      "The number of good trials left for participant - [908] is - [56].\n",
      "The number of good trials left for participant - [913] is - [109].\n",
      "The number of good trials left for participant - [914] is - [44].\n",
      "The number of good trials left for participant - [916] is - [50].\n",
      "The number of good trials left for participant - [917] is - [59].\n",
      "The number of good trials left for participant - [919] is - [78].\n",
      "The number of good trials left for participant - [920] is - [47].\n",
      "The number of good trials left for participant - [921] is - [54].\n",
      "The number of good trials left for participant - [923] is - [26].\n",
      "The number of good trials left for participant - [924] is - [44].\n",
      "The number of good trials left for participant - [105] is - [29].\n",
      "The number of good trials left for participant - [106] is - [18].\n",
      "The number of good trials left for participant - [107] is - [60].\n",
      "The number of good trials left for participant - [109] is - [85].\n",
      "The number of good trials left for participant - [111] is - [47].\n",
      "The number of good trials left for participant - [112] is - [58].\n",
      "The number of good trials left for participant - [115] is - [102].\n",
      "The number of good trials left for participant - [116] is - [27].\n",
      "The number of good trials left for participant - [117] is - [31].\n",
      "The number of good trials left for participant - [119] is - [21].\n",
      "The number of good trials left for participant - [121] is - [-3].\n",
      "The number of good trials left for participant - [122] is - [37].\n",
      "The number of good trials left for participant - [120] is - [15].\n"
     ]
    },
    {
     "ename": "KeyboardInterrupt",
     "evalue": "",
     "output_type": "error",
     "traceback": [
      "\u001b[0;31m---------------------------------------------------------------------------\u001b[0m",
      "\u001b[0;31mKeyboardInterrupt\u001b[0m                         Traceback (most recent call last)",
      "\u001b[0;32m<ipython-input-6-be0a71d88f61>\u001b[0m in \u001b[0;36m<module>\u001b[0;34m\u001b[0m\n\u001b[1;32m      1\u001b[0m \u001b[0mX\u001b[0m\u001b[0;34m,\u001b[0m\u001b[0my\u001b[0m\u001b[0;34m,\u001b[0m\u001b[0mp\u001b[0m\u001b[0;34m,\u001b[0m\u001b[0mw\u001b[0m\u001b[0;34m,\u001b[0m\u001b[0mdf\u001b[0m \u001b[0;34m=\u001b[0m \u001b[0mprep_ml\u001b[0m\u001b[0;34m(\u001b[0m\u001b[0mcleaned_data_filepath\u001b[0m\u001b[0;34m,\u001b[0m \u001b[0mparticipants\u001b[0m\u001b[0;34m,\u001b[0m \u001b[0mdownsample_num\u001b[0m\u001b[0;34m=\u001b[0m\u001b[0;36m1000\u001b[0m\u001b[0;34m,\u001b[0m \u001b[0maveraging\u001b[0m\u001b[0;34m=\u001b[0m\u001b[0;34m\"no_averaging\"\u001b[0m\u001b[0;34m)\u001b[0m\u001b[0;34m\u001b[0m\u001b[0;34m\u001b[0m\u001b[0m\n\u001b[0;32m----> 2\u001b[0;31m \u001b[0mXt\u001b[0m\u001b[0;34m,\u001b[0m\u001b[0myt\u001b[0m\u001b[0;34m,\u001b[0m\u001b[0mpt\u001b[0m\u001b[0;34m,\u001b[0m\u001b[0mwt\u001b[0m\u001b[0;34m,\u001b[0m\u001b[0mdft\u001b[0m \u001b[0;34m=\u001b[0m \u001b[0mprep_ml\u001b[0m\u001b[0;34m(\u001b[0m\u001b[0mcleaned_data_filepath\u001b[0m\u001b[0;34m,\u001b[0m \u001b[0mparticipants\u001b[0m\u001b[0;34m,\u001b[0m \u001b[0mdownsample_num\u001b[0m\u001b[0;34m=\u001b[0m\u001b[0;36m1000\u001b[0m\u001b[0;34m,\u001b[0m \u001b[0maveraging\u001b[0m\u001b[0;34m=\u001b[0m\u001b[0;34m\"average_trials\"\u001b[0m\u001b[0;34m)\u001b[0m\u001b[0;34m\u001b[0m\u001b[0;34m\u001b[0m\u001b[0m\n\u001b[0m\u001b[1;32m      3\u001b[0m \u001b[0mXa\u001b[0m\u001b[0;34m,\u001b[0m\u001b[0mya\u001b[0m\u001b[0;34m,\u001b[0m\u001b[0mpa\u001b[0m\u001b[0;34m,\u001b[0m\u001b[0mwa\u001b[0m\u001b[0;34m,\u001b[0m\u001b[0mdfa\u001b[0m \u001b[0;34m=\u001b[0m \u001b[0mprep_ml\u001b[0m\u001b[0;34m(\u001b[0m\u001b[0mcleaned_data_filepath\u001b[0m\u001b[0;34m,\u001b[0m \u001b[0mparticipants\u001b[0m\u001b[0;34m,\u001b[0m \u001b[0mdownsample_num\u001b[0m\u001b[0;34m=\u001b[0m\u001b[0;36m1000\u001b[0m\u001b[0;34m,\u001b[0m \u001b[0maveraging\u001b[0m\u001b[0;34m=\u001b[0m\u001b[0;34m\"average_trials_and_particpants\"\u001b[0m\u001b[0;34m)\u001b[0m\u001b[0;34m\u001b[0m\u001b[0;34m\u001b[0m\u001b[0m\n",
      "\u001b[0;32m~/Desktop/Studies/Animates EEG/8_Github/jwlab_eeg/classification/notebooks/../code/jwlab/ml_prep.py\u001b[0m in \u001b[0;36mprep_ml\u001b[0;34m(filepath, participants, downsample_num, averaging)\u001b[0m\n\u001b[1;32m     20\u001b[0m \u001b[0;34m\u001b[0m\u001b[0m\n\u001b[1;32m     21\u001b[0m \u001b[0;32mdef\u001b[0m \u001b[0mprep_ml\u001b[0m\u001b[0;34m(\u001b[0m\u001b[0mfilepath\u001b[0m\u001b[0;34m,\u001b[0m \u001b[0mparticipants\u001b[0m\u001b[0;34m,\u001b[0m \u001b[0mdownsample_num\u001b[0m\u001b[0;34m=\u001b[0m\u001b[0;36m1000\u001b[0m\u001b[0;34m,\u001b[0m \u001b[0maveraging\u001b[0m\u001b[0;34m=\u001b[0m\u001b[0;34m\"average_trials\"\u001b[0m\u001b[0;34m)\u001b[0m\u001b[0;34m:\u001b[0m\u001b[0;34m\u001b[0m\u001b[0;34m\u001b[0m\u001b[0m\n\u001b[0;32m---> 22\u001b[0;31m     \u001b[0mdf\u001b[0m\u001b[0;34m,\u001b[0m \u001b[0mys\u001b[0m \u001b[0;34m=\u001b[0m \u001b[0mload_ml_data\u001b[0m\u001b[0;34m(\u001b[0m\u001b[0mfilepath\u001b[0m\u001b[0;34m,\u001b[0m \u001b[0mparticipants\u001b[0m\u001b[0;34m)\u001b[0m\u001b[0;34m\u001b[0m\u001b[0;34m\u001b[0m\u001b[0m\n\u001b[0m\u001b[1;32m     23\u001b[0m     \u001b[0;32mreturn\u001b[0m \u001b[0mprep_ml_internal\u001b[0m\u001b[0;34m(\u001b[0m\u001b[0mdf\u001b[0m\u001b[0;34m,\u001b[0m \u001b[0mys\u001b[0m\u001b[0;34m,\u001b[0m \u001b[0mparticipants\u001b[0m\u001b[0;34m,\u001b[0m \u001b[0mdownsample_num\u001b[0m\u001b[0;34m=\u001b[0m\u001b[0mdownsample_num\u001b[0m\u001b[0;34m,\u001b[0m \u001b[0maveraging\u001b[0m\u001b[0;34m=\u001b[0m\u001b[0maveraging\u001b[0m\u001b[0;34m)\u001b[0m\u001b[0;34m\u001b[0m\u001b[0;34m\u001b[0m\u001b[0m\n\u001b[1;32m     24\u001b[0m \u001b[0;34m\u001b[0m\u001b[0m\n",
      "\u001b[0;32m~/Desktop/Studies/Animates EEG/8_Github/jwlab_eeg/classification/notebooks/../code/jwlab/ml_prep.py\u001b[0m in \u001b[0;36mload_ml_data\u001b[0;34m(filepath, participants)\u001b[0m\n\u001b[1;32m     12\u001b[0m \u001b[0;32mdef\u001b[0m \u001b[0mload_ml_data\u001b[0m\u001b[0;34m(\u001b[0m\u001b[0mfilepath\u001b[0m\u001b[0;34m,\u001b[0m \u001b[0mparticipants\u001b[0m\u001b[0;34m)\u001b[0m\u001b[0;34m:\u001b[0m\u001b[0;34m\u001b[0m\u001b[0;34m\u001b[0m\u001b[0m\n\u001b[1;32m     13\u001b[0m     \u001b[0;31m# read all participant csvs, concat them into one dataframe\u001b[0m\u001b[0;34m\u001b[0m\u001b[0;34m\u001b[0m\u001b[0;34m\u001b[0m\u001b[0m\n\u001b[0;32m---> 14\u001b[0;31m     \u001b[0mdfs\u001b[0m \u001b[0;34m=\u001b[0m \u001b[0;34m[\u001b[0m\u001b[0mpd\u001b[0m\u001b[0;34m.\u001b[0m\u001b[0mread_csv\u001b[0m\u001b[0;34m(\u001b[0m\u001b[0;34m\"%s%s_cleaned_ml.csv\"\u001b[0m \u001b[0;34m%\u001b[0m \u001b[0;34m(\u001b[0m\u001b[0mfilepath\u001b[0m\u001b[0;34m,\u001b[0m \u001b[0ms\u001b[0m\u001b[0;34m)\u001b[0m\u001b[0;34m)\u001b[0m \u001b[0;32mfor\u001b[0m \u001b[0ms\u001b[0m \u001b[0;32min\u001b[0m \u001b[0mparticipants\u001b[0m\u001b[0;34m]\u001b[0m\u001b[0;34m\u001b[0m\u001b[0;34m\u001b[0m\u001b[0m\n\u001b[0m\u001b[1;32m     15\u001b[0m     \u001b[0mdf\u001b[0m \u001b[0;34m=\u001b[0m \u001b[0mpd\u001b[0m\u001b[0;34m.\u001b[0m\u001b[0mconcat\u001b[0m\u001b[0;34m(\u001b[0m\u001b[0mdfs\u001b[0m\u001b[0;34m,\u001b[0m \u001b[0maxis\u001b[0m\u001b[0;34m=\u001b[0m\u001b[0;36m0\u001b[0m\u001b[0;34m,\u001b[0m \u001b[0mignore_index\u001b[0m\u001b[0;34m=\u001b[0m\u001b[0;32mTrue\u001b[0m\u001b[0;34m)\u001b[0m\u001b[0;34m\u001b[0m\u001b[0;34m\u001b[0m\u001b[0m\n\u001b[1;32m     16\u001b[0m \u001b[0;34m\u001b[0m\u001b[0m\n",
      "\u001b[0;32m~/Desktop/Studies/Animates EEG/8_Github/jwlab_eeg/classification/notebooks/../code/jwlab/ml_prep.py\u001b[0m in \u001b[0;36m<listcomp>\u001b[0;34m(.0)\u001b[0m\n\u001b[1;32m     12\u001b[0m \u001b[0;32mdef\u001b[0m \u001b[0mload_ml_data\u001b[0m\u001b[0;34m(\u001b[0m\u001b[0mfilepath\u001b[0m\u001b[0;34m,\u001b[0m \u001b[0mparticipants\u001b[0m\u001b[0;34m)\u001b[0m\u001b[0;34m:\u001b[0m\u001b[0;34m\u001b[0m\u001b[0;34m\u001b[0m\u001b[0m\n\u001b[1;32m     13\u001b[0m     \u001b[0;31m# read all participant csvs, concat them into one dataframe\u001b[0m\u001b[0;34m\u001b[0m\u001b[0;34m\u001b[0m\u001b[0;34m\u001b[0m\u001b[0m\n\u001b[0;32m---> 14\u001b[0;31m     \u001b[0mdfs\u001b[0m \u001b[0;34m=\u001b[0m \u001b[0;34m[\u001b[0m\u001b[0mpd\u001b[0m\u001b[0;34m.\u001b[0m\u001b[0mread_csv\u001b[0m\u001b[0;34m(\u001b[0m\u001b[0;34m\"%s%s_cleaned_ml.csv\"\u001b[0m \u001b[0;34m%\u001b[0m \u001b[0;34m(\u001b[0m\u001b[0mfilepath\u001b[0m\u001b[0;34m,\u001b[0m \u001b[0ms\u001b[0m\u001b[0;34m)\u001b[0m\u001b[0;34m)\u001b[0m \u001b[0;32mfor\u001b[0m \u001b[0ms\u001b[0m \u001b[0;32min\u001b[0m \u001b[0mparticipants\u001b[0m\u001b[0;34m]\u001b[0m\u001b[0;34m\u001b[0m\u001b[0;34m\u001b[0m\u001b[0m\n\u001b[0m\u001b[1;32m     15\u001b[0m     \u001b[0mdf\u001b[0m \u001b[0;34m=\u001b[0m \u001b[0mpd\u001b[0m\u001b[0;34m.\u001b[0m\u001b[0mconcat\u001b[0m\u001b[0;34m(\u001b[0m\u001b[0mdfs\u001b[0m\u001b[0;34m,\u001b[0m \u001b[0maxis\u001b[0m\u001b[0;34m=\u001b[0m\u001b[0;36m0\u001b[0m\u001b[0;34m,\u001b[0m \u001b[0mignore_index\u001b[0m\u001b[0;34m=\u001b[0m\u001b[0;32mTrue\u001b[0m\u001b[0;34m)\u001b[0m\u001b[0;34m\u001b[0m\u001b[0;34m\u001b[0m\u001b[0m\n\u001b[1;32m     16\u001b[0m \u001b[0;34m\u001b[0m\u001b[0m\n",
      "\u001b[0;32m~/opt/anaconda3/lib/python3.7/site-packages/pandas/io/parsers.py\u001b[0m in \u001b[0;36mparser_f\u001b[0;34m(filepath_or_buffer, sep, delimiter, header, names, index_col, usecols, squeeze, prefix, mangle_dupe_cols, dtype, engine, converters, true_values, false_values, skipinitialspace, skiprows, skipfooter, nrows, na_values, keep_default_na, na_filter, verbose, skip_blank_lines, parse_dates, infer_datetime_format, keep_date_col, date_parser, dayfirst, cache_dates, iterator, chunksize, compression, thousands, decimal, lineterminator, quotechar, quoting, doublequote, escapechar, comment, encoding, dialect, error_bad_lines, warn_bad_lines, delim_whitespace, low_memory, memory_map, float_precision)\u001b[0m\n\u001b[1;32m    683\u001b[0m         )\n\u001b[1;32m    684\u001b[0m \u001b[0;34m\u001b[0m\u001b[0m\n\u001b[0;32m--> 685\u001b[0;31m         \u001b[0;32mreturn\u001b[0m \u001b[0m_read\u001b[0m\u001b[0;34m(\u001b[0m\u001b[0mfilepath_or_buffer\u001b[0m\u001b[0;34m,\u001b[0m \u001b[0mkwds\u001b[0m\u001b[0;34m)\u001b[0m\u001b[0;34m\u001b[0m\u001b[0;34m\u001b[0m\u001b[0m\n\u001b[0m\u001b[1;32m    686\u001b[0m \u001b[0;34m\u001b[0m\u001b[0m\n\u001b[1;32m    687\u001b[0m     \u001b[0mparser_f\u001b[0m\u001b[0;34m.\u001b[0m\u001b[0m__name__\u001b[0m \u001b[0;34m=\u001b[0m \u001b[0mname\u001b[0m\u001b[0;34m\u001b[0m\u001b[0;34m\u001b[0m\u001b[0m\n",
      "\u001b[0;32m~/opt/anaconda3/lib/python3.7/site-packages/pandas/io/parsers.py\u001b[0m in \u001b[0;36m_read\u001b[0;34m(filepath_or_buffer, kwds)\u001b[0m\n\u001b[1;32m    461\u001b[0m \u001b[0;34m\u001b[0m\u001b[0m\n\u001b[1;32m    462\u001b[0m     \u001b[0;32mtry\u001b[0m\u001b[0;34m:\u001b[0m\u001b[0;34m\u001b[0m\u001b[0;34m\u001b[0m\u001b[0m\n\u001b[0;32m--> 463\u001b[0;31m         \u001b[0mdata\u001b[0m \u001b[0;34m=\u001b[0m \u001b[0mparser\u001b[0m\u001b[0;34m.\u001b[0m\u001b[0mread\u001b[0m\u001b[0;34m(\u001b[0m\u001b[0mnrows\u001b[0m\u001b[0;34m)\u001b[0m\u001b[0;34m\u001b[0m\u001b[0;34m\u001b[0m\u001b[0m\n\u001b[0m\u001b[1;32m    464\u001b[0m     \u001b[0;32mfinally\u001b[0m\u001b[0;34m:\u001b[0m\u001b[0;34m\u001b[0m\u001b[0;34m\u001b[0m\u001b[0m\n\u001b[1;32m    465\u001b[0m         \u001b[0mparser\u001b[0m\u001b[0;34m.\u001b[0m\u001b[0mclose\u001b[0m\u001b[0;34m(\u001b[0m\u001b[0;34m)\u001b[0m\u001b[0;34m\u001b[0m\u001b[0;34m\u001b[0m\u001b[0m\n",
      "\u001b[0;32m~/opt/anaconda3/lib/python3.7/site-packages/pandas/io/parsers.py\u001b[0m in \u001b[0;36mread\u001b[0;34m(self, nrows)\u001b[0m\n\u001b[1;32m   1152\u001b[0m     \u001b[0;32mdef\u001b[0m \u001b[0mread\u001b[0m\u001b[0;34m(\u001b[0m\u001b[0mself\u001b[0m\u001b[0;34m,\u001b[0m \u001b[0mnrows\u001b[0m\u001b[0;34m=\u001b[0m\u001b[0;32mNone\u001b[0m\u001b[0;34m)\u001b[0m\u001b[0;34m:\u001b[0m\u001b[0;34m\u001b[0m\u001b[0;34m\u001b[0m\u001b[0m\n\u001b[1;32m   1153\u001b[0m         \u001b[0mnrows\u001b[0m \u001b[0;34m=\u001b[0m \u001b[0m_validate_integer\u001b[0m\u001b[0;34m(\u001b[0m\u001b[0;34m\"nrows\"\u001b[0m\u001b[0;34m,\u001b[0m \u001b[0mnrows\u001b[0m\u001b[0;34m)\u001b[0m\u001b[0;34m\u001b[0m\u001b[0;34m\u001b[0m\u001b[0m\n\u001b[0;32m-> 1154\u001b[0;31m         \u001b[0mret\u001b[0m \u001b[0;34m=\u001b[0m \u001b[0mself\u001b[0m\u001b[0;34m.\u001b[0m\u001b[0m_engine\u001b[0m\u001b[0;34m.\u001b[0m\u001b[0mread\u001b[0m\u001b[0;34m(\u001b[0m\u001b[0mnrows\u001b[0m\u001b[0;34m)\u001b[0m\u001b[0;34m\u001b[0m\u001b[0;34m\u001b[0m\u001b[0m\n\u001b[0m\u001b[1;32m   1155\u001b[0m \u001b[0;34m\u001b[0m\u001b[0m\n\u001b[1;32m   1156\u001b[0m         \u001b[0;31m# May alter columns / col_dict\u001b[0m\u001b[0;34m\u001b[0m\u001b[0;34m\u001b[0m\u001b[0;34m\u001b[0m\u001b[0m\n",
      "\u001b[0;32m~/opt/anaconda3/lib/python3.7/site-packages/pandas/io/parsers.py\u001b[0m in \u001b[0;36mread\u001b[0;34m(self, nrows)\u001b[0m\n\u001b[1;32m   2057\u001b[0m     \u001b[0;32mdef\u001b[0m \u001b[0mread\u001b[0m\u001b[0;34m(\u001b[0m\u001b[0mself\u001b[0m\u001b[0;34m,\u001b[0m \u001b[0mnrows\u001b[0m\u001b[0;34m=\u001b[0m\u001b[0;32mNone\u001b[0m\u001b[0;34m)\u001b[0m\u001b[0;34m:\u001b[0m\u001b[0;34m\u001b[0m\u001b[0;34m\u001b[0m\u001b[0m\n\u001b[1;32m   2058\u001b[0m         \u001b[0;32mtry\u001b[0m\u001b[0;34m:\u001b[0m\u001b[0;34m\u001b[0m\u001b[0;34m\u001b[0m\u001b[0m\n\u001b[0;32m-> 2059\u001b[0;31m             \u001b[0mdata\u001b[0m \u001b[0;34m=\u001b[0m \u001b[0mself\u001b[0m\u001b[0;34m.\u001b[0m\u001b[0m_reader\u001b[0m\u001b[0;34m.\u001b[0m\u001b[0mread\u001b[0m\u001b[0;34m(\u001b[0m\u001b[0mnrows\u001b[0m\u001b[0;34m)\u001b[0m\u001b[0;34m\u001b[0m\u001b[0;34m\u001b[0m\u001b[0m\n\u001b[0m\u001b[1;32m   2060\u001b[0m         \u001b[0;32mexcept\u001b[0m \u001b[0mStopIteration\u001b[0m\u001b[0;34m:\u001b[0m\u001b[0;34m\u001b[0m\u001b[0;34m\u001b[0m\u001b[0m\n\u001b[1;32m   2061\u001b[0m             \u001b[0;32mif\u001b[0m \u001b[0mself\u001b[0m\u001b[0;34m.\u001b[0m\u001b[0m_first_chunk\u001b[0m\u001b[0;34m:\u001b[0m\u001b[0;34m\u001b[0m\u001b[0;34m\u001b[0m\u001b[0m\n",
      "\u001b[0;32mpandas/_libs/parsers.pyx\u001b[0m in \u001b[0;36mpandas._libs.parsers.TextReader.read\u001b[0;34m()\u001b[0m\n",
      "\u001b[0;32mpandas/_libs/parsers.pyx\u001b[0m in \u001b[0;36mpandas._libs.parsers.TextReader._read_low_memory\u001b[0;34m()\u001b[0m\n",
      "\u001b[0;32mpandas/_libs/parsers.pyx\u001b[0m in \u001b[0;36mpandas._libs.parsers.TextReader._read_rows\u001b[0;34m()\u001b[0m\n",
      "\u001b[0;32mpandas/_libs/parsers.pyx\u001b[0m in \u001b[0;36mpandas._libs.parsers.TextReader._convert_column_data\u001b[0;34m()\u001b[0m\n",
      "\u001b[0;32mpandas/_libs/parsers.pyx\u001b[0m in \u001b[0;36mpandas._libs.parsers.TextReader._convert_tokens\u001b[0;34m()\u001b[0m\n",
      "\u001b[0;32mpandas/_libs/parsers.pyx\u001b[0m in \u001b[0;36mpandas._libs.parsers.TextReader._convert_with_dtype\u001b[0;34m()\u001b[0m\n",
      "\u001b[0;32m~/opt/anaconda3/lib/python3.7/site-packages/pandas/core/dtypes/common.py\u001b[0m in \u001b[0;36mis_categorical_dtype\u001b[0;34m(arr_or_dtype)\u001b[0m\n\u001b[1;32m    676\u001b[0m \u001b[0;34m\u001b[0m\u001b[0m\n\u001b[1;32m    677\u001b[0m \u001b[0;34m\u001b[0m\u001b[0m\n\u001b[0;32m--> 678\u001b[0;31m \u001b[0;32mdef\u001b[0m \u001b[0mis_categorical_dtype\u001b[0m\u001b[0;34m(\u001b[0m\u001b[0marr_or_dtype\u001b[0m\u001b[0;34m)\u001b[0m\u001b[0;34m:\u001b[0m\u001b[0;34m\u001b[0m\u001b[0;34m\u001b[0m\u001b[0m\n\u001b[0m\u001b[1;32m    679\u001b[0m     \"\"\"\n\u001b[1;32m    680\u001b[0m     \u001b[0mCheck\u001b[0m \u001b[0mwhether\u001b[0m \u001b[0man\u001b[0m \u001b[0marray\u001b[0m\u001b[0;34m-\u001b[0m\u001b[0mlike\u001b[0m \u001b[0;32mor\u001b[0m \u001b[0mdtype\u001b[0m \u001b[0;32mis\u001b[0m \u001b[0mof\u001b[0m \u001b[0mthe\u001b[0m \u001b[0mCategorical\u001b[0m \u001b[0mdtype\u001b[0m\u001b[0;34m.\u001b[0m\u001b[0;34m\u001b[0m\u001b[0;34m\u001b[0m\u001b[0m\n",
      "\u001b[0;31mKeyboardInterrupt\u001b[0m: "
     ]
    }
   ],
   "source": [
    "X,y,p,w,df = prep_ml(cleaned_data_filepath, participants, downsample_num=1000, averaging=\"no_averaging\")\n",
    "Xt,yt,pt,wt,dft = prep_ml(cleaned_data_filepath, participants, downsample_num=1000, averaging=\"average_trials\")\n",
    "Xa,ya,pa,wa,dfa = prep_ml(cleaned_data_filepath, participants, downsample_num=1000, averaging=\"average_trials_and_particpants\")"
   ]
  },
  {
   "cell_type": "code",
   "execution_count": 19,
   "metadata": {},
   "outputs": [
    {
     "data": {
      "text/plain": [
       "593"
      ]
     },
     "execution_count": 19,
     "metadata": {},
     "output_type": "execute_result"
    }
   ],
   "source": [
    "(n, d) = X.shape\n",
    "assert n == y.shape[0]\n",
    "n"
   ]
  },
  {
   "cell_type": "code",
   "execution_count": 20,
   "metadata": {},
   "outputs": [
    {
     "data": {
      "text/plain": [
       "208"
      ]
     },
     "execution_count": 20,
     "metadata": {},
     "output_type": "execute_result"
    }
   ],
   "source": [
    "(n, d) = Xt.shape\n",
    "assert n == yt.shape[0]\n",
    "n"
   ]
  },
  {
   "cell_type": "code",
   "execution_count": 21,
   "metadata": {},
   "outputs": [
    {
     "data": {
      "text/plain": [
       "16"
      ]
     },
     "execution_count": 21,
     "metadata": {},
     "output_type": "execute_result"
    }
   ],
   "source": [
    "(n, d) = Xa.shape\n",
    "assert n == ya.shape[0]\n",
    "n"
   ]
  },
  {
   "cell_type": "markdown",
   "metadata": {},
   "source": [
    "## 4. Setting up the SVM model ..."
   ]
  },
  {
   "cell_type": "code",
   "execution_count": 22,
   "metadata": {},
   "outputs": [],
   "source": [
    "model = LinearSVC(C=1e-9, max_iter=1000)"
   ]
  },
  {
   "cell_type": "markdown",
   "metadata": {},
   "source": [
    "## 5. Training and testing the model ..."
   ]
  },
  {
   "cell_type": "markdown",
   "metadata": {},
   "source": [
    "### 5.1. Train on raw, test on raw (validation)"
   ]
  },
  {
   "cell_type": "code",
   "execution_count": 23,
   "metadata": {},
   "outputs": [
    {
     "data": {
      "text/plain": [
       "0.30016863406408095"
      ]
     },
     "execution_count": 23,
     "metadata": {},
     "output_type": "execute_result"
    }
   ],
   "source": [
    "# from sklearn import preprocessing\n",
    "\n",
    "# scaler = preprocessing.StandardScaler().fit(X)\n",
    "# X,Xp = scaler.transform(X), scaler.transform(Xp)\n",
    "model.fit(X, y)\n",
    "np.mean(model.predict(X) != y)"
   ]
  },
  {
   "cell_type": "markdown",
   "metadata": {},
   "source": [
    "### 5.2. Train on raw, test on avg by trial (word repetition) "
   ]
  },
  {
   "cell_type": "code",
   "execution_count": 24,
   "metadata": {},
   "outputs": [
    {
     "data": {
      "text/plain": [
       "0.4951923076923077"
      ]
     },
     "execution_count": 24,
     "metadata": {},
     "output_type": "execute_result"
    }
   ],
   "source": [
    "# from sklearn import preprocessing\n",
    "\n",
    "# scaler = preprocessing.StandardScaler().fit(X)\n",
    "# X,Xp = scaler.transform(X), scaler.transform(Xp)\n",
    "model.fit(X, y)\n",
    "np.mean(model.predict(Xt) != yt)"
   ]
  },
  {
   "cell_type": "markdown",
   "metadata": {},
   "source": [
    "### 5.3. Train on raw, test on avg by word and ps "
   ]
  },
  {
   "cell_type": "code",
   "execution_count": 25,
   "metadata": {},
   "outputs": [
    {
     "data": {
      "text/plain": [
       "0.5625"
      ]
     },
     "execution_count": 25,
     "metadata": {},
     "output_type": "execute_result"
    }
   ],
   "source": [
    "# from sklearn import preprocessing\n",
    "\n",
    "# scaler = preprocessing.StandardScaler().fit(X)\n",
    "# X,Xp = scaler.transform(X), scaler.transform(Xp)\n",
    "model.fit(X, y)\n",
    "np.mean(model.predict(Xa) != ya)"
   ]
  },
  {
   "cell_type": "markdown",
   "metadata": {},
   "source": [
    "## 2. Importing all kids"
   ]
  },
  {
   "cell_type": "code",
   "execution_count": 2,
   "metadata": {},
   "outputs": [],
   "source": [
    "participants = [\"904\", \"905\", \"906\", \"909\", \"910\", \"912\", \"908\", \"913\", \"914\", \"916\", \"917\", \"919\", \"920\", \"921\", \"923\", \"924\",\"105\", \"106\", \"107\", \"109\", \"111\", \"112\", \"115\", \"116\", \"117\", \"119\", \"121\", \"122\", \"120\"]"
   ]
  },
  {
   "cell_type": "markdown",
   "metadata": {},
   "source": [
    "## 3. Set up averaging"
   ]
  },
  {
   "cell_type": "code",
   "execution_count": 3,
   "metadata": {},
   "outputs": [
    {
     "name": "stdout",
     "output_type": "stream",
     "text": [
      "loaded\n",
      "The number of bad trials of the participant - [904] that are removed is [30].\n",
      "The number of messy trials that are removed is - [50].\n",
      "The number of bad trials of the participant - [905] that are removed is [6].\n",
      "The number of messy trials that are removed is - [22].\n",
      "The number of bad trials of the participant - [906] that are removed is [34].\n",
      "The number of messy trials that are removed is - [30].\n",
      "The number of bad trials of the participant - [909] that are removed is [17].\n",
      "The number of messy trials that are removed is - [6].\n",
      "The number of bad trials of the participant - [910] that are removed is [39].\n",
      "The number of messy trials that are removed is - [11].\n",
      "The number of bad trials of the participant - [912] that are removed is [22].\n",
      "The number of messy trials that are removed is - [10].\n",
      "The number of bad trials of the participant - [908] that are removed is [7].\n",
      "The number of messy trials that are removed is - [15].\n",
      "The number of bad trials of the participant - [913] that are removed is [0].\n",
      "The number of messy trials that are removed is - [3].\n",
      "The number of bad trials of the participant - [914] that are removed is [10].\n",
      "The number of messy trials that are removed is - [10].\n",
      "The number of bad trials of the participant - [916] that are removed is [6].\n",
      "The number of messy trials that are removed is - [7].\n",
      "The number of bad trials of the participant - [917] that are removed is [4].\n",
      "The number of messy trials that are removed is - [1].\n",
      "The number of bad trials of the participant - [919] that are removed is [11].\n",
      "The number of messy trials that are removed is - [11].\n",
      "The number of bad trials of the participant - [920] that are removed is [10].\n",
      "The number of messy trials that are removed is - [10].\n",
      "The number of bad trials of the participant - [921] that are removed is [1].\n",
      "The number of messy trials that are removed is - [10].\n",
      "The number of bad trials of the participant - [923] that are removed is [8].\n",
      "The number of messy trials that are removed is - [10].\n",
      "The number of bad trials of the participant - [924] that are removed is [21].\n",
      "The number of messy trials that are removed is - [7].\n",
      "The number of bad trials of the participant - [105] that are removed is [10].\n",
      "The number of messy trials that are removed is - [7].\n",
      "The number of bad trials of the participant - [106] that are removed is [8].\n",
      "The number of messy trials that are removed is - [6].\n",
      "The number of bad trials of the participant - [107] that are removed is [15].\n",
      "The number of messy trials that are removed is - [34].\n",
      "The number of bad trials of the participant - [109] that are removed is [25].\n",
      "The number of messy trials that are removed is - [0].\n",
      "The number of bad trials of the participant - [111] that are removed is [32].\n",
      "The number of messy trials that are removed is - [30].\n",
      "The number of bad trials of the participant - [112] that are removed is [29].\n",
      "The number of messy trials that are removed is - [15].\n",
      "The number of bad trials of the participant - [115] that are removed is [20].\n",
      "The number of messy trials that are removed is - [14].\n",
      "The number of bad trials of the participant - [116] that are removed is [10].\n",
      "The number of messy trials that are removed is - [14].\n",
      "The number of bad trials of the participant - [117] that are removed is [8].\n",
      "The number of messy trials that are removed is - [8].\n",
      "The number of bad trials of the participant - [119] that are removed is [22].\n",
      "The number of messy trials that are removed is - [13].\n",
      "The number of bad trials of the participant - [121] that are removed is [30].\n",
      "The number of messy trials that are removed is - [13].\n",
      "The number of bad trials of the participant - [122] that are removed is [14].\n",
      "The number of messy trials that are removed is - [10].\n",
      "The number of bad trials of the participant - [120] that are removed is [16].\n",
      "The number of messy trials that are removed is - [5].\n",
      "The number of good trials left for participant - [904] is - [37].\n",
      "The number of good trials left for participant - [905] is - [56].\n",
      "The number of good trials left for participant - [906] is - [0].\n",
      "The number of good trials left for participant - [909] is - [40].\n",
      "The number of good trials left for participant - [910] is - [3].\n",
      "The number of good trials left for participant - [912] is - [37].\n",
      "The number of good trials left for participant - [908] is - [56].\n",
      "The number of good trials left for participant - [913] is - [109].\n",
      "The number of good trials left for participant - [914] is - [44].\n",
      "The number of good trials left for participant - [916] is - [50].\n",
      "The number of good trials left for participant - [917] is - [59].\n",
      "The number of good trials left for participant - [919] is - [78].\n",
      "The number of good trials left for participant - [920] is - [47].\n",
      "The number of good trials left for participant - [921] is - [54].\n",
      "The number of good trials left for participant - [923] is - [26].\n",
      "The number of good trials left for participant - [924] is - [44].\n",
      "The number of good trials left for participant - [105] is - [29].\n",
      "The number of good trials left for participant - [106] is - [18].\n",
      "The number of good trials left for participant - [107] is - [60].\n",
      "The number of good trials left for participant - [109] is - [85].\n",
      "The number of good trials left for participant - [111] is - [47].\n",
      "The number of good trials left for participant - [112] is - [58].\n",
      "The number of good trials left for participant - [115] is - [102].\n",
      "The number of good trials left for participant - [116] is - [27].\n",
      "The number of good trials left for participant - [117] is - [31].\n",
      "The number of good trials left for participant - [119] is - [21].\n",
      "The number of good trials left for participant - [121] is - [-3].\n",
      "The number of good trials left for participant - [122] is - [37].\n",
      "The number of good trials left for participant - [120] is - [15].\n",
      "loaded\n",
      "The number of bad trials of the participant - [904] that are removed is [30].\n",
      "The number of messy trials that are removed is - [50].\n",
      "The number of bad trials of the participant - [905] that are removed is [6].\n",
      "The number of messy trials that are removed is - [22].\n",
      "The number of bad trials of the participant - [906] that are removed is [34].\n",
      "The number of messy trials that are removed is - [30].\n",
      "The number of bad trials of the participant - [909] that are removed is [17].\n",
      "The number of messy trials that are removed is - [6].\n",
      "The number of bad trials of the participant - [910] that are removed is [39].\n",
      "The number of messy trials that are removed is - [11].\n",
      "The number of bad trials of the participant - [912] that are removed is [22].\n",
      "The number of messy trials that are removed is - [10].\n",
      "The number of bad trials of the participant - [908] that are removed is [7].\n",
      "The number of messy trials that are removed is - [15].\n",
      "The number of bad trials of the participant - [913] that are removed is [0].\n",
      "The number of messy trials that are removed is - [3].\n",
      "The number of bad trials of the participant - [914] that are removed is [10].\n",
      "The number of messy trials that are removed is - [10].\n",
      "The number of bad trials of the participant - [916] that are removed is [6].\n",
      "The number of messy trials that are removed is - [7].\n",
      "The number of bad trials of the participant - [917] that are removed is [4].\n",
      "The number of messy trials that are removed is - [1].\n",
      "The number of bad trials of the participant - [919] that are removed is [11].\n",
      "The number of messy trials that are removed is - [11].\n",
      "The number of bad trials of the participant - [920] that are removed is [10].\n",
      "The number of messy trials that are removed is - [10].\n",
      "The number of bad trials of the participant - [921] that are removed is [1].\n",
      "The number of messy trials that are removed is - [10].\n",
      "The number of bad trials of the participant - [923] that are removed is [8].\n",
      "The number of messy trials that are removed is - [10].\n",
      "The number of bad trials of the participant - [924] that are removed is [21].\n",
      "The number of messy trials that are removed is - [7].\n",
      "The number of bad trials of the participant - [105] that are removed is [10].\n",
      "The number of messy trials that are removed is - [7].\n",
      "The number of bad trials of the participant - [106] that are removed is [8].\n",
      "The number of messy trials that are removed is - [6].\n",
      "The number of bad trials of the participant - [107] that are removed is [15].\n"
     ]
    },
    {
     "name": "stdout",
     "output_type": "stream",
     "text": [
      "The number of messy trials that are removed is - [34].\n",
      "The number of bad trials of the participant - [109] that are removed is [25].\n",
      "The number of messy trials that are removed is - [0].\n",
      "The number of bad trials of the participant - [111] that are removed is [32].\n",
      "The number of messy trials that are removed is - [30].\n",
      "The number of bad trials of the participant - [112] that are removed is [29].\n",
      "The number of messy trials that are removed is - [15].\n",
      "The number of bad trials of the participant - [115] that are removed is [20].\n",
      "The number of messy trials that are removed is - [14].\n",
      "The number of bad trials of the participant - [116] that are removed is [10].\n",
      "The number of messy trials that are removed is - [14].\n",
      "The number of bad trials of the participant - [117] that are removed is [8].\n",
      "The number of messy trials that are removed is - [8].\n",
      "The number of bad trials of the participant - [119] that are removed is [22].\n",
      "The number of messy trials that are removed is - [13].\n",
      "The number of bad trials of the participant - [121] that are removed is [30].\n",
      "The number of messy trials that are removed is - [13].\n",
      "The number of bad trials of the participant - [122] that are removed is [14].\n",
      "The number of messy trials that are removed is - [10].\n",
      "The number of bad trials of the participant - [120] that are removed is [16].\n",
      "The number of messy trials that are removed is - [5].\n",
      "The number of good trials left for participant - [904] is - [37].\n",
      "The number of good trials left for participant - [905] is - [56].\n",
      "The number of good trials left for participant - [906] is - [0].\n",
      "The number of good trials left for participant - [909] is - [40].\n",
      "The number of good trials left for participant - [910] is - [3].\n",
      "The number of good trials left for participant - [912] is - [37].\n",
      "The number of good trials left for participant - [908] is - [56].\n",
      "The number of good trials left for participant - [913] is - [109].\n",
      "The number of good trials left for participant - [914] is - [44].\n",
      "The number of good trials left for participant - [916] is - [50].\n",
      "The number of good trials left for participant - [917] is - [59].\n",
      "The number of good trials left for participant - [919] is - [78].\n",
      "The number of good trials left for participant - [920] is - [47].\n",
      "The number of good trials left for participant - [921] is - [54].\n",
      "The number of good trials left for participant - [923] is - [26].\n",
      "The number of good trials left for participant - [924] is - [44].\n",
      "The number of good trials left for participant - [105] is - [29].\n",
      "The number of good trials left for participant - [106] is - [18].\n",
      "The number of good trials left for participant - [107] is - [60].\n",
      "The number of good trials left for participant - [109] is - [85].\n",
      "The number of good trials left for participant - [111] is - [47].\n",
      "The number of good trials left for participant - [112] is - [58].\n",
      "The number of good trials left for participant - [115] is - [102].\n",
      "The number of good trials left for participant - [116] is - [27].\n",
      "The number of good trials left for participant - [117] is - [31].\n",
      "The number of good trials left for participant - [119] is - [21].\n",
      "The number of good trials left for participant - [121] is - [-3].\n",
      "The number of good trials left for participant - [122] is - [37].\n",
      "The number of good trials left for participant - [120] is - [15].\n",
      "loaded\n",
      "The number of bad trials of the participant - [904] that are removed is [30].\n",
      "The number of messy trials that are removed is - [50].\n",
      "The number of bad trials of the participant - [905] that are removed is [6].\n",
      "The number of messy trials that are removed is - [22].\n",
      "The number of bad trials of the participant - [906] that are removed is [34].\n",
      "The number of messy trials that are removed is - [30].\n",
      "The number of bad trials of the participant - [909] that are removed is [17].\n",
      "The number of messy trials that are removed is - [6].\n",
      "The number of bad trials of the participant - [910] that are removed is [39].\n",
      "The number of messy trials that are removed is - [11].\n",
      "The number of bad trials of the participant - [912] that are removed is [22].\n",
      "The number of messy trials that are removed is - [10].\n",
      "The number of bad trials of the participant - [908] that are removed is [7].\n",
      "The number of messy trials that are removed is - [15].\n",
      "The number of bad trials of the participant - [913] that are removed is [0].\n",
      "The number of messy trials that are removed is - [3].\n",
      "The number of bad trials of the participant - [914] that are removed is [10].\n",
      "The number of messy trials that are removed is - [10].\n",
      "The number of bad trials of the participant - [916] that are removed is [6].\n",
      "The number of messy trials that are removed is - [7].\n",
      "The number of bad trials of the participant - [917] that are removed is [4].\n",
      "The number of messy trials that are removed is - [1].\n",
      "The number of bad trials of the participant - [919] that are removed is [11].\n",
      "The number of messy trials that are removed is - [11].\n",
      "The number of bad trials of the participant - [920] that are removed is [10].\n",
      "The number of messy trials that are removed is - [10].\n",
      "The number of bad trials of the participant - [921] that are removed is [1].\n",
      "The number of messy trials that are removed is - [10].\n",
      "The number of bad trials of the participant - [923] that are removed is [8].\n",
      "The number of messy trials that are removed is - [10].\n",
      "The number of bad trials of the participant - [924] that are removed is [21].\n",
      "The number of messy trials that are removed is - [7].\n",
      "The number of bad trials of the participant - [105] that are removed is [10].\n",
      "The number of messy trials that are removed is - [7].\n",
      "The number of bad trials of the participant - [106] that are removed is [8].\n",
      "The number of messy trials that are removed is - [6].\n",
      "The number of bad trials of the participant - [107] that are removed is [15].\n",
      "The number of messy trials that are removed is - [34].\n",
      "The number of bad trials of the participant - [109] that are removed is [25].\n",
      "The number of messy trials that are removed is - [0].\n",
      "The number of bad trials of the participant - [111] that are removed is [32].\n",
      "The number of messy trials that are removed is - [30].\n",
      "The number of bad trials of the participant - [112] that are removed is [29].\n",
      "The number of messy trials that are removed is - [15].\n",
      "The number of bad trials of the participant - [115] that are removed is [20].\n",
      "The number of messy trials that are removed is - [14].\n",
      "The number of bad trials of the participant - [116] that are removed is [10].\n",
      "The number of messy trials that are removed is - [14].\n",
      "The number of bad trials of the participant - [117] that are removed is [8].\n",
      "The number of messy trials that are removed is - [8].\n",
      "The number of bad trials of the participant - [119] that are removed is [22].\n",
      "The number of messy trials that are removed is - [13].\n",
      "The number of bad trials of the participant - [121] that are removed is [30].\n",
      "The number of messy trials that are removed is - [13].\n",
      "The number of bad trials of the participant - [122] that are removed is [14].\n",
      "The number of messy trials that are removed is - [10].\n",
      "The number of bad trials of the participant - [120] that are removed is [16].\n",
      "The number of messy trials that are removed is - [5].\n",
      "The number of good trials left for participant - [904] is - [37].\n",
      "The number of good trials left for participant - [905] is - [56].\n",
      "The number of good trials left for participant - [906] is - [0].\n",
      "The number of good trials left for participant - [909] is - [40].\n",
      "The number of good trials left for participant - [910] is - [3].\n",
      "The number of good trials left for participant - [912] is - [37].\n",
      "The number of good trials left for participant - [908] is - [56].\n",
      "The number of good trials left for participant - [913] is - [109].\n",
      "The number of good trials left for participant - [914] is - [44].\n",
      "The number of good trials left for participant - [916] is - [50].\n",
      "The number of good trials left for participant - [917] is - [59].\n",
      "The number of good trials left for participant - [919] is - [78].\n",
      "The number of good trials left for participant - [920] is - [47].\n",
      "The number of good trials left for participant - [921] is - [54].\n",
      "The number of good trials left for participant - [923] is - [26].\n",
      "The number of good trials left for participant - [924] is - [44].\n",
      "The number of good trials left for participant - [105] is - [29].\n",
      "The number of good trials left for participant - [106] is - [18].\n",
      "The number of good trials left for participant - [107] is - [60].\n",
      "The number of good trials left for participant - [109] is - [85].\n",
      "The number of good trials left for participant - [111] is - [47].\n",
      "The number of good trials left for participant - [112] is - [58].\n",
      "The number of good trials left for participant - [115] is - [102].\n",
      "The number of good trials left for participant - [116] is - [27].\n",
      "The number of good trials left for participant - [117] is - [31].\n",
      "The number of good trials left for participant - [119] is - [21].\n",
      "The number of good trials left for participant - [121] is - [-3].\n",
      "The number of good trials left for participant - [122] is - [37].\n",
      "The number of good trials left for participant - [120] is - [15].\n"
     ]
    }
   ],
   "source": [
    "X,y,p,w,df = prep_ml(cleaned_data_filepath, participants, downsample_num=1000, averaging=\"no_averaging\")\n",
    "Xt,yt,pt,wt,dft = prep_ml(cleaned_data_filepath, participants, downsample_num=1000, averaging=\"average_trials\")\n",
    "Xa,ya,pa,wa,dfa = prep_ml(cleaned_data_filepath, participants, downsample_num=1000, averaging=\"average_trials_and_particpants\")"
   ]
  },
  {
   "cell_type": "markdown",
   "metadata": {},
   "source": [
    "## 4. Setting up the SVM model ..."
   ]
  },
  {
   "cell_type": "code",
   "execution_count": 4,
   "metadata": {},
   "outputs": [],
   "source": [
    "model = LinearSVC(C=1e-9, max_iter=1000)"
   ]
  },
  {
   "cell_type": "markdown",
   "metadata": {},
   "source": [
    "## 5. Training and testing the model ..."
   ]
  },
  {
   "cell_type": "markdown",
   "metadata": {},
   "source": [
    "### 5.1. Train on raw, test on raw (validation)"
   ]
  },
  {
   "cell_type": "code",
   "execution_count": 5,
   "metadata": {},
   "outputs": [
    {
     "data": {
      "text/plain": [
       "0.34036363636363637"
      ]
     },
     "execution_count": 5,
     "metadata": {},
     "output_type": "execute_result"
    }
   ],
   "source": [
    "# from sklearn import preprocessing\n",
    "\n",
    "# scaler = preprocessing.StandardScaler().fit(X)\n",
    "# X,Xp = scaler.transform(X), scaler.transform(Xp)\n",
    "model.fit(X, y)\n",
    "np.mean(model.predict(X) != y)"
   ]
  },
  {
   "cell_type": "markdown",
   "metadata": {},
   "source": [
    "### 5.2. Train on raw, test on avg by trial (word repetition) "
   ]
  },
  {
   "cell_type": "code",
   "execution_count": 6,
   "metadata": {},
   "outputs": [
    {
     "data": {
      "text/plain": [
       "0.5603448275862069"
      ]
     },
     "execution_count": 6,
     "metadata": {},
     "output_type": "execute_result"
    }
   ],
   "source": [
    "# from sklearn import preprocessing\n",
    "\n",
    "# scaler = preprocessing.StandardScaler().fit(X)\n",
    "# X,Xp = scaler.transform(X), scaler.transform(Xp)\n",
    "model.fit(X, y)\n",
    "np.mean(model.predict(Xt) != yt)"
   ]
  },
  {
   "cell_type": "markdown",
   "metadata": {},
   "source": [
    "### 5.3. Train on raw, test on avg by word and ps "
   ]
  },
  {
   "cell_type": "code",
   "execution_count": 7,
   "metadata": {},
   "outputs": [
    {
     "data": {
      "text/plain": [
       "0.5625"
      ]
     },
     "execution_count": 7,
     "metadata": {},
     "output_type": "execute_result"
    }
   ],
   "source": [
    "# from sklearn import preprocessing\n",
    "\n",
    "# scaler = preprocessing.StandardScaler().fit(X)\n",
    "# X,Xp = scaler.transform(X), scaler.transform(Xp)\n",
    "model.fit(X, y)\n",
    "np.mean(model.predict(Xa) != ya)"
   ]
  },
  {
   "cell_type": "code",
   "execution_count": null,
   "metadata": {},
   "outputs": [],
   "source": []
  }
 ],
 "metadata": {
  "kernelspec": {
   "display_name": "Python 3",
   "language": "python",
   "name": "python3"
  },
  "language_info": {
   "codemirror_mode": {
    "name": "ipython",
    "version": 3
   },
   "file_extension": ".py",
   "mimetype": "text/x-python",
   "name": "python",
   "nbconvert_exporter": "python",
   "pygments_lexer": "ipython3",
   "version": "3.6.3"
  }
 },
 "nbformat": 4,
 "nbformat_minor": 2
}
