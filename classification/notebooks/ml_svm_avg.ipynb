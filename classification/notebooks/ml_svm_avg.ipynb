{
 "cells": [
  {
   "cell_type": "markdown",
   "metadata": {},
   "source": [
    "# Training Model: SVM"
   ]
  },
  {
   "cell_type": "markdown",
   "metadata": {},
   "source": [
    "# 9 month olds"
   ]
  },
  {
   "cell_type": "markdown",
   "metadata": {},
   "source": [
    "## 1. Importing libraries ..."
   ]
  },
  {
   "cell_type": "code",
   "execution_count": 1,
   "metadata": {},
   "outputs": [],
   "source": [
    "import pandas as pd\n",
    "import numpy as np\n",
    "import setup_jwlab\n",
    "from jwlab.constants import cleaned_data_filepath\n",
    "from jwlab.ml_prep import prep_ml\n",
    "from sklearn.svm import LinearSVC\n",
    "from sklearn.model_selection import train_test_split"
   ]
  },
  {
   "cell_type": "markdown",
   "metadata": {},
   "source": [
    "## 2. Importing 9-Month-Olds.."
   ]
  },
  {
   "cell_type": "code",
   "execution_count": 2,
   "metadata": {},
   "outputs": [],
   "source": [
    "#participants = [\"904\", \"905\", \"906\", \"909\", \"910\", \"912\", \"908\", \"913\", \"914\", \"916\", \"917\", \"919\", \"920\", \"921\", \"923\", \"924\",\"927\", \"928\", \"929\", \"930\", \"932\"]\n",
    "#participants = [\"904\", \"905\", \"909\",  \"912\", \"908\", \"913\", \"914\", \"916\", \"917\", \"919\", \"920\", \"921\", \"924\",\"927\", \"928\", \"929\", \"930\", \"932\"]\n",
    "participants = [\"904\"]"
   ]
  },
  {
   "cell_type": "markdown",
   "metadata": {},
   "source": [
    "## 3. Set up averaging"
   ]
  },
  {
   "cell_type": "code",
   "execution_count": null,
   "metadata": {},
   "outputs": [],
   "source": [
    "X,y,p,w,df = prep_ml(cleaned_data_filepath, participants, downsample_num=1000, averaging=\"no_averaging\")\n",
    "Xt,yt,pt,wt,dft = prep_ml(cleaned_data_filepath, participants, downsample_num=1000, averaging=\"average_trials\")\n",
    "Xa,ya,pa,wa,dfa = prep_ml(cleaned_data_filepath, participants, downsample_num=1000, averaging=\"average_trials_and_particpants\")\n"
   ]
  },
  {
   "cell_type": "code",
   "execution_count": 4,
   "metadata": {},
   "outputs": [
    {
     "data": {
      "text/plain": [
       "1050"
      ]
     },
     "execution_count": 4,
     "metadata": {},
     "output_type": "execute_result"
    }
   ],
   "source": [
    "(n, d) = X.shape\n",
    "assert n == y.shape[0]\n",
    "n"
   ]
  },
  {
   "cell_type": "code",
   "execution_count": 5,
   "metadata": {},
   "outputs": [
    {
     "data": {
      "text/plain": [
       "{0.0: 528, 1.0: 522}"
      ]
     },
     "execution_count": 5,
     "metadata": {},
     "output_type": "execute_result"
    }
   ],
   "source": [
    "unique, counts = np.unique(y, return_counts=True)\n",
    "dict(zip(unique, counts))"
   ]
  },
  {
   "cell_type": "code",
   "execution_count": 6,
   "metadata": {},
   "outputs": [
    {
     "data": {
      "text/plain": [
       "288"
      ]
     },
     "execution_count": 6,
     "metadata": {},
     "output_type": "execute_result"
    }
   ],
   "source": [
    "(n, d) = Xt.shape\n",
    "assert n == yt.shape[0]\n",
    "n"
   ]
  },
  {
   "cell_type": "code",
   "execution_count": 7,
   "metadata": {},
   "outputs": [
    {
     "data": {
      "text/plain": [
       "{0.0: 144, 1.0: 144}"
      ]
     },
     "execution_count": 7,
     "metadata": {},
     "output_type": "execute_result"
    }
   ],
   "source": [
    "unique, counts = np.unique(yt, return_counts=True)\n",
    "dict(zip(unique, counts))"
   ]
  },
  {
   "cell_type": "code",
   "execution_count": 8,
   "metadata": {},
   "outputs": [
    {
     "data": {
      "text/plain": [
       "16"
      ]
     },
     "execution_count": 8,
     "metadata": {},
     "output_type": "execute_result"
    }
   ],
   "source": [
    "(n, d) = Xa.shape\n",
    "assert n == ya.shape[0]\n",
    "n"
   ]
  },
  {
   "cell_type": "code",
   "execution_count": 9,
   "metadata": {},
   "outputs": [
    {
     "data": {
      "text/plain": [
       "{0.0: 8, 1.0: 8}"
      ]
     },
     "execution_count": 9,
     "metadata": {},
     "output_type": "execute_result"
    }
   ],
   "source": [
    "unique, counts = np.unique(ya, return_counts=True)\n",
    "dict(zip(unique, counts))"
   ]
  },
  {
   "cell_type": "markdown",
   "metadata": {},
   "source": [
    "## 4. Setting up the SVM model ..."
   ]
  },
  {
   "cell_type": "code",
   "execution_count": null,
   "metadata": {},
   "outputs": [],
   "source": [
    "model = LinearSVC(C=1e-9, max_iter=1000)"
   ]
  },
  {
   "cell_type": "markdown",
   "metadata": {},
   "source": [
    "## 5. Training and testing the model ..."
   ]
  },
  {
   "cell_type": "markdown",
   "metadata": {},
   "source": [
    "### 5.1. Train on raw, test on raw (validation)"
   ]
  },
  {
   "cell_type": "code",
   "execution_count": null,
   "metadata": {},
   "outputs": [],
   "source": [
    "# from sklearn import preprocessing\n",
    "\n",
    "# scaler = preprocessing.StandardScaler().fit(X)\n",
    "# X,Xp = scaler.transform(X), scaler.transform(Xp)\n",
    "model.fit(X, y)\n",
    "np.mean(model.predict(X) != y)"
   ]
  },
  {
   "cell_type": "markdown",
   "metadata": {},
   "source": [
    "### 5.2. Train on raw, test on avg by trial (word repetition) "
   ]
  },
  {
   "cell_type": "code",
   "execution_count": null,
   "metadata": {},
   "outputs": [],
   "source": [
    "# from sklearn import preprocessing\n",
    "\n",
    "# scaler = preprocessing.StandardScaler().fit(X)\n",
    "# X,Xp = scaler.transform(X), scaler.transform(Xp)\n",
    "model.fit(X, y)\n",
    "np.mean(model.predict(Xt) != yt)"
   ]
  },
  {
   "cell_type": "markdown",
   "metadata": {},
   "source": [
    "### 5.3. Train on raw, test on avg by word and ps "
   ]
  },
  {
   "cell_type": "code",
   "execution_count": null,
   "metadata": {},
   "outputs": [],
   "source": [
    "# from sklearn import preprocessing\n",
    "\n",
    "# scaler = preprocessing.StandardScaler().fit(X)\n",
    "# X,Xp = scaler.transform(X), scaler.transform(Xp)\n",
    "model.fit(X, y)\n",
    "np.mean(model.predict(Xa) != ya)"
   ]
  },
  {
   "cell_type": "markdown",
   "metadata": {},
   "source": [
    "# 13 month olds"
   ]
  },
  {
   "cell_type": "markdown",
   "metadata": {},
   "source": [
    "# 2. Importing 13-Month-Olds.."
   ]
  },
  {
   "cell_type": "code",
   "execution_count": 11,
   "metadata": {},
   "outputs": [],
   "source": [
    "participants = [\"105\", \"106\", \"107\", \"109\", \"111\", \"112\", \"115\", \"116\", \"117\", \"119\", \"121\", \"122\", \"120\", \"124\"]"
   ]
  },
  {
   "cell_type": "code",
   "execution_count": 12,
   "metadata": {},
   "outputs": [],
   "source": [
    "## 3. Set up averaging"
   ]
  },
  {
   "cell_type": "code",
   "execution_count": 13,
   "metadata": {},
   "outputs": [
    {
     "name": "stdout",
     "output_type": "stream",
     "text": [
      "loaded\n",
      "The number of bad trials of the participant - [105] that are removed is [10].\n",
      "The number of messy trials that are removed is - [7].\n",
      "The number of bad trials of the participant - [106] that are removed is [8].\n",
      "The number of messy trials that are removed is - [6].\n",
      "The number of bad trials of the participant - [107] that are removed is [15].\n",
      "The number of messy trials that are removed is - [34].\n",
      "The number of bad trials of the participant - [109] that are removed is [25].\n",
      "The number of messy trials that are removed is - [0].\n",
      "The number of bad trials of the participant - [111] that are removed is [32].\n",
      "The number of messy trials that are removed is - [30].\n",
      "The number of bad trials of the participant - [112] that are removed is [29].\n",
      "The number of messy trials that are removed is - [15].\n",
      "The number of bad trials of the participant - [115] that are removed is [20].\n",
      "The number of messy trials that are removed is - [14].\n",
      "The number of bad trials of the participant - [116] that are removed is [10].\n",
      "The number of messy trials that are removed is - [14].\n",
      "The number of bad trials of the participant - [117] that are removed is [8].\n",
      "The number of messy trials that are removed is - [8].\n",
      "The number of bad trials of the participant - [119] that are removed is [22].\n",
      "The number of messy trials that are removed is - [13].\n",
      "The number of bad trials of the participant - [121] that are removed is [30].\n",
      "The number of messy trials that are removed is - [13].\n",
      "The number of bad trials of the participant - [122] that are removed is [14].\n",
      "The number of messy trials that are removed is - [10].\n",
      "The number of bad trials of the participant - [120] that are removed is [16].\n",
      "The number of messy trials that are removed is - [5].\n",
      "The number of bad trials of the participant - [124] that are removed is [0].\n",
      "The number of messy trials that are removed is - [0].\n",
      "The number of good trials left for participant - [105] is - [29].\n",
      "The number of good trials left for participant - [106] is - [18].\n",
      "The number of good trials left for participant - [107] is - [60].\n",
      "The number of good trials left for participant - [109] is - [85].\n",
      "The number of good trials left for participant - [111] is - [47].\n",
      "The number of good trials left for participant - [112] is - [58].\n",
      "The number of good trials left for participant - [115] is - [102].\n",
      "The number of good trials left for participant - [116] is - [27].\n",
      "The number of good trials left for participant - [117] is - [31].\n",
      "The number of good trials left for participant - [119] is - [21].\n",
      "The number of good trials left for participant - [121] is - [-3].\n",
      "The number of good trials left for participant - [122] is - [37].\n",
      "The number of good trials left for participant - [120] is - [15].\n",
      "The number of good trials left for participant - [124] is - [105].\n",
      "loaded\n",
      "The number of bad trials of the participant - [105] that are removed is [10].\n",
      "The number of messy trials that are removed is - [7].\n",
      "The number of bad trials of the participant - [106] that are removed is [8].\n",
      "The number of messy trials that are removed is - [6].\n",
      "The number of bad trials of the participant - [107] that are removed is [15].\n",
      "The number of messy trials that are removed is - [34].\n",
      "The number of bad trials of the participant - [109] that are removed is [25].\n",
      "The number of messy trials that are removed is - [0].\n",
      "The number of bad trials of the participant - [111] that are removed is [32].\n",
      "The number of messy trials that are removed is - [30].\n",
      "The number of bad trials of the participant - [112] that are removed is [29].\n",
      "The number of messy trials that are removed is - [15].\n",
      "The number of bad trials of the participant - [115] that are removed is [20].\n",
      "The number of messy trials that are removed is - [14].\n",
      "The number of bad trials of the participant - [116] that are removed is [10].\n",
      "The number of messy trials that are removed is - [14].\n",
      "The number of bad trials of the participant - [117] that are removed is [8].\n",
      "The number of messy trials that are removed is - [8].\n",
      "The number of bad trials of the participant - [119] that are removed is [22].\n",
      "The number of messy trials that are removed is - [13].\n",
      "The number of bad trials of the participant - [121] that are removed is [30].\n",
      "The number of messy trials that are removed is - [13].\n",
      "The number of bad trials of the participant - [122] that are removed is [14].\n",
      "The number of messy trials that are removed is - [10].\n",
      "The number of bad trials of the participant - [120] that are removed is [16].\n",
      "The number of messy trials that are removed is - [5].\n",
      "The number of bad trials of the participant - [124] that are removed is [0].\n",
      "The number of messy trials that are removed is - [0].\n",
      "The number of good trials left for participant - [105] is - [29].\n",
      "The number of good trials left for participant - [106] is - [18].\n",
      "The number of good trials left for participant - [107] is - [60].\n",
      "The number of good trials left for participant - [109] is - [85].\n",
      "The number of good trials left for participant - [111] is - [47].\n",
      "The number of good trials left for participant - [112] is - [58].\n",
      "The number of good trials left for participant - [115] is - [102].\n",
      "The number of good trials left for participant - [116] is - [27].\n",
      "The number of good trials left for participant - [117] is - [31].\n",
      "The number of good trials left for participant - [119] is - [21].\n",
      "The number of good trials left for participant - [121] is - [-3].\n",
      "The number of good trials left for participant - [122] is - [37].\n",
      "The number of good trials left for participant - [120] is - [15].\n",
      "The number of good trials left for participant - [124] is - [105].\n",
      "loaded\n",
      "The number of bad trials of the participant - [105] that are removed is [10].\n",
      "The number of messy trials that are removed is - [7].\n",
      "The number of bad trials of the participant - [106] that are removed is [8].\n",
      "The number of messy trials that are removed is - [6].\n",
      "The number of bad trials of the participant - [107] that are removed is [15].\n",
      "The number of messy trials that are removed is - [34].\n",
      "The number of bad trials of the participant - [109] that are removed is [25].\n",
      "The number of messy trials that are removed is - [0].\n",
      "The number of bad trials of the participant - [111] that are removed is [32].\n",
      "The number of messy trials that are removed is - [30].\n",
      "The number of bad trials of the participant - [112] that are removed is [29].\n",
      "The number of messy trials that are removed is - [15].\n",
      "The number of bad trials of the participant - [115] that are removed is [20].\n",
      "The number of messy trials that are removed is - [14].\n",
      "The number of bad trials of the participant - [116] that are removed is [10].\n",
      "The number of messy trials that are removed is - [14].\n",
      "The number of bad trials of the participant - [117] that are removed is [8].\n",
      "The number of messy trials that are removed is - [8].\n",
      "The number of bad trials of the participant - [119] that are removed is [22].\n",
      "The number of messy trials that are removed is - [13].\n",
      "The number of bad trials of the participant - [121] that are removed is [30].\n",
      "The number of messy trials that are removed is - [13].\n",
      "The number of bad trials of the participant - [122] that are removed is [14].\n",
      "The number of messy trials that are removed is - [10].\n",
      "The number of bad trials of the participant - [120] that are removed is [16].\n",
      "The number of messy trials that are removed is - [5].\n",
      "The number of bad trials of the participant - [124] that are removed is [0].\n",
      "The number of messy trials that are removed is - [0].\n",
      "The number of good trials left for participant - [105] is - [29].\n",
      "The number of good trials left for participant - [106] is - [18].\n",
      "The number of good trials left for participant - [107] is - [60].\n",
      "The number of good trials left for participant - [109] is - [85].\n",
      "The number of good trials left for participant - [111] is - [47].\n",
      "The number of good trials left for participant - [112] is - [58].\n",
      "The number of good trials left for participant - [115] is - [102].\n",
      "The number of good trials left for participant - [116] is - [27].\n",
      "The number of good trials left for participant - [117] is - [31].\n",
      "The number of good trials left for participant - [119] is - [21].\n",
      "The number of good trials left for participant - [121] is - [-3].\n",
      "The number of good trials left for participant - [122] is - [37].\n",
      "The number of good trials left for participant - [120] is - [15].\n",
      "The number of good trials left for participant - [124] is - [105].\n"
     ]
    }
   ],
   "source": [
    "X,y,p,w,df = prep_ml(cleaned_data_filepath, participants, downsample_num=1000, averaging=\"no_averaging\")\n",
    "Xt,yt,pt,wt,dft = prep_ml(cleaned_data_filepath, participants, downsample_num=1000, averaging=\"average_trials\")\n",
    "Xa,ya,pa,wa,dfa = prep_ml(cleaned_data_filepath, participants, downsample_num=1000, averaging=\"average_trials_and_particpants\")"
   ]
  },
  {
   "cell_type": "code",
   "execution_count": 14,
   "metadata": {},
   "outputs": [
    {
     "data": {
      "text/plain": [
       "698"
      ]
     },
     "execution_count": 14,
     "metadata": {},
     "output_type": "execute_result"
    }
   ],
   "source": [
    "(n, d) = X.shape\n",
    "assert n == y.shape[0]\n",
    "n"
   ]
  },
  {
   "cell_type": "code",
   "execution_count": 15,
   "metadata": {},
   "outputs": [
    {
     "data": {
      "text/plain": [
       "224"
      ]
     },
     "execution_count": 15,
     "metadata": {},
     "output_type": "execute_result"
    }
   ],
   "source": [
    "(n, d) = Xt.shape\n",
    "assert n == yt.shape[0]\n",
    "n"
   ]
  },
  {
   "cell_type": "code",
   "execution_count": 16,
   "metadata": {},
   "outputs": [
    {
     "data": {
      "text/plain": [
       "16"
      ]
     },
     "execution_count": 16,
     "metadata": {},
     "output_type": "execute_result"
    }
   ],
   "source": [
    "(n, d) = Xa.shape\n",
    "assert n == ya.shape[0]\n",
    "n"
   ]
  },
  {
   "cell_type": "code",
   "execution_count": 6,
   "metadata": {},
   "outputs": [
    {
     "ename": "NameError",
     "evalue": "name 'Xa' is not defined",
     "output_type": "error",
     "traceback": [
      "\u001b[0;31m---------------------------------------------------------------------------\u001b[0m",
      "\u001b[0;31mNameError\u001b[0m                                 Traceback (most recent call last)",
      "\u001b[0;32m<ipython-input-6-5737420ea236>\u001b[0m in \u001b[0;36m<module>\u001b[0;34m\u001b[0m\n\u001b[0;32m----> 1\u001b[0;31m \u001b[0;34m(\u001b[0m\u001b[0mn\u001b[0m\u001b[0;34m,\u001b[0m \u001b[0md\u001b[0m\u001b[0;34m)\u001b[0m \u001b[0;34m=\u001b[0m \u001b[0mXa\u001b[0m\u001b[0;34m.\u001b[0m\u001b[0mshape\u001b[0m\u001b[0;34m\u001b[0m\u001b[0;34m\u001b[0m\u001b[0m\n\u001b[0m\u001b[1;32m      2\u001b[0m \u001b[0;34m(\u001b[0m\u001b[0mn\u001b[0m\u001b[0;34m,\u001b[0m\u001b[0md\u001b[0m\u001b[0;34m)\u001b[0m\u001b[0;34m\u001b[0m\u001b[0;34m\u001b[0m\u001b[0m\n",
      "\u001b[0;31mNameError\u001b[0m: name 'Xa' is not defined"
     ]
    }
   ],
   "source": [
    "(n, d) = Xa.shape\n",
    "(n,d)"
   ]
  },
  {
   "cell_type": "markdown",
   "metadata": {},
   "source": [
    "## 4. Setting up the SVM model ..."
   ]
  },
  {
   "cell_type": "code",
   "execution_count": 17,
   "metadata": {},
   "outputs": [],
   "source": [
    "model = LinearSVC(C=1e-9, max_iter=1000)"
   ]
  },
  {
   "cell_type": "markdown",
   "metadata": {},
   "source": [
    "## 5. Training and testing the model ..."
   ]
  },
  {
   "cell_type": "markdown",
   "metadata": {},
   "source": [
    "### 5.1. Train on raw, test on raw (validation)"
   ]
  },
  {
   "cell_type": "code",
   "execution_count": 18,
   "metadata": {},
   "outputs": [
    {
     "data": {
      "text/plain": [
       "0.2994269340974212"
      ]
     },
     "execution_count": 18,
     "metadata": {},
     "output_type": "execute_result"
    }
   ],
   "source": [
    "# from sklearn import preprocessing\n",
    "\n",
    "# scaler = preprocessing.StandardScaler().fit(X)\n",
    "# X,Xp = scaler.transform(X), scaler.transform(Xp)\n",
    "model.fit(X, y)\n",
    "np.mean(model.predict(X) != y)"
   ]
  },
  {
   "cell_type": "markdown",
   "metadata": {},
   "source": [
    "### 5.2. Train on raw, test on avg by trial (word repetition) "
   ]
  },
  {
   "cell_type": "code",
   "execution_count": 19,
   "metadata": {},
   "outputs": [
    {
     "data": {
      "text/plain": [
       "0.5491071428571429"
      ]
     },
     "execution_count": 19,
     "metadata": {},
     "output_type": "execute_result"
    }
   ],
   "source": [
    "# from sklearn import preprocessing\n",
    "\n",
    "# scaler = preprocessing.StandardScaler().fit(X)\n",
    "# X,Xp = scaler.transform(X), scaler.transform(Xp)\n",
    "model.fit(X, y)\n",
    "np.mean(model.predict(Xt) != yt)"
   ]
  },
  {
   "cell_type": "markdown",
   "metadata": {},
   "source": [
    "### 5.3. Train on raw, test on avg by word and ps "
   ]
  },
  {
   "cell_type": "code",
   "execution_count": 20,
   "metadata": {},
   "outputs": [
    {
     "data": {
      "text/plain": [
       "0.5"
      ]
     },
     "execution_count": 20,
     "metadata": {},
     "output_type": "execute_result"
    }
   ],
   "source": [
    "# from sklearn import preprocessing\n",
    "\n",
    "# scaler = preprocessing.StandardScaler().fit(X)\n",
    "# X,Xp = scaler.transform(X), scaler.transform(Xp)\n",
    "model.fit(X, y)\n",
    "np.mean(model.predict(Xa) != ya)"
   ]
  },
  {
   "cell_type": "markdown",
   "metadata": {},
   "source": [
    "# All kids"
   ]
  },
  {
   "cell_type": "markdown",
   "metadata": {},
   "source": [
    "## 2. Importing all kids"
   ]
  },
  {
   "cell_type": "code",
   "execution_count": 2,
   "metadata": {},
   "outputs": [],
   "source": [
    "participants = [\"904\", \"905\", \"906\", \"909\", \"910\", \"912\", \"908\", \"913\", \"914\", \"916\", \"917\", \"919\", \"920\", \"921\", \"923\", \"924\",\"105\", \"106\", \"107\", \"109\", \"111\", \"112\", \"115\", \"116\", \"117\", \"119\", \"121\", \"122\", \"120\"]"
   ]
  },
  {
   "cell_type": "markdown",
   "metadata": {},
   "source": [
    "## 3. Set up averaging"
   ]
  },
  {
   "cell_type": "code",
   "execution_count": 3,
   "metadata": {},
   "outputs": [
    {
     "name": "stdout",
     "output_type": "stream",
     "text": [
      "loaded\n",
      "The number of bad trials of the participant - [904] that are removed is [30].\n",
      "The number of messy trials that are removed is - [50].\n",
      "The number of bad trials of the participant - [905] that are removed is [6].\n",
      "The number of messy trials that are removed is - [22].\n",
      "The number of bad trials of the participant - [906] that are removed is [34].\n",
      "The number of messy trials that are removed is - [30].\n",
      "The number of bad trials of the participant - [909] that are removed is [17].\n",
      "The number of messy trials that are removed is - [6].\n",
      "The number of bad trials of the participant - [910] that are removed is [39].\n",
      "The number of messy trials that are removed is - [11].\n",
      "The number of bad trials of the participant - [912] that are removed is [22].\n",
      "The number of messy trials that are removed is - [10].\n",
      "The number of bad trials of the participant - [908] that are removed is [7].\n",
      "The number of messy trials that are removed is - [15].\n",
      "The number of bad trials of the participant - [913] that are removed is [0].\n",
      "The number of messy trials that are removed is - [3].\n",
      "The number of bad trials of the participant - [914] that are removed is [10].\n",
      "The number of messy trials that are removed is - [10].\n",
      "The number of bad trials of the participant - [916] that are removed is [6].\n",
      "The number of messy trials that are removed is - [7].\n",
      "The number of bad trials of the participant - [917] that are removed is [4].\n",
      "The number of messy trials that are removed is - [1].\n",
      "The number of bad trials of the participant - [919] that are removed is [11].\n",
      "The number of messy trials that are removed is - [11].\n",
      "The number of bad trials of the participant - [920] that are removed is [10].\n",
      "The number of messy trials that are removed is - [10].\n",
      "The number of bad trials of the participant - [921] that are removed is [1].\n",
      "The number of messy trials that are removed is - [10].\n",
      "The number of bad trials of the participant - [923] that are removed is [8].\n",
      "The number of messy trials that are removed is - [10].\n",
      "The number of bad trials of the participant - [924] that are removed is [21].\n",
      "The number of messy trials that are removed is - [7].\n",
      "The number of bad trials of the participant - [105] that are removed is [10].\n",
      "The number of messy trials that are removed is - [7].\n",
      "The number of bad trials of the participant - [106] that are removed is [8].\n",
      "The number of messy trials that are removed is - [6].\n",
      "The number of bad trials of the participant - [107] that are removed is [15].\n",
      "The number of messy trials that are removed is - [34].\n",
      "The number of bad trials of the participant - [109] that are removed is [25].\n",
      "The number of messy trials that are removed is - [0].\n",
      "The number of bad trials of the participant - [111] that are removed is [32].\n",
      "The number of messy trials that are removed is - [30].\n",
      "The number of bad trials of the participant - [112] that are removed is [29].\n",
      "The number of messy trials that are removed is - [15].\n",
      "The number of bad trials of the participant - [115] that are removed is [20].\n",
      "The number of messy trials that are removed is - [14].\n",
      "The number of bad trials of the participant - [116] that are removed is [10].\n",
      "The number of messy trials that are removed is - [14].\n",
      "The number of bad trials of the participant - [117] that are removed is [8].\n",
      "The number of messy trials that are removed is - [8].\n",
      "The number of bad trials of the participant - [119] that are removed is [22].\n",
      "The number of messy trials that are removed is - [13].\n",
      "The number of bad trials of the participant - [121] that are removed is [30].\n",
      "The number of messy trials that are removed is - [13].\n",
      "The number of bad trials of the participant - [122] that are removed is [14].\n",
      "The number of messy trials that are removed is - [10].\n",
      "The number of bad trials of the participant - [120] that are removed is [16].\n",
      "The number of messy trials that are removed is - [5].\n",
      "The number of good trials left for participant - [904] is - [37].\n",
      "The number of good trials left for participant - [905] is - [56].\n",
      "The number of good trials left for participant - [906] is - [0].\n",
      "The number of good trials left for participant - [909] is - [40].\n",
      "The number of good trials left for participant - [910] is - [3].\n",
      "The number of good trials left for participant - [912] is - [37].\n",
      "The number of good trials left for participant - [908] is - [56].\n",
      "The number of good trials left for participant - [913] is - [109].\n",
      "The number of good trials left for participant - [914] is - [44].\n",
      "The number of good trials left for participant - [916] is - [50].\n",
      "The number of good trials left for participant - [917] is - [59].\n",
      "The number of good trials left for participant - [919] is - [78].\n",
      "The number of good trials left for participant - [920] is - [47].\n",
      "The number of good trials left for participant - [921] is - [54].\n",
      "The number of good trials left for participant - [923] is - [26].\n",
      "The number of good trials left for participant - [924] is - [44].\n",
      "The number of good trials left for participant - [105] is - [29].\n",
      "The number of good trials left for participant - [106] is - [18].\n",
      "The number of good trials left for participant - [107] is - [60].\n",
      "The number of good trials left for participant - [109] is - [85].\n",
      "The number of good trials left for participant - [111] is - [47].\n",
      "The number of good trials left for participant - [112] is - [58].\n",
      "The number of good trials left for participant - [115] is - [102].\n",
      "The number of good trials left for participant - [116] is - [27].\n",
      "The number of good trials left for participant - [117] is - [31].\n",
      "The number of good trials left for participant - [119] is - [21].\n",
      "The number of good trials left for participant - [121] is - [-3].\n",
      "The number of good trials left for participant - [122] is - [37].\n",
      "The number of good trials left for participant - [120] is - [15].\n",
      "loaded\n",
      "The number of bad trials of the participant - [904] that are removed is [30].\n",
      "The number of messy trials that are removed is - [50].\n",
      "The number of bad trials of the participant - [905] that are removed is [6].\n",
      "The number of messy trials that are removed is - [22].\n",
      "The number of bad trials of the participant - [906] that are removed is [34].\n",
      "The number of messy trials that are removed is - [30].\n",
      "The number of bad trials of the participant - [909] that are removed is [17].\n",
      "The number of messy trials that are removed is - [6].\n",
      "The number of bad trials of the participant - [910] that are removed is [39].\n",
      "The number of messy trials that are removed is - [11].\n",
      "The number of bad trials of the participant - [912] that are removed is [22].\n",
      "The number of messy trials that are removed is - [10].\n",
      "The number of bad trials of the participant - [908] that are removed is [7].\n",
      "The number of messy trials that are removed is - [15].\n",
      "The number of bad trials of the participant - [913] that are removed is [0].\n",
      "The number of messy trials that are removed is - [3].\n",
      "The number of bad trials of the participant - [914] that are removed is [10].\n",
      "The number of messy trials that are removed is - [10].\n",
      "The number of bad trials of the participant - [916] that are removed is [6].\n",
      "The number of messy trials that are removed is - [7].\n",
      "The number of bad trials of the participant - [917] that are removed is [4].\n",
      "The number of messy trials that are removed is - [1].\n",
      "The number of bad trials of the participant - [919] that are removed is [11].\n",
      "The number of messy trials that are removed is - [11].\n",
      "The number of bad trials of the participant - [920] that are removed is [10].\n",
      "The number of messy trials that are removed is - [10].\n",
      "The number of bad trials of the participant - [921] that are removed is [1].\n",
      "The number of messy trials that are removed is - [10].\n",
      "The number of bad trials of the participant - [923] that are removed is [8].\n",
      "The number of messy trials that are removed is - [10].\n",
      "The number of bad trials of the participant - [924] that are removed is [21].\n",
      "The number of messy trials that are removed is - [7].\n",
      "The number of bad trials of the participant - [105] that are removed is [10].\n",
      "The number of messy trials that are removed is - [7].\n",
      "The number of bad trials of the participant - [106] that are removed is [8].\n",
      "The number of messy trials that are removed is - [6].\n",
      "The number of bad trials of the participant - [107] that are removed is [15].\n"
     ]
    },
    {
     "name": "stdout",
     "output_type": "stream",
     "text": [
      "The number of messy trials that are removed is - [34].\n",
      "The number of bad trials of the participant - [109] that are removed is [25].\n",
      "The number of messy trials that are removed is - [0].\n",
      "The number of bad trials of the participant - [111] that are removed is [32].\n",
      "The number of messy trials that are removed is - [30].\n",
      "The number of bad trials of the participant - [112] that are removed is [29].\n",
      "The number of messy trials that are removed is - [15].\n",
      "The number of bad trials of the participant - [115] that are removed is [20].\n",
      "The number of messy trials that are removed is - [14].\n",
      "The number of bad trials of the participant - [116] that are removed is [10].\n",
      "The number of messy trials that are removed is - [14].\n",
      "The number of bad trials of the participant - [117] that are removed is [8].\n",
      "The number of messy trials that are removed is - [8].\n",
      "The number of bad trials of the participant - [119] that are removed is [22].\n",
      "The number of messy trials that are removed is - [13].\n",
      "The number of bad trials of the participant - [121] that are removed is [30].\n",
      "The number of messy trials that are removed is - [13].\n",
      "The number of bad trials of the participant - [122] that are removed is [14].\n",
      "The number of messy trials that are removed is - [10].\n",
      "The number of bad trials of the participant - [120] that are removed is [16].\n",
      "The number of messy trials that are removed is - [5].\n",
      "The number of good trials left for participant - [904] is - [37].\n",
      "The number of good trials left for participant - [905] is - [56].\n",
      "The number of good trials left for participant - [906] is - [0].\n",
      "The number of good trials left for participant - [909] is - [40].\n",
      "The number of good trials left for participant - [910] is - [3].\n",
      "The number of good trials left for participant - [912] is - [37].\n",
      "The number of good trials left for participant - [908] is - [56].\n",
      "The number of good trials left for participant - [913] is - [109].\n",
      "The number of good trials left for participant - [914] is - [44].\n",
      "The number of good trials left for participant - [916] is - [50].\n",
      "The number of good trials left for participant - [917] is - [59].\n",
      "The number of good trials left for participant - [919] is - [78].\n",
      "The number of good trials left for participant - [920] is - [47].\n",
      "The number of good trials left for participant - [921] is - [54].\n",
      "The number of good trials left for participant - [923] is - [26].\n",
      "The number of good trials left for participant - [924] is - [44].\n",
      "The number of good trials left for participant - [105] is - [29].\n",
      "The number of good trials left for participant - [106] is - [18].\n",
      "The number of good trials left for participant - [107] is - [60].\n",
      "The number of good trials left for participant - [109] is - [85].\n",
      "The number of good trials left for participant - [111] is - [47].\n",
      "The number of good trials left for participant - [112] is - [58].\n",
      "The number of good trials left for participant - [115] is - [102].\n",
      "The number of good trials left for participant - [116] is - [27].\n",
      "The number of good trials left for participant - [117] is - [31].\n",
      "The number of good trials left for participant - [119] is - [21].\n",
      "The number of good trials left for participant - [121] is - [-3].\n",
      "The number of good trials left for participant - [122] is - [37].\n",
      "The number of good trials left for participant - [120] is - [15].\n",
      "loaded\n",
      "The number of bad trials of the participant - [904] that are removed is [30].\n",
      "The number of messy trials that are removed is - [50].\n",
      "The number of bad trials of the participant - [905] that are removed is [6].\n",
      "The number of messy trials that are removed is - [22].\n",
      "The number of bad trials of the participant - [906] that are removed is [34].\n",
      "The number of messy trials that are removed is - [30].\n",
      "The number of bad trials of the participant - [909] that are removed is [17].\n",
      "The number of messy trials that are removed is - [6].\n",
      "The number of bad trials of the participant - [910] that are removed is [39].\n",
      "The number of messy trials that are removed is - [11].\n",
      "The number of bad trials of the participant - [912] that are removed is [22].\n",
      "The number of messy trials that are removed is - [10].\n",
      "The number of bad trials of the participant - [908] that are removed is [7].\n",
      "The number of messy trials that are removed is - [15].\n",
      "The number of bad trials of the participant - [913] that are removed is [0].\n",
      "The number of messy trials that are removed is - [3].\n",
      "The number of bad trials of the participant - [914] that are removed is [10].\n",
      "The number of messy trials that are removed is - [10].\n",
      "The number of bad trials of the participant - [916] that are removed is [6].\n",
      "The number of messy trials that are removed is - [7].\n",
      "The number of bad trials of the participant - [917] that are removed is [4].\n",
      "The number of messy trials that are removed is - [1].\n",
      "The number of bad trials of the participant - [919] that are removed is [11].\n",
      "The number of messy trials that are removed is - [11].\n",
      "The number of bad trials of the participant - [920] that are removed is [10].\n",
      "The number of messy trials that are removed is - [10].\n",
      "The number of bad trials of the participant - [921] that are removed is [1].\n",
      "The number of messy trials that are removed is - [10].\n",
      "The number of bad trials of the participant - [923] that are removed is [8].\n",
      "The number of messy trials that are removed is - [10].\n",
      "The number of bad trials of the participant - [924] that are removed is [21].\n",
      "The number of messy trials that are removed is - [7].\n",
      "The number of bad trials of the participant - [105] that are removed is [10].\n",
      "The number of messy trials that are removed is - [7].\n",
      "The number of bad trials of the participant - [106] that are removed is [8].\n",
      "The number of messy trials that are removed is - [6].\n",
      "The number of bad trials of the participant - [107] that are removed is [15].\n",
      "The number of messy trials that are removed is - [34].\n",
      "The number of bad trials of the participant - [109] that are removed is [25].\n",
      "The number of messy trials that are removed is - [0].\n",
      "The number of bad trials of the participant - [111] that are removed is [32].\n",
      "The number of messy trials that are removed is - [30].\n",
      "The number of bad trials of the participant - [112] that are removed is [29].\n",
      "The number of messy trials that are removed is - [15].\n",
      "The number of bad trials of the participant - [115] that are removed is [20].\n",
      "The number of messy trials that are removed is - [14].\n",
      "The number of bad trials of the participant - [116] that are removed is [10].\n",
      "The number of messy trials that are removed is - [14].\n",
      "The number of bad trials of the participant - [117] that are removed is [8].\n",
      "The number of messy trials that are removed is - [8].\n",
      "The number of bad trials of the participant - [119] that are removed is [22].\n",
      "The number of messy trials that are removed is - [13].\n",
      "The number of bad trials of the participant - [121] that are removed is [30].\n",
      "The number of messy trials that are removed is - [13].\n",
      "The number of bad trials of the participant - [122] that are removed is [14].\n",
      "The number of messy trials that are removed is - [10].\n",
      "The number of bad trials of the participant - [120] that are removed is [16].\n",
      "The number of messy trials that are removed is - [5].\n",
      "The number of good trials left for participant - [904] is - [37].\n",
      "The number of good trials left for participant - [905] is - [56].\n",
      "The number of good trials left for participant - [906] is - [0].\n",
      "The number of good trials left for participant - [909] is - [40].\n",
      "The number of good trials left for participant - [910] is - [3].\n",
      "The number of good trials left for participant - [912] is - [37].\n",
      "The number of good trials left for participant - [908] is - [56].\n",
      "The number of good trials left for participant - [913] is - [109].\n",
      "The number of good trials left for participant - [914] is - [44].\n",
      "The number of good trials left for participant - [916] is - [50].\n",
      "The number of good trials left for participant - [917] is - [59].\n",
      "The number of good trials left for participant - [919] is - [78].\n",
      "The number of good trials left for participant - [920] is - [47].\n",
      "The number of good trials left for participant - [921] is - [54].\n",
      "The number of good trials left for participant - [923] is - [26].\n",
      "The number of good trials left for participant - [924] is - [44].\n",
      "The number of good trials left for participant - [105] is - [29].\n",
      "The number of good trials left for participant - [106] is - [18].\n",
      "The number of good trials left for participant - [107] is - [60].\n",
      "The number of good trials left for participant - [109] is - [85].\n",
      "The number of good trials left for participant - [111] is - [47].\n",
      "The number of good trials left for participant - [112] is - [58].\n",
      "The number of good trials left for participant - [115] is - [102].\n",
      "The number of good trials left for participant - [116] is - [27].\n",
      "The number of good trials left for participant - [117] is - [31].\n",
      "The number of good trials left for participant - [119] is - [21].\n",
      "The number of good trials left for participant - [121] is - [-3].\n",
      "The number of good trials left for participant - [122] is - [37].\n",
      "The number of good trials left for participant - [120] is - [15].\n"
     ]
    }
   ],
   "source": [
    "X,y,p,w,df = prep_ml(cleaned_data_filepath, participants, downsample_num=1000, averaging=\"no_averaging\")\n",
    "Xt,yt,pt,wt,dft = prep_ml(cleaned_data_filepath, participants, downsample_num=1000, averaging=\"average_trials\")\n",
    "Xa,ya,pa,wa,dfa = prep_ml(cleaned_data_filepath, participants, downsample_num=1000, averaging=\"average_trials_and_particpants\")"
   ]
  },
  {
   "cell_type": "code",
   "execution_count": 4,
   "metadata": {},
   "outputs": [
    {
     "data": {
      "text/plain": [
       "{0.0: 718, 1.0: 657}"
      ]
     },
     "execution_count": 4,
     "metadata": {},
     "output_type": "execute_result"
    }
   ],
   "source": [
    "unique, counts = np.unique(y, return_counts=True)\n",
    "dict(zip(unique, counts))"
   ]
  },
  {
   "cell_type": "code",
   "execution_count": 6,
   "metadata": {},
   "outputs": [
    {
     "data": {
      "text/plain": [
       "(1375, 60000)"
      ]
     },
     "execution_count": 6,
     "metadata": {},
     "output_type": "execute_result"
    }
   ],
   "source": [
    "X.shape"
   ]
  },
  {
   "cell_type": "markdown",
   "metadata": {},
   "source": [
    "## 4. Setting up the SVM model ..."
   ]
  },
  {
   "cell_type": "code",
   "execution_count": 24,
   "metadata": {},
   "outputs": [],
   "source": [
    "model = LinearSVC(C=1e-9, max_iter=1000)"
   ]
  },
  {
   "cell_type": "markdown",
   "metadata": {},
   "source": [
    "## 5. Training and testing the model ..."
   ]
  },
  {
   "cell_type": "markdown",
   "metadata": {},
   "source": [
    "### 5.1. Train on raw, test on raw (validation)"
   ]
  },
  {
   "cell_type": "code",
   "execution_count": 25,
   "metadata": {},
   "outputs": [
    {
     "data": {
      "text/plain": [
       "0.34036363636363637"
      ]
     },
     "execution_count": 25,
     "metadata": {},
     "output_type": "execute_result"
    }
   ],
   "source": [
    "# from sklearn import preprocessing\n",
    "\n",
    "# scaler = preprocessing.StandardScaler().fit(X)\n",
    "# X,Xp = scaler.transform(X), scaler.transform(Xp)\n",
    "model.fit(X, y)\n",
    "np.mean(model.predict(X) != y)"
   ]
  },
  {
   "cell_type": "markdown",
   "metadata": {},
   "source": [
    "### 5.2. Train on raw, test on avg by trial (word repetition) "
   ]
  },
  {
   "cell_type": "code",
   "execution_count": 26,
   "metadata": {},
   "outputs": [
    {
     "data": {
      "text/plain": [
       "0.5603448275862069"
      ]
     },
     "execution_count": 26,
     "metadata": {},
     "output_type": "execute_result"
    }
   ],
   "source": [
    "# from sklearn import preprocessing\n",
    "\n",
    "# scaler = preprocessing.StandardScaler().fit(X)\n",
    "# X,Xp = scaler.transform(X), scaler.transform(Xp)\n",
    "model.fit(X, y)\n",
    "np.mean(model.predict(Xt) != yt)"
   ]
  },
  {
   "cell_type": "markdown",
   "metadata": {},
   "source": [
    "### 5.3. Train on raw, test on avg by word and ps "
   ]
  },
  {
   "cell_type": "code",
   "execution_count": 27,
   "metadata": {},
   "outputs": [
    {
     "data": {
      "text/plain": [
       "0.5625"
      ]
     },
     "execution_count": 27,
     "metadata": {},
     "output_type": "execute_result"
    }
   ],
   "source": [
    "# from sklearn import preprocessing\n",
    "\n",
    "# scaler = preprocessing.StandardScaler().fit(X)\n",
    "# X,Xp = scaler.transform(X), scaler.transform(Xp)\n",
    "model.fit(X, y)\n",
    "np.mean(model.predict(Xa) != ya)"
   ]
  },
  {
   "cell_type": "code",
   "execution_count": null,
   "metadata": {},
   "outputs": [],
   "source": []
  },
  {
   "cell_type": "code",
   "execution_count": null,
   "metadata": {},
   "outputs": [],
   "source": []
  },
  {
   "cell_type": "code",
   "execution_count": null,
   "metadata": {},
   "outputs": [],
   "source": []
  }
 ],
 "metadata": {
  "kernelspec": {
   "display_name": "Python 3",
   "language": "python",
   "name": "python3"
  },
  "language_info": {
   "codemirror_mode": {
    "name": "ipython",
    "version": 3
   },
   "file_extension": ".py",
   "mimetype": "text/x-python",
   "name": "python",
   "nbconvert_exporter": "python",
   "pygments_lexer": "ipython3",
   "version": "3.7.4"
  }
 },
 "nbformat": 4,
 "nbformat_minor": 2
}
