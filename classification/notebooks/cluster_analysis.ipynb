{
 "cells": [
  {
   "cell_type": "code",
   "execution_count": 1,
   "metadata": {},
   "outputs": [],
   "source": [
    "import pandas as pd\n",
    "import numpy as np\n",
    "import setup_jwlab\n",
    "from jwlab.constants import cleaned_data_filepath\n",
    "from jwlab.cluster_analysis import prep_cluster_analysis\n",
    "from sklearn.svm import SVC\n",
    "from sklearn.model_selection import cross_validate\n",
    "from scipy import stats\n",
    "from sklearn.svm import LinearSVC\n"
   ]
  },
  {
   "cell_type": "code",
   "execution_count": 2,
   "metadata": {},
   "outputs": [],
   "source": [
    "length_per_window = 10\n",
    "num_sliding_windows = int(1000/ length_per_window)"
   ]
  },
  {
   "cell_type": "code",
   "execution_count": null,
   "metadata": {},
   "outputs": [],
   "source": [
    "participants = [\"105\"]"
   ]
  },
  {
   "cell_type": "code",
   "execution_count": 3,
   "metadata": {},
   "outputs": [],
   "source": [
    "participants = [\"904\", \"905\", \"906\", \"908\", \"909\", \"912\",\"913\", \"914\", \"916\", \"917\", \"919\",\\\n",
    "                \"920\", \"921\", \"923\", \"924\", \"927\", \"928\", \"929\", \"930\", \"932\"]"
   ]
  },
  {
   "cell_type": "code",
   "execution_count": null,
   "metadata": {},
   "outputs": [],
   "source": [
    "participants = [\"107\", \"109\", \"111\", \"112\", \"115\", \"116\", \"117\", \"119\", \"121\", \"122\", \"120\", \"124\"]\n"
   ]
  },
  {
   "cell_type": "code",
   "execution_count": null,
   "metadata": {},
   "outputs": [],
   "source": [
    "participants = [\"107\", \"109\", \"111\", \"112\", \"115\", \"116\", \"117\", \"119\", \"121\", \"122\", \"120\", \"124\",\\\n",
    "               \"904\", \"905\", \"906\", \"908\", \"909\", \"912\",\"913\", \"914\", \"916\", \"917\", \"919\",\\\n",
    "                \"920\", \"921\", \"923\", \"924\", \"927\", \"928\", \"929\", \"930\", \"932\"]\n"
   ]
  },
  {
   "cell_type": "code",
   "execution_count": null,
   "metadata": {},
   "outputs": [],
   "source": [
    "for i in participants:\n",
    "    ps =[i]\n",
    "    X, y, good_trial_count = prep_cluster_analysis(cleaned_data_filepath, ps, downsample_num=1000, averaging=\"no_averaging\", length_per_window=length_per_window)\n",
    "    y[0]\n",
    "    np.amax(y[0])\n",
    "    unique, counts = np.unique(y[0], return_counts=True)\n",
    "    \n",
    "    print(i)\n",
    "    print(dict(zip(unique, counts)))"
   ]
  },
  {
   "cell_type": "code",
   "execution_count": 4,
   "metadata": {},
   "outputs": [
    {
     "name": "stdout",
     "output_type": "stream",
     "text": [
      "loaded\n"
     ]
    }
   ],
   "source": [
    "X, y, good_trial_count = prep_cluster_analysis(cleaned_data_filepath, participants, downsample_num=1000, averaging=\"no_averaging\", length_per_window=length_per_window)\n",
    "#X, y, good_trial_count = prep_cluster_analysis(cleaned_data_filepath, participants, downsample_num=1000, averaging=\"average_trials\", length_per_window=length_per_window)\n",
    "#X, y, good_trial_count = prep_cluster_analysis(cleaned_data_filepath, participants, downsample_num=1000, averaging=\"average_trials_and_participants\", length_per_window=length_per_window)\n"
   ]
  },
  {
   "cell_type": "code",
   "execution_count": null,
   "metadata": {},
   "outputs": [],
   "source": [
    "y[0]\n",
    "np.amax(y[0])\n",
    "unique, counts = np.unique(y[0], return_counts=True)\n",
    "dict(zip(unique, counts))"
   ]
  },
  {
   "cell_type": "code",
   "execution_count": null,
   "metadata": {},
   "outputs": [],
   "source": [
    "len(X)"
   ]
  },
  {
   "cell_type": "code",
   "execution_count": null,
   "metadata": {},
   "outputs": [],
   "source": [
    "y[0].shape"
   ]
  },
  {
   "cell_type": "code",
   "execution_count": null,
   "metadata": {},
   "outputs": [],
   "source": [
    "num_sliding_windows"
   ]
  },
  {
   "cell_type": "code",
   "execution_count": null,
   "metadata": {},
   "outputs": [],
   "source": [
    "# # Cross validation\n",
    "\n",
    "#X, y, good_trial_count = prep_cluster_analysis(cleaned_data_filepath, participants, downsample_num=1000, averaging=\"no_averaging\", length_per_window=length_per_window)\n",
    "\n",
    "# for j in range(num_sliding_windows):\n",
    "#     #model = SVC(gamma=.001, kernel = 'rbf', C=1000)\n",
    "#     model = LinearSVC(C=1e-9, max_iter=5000)\n",
    "#     cv_results = cross_validate(model, X[j], y[j], cv=num_folds)\n",
    "#     if j in results.keys(): \n",
    "#         results[j] += cv_results['test_score'].tolist()\n",
    "#     else:\n",
    "#         results[j] = cv_results['test_score'].tolist()\n",
    "    \n",
    "\n",
    "# for i in range(num_sliding_windows):\n",
    "#     assert len(results[i]) == num_iterations * num_folds"
   ]
  },
  {
   "cell_type": "code",
   "execution_count": 5,
   "metadata": {},
   "outputs": [
    {
     "name": "stdout",
     "output_type": "stream",
     "text": [
      "0\n",
      "1\n",
      "2\n",
      "3\n",
      "4\n"
     ]
    }
   ],
   "source": [
    "# Randomized order of cross val\n",
    "\n",
    "num_iterations = 5\n",
    "num_folds = 5\n",
    "\n",
    "results = {}\n",
    "for i in range(num_iterations):\n",
    "    for j in range(num_sliding_windows):\n",
    "        Xfirst = X[j]\n",
    "        yfirst = y[j]\n",
    "        Xfirst['label'] = yfirst\n",
    "        Xfirst = Xfirst.sample(frac=1).reset_index(drop=True)\n",
    "        ys = Xfirst['label']\n",
    "        Xs = Xfirst.drop(columns=['label'])\n",
    "        \n",
    "        model = SVC(gamma=.001, kernel = 'rbf', C=1)\n",
    "        #model = LinearSVC(C=1e-6, max_iter=5000)\n",
    "        cv_results = cross_validate(model, Xs, ys, cv=num_folds)\n",
    "        if j in results.keys(): \n",
    "            results[j] += cv_results['test_score'].tolist()\n",
    "        else:\n",
    "            results[j] = cv_results['test_score'].tolist()\n",
    "    print(i)\n",
    "\n",
    "    \n",
    "for i in range(num_sliding_windows):\n",
    "    assert len(results[i]) == num_iterations * num_folds\n"
   ]
  },
  {
   "cell_type": "code",
   "execution_count": null,
   "metadata": {},
   "outputs": [],
   "source": []
  },
  {
   "cell_type": "code",
   "execution_count": null,
   "metadata": {},
   "outputs": [],
   "source": []
  },
  {
   "cell_type": "code",
   "execution_count": null,
   "metadata": {},
   "outputs": [],
   "source": [
    "# Cross validation with RepeatedKFold\n",
    "\n",
    "# num_iterations = 3\n",
    "# num_folds = 5\n",
    "\n",
    "\n",
    "# import numpy as np\n",
    "# from sklearn.model_selection import RepeatedKFold\n",
    "# from sklearn.model_selection import train_test_split\n",
    "# from sklearn.metrics import accuracy_score,recall_score,precision_score,f1_score\n",
    "\n",
    "\n",
    "\n",
    "# results = {}\n",
    "# for j in range(num_sliding_windows):\n",
    "#     X = Xwin[j]\n",
    "#     y = ywin[j]\n",
    "\n",
    "#     #model = SVC(gamma=.001, kernel = 'rbf', C=1e-4)\n",
    "#     model = LinearSVC(C=1e-5, max_iter=5000)\n",
    "#     rkf = RepeatedKFold(n_splits=num_folds, n_repeats=num_iterations, random_state=2652124)\n",
    "#     for train_index, test_index in rkf.split(X):\n",
    "#         X_train, X_test = X[train_index], X[test_index]\n",
    "#         y_train, y_test = y[train_index], y[test_index]\n",
    "\n",
    "#         model.fit(X_train, y_train)\n",
    "#         y_pred = model.predict(X_test)\n",
    "#         testScore = accuracy_score(y_test,y_pred)\n",
    "\n",
    "#         if j in results.keys(): \n",
    "#             results[j].append(testScore)\n",
    "#         else:\n",
    "#             results[j]=[]\n",
    "#             results[j].append(testScore)\n",
    "    \n",
    "\n",
    "# for i in range(num_sliding_windows):\n",
    "#     assert len(results[i]) == num_iterations * num_folds"
   ]
  },
  {
   "cell_type": "code",
   "execution_count": null,
   "metadata": {},
   "outputs": [],
   "source": []
  },
  {
   "cell_type": "code",
   "execution_count": null,
   "metadata": {},
   "outputs": [],
   "source": []
  },
  {
   "cell_type": "code",
   "execution_count": 7,
   "metadata": {},
   "outputs": [],
   "source": [
    "scoreMean = []\n",
    "stdev = []\n",
    "\n",
    "for i in range(num_sliding_windows):\n",
    "    scoreMean.append(np.mean(results[i]))\n",
    "    stdev.append(np.std(results[i]))\n",
    "\n"
   ]
  },
  {
   "cell_type": "code",
   "execution_count": 8,
   "metadata": {},
   "outputs": [
    {
     "data": {
      "text/plain": [
       "0.5043713000236797"
      ]
     },
     "execution_count": 8,
     "metadata": {},
     "output_type": "execute_result"
    }
   ],
   "source": [
    "np.mean(scoreMean)"
   ]
  },
  {
   "cell_type": "code",
   "execution_count": 9,
   "metadata": {},
   "outputs": [
    {
     "data": {
      "text/plain": [
       "[0.5043713000236799,\n",
       " 0.5043713000236799,\n",
       " 0.5043713000236799,\n",
       " 0.5043713000236799,\n",
       " 0.5043713000236799,\n",
       " 0.5043713000236799,\n",
       " 0.5043713000236799,\n",
       " 0.5043713000236799,\n",
       " 0.5043713000236799,\n",
       " 0.5043713000236799,\n",
       " 0.5043713000236799,\n",
       " 0.5043713000236799,\n",
       " 0.5043713000236799,\n",
       " 0.5043713000236799,\n",
       " 0.5043713000236799,\n",
       " 0.5043713000236799,\n",
       " 0.5043713000236799,\n",
       " 0.5043713000236799,\n",
       " 0.5043713000236799,\n",
       " 0.5043713000236799,\n",
       " 0.5043713000236799,\n",
       " 0.5043713000236799,\n",
       " 0.5043713000236799,\n",
       " 0.5043713000236799,\n",
       " 0.5043713000236799,\n",
       " 0.5043713000236799,\n",
       " 0.5043713000236799,\n",
       " 0.5043713000236799,\n",
       " 0.5043713000236799,\n",
       " 0.5043713000236799,\n",
       " 0.5043713000236799,\n",
       " 0.5043713000236799,\n",
       " 0.5043713000236799,\n",
       " 0.5043713000236799,\n",
       " 0.5043713000236799,\n",
       " 0.5043713000236799,\n",
       " 0.5043713000236799,\n",
       " 0.5043713000236799,\n",
       " 0.5043713000236799,\n",
       " 0.5043713000236799,\n",
       " 0.5043713000236799,\n",
       " 0.5043713000236799,\n",
       " 0.5043713000236799,\n",
       " 0.5043713000236799,\n",
       " 0.5043713000236799,\n",
       " 0.5043713000236799,\n",
       " 0.5043713000236799,\n",
       " 0.5043713000236799,\n",
       " 0.5043713000236799,\n",
       " 0.5043713000236799,\n",
       " 0.5043713000236799,\n",
       " 0.5043713000236799,\n",
       " 0.5043713000236799,\n",
       " 0.5043713000236799,\n",
       " 0.5043713000236799,\n",
       " 0.5043713000236799,\n",
       " 0.5043713000236799,\n",
       " 0.5043713000236799,\n",
       " 0.5043713000236799,\n",
       " 0.5043713000236799,\n",
       " 0.5043713000236799,\n",
       " 0.5043713000236799,\n",
       " 0.5043713000236799,\n",
       " 0.5043713000236799,\n",
       " 0.5043713000236799,\n",
       " 0.5043713000236799,\n",
       " 0.5043713000236799,\n",
       " 0.5043713000236799,\n",
       " 0.5043713000236799,\n",
       " 0.5043713000236799,\n",
       " 0.5043713000236799,\n",
       " 0.5043713000236799,\n",
       " 0.5043713000236799,\n",
       " 0.5043713000236799,\n",
       " 0.5043713000236799,\n",
       " 0.5043713000236799,\n",
       " 0.5043713000236799,\n",
       " 0.5043713000236799,\n",
       " 0.5043713000236799,\n",
       " 0.5043713000236799,\n",
       " 0.5043713000236799,\n",
       " 0.5043713000236799,\n",
       " 0.5043713000236799,\n",
       " 0.5043713000236799,\n",
       " 0.5043713000236799,\n",
       " 0.5043713000236799,\n",
       " 0.5043713000236799,\n",
       " 0.5043713000236799,\n",
       " 0.5043713000236799,\n",
       " 0.5043713000236799,\n",
       " 0.5043713000236799,\n",
       " 0.5043713000236799,\n",
       " 0.5043713000236799,\n",
       " 0.5043713000236799,\n",
       " 0.5043713000236799,\n",
       " 0.5043713000236799,\n",
       " 0.5043713000236799,\n",
       " 0.5043713000236799,\n",
       " 0.5043713000236799,\n",
       " 0.5043713000236799]"
      ]
     },
     "execution_count": 9,
     "metadata": {},
     "output_type": "execute_result"
    }
   ],
   "source": [
    "scoreMean"
   ]
  },
  {
   "cell_type": "code",
   "execution_count": null,
   "metadata": {},
   "outputs": [],
   "source": [
    "#stdev"
   ]
  },
  {
   "cell_type": "code",
   "execution_count": null,
   "metadata": {},
   "outputs": [],
   "source": [
    "# T-test\n",
    "accuracy_by_guessing = [0.5] * (num_iterations * num_folds)\n",
    "pvalues = []\n",
    "for i in range(num_sliding_windows):\n",
    "    istat = stats.ttest_1samp(results[i], .5)\n",
    "    pvalues += [istat.pvalue] if istat.statistic > 0 else [1]"
   ]
  },
  {
   "cell_type": "code",
   "execution_count": null,
   "metadata": {},
   "outputs": [],
   "source": [
    "# Finding contiguous time cluster\n",
    "valid_window = [i for i,v in enumerate(pvalues) if v <= 0.025]\n",
    "print(valid_window)"
   ]
  },
  {
   "cell_type": "code",
   "execution_count": null,
   "metadata": {},
   "outputs": [],
   "source": []
  },
  {
   "cell_type": "code",
   "execution_count": null,
   "metadata": {},
   "outputs": [],
   "source": []
  }
 ],
 "metadata": {
  "kernelspec": {
   "display_name": "Python 3",
   "language": "python",
   "name": "python3"
  },
  "language_info": {
   "codemirror_mode": {
    "name": "ipython",
    "version": 3
   },
   "file_extension": ".py",
   "mimetype": "text/x-python",
   "name": "python",
   "nbconvert_exporter": "python",
   "pygments_lexer": "ipython3",
   "version": "3.7.4"
  }
 },
 "nbformat": 4,
 "nbformat_minor": 4
}
