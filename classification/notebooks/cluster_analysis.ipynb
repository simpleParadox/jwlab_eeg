{
 "cells": [
  {
   "cell_type": "code",
   "execution_count": 1,
   "metadata": {},
   "outputs": [],
   "source": [
    "import pandas as pd\n",
    "import numpy as np\n",
    "import setup_jwlab\n",
    "from jwlab.constants import cleaned_data_filepath\n",
    "from jwlab.cluster_analysis import prep_cluster_analysis\n",
    "from sklearn.svm import SVC\n",
    "from sklearn.model_selection import cross_validate\n",
    "from scipy import stats\n",
    "from sklearn.svm import LinearSVC\n"
   ]
  },
  {
   "cell_type": "code",
   "execution_count": 2,
   "metadata": {},
   "outputs": [],
   "source": [
    "length_per_window = 10\n",
    "num_sliding_windows = int(1000/ length_per_window)"
   ]
  },
  {
   "cell_type": "code",
   "execution_count": null,
   "metadata": {},
   "outputs": [],
   "source": [
    "participants = [\"904\", \"905\", \"906\", \"908\", \"909\", \"912\",\"913\", \"914\", \"916\", \"917\", \"919\",\\\n",
    "                \"920\", \"921\", \"923\", \"924\", \"927\", \"928\", \"929\", \"930\", \"932\"]"
   ]
  },
  {
   "cell_type": "code",
   "execution_count": 3,
   "metadata": {},
   "outputs": [],
   "source": [
    "participants = [\"105\", \"107\", \"109\", \"111\", \"112\", \"115\", \"116\", \"117\", \"119\", \"121\", \"122\", \"120\", \"124\"]\n"
   ]
  },
  {
   "cell_type": "code",
   "execution_count": null,
   "metadata": {},
   "outputs": [],
   "source": [
    "participants = [\"105\", \"107\", \"109\", \"111\", \"112\", \"115\", \"116\", \"117\", \"119\", \"121\", \"122\", \"120\", \"124\",\\\n",
    "               \"904\", \"905\", \"906\", \"908\", \"909\", \"912\",\"913\", \"914\", \"916\", \"917\", \"919\",\\\n",
    "                \"920\", \"921\", \"923\", \"924\", \"927\", \"928\", \"929\", \"930\", \"932\"]\n"
   ]
  },
  {
   "cell_type": "code",
   "execution_count": 4,
   "metadata": {},
   "outputs": [
    {
     "name": "stdout",
     "output_type": "stream",
     "text": [
      "loaded\n"
     ]
    }
   ],
   "source": [
    "#Xwin, ywin, good_trial_count = prep_cluster_analysis(cleaned_data_filepath, participants, downsample_num=1000, averaging=\"no_averaging\", length_per_window=length_per_window)\n",
    "Xwin, ywin, good_trial_count = prep_cluster_analysis(cleaned_data_filepath, participants, downsample_num=1000, averaging=\"average_trials\", length_per_window=length_per_window)\n",
    "#Xwin, ywin, good_trial_count = prep_cluster_analysis(cleaned_data_filepath, participants, downsample_num=1000, averaging=\"average_trials_and_participants\", length_per_window=length_per_window)\n"
   ]
  },
  {
   "cell_type": "code",
   "execution_count": null,
   "metadata": {},
   "outputs": [],
   "source": [
    "Xwin[0].shape"
   ]
  },
  {
   "cell_type": "code",
   "execution_count": null,
   "metadata": {},
   "outputs": [],
   "source": [
    "ywin[0].shape"
   ]
  },
  {
   "cell_type": "code",
   "execution_count": null,
   "metadata": {},
   "outputs": [],
   "source": [
    "num_sliding_windows"
   ]
  },
  {
   "cell_type": "code",
   "execution_count": null,
   "metadata": {},
   "outputs": [],
   "source": [
    "# # Cross validation\n",
    "\n",
    "#X, y, good_trial_count = prep_cluster_analysis(cleaned_data_filepath, participants, downsample_num=1000, averaging=\"no_averaging\", length_per_window=length_per_window)\n",
    "\n",
    "# for j in range(num_sliding_windows):\n",
    "#     #model = SVC(gamma=.001, kernel = 'rbf', C=1000)\n",
    "#     model = LinearSVC(C=1e-9, max_iter=5000)\n",
    "#     cv_results = cross_validate(model, X[j], y[j], cv=num_folds)\n",
    "#     if j in results.keys(): \n",
    "#         results[j] += cv_results['test_score'].tolist()\n",
    "#     else:\n",
    "#         results[j] = cv_results['test_score'].tolist()\n",
    "    \n",
    "\n",
    "# for i in range(num_sliding_windows):\n",
    "#     assert len(results[i]) == num_iterations * num_folds"
   ]
  },
  {
   "cell_type": "code",
   "execution_count": 5,
   "metadata": {},
   "outputs": [],
   "source": [
    "# Cross validation with RepeatedKFold\n",
    "\n",
    "num_iterations = 3\n",
    "num_folds = 5\n",
    "\n",
    "\n",
    "import numpy as np\n",
    "from sklearn.model_selection import RepeatedKFold\n",
    "from sklearn.model_selection import train_test_split\n",
    "from sklearn.metrics import accuracy_score,recall_score,precision_score,f1_score\n",
    "\n",
    "\n",
    "\n",
    "results = {}\n",
    "for j in range(num_sliding_windows):\n",
    "    X = Xwin[j]\n",
    "    y = ywin[j]\n",
    "\n",
    "    #model = SVC(gamma=.001, kernel = 'rbf', C=1e-4)\n",
    "    model = LinearSVC(C=1e-5, max_iter=5000)\n",
    "    rkf = RepeatedKFold(n_splits=num_folds, n_repeats=num_iterations, random_state=2652124)\n",
    "    for train_index, test_index in rkf.split(X):\n",
    "        X_train, X_test = X[train_index], X[test_index]\n",
    "        y_train, y_test = y[train_index], y[test_index]\n",
    "\n",
    "        model.fit(X_train, y_train)\n",
    "        y_pred = model.predict(X_test)\n",
    "        testScore = accuracy_score(y_test,y_pred)\n",
    "\n",
    "        if j in results.keys(): \n",
    "            results[j].append(testScore)\n",
    "        else:\n",
    "            results[j]=[]\n",
    "            results[j].append(testScore)\n",
    "    \n",
    "\n",
    "for i in range(num_sliding_windows):\n",
    "    assert len(results[i]) == num_iterations * num_folds"
   ]
  },
  {
   "cell_type": "code",
   "execution_count": 6,
   "metadata": {},
   "outputs": [
    {
     "data": {
      "text/plain": [
       "(208, 600)"
      ]
     },
     "execution_count": 6,
     "metadata": {},
     "output_type": "execute_result"
    }
   ],
   "source": [
    "X.shape"
   ]
  },
  {
   "cell_type": "code",
   "execution_count": 7,
   "metadata": {},
   "outputs": [
    {
     "data": {
      "text/plain": [
       "(167, 600)"
      ]
     },
     "execution_count": 7,
     "metadata": {},
     "output_type": "execute_result"
    }
   ],
   "source": [
    "X_train.shape"
   ]
  },
  {
   "cell_type": "code",
   "execution_count": null,
   "metadata": {},
   "outputs": [],
   "source": []
  },
  {
   "cell_type": "code",
   "execution_count": 8,
   "metadata": {},
   "outputs": [],
   "source": [
    "scoreMean = []\n",
    "stdev = []\n",
    "\n",
    "for i in range(num_sliding_windows):\n",
    "    scoreMean.append(np.mean(results[i]))\n",
    "    stdev.append(np.std(results[i]))\n",
    "\n"
   ]
  },
  {
   "cell_type": "code",
   "execution_count": 9,
   "metadata": {},
   "outputs": [
    {
     "data": {
      "text/plain": [
       "0.47284204413472714"
      ]
     },
     "execution_count": 9,
     "metadata": {},
     "output_type": "execute_result"
    }
   ],
   "source": [
    "np.mean(scoreMean)"
   ]
  },
  {
   "cell_type": "code",
   "execution_count": 10,
   "metadata": {},
   "outputs": [
    {
     "data": {
      "text/plain": [
       "[0.4771970576848626,\n",
       " 0.46918312040263266,\n",
       " 0.5046457607433216,\n",
       " 0.46136275648470776,\n",
       " 0.47921022067363533,\n",
       " 0.5481997677119629,\n",
       " 0.5274874177313201,\n",
       " 0.5067363530778165,\n",
       " 0.5197831978319783,\n",
       " 0.5225706542779712,\n",
       " 0.4887340301974449,\n",
       " 0.41982191250483947,\n",
       " 0.42613240418118475,\n",
       " 0.47402245451025943,\n",
       " 0.4694154084397988,\n",
       " 0.4567557104142471,\n",
       " 0.49194734804490914,\n",
       " 0.5110336817653891,\n",
       " 0.4788617886178862,\n",
       " 0.47413859852884255,\n",
       " 0.4696476964769648,\n",
       " 0.48393341076267915,\n",
       " 0.48552071234998073,\n",
       " 0.5017034456058848,\n",
       " 0.5127758420441348,\n",
       " 0.4854045683313977,\n",
       " 0.4789779326364693,\n",
       " 0.4597754548974062,\n",
       " 0.46647309330236164,\n",
       " 0.4535036778939218,\n",
       " 0.4548974061169184,\n",
       " 0.46438250096786693,\n",
       " 0.47746806039488976,\n",
       " 0.4902439024390245,\n",
       " 0.4694928377855208,\n",
       " 0.4597367402245452,\n",
       " 0.4757646147890051,\n",
       " 0.4903213317847464,\n",
       " 0.5015098722415796,\n",
       " 0.4903600464576075,\n",
       " 0.5128532713898567,\n",
       " 0.48710801393728237,\n",
       " 0.46461478900503306,\n",
       " 0.4775454897406118,\n",
       " 0.4532713898567558,\n",
       " 0.45199380565234226,\n",
       " 0.47111885404568343,\n",
       " 0.4696089818041038,\n",
       " 0.45346496322106095,\n",
       " 0.45675571041424695,\n",
       " 0.49353464963221066,\n",
       " 0.4950058072009292,\n",
       " 0.4775842044134728,\n",
       " 0.48555942702284166,\n",
       " 0.47595818815331015,\n",
       " 0.47413859852884244,\n",
       " 0.4677893921796361,\n",
       " 0.4600077429345723,\n",
       " 0.44881920247773904,\n",
       " 0.456600851722803,\n",
       " 0.4599690282617112,\n",
       " 0.43414634146341474,\n",
       " 0.4791715060007743,\n",
       " 0.5014324428958575,\n",
       " 0.4903213317847465,\n",
       " 0.47259001161440195,\n",
       " 0.4580720092915215,\n",
       " 0.44990321331784755,\n",
       " 0.47572590011614413,\n",
       " 0.4470770421989935,\n",
       " 0.44018583042973286,\n",
       " 0.4660859465737515,\n",
       " 0.47429345722028654,\n",
       " 0.4628339140534264,\n",
       " 0.4469608981804105,\n",
       " 0.46918312040263266,\n",
       " 0.46442121564072797,\n",
       " 0.4632210607820365,\n",
       " 0.46639566395663967,\n",
       " 0.4744096012388696,\n",
       " 0.4617111885404569,\n",
       " 0.43763066202090595,\n",
       " 0.45853658536585373,\n",
       " 0.45183894696089827,\n",
       " 0.4805652342237709,\n",
       " 0.45845915602013176,\n",
       " 0.4344947735191639,\n",
       " 0.46318234610917547,\n",
       " 0.4409988385598142,\n",
       " 0.46825396825396826,\n",
       " 0.4777777777777778,\n",
       " 0.4743321718931475,\n",
       " 0.45861401471157576,\n",
       " 0.46322106078203645,\n",
       " 0.46631823461091765,\n",
       " 0.4615950445218739,\n",
       " 0.47464188927603573,\n",
       " 0.4876887340301975,\n",
       " 0.4730545876887341,\n",
       " 0.4824235385210995]"
      ]
     },
     "execution_count": 10,
     "metadata": {},
     "output_type": "execute_result"
    }
   ],
   "source": [
    "scoreMean"
   ]
  },
  {
   "cell_type": "code",
   "execution_count": 11,
   "metadata": {},
   "outputs": [],
   "source": [
    "#stdev"
   ]
  },
  {
   "cell_type": "code",
   "execution_count": 12,
   "metadata": {},
   "outputs": [],
   "source": [
    "# T-test\n",
    "accuracy_by_guessing = [0.5] * (num_iterations * num_folds)\n",
    "pvalues = []\n",
    "for i in range(num_sliding_windows):\n",
    "    istat = stats.ttest_1samp(results[i], .5)\n",
    "    pvalues += [istat.pvalue] if istat.statistic > 0 else [1]"
   ]
  },
  {
   "cell_type": "code",
   "execution_count": 13,
   "metadata": {},
   "outputs": [
    {
     "name": "stdout",
     "output_type": "stream",
     "text": [
      "[5]\n"
     ]
    }
   ],
   "source": [
    "# Finding contiguous time cluster\n",
    "valid_window = [i for i,v in enumerate(pvalues) if v <= 0.025]\n",
    "print(valid_window)"
   ]
  },
  {
   "cell_type": "code",
   "execution_count": null,
   "metadata": {},
   "outputs": [],
   "source": []
  },
  {
   "cell_type": "code",
   "execution_count": null,
   "metadata": {},
   "outputs": [],
   "source": []
  }
 ],
 "metadata": {
  "kernelspec": {
   "display_name": "Python 3",
   "language": "python",
   "name": "python3"
  },
  "language_info": {
   "codemirror_mode": {
    "name": "ipython",
    "version": 3
   },
   "file_extension": ".py",
   "mimetype": "text/x-python",
   "name": "python",
   "nbconvert_exporter": "python",
   "pygments_lexer": "ipython3",
   "version": "3.7.4"
  }
 },
 "nbformat": 4,
 "nbformat_minor": 4
}
