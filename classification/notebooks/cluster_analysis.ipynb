{
 "cells": [
  {
   "cell_type": "code",
   "execution_count": 1,
   "metadata": {},
   "outputs": [],
   "source": [
    "import pandas as pd\n",
    "import numpy as np\n",
    "import setup_jwlab\n",
    "from jwlab.constants import cleaned_data_filepath\n",
    "from jwlab.cluster_analysis import prep_cluster_analysis\n",
    "from sklearn.svm import SVC\n",
    "from sklearn.model_selection import cross_validate\n",
    "from scipy import stats\n",
    "from sklearn.svm import LinearSVC\n"
   ]
  },
  {
   "cell_type": "code",
   "execution_count": 2,
   "metadata": {},
   "outputs": [],
   "source": [
    "length_per_window = 10\n",
    "num_sliding_windows = int(1000/ length_per_window)"
   ]
  },
  {
   "cell_type": "code",
   "execution_count": 3,
   "metadata": {},
   "outputs": [],
   "source": [
    "num_folds = 3"
   ]
  },
  {
   "cell_type": "code",
   "execution_count": 4,
   "metadata": {},
   "outputs": [],
   "source": [
    "num_iterations = 5"
   ]
  },
  {
   "cell_type": "code",
   "execution_count": null,
   "metadata": {},
   "outputs": [],
   "source": [
    "participants = [\"904\", \"905\", \"906\", \"908\", \"909\", \"912\",\"913\", \"914\", \"916\", \"917\", \"919\",\\\n",
    "                \"920\", \"921\", \"923\", \"924\", \"927\", \"928\", \"929\", \"930\", \"932\"]"
   ]
  },
  {
   "cell_type": "code",
   "execution_count": 5,
   "metadata": {},
   "outputs": [],
   "source": [
    "participants = [\"105\", \"107\", \"109\", \"111\", \"112\", \"115\", \"116\", \"117\", \"119\", \"121\", \"122\", \"120\", \"124\"]\n"
   ]
  },
  {
   "cell_type": "code",
   "execution_count": 6,
   "metadata": {},
   "outputs": [
    {
     "name": "stdout",
     "output_type": "stream",
     "text": [
      "loaded\n"
     ]
    }
   ],
   "source": [
    "X, y, good_trial_count = prep_cluster_analysis(cleaned_data_filepath, participants, downsample_num=1000, averaging=\"no_averaging\", length_per_window=length_per_window)\n",
    "#X, y, good_trial_count = prep_cluster_analysis(cleaned_data_filepath, participants, downsample_num=1000, averaging=\"average_trials\", length_per_window=length_per_window)\n",
    "#X, y, good_trial_count = prep_cluster_analysis(cleaned_data_filepath, participants, downsample_num=1000, averaging=\"average_trials_and_participants\", length_per_window=length_per_window)\n"
   ]
  },
  {
   "cell_type": "code",
   "execution_count": 7,
   "metadata": {},
   "outputs": [
    {
     "data": {
      "text/plain": [
       "(684,)"
      ]
     },
     "execution_count": 7,
     "metadata": {},
     "output_type": "execute_result"
    }
   ],
   "source": [
    "X[0][0].shape"
   ]
  },
  {
   "cell_type": "code",
   "execution_count": 8,
   "metadata": {},
   "outputs": [
    {
     "name": "stdout",
     "output_type": "stream",
     "text": [
      "0\n",
      "1\n",
      "2\n",
      "3\n",
      "4\n"
     ]
    }
   ],
   "source": [
    "# Cross validation\n",
    "results = {}\n",
    "for i in range(num_iterations):\n",
    "    for j in range(num_sliding_windows):\n",
    "        #model = SVC(gamma=.001, kernel = 'rbf', C=1e-06)\n",
    "        model = LinearSVC(C=1e-9, max_iter=5000)\n",
    "        cv_results = cross_validate(model, X[j], y[j], cv=num_folds)\n",
    "        if j in results.keys(): \n",
    "            results[j] += cv_results['test_score'].tolist()\n",
    "        else:\n",
    "            results[j] = cv_results['test_score'].tolist()\n",
    "    print(i)\n",
    "\n",
    "for i in range(num_sliding_windows):\n",
    "    assert len(results[i]) == num_iterations * num_folds"
   ]
  },
  {
   "cell_type": "code",
   "execution_count": 9,
   "metadata": {},
   "outputs": [],
   "source": [
    "errormean = []\n",
    "stdev = []\n",
    "for i in range(num_sliding_windows):\n",
    "    errormean.append(np.mean(results[i]))\n",
    "    stdev.append(np.std(results[i]))\n",
    "\n"
   ]
  },
  {
   "cell_type": "code",
   "execution_count": 10,
   "metadata": {},
   "outputs": [
    {
     "data": {
      "text/plain": [
       "[0.520448767945166,\n",
       " 0.5305865851555384,\n",
       " 0.5116190425727348,\n",
       " 0.5218400797471688,\n",
       " 0.5174669395404009,\n",
       " 0.5291823361506062,\n",
       " 0.5190060448236957,\n",
       " 0.49126001944180353,\n",
       " 0.49562700041500296,\n",
       " 0.4883232181281038,\n",
       " 0.4868417958952618,\n",
       " 0.4809616965420432,\n",
       " 0.48834892378783756,\n",
       " 0.4825201232566697,\n",
       " 0.4708239918290877,\n",
       " 0.4971081414043031,\n",
       " 0.49274132917722885,\n",
       " 0.4942034299787392,\n",
       " 0.49279901222768174,\n",
       " 0.5000897448142346,\n",
       " 0.49423523862333324,\n",
       " 0.5000705358803198,\n",
       " 0.508861787136213,\n",
       " 0.4986341407385433,\n",
       " 0.508881164816253,\n",
       " 0.5117603955769164,\n",
       " 0.527810345779935,\n",
       " 0.5409427036031684,\n",
       " 0.5307342661394138,\n",
       " 0.5013913961750653,\n",
       " 0.5058160039500094,\n",
       " 0.5087015626903668,\n",
       " 0.5219042595234407,\n",
       " 0.4913047090406186,\n",
       " 0.5132350398403978,\n",
       " 0.5073549404871791,\n",
       " 0.5044116424476605,\n",
       " 0.48980452786352896,\n",
       " 0.5000770888548473,\n",
       " 0.48398838329174865,\n",
       " 0.4986022195965326,\n",
       " 0.4956718587599432,\n",
       " 0.48689331971214606,\n",
       " 0.46496954188689443,\n",
       " 0.47371604729526395,\n",
       " 0.48107734388649104,\n",
       " 0.47958337819167823,\n",
       " 0.45754412176810394,\n",
       " 0.4707470998447198,\n",
       " 0.4634690794662628,\n",
       " 0.4751648734015946,\n",
       " 0.4780825782787963,\n",
       " 0.4693105922055265,\n",
       " 0.4825198982618363,\n",
       " 0.5073420595329581,\n",
       " 0.5014876658394732,\n",
       " 0.4825200670079613,\n",
       " 0.4868485176159142,\n",
       " 0.49563321589728,\n",
       " 0.48535427067755954,\n",
       " 0.4868035467735572,\n",
       " 0.48537997633729346,\n",
       " 0.47218338248907965,\n",
       " 0.486893150966021,\n",
       " 0.49708237949586087,\n",
       " 0.5146648820076468,\n",
       " 0.5102533239330492,\n",
       " 0.5117346336684744,\n",
       " 0.5176082362958742,\n",
       " 0.5146136394343043,\n",
       " 0.49413925020246724,\n",
       " 0.489759725767297,\n",
       " 0.49414546568474427,\n",
       " 0.48097457749626416,\n",
       " 0.5058543655691305,\n",
       " 0.5131836285209301,\n",
       " 0.5234111061724745,\n",
       " 0.5161396950172531,\n",
       " 0.513254192525604,\n",
       " 0.5103043977602665,\n",
       " 0.5263671726687976,\n",
       " 0.5204487116964577,\n",
       " 0.5015068185246796,\n",
       " 0.5073420595329581,\n",
       " 0.5146970843931996,\n",
       " 0.511779379515998,\n",
       " 0.5103173912119043,\n",
       " 0.5176338857068994,\n",
       " 0.49864074996177893,\n",
       " 0.5030395395795723,\n",
       " 0.5147740326262759,\n",
       " 0.5220712056899395,\n",
       " 0.488361579747225,\n",
       " 0.5161526322201827,\n",
       " 0.5117601705820831,\n",
       " 0.5176146205242762,\n",
       " 0.49853792732284397,\n",
       " 0.4984867409982097,\n",
       " 0.5058353253813409,\n",
       " 0.5131708038154172]"
      ]
     },
     "execution_count": 10,
     "metadata": {},
     "output_type": "execute_result"
    }
   ],
   "source": [
    "errormean"
   ]
  },
  {
   "cell_type": "code",
   "execution_count": 11,
   "metadata": {},
   "outputs": [
    {
     "data": {
      "text/plain": [
       "[0.011640513868877591,\n",
       " 0.03573878521286043,\n",
       " 0.02266809324756967,\n",
       " 0.03755877301158745,\n",
       " 0.03057816614453366,\n",
       " 0.019102145631150223,\n",
       " 0.00516906235372587,\n",
       " 0.008921600232086763,\n",
       " 0.022018282100139102,\n",
       " 0.006762464892177981,\n",
       " 0.015507187044855335,\n",
       " 0.01888080922964726,\n",
       " 0.01625543202812682,\n",
       " 0.02016502236373419,\n",
       " 0.017836533951858056,\n",
       " 0.013703211831029417,\n",
       " 0.01605823317396316,\n",
       " 0.022715829112292144,\n",
       " 0.03071464094899449,\n",
       " 0.025243964142002865,\n",
       " 0.025403157392170084,\n",
       " 0.019696631498304206,\n",
       " 0.025275140550492865,\n",
       " 0.027149618837479725,\n",
       " 0.03295827068225326,\n",
       " 0.02986311992913629,\n",
       " 0.018895978009996203,\n",
       " 0.010527494767922778,\n",
       " 0.011008216393790956,\n",
       " 0.0213962389996811,\n",
       " 0.009823817552083393,\n",
       " 0.020590273884862058,\n",
       " 0.022870219603956497,\n",
       " 0.030445723954765143,\n",
       " 0.02177208003157512,\n",
       " 0.012739762816086556,\n",
       " 0.0078050255061792384,\n",
       " 0.015658486447707676,\n",
       " 0.026561992295509963,\n",
       " 0.02127075748136071,\n",
       " 0.021255964927862248,\n",
       " 0.02466784345566571,\n",
       " 0.017081132161239646,\n",
       " 0.01598976943004282,\n",
       " 0.015280296306821303,\n",
       " 0.02467866057968946,\n",
       " 0.0243259367208509,\n",
       " 0.016764307899272968,\n",
       " 0.008104528131535383,\n",
       " 0.005643745739577458,\n",
       " 0.027366551752782863,\n",
       " 0.015880232058554093,\n",
       " 0.009914093431810487,\n",
       " 0.02358050949492511,\n",
       " 0.009866580796336604,\n",
       " 0.0072469955824806765,\n",
       " 0.0181261924455802,\n",
       " 0.01869853985078815,\n",
       " 0.005356101547784497,\n",
       " 0.007293637914322969,\n",
       " 0.014212313850865656,\n",
       " 0.005168958940090353,\n",
       " 0.010897475749357951,\n",
       " 0.01700217588339979,\n",
       " 0.0027214866668462535,\n",
       " 0.015025510674151882,\n",
       " 0.006824775596310183,\n",
       " 0.015712579658138447,\n",
       " 0.01825000854776332,\n",
       " 0.00270791512502899,\n",
       " 0.011911185750910502,\n",
       " 0.020747201364051174,\n",
       " 0.010504472115726115,\n",
       " 0.011706168440618515,\n",
       " 0.008457444884754693,\n",
       " 0.01174157946670958,\n",
       " 0.027399570548107002,\n",
       " 0.019150601872974213,\n",
       " 0.027581249766226102,\n",
       " 0.02850894490766211,\n",
       " 0.03135177342374471,\n",
       " 0.017394126197833273,\n",
       " 0.014986192023010212,\n",
       " 0.009866580796336604,\n",
       " 0.02275742421786171,\n",
       " 0.023662889265369882,\n",
       " 0.023395553913514278,\n",
       " 0.02533749472901514,\n",
       " 0.03368178893820148,\n",
       " 0.03424225973456448,\n",
       " 0.04366725396295805,\n",
       " 0.03960910675079275,\n",
       " 0.01803914217443217,\n",
       " 0.019872543097331684,\n",
       " 0.01797243468927721,\n",
       " 0.019759459668952716,\n",
       " 0.007236570921313291,\n",
       " 0.01520915675273263,\n",
       " 0.013885439536101498,\n",
       " 0.00996943231424386]"
      ]
     },
     "execution_count": 11,
     "metadata": {},
     "output_type": "execute_result"
    }
   ],
   "source": [
    "stdev"
   ]
  },
  {
   "cell_type": "code",
   "execution_count": null,
   "metadata": {},
   "outputs": [],
   "source": [
    "# T-test\n",
    "accuracy_by_guessing = [0.5] * (num_iterations * num_folds)\n",
    "pvalues = []\n",
    "for i in range(num_sliding_windows):\n",
    "    stat = stats.ttest_ind(results[i], accuracy_by_guessing)\n",
    "    pvalues += [stat[1]]"
   ]
  },
  {
   "cell_type": "code",
   "execution_count": null,
   "metadata": {},
   "outputs": [],
   "source": [
    "# Finding contiguous time cluster\n",
    "valid_window = [i for i,v in enumerate(pvalues) if v >= 0.05]\n",
    "print(valid_window)"
   ]
  },
  {
   "cell_type": "code",
   "execution_count": null,
   "metadata": {},
   "outputs": [],
   "source": []
  }
 ],
 "metadata": {
  "kernelspec": {
   "display_name": "Python 3",
   "language": "python",
   "name": "python3"
  },
  "language_info": {
   "codemirror_mode": {
    "name": "ipython",
    "version": 3
   },
   "file_extension": ".py",
   "mimetype": "text/x-python",
   "name": "python",
   "nbconvert_exporter": "python",
   "pygments_lexer": "ipython3",
   "version": "3.7.4"
  }
 },
 "nbformat": 4,
 "nbformat_minor": 4
}
