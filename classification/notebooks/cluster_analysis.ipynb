{
 "cells": [
  {
   "cell_type": "markdown",
   "metadata": {},
   "source": [
    "# Cluster analyses Regression by Rohan adapted from Jenn's repo.\n",
    "\n",
    "This code splits the df into windows of a specified length. \n",
    "The result is a list with each cell containing time_length X channels. \n",
    "The raw data contains 200ms of a prewindow and 1000ms of the test window."
   ]
  },
  {
   "cell_type": "code",
   "execution_count": 2,
   "metadata": {
    "pycharm": {
     "name": "#%%\n"
    }
   },
   "outputs": [],
   "source": [
    "import pandas as pd\n",
    "import numpy as np\n",
    "import setup_jwlab\n",
    "from jwlab.constants import cleaned_data_filepath\n",
    "from jwlab.cluster_analysis import prep_cluster_analysis, prep_raw_pred_avg\n",
    "from jwlab.ml_prep import  average_trials_and_participants, average_trials\n",
    "from sklearn.svm import SVC\n",
    "from sklearn.model_selection import cross_validate\n",
    "from scipy import stats\n",
    "from sklearn.svm import LinearSVC\n",
    "from sklearn.linear_model import Ridge\n",
    "from sklearn.metrics import accuracy_score,recall_score,precision_score,f1_score\n",
    "from sklearn import preprocessing\n",
    "from scipy.stats import kurtosis, skew\n",
    "from matplotlib import pyplot as plt\n",
    "from sklearn.preprocessing import StandardScaler\n",
    "import more_itertools as mit\n",
    "from regression.functions import get_w2v_embeds_from_dict, two_vs_two\n"
   ]
  },
  {
   "cell_type": "code",
   "execution_count": 3,
   "metadata": {
    "pycharm": {
     "name": "#%%\n"
    }
   },
   "outputs": [],
   "source": [
    "length_per_window = 100 #just change this, do not alter the prep files\n",
    "num_sliding_windows = int(1200/ length_per_window)"
   ]
  },
  {
   "cell_type": "code",
   "execution_count": 4,
   "metadata": {
    "pycharm": {
     "name": "#%%\n"
    }
   },
   "outputs": [],
   "source": [
    "# all 9m \n",
    "participants = [\"904\"]#, \"905\", \"906\", \"908\", \"909\",  \"910\",\"912\",\"913\", \"914\", \"916\", \"917\", \"919\",\\\n",
    "#                 \"920\", \"921\",  \"923\",\"924\", \"927\", \"928\", \"929\", \"930\", \"932\"]\n"
   ]
  },
  {
   "cell_type": "code",
   "execution_count": null,
   "metadata": {
    "pycharm": {
     "name": "#%%\n"
    }
   },
   "outputs": [],
   "source": [
    "# #subset 9m\n",
    "participants = [\"904\", \"905\", \"906\", \"908\", \"909\",\"910\", \"912\", \"913\", \"914\",  \"916\", \"917\", \"921\", \"923\", \"927\", \"929\", \"930\", \"932\"] \n",
    "# removed: 919, 920, 924, 928\n"
   ]
  },
  {
   "cell_type": "code",
   "execution_count": null,
   "metadata": {
    "pycharm": {
     "name": "#%%\n"
    }
   },
   "outputs": [],
   "source": [
    "participants = [\"106\", \"107\", \"109\", \"111\", \"112\", \"115\", \"116\", \"117\", \"119\",  \"120\", \"121\", \"122\", \"124\"]\n",
    "# missing 105, \n"
   ]
  },
  {
   "cell_type": "code",
   "execution_count": null,
   "metadata": {
    "pycharm": {
     "name": "#%%\n"
    }
   },
   "outputs": [],
   "source": [
    "participants = [\"106\", \"107\", \"109\", \"111\", \"112\", \"115\", \"116\", \"117\", \"119\", \"121\", \"122\", \"120\", \"124\",\\\n",
    "               \"904\", \"905\", \"906\", \"908\", \"910\", \"909\", \"912\",\"913\", \"914\", \"916\", \"917\", \"919\",\\\n",
    "                \"920\",  \"923\",\"921\", \"924\", \"927\", \"928\", \"929\", \"930\", \"932\"]\n"
   ]
  },
  {
   "cell_type": "markdown",
   "metadata": {},
   "source": [
    "# Trial count code"
   ]
  },
  {
   "cell_type": "code",
   "execution_count": null,
   "metadata": {
    "pycharm": {
     "name": "#%%\n"
    }
   },
   "outputs": [],
   "source": [
    "#get trial counts\n",
    "X, y, good_trial_count = prep_cluster_analysis(cleaned_data_filepath, participants, downsample_num=1200, averaging=\"no_averaging\", length_per_window=length_per_window)\n",
    "\n",
    "\n",
    "for i in participants:\n",
    "    ps =[i]\n",
    "    X, y, good_trial_count = prep_cluster_analysis(cleaned_data_filepath, ps, downsample_num=1000, averaging=\"no_averaging\", length_per_window=length_per_window)\n",
    "    y[0]\n",
    "    np.amax(y[0])\n",
    "    unique, counts = np.unique(y[0], return_counts=True)\n",
    "    \n",
    "    print(i)\n",
    "    print(dict(zip(unique, counts)))"
   ]
  },
  {
   "cell_type": "code",
   "execution_count": null,
   "metadata": {
    "pycharm": {
     "name": "#%%\n"
    }
   },
   "outputs": [],
   "source": [
    "print(cleaned_data_filepath)\n",
    "X, y, good_trial_count = prep_cluster_analysis(cleaned_data_filepath, participants, downsample_num=1200, averaging=\"no_averaging\", length_per_window=length_per_window)\n",
    "\n"
   ]
  },
  {
   "cell_type": "markdown",
   "metadata": {
    "pycharm": {
     "name": "#%% md\n"
    }
   },
   "source": [
    "## Train raw test avg"
   ]
  },
  {
   "cell_type": "code",
   "execution_count": 5,
   "metadata": {
    "pycharm": {
     "name": "#%%\n"
    }
   },
   "outputs": [
    {
     "name": "stdout",
     "output_type": "stream",
     "text": [
      "0\n",
      "1\n",
      "2\n",
      "3\n",
      "4\n",
      "5\n",
      "6\n",
      "7\n",
      "8\n",
      "9\n"
     ]
    }
   ],
   "source": [
    "\n",
    "num_iter = 10\n",
    "\n",
    "results = {}\n",
    "\n",
    "\n",
    "\n",
    "for i in range(num_iter): \n",
    "\n",
    "    X, y, good_trial_count = prep_cluster_analysis(cleaned_data_filepath, participants, downsample_num=1000, averaging=\"no_average_labels\", length_per_window=length_per_window)\n",
    "    \n",
    "    X_train, y_train, X_test, y_test, X_test_t, y_test_t, X_test_pt, y_test_pt = prep_raw_pred_avg(X, participants, length_per_window, num_sliding_windows)\n",
    "#     print(\"y_train\", y_train)\n",
    "#     print(\"y_test\", y_test)\n",
    "#     print(\"y_test_t\", y_test_t)\n",
    "#     print(\"y_test_pt\", y_test_pt)\n",
    "    ## Now get a list of word embeddings from the labels.\n",
    "#     y_train_labels = get_w2v_embeds_from_dict(y_train[0])\n",
    "#     y_test_labels = get_w2v_embeds_from_dict(y_train[1])\n",
    "#     y_test_t_labels = get_w2v_embeds_from_dict(y_test_t)\n",
    "#     y_test_pt_labels = get_w2v_embeds_from_dict(y_test_pt)\n",
    "#     print(y_train_labels)\n",
    "#     print(y_test_labels)\n",
    "#     break\n",
    "    \n",
    "    model = Ridge()\n",
    "    #model = SVC(gamma=.001, kernel = 'rbf', C = 100)\n",
    "\n",
    "\n",
    "    for j in range(num_sliding_windows):\n",
    "        \n",
    "        y_train_labels = get_w2v_embeds_from_dict(y_train[j])\n",
    "        y_test_labels = get_w2v_embeds_from_dict(y_test[j])\n",
    "        y_test_t_labels = get_w2v_embeds_from_dict(y_test_t[j])\n",
    "        y_test_pt_labels = get_w2v_embeds_from_dict(y_test_pt[j])\n",
    "        \n",
    "        model.fit(X_train[j], y_train_labels)\n",
    "\n",
    "        ## validation, predict raw\n",
    "        y_pred = model.predict(X_test[j])\n",
    "        points, total_points, testScore = two_vs_two(y_test_labels, y_pred)\n",
    "#         print(testScore)\n",
    "#         break\n",
    "\n",
    "        ## predict averaged across trials\n",
    "#         y_pred = model.predict(X_test_t[j])\n",
    "#         testScore = two_vs_two(y_test_t[j],y_pred)\n",
    "\n",
    "#         ## predict averaged across trials and ps\n",
    "#         y_pred = model.predict(X_test_pt[j])\n",
    "#         testScore = two_vs_two(y_test_pt[j],y_pred)\n",
    "\n",
    "\n",
    "        if j in results.keys(): \n",
    "            results[j].append(testScore)\n",
    "        else:\n",
    "            results[j]=[]\n",
    "            results[j].append(testScore)\n",
    "    print(i)\n",
    "\n",
    "\n"
   ]
  },
  {
   "cell_type": "code",
   "execution_count": 7,
   "metadata": {
    "pycharm": {
     "name": "#%%\n"
    }
   },
   "outputs": [],
   "source": [
    "# results"
   ]
  },
  {
   "cell_type": "code",
   "execution_count": null,
   "metadata": {
    "pycharm": {
     "name": "#%%\n"
    }
   },
   "outputs": [],
   "source": [
    "unique, counts = np.unique(y_train[0], return_counts=True)\n",
    "dict(zip(unique, counts))"
   ]
  },
  {
   "cell_type": "code",
   "execution_count": 8,
   "metadata": {
    "pycharm": {
     "name": "#%%\n"
    }
   },
   "outputs": [
    {
     "name": "stdout",
     "output_type": "stream",
     "text": [
      "0.537962962962963\n",
      "[0.4333333333333333, 0.4222222222222222, 0.6888888888888889, 0.6222222222222222, 0.5555555555555556, 0.4888888888888888, 0.6111111111111112, 0.5333333333333333, 0.6222222222222222, 0.5444444444444445, 0.4444444444444445, 0.4888888888888888]\n",
      "[0.06, 0.06, 0.07, 0.06, 0.05, 0.07, 0.05, 0.05, 0.06, 0.05, 0.04, 0.06]\n"
     ]
    }
   ],
   "source": [
    "scoreMean = []\n",
    "sem = []\n",
    "\n",
    "for i in range(num_sliding_windows):\n",
    "    scoreMean.append(np.mean(results[i]))\n",
    "    sem.append(round(stats.sem(results[i]), 2))\n",
    "    #stdev.append(np.std(results[i]))\n",
    "\n",
    "print(np.mean(scoreMean))\n",
    "print(scoreMean)\n",
    "print(sem)"
   ]
  },
  {
   "cell_type": "code",
   "execution_count": 10,
   "metadata": {
    "pycharm": {
     "name": "#%%\n"
    }
   },
   "outputs": [
    {
     "ename": "ValueError",
     "evalue": "x and y must have same first dimension, but have shapes (13,) and (12,)",
     "output_type": "error",
     "traceback": [
      "\u001B[1;31m---------------------------------------------------------------------------\u001B[0m",
      "\u001B[1;31mValueError\u001B[0m                                Traceback (most recent call last)",
      "\u001B[1;32m<ipython-input-10-7412593e8b43>\u001B[0m in \u001B[0;36m<module>\u001B[1;34m\u001B[0m\n\u001B[0;32m      5\u001B[0m \u001B[0msem\u001B[0m \u001B[1;33m=\u001B[0m \u001B[0mnp\u001B[0m\u001B[1;33m.\u001B[0m\u001B[0marray\u001B[0m\u001B[1;33m(\u001B[0m\u001B[0msem\u001B[0m\u001B[1;33m)\u001B[0m\u001B[1;33m\u001B[0m\u001B[1;33m\u001B[0m\u001B[0m\n\u001B[0;32m      6\u001B[0m \u001B[0merror\u001B[0m \u001B[1;33m=\u001B[0m \u001B[0msem\u001B[0m\u001B[1;33m\u001B[0m\u001B[1;33m\u001B[0m\u001B[0m\n\u001B[1;32m----> 7\u001B[1;33m \u001B[0mplt\u001B[0m\u001B[1;33m.\u001B[0m\u001B[0mplot\u001B[0m\u001B[1;33m(\u001B[0m\u001B[0mx_graph\u001B[0m\u001B[1;33m,\u001B[0m \u001B[0my_graph\u001B[0m\u001B[1;33m,\u001B[0m \u001B[1;34m'k-'\u001B[0m\u001B[1;33m)\u001B[0m\u001B[1;33m\u001B[0m\u001B[1;33m\u001B[0m\u001B[0m\n\u001B[0m\u001B[0;32m      8\u001B[0m \u001B[0mplt\u001B[0m\u001B[1;33m.\u001B[0m\u001B[0mfill_between\u001B[0m\u001B[1;33m(\u001B[0m\u001B[0mx_graph\u001B[0m\u001B[1;33m,\u001B[0m \u001B[0my_graph\u001B[0m\u001B[1;33m-\u001B[0m\u001B[0merror\u001B[0m\u001B[1;33m,\u001B[0m \u001B[0my_graph\u001B[0m\u001B[1;33m+\u001B[0m\u001B[0merror\u001B[0m\u001B[1;33m)\u001B[0m\u001B[1;33m\u001B[0m\u001B[1;33m\u001B[0m\u001B[0m\n\u001B[0;32m      9\u001B[0m \u001B[0mplt\u001B[0m\u001B[1;33m.\u001B[0m\u001B[0mshow\u001B[0m\u001B[1;33m(\u001B[0m\u001B[1;33m)\u001B[0m\u001B[1;33m\u001B[0m\u001B[1;33m\u001B[0m\u001B[0m\n",
      "\u001B[1;32m~\\Anaconda3\\lib\\site-packages\\matplotlib\\pyplot.py\u001B[0m in \u001B[0;36mplot\u001B[1;34m(scalex, scaley, data, *args, **kwargs)\u001B[0m\n\u001B[0;32m   2761\u001B[0m     return gca().plot(\n\u001B[0;32m   2762\u001B[0m         *args, scalex=scalex, scaley=scaley, **({\"data\": data} if data\n\u001B[1;32m-> 2763\u001B[1;33m         is not None else {}), **kwargs)\n\u001B[0m\u001B[0;32m   2764\u001B[0m \u001B[1;33m\u001B[0m\u001B[0m\n\u001B[0;32m   2765\u001B[0m \u001B[1;33m\u001B[0m\u001B[0m\n",
      "\u001B[1;32m~\\Anaconda3\\lib\\site-packages\\matplotlib\\axes\\_axes.py\u001B[0m in \u001B[0;36mplot\u001B[1;34m(self, scalex, scaley, data, *args, **kwargs)\u001B[0m\n\u001B[0;32m   1645\u001B[0m         \"\"\"\n\u001B[0;32m   1646\u001B[0m         \u001B[0mkwargs\u001B[0m \u001B[1;33m=\u001B[0m \u001B[0mcbook\u001B[0m\u001B[1;33m.\u001B[0m\u001B[0mnormalize_kwargs\u001B[0m\u001B[1;33m(\u001B[0m\u001B[0mkwargs\u001B[0m\u001B[1;33m,\u001B[0m \u001B[0mmlines\u001B[0m\u001B[1;33m.\u001B[0m\u001B[0mLine2D\u001B[0m\u001B[1;33m)\u001B[0m\u001B[1;33m\u001B[0m\u001B[1;33m\u001B[0m\u001B[0m\n\u001B[1;32m-> 1647\u001B[1;33m         \u001B[0mlines\u001B[0m \u001B[1;33m=\u001B[0m \u001B[1;33m[\u001B[0m\u001B[1;33m*\u001B[0m\u001B[0mself\u001B[0m\u001B[1;33m.\u001B[0m\u001B[0m_get_lines\u001B[0m\u001B[1;33m(\u001B[0m\u001B[1;33m*\u001B[0m\u001B[0margs\u001B[0m\u001B[1;33m,\u001B[0m \u001B[0mdata\u001B[0m\u001B[1;33m=\u001B[0m\u001B[0mdata\u001B[0m\u001B[1;33m,\u001B[0m \u001B[1;33m**\u001B[0m\u001B[0mkwargs\u001B[0m\u001B[1;33m)\u001B[0m\u001B[1;33m]\u001B[0m\u001B[1;33m\u001B[0m\u001B[1;33m\u001B[0m\u001B[0m\n\u001B[0m\u001B[0;32m   1648\u001B[0m         \u001B[1;32mfor\u001B[0m \u001B[0mline\u001B[0m \u001B[1;32min\u001B[0m \u001B[0mlines\u001B[0m\u001B[1;33m:\u001B[0m\u001B[1;33m\u001B[0m\u001B[1;33m\u001B[0m\u001B[0m\n\u001B[0;32m   1649\u001B[0m             \u001B[0mself\u001B[0m\u001B[1;33m.\u001B[0m\u001B[0madd_line\u001B[0m\u001B[1;33m(\u001B[0m\u001B[0mline\u001B[0m\u001B[1;33m)\u001B[0m\u001B[1;33m\u001B[0m\u001B[1;33m\u001B[0m\u001B[0m\n",
      "\u001B[1;32m~\\Anaconda3\\lib\\site-packages\\matplotlib\\axes\\_base.py\u001B[0m in \u001B[0;36m__call__\u001B[1;34m(self, *args, **kwargs)\u001B[0m\n\u001B[0;32m    214\u001B[0m                 \u001B[0mthis\u001B[0m \u001B[1;33m+=\u001B[0m \u001B[0margs\u001B[0m\u001B[1;33m[\u001B[0m\u001B[1;36m0\u001B[0m\u001B[1;33m]\u001B[0m\u001B[1;33m,\u001B[0m\u001B[1;33m\u001B[0m\u001B[1;33m\u001B[0m\u001B[0m\n\u001B[0;32m    215\u001B[0m                 \u001B[0margs\u001B[0m \u001B[1;33m=\u001B[0m \u001B[0margs\u001B[0m\u001B[1;33m[\u001B[0m\u001B[1;36m1\u001B[0m\u001B[1;33m:\u001B[0m\u001B[1;33m]\u001B[0m\u001B[1;33m\u001B[0m\u001B[1;33m\u001B[0m\u001B[0m\n\u001B[1;32m--> 216\u001B[1;33m             \u001B[1;32myield\u001B[0m \u001B[1;32mfrom\u001B[0m \u001B[0mself\u001B[0m\u001B[1;33m.\u001B[0m\u001B[0m_plot_args\u001B[0m\u001B[1;33m(\u001B[0m\u001B[0mthis\u001B[0m\u001B[1;33m,\u001B[0m \u001B[0mkwargs\u001B[0m\u001B[1;33m)\u001B[0m\u001B[1;33m\u001B[0m\u001B[1;33m\u001B[0m\u001B[0m\n\u001B[0m\u001B[0;32m    217\u001B[0m \u001B[1;33m\u001B[0m\u001B[0m\n\u001B[0;32m    218\u001B[0m     \u001B[1;32mdef\u001B[0m \u001B[0mget_next_color\u001B[0m\u001B[1;33m(\u001B[0m\u001B[0mself\u001B[0m\u001B[1;33m)\u001B[0m\u001B[1;33m:\u001B[0m\u001B[1;33m\u001B[0m\u001B[1;33m\u001B[0m\u001B[0m\n",
      "\u001B[1;32m~\\Anaconda3\\lib\\site-packages\\matplotlib\\axes\\_base.py\u001B[0m in \u001B[0;36m_plot_args\u001B[1;34m(self, tup, kwargs)\u001B[0m\n\u001B[0;32m    340\u001B[0m \u001B[1;33m\u001B[0m\u001B[0m\n\u001B[0;32m    341\u001B[0m         \u001B[1;32mif\u001B[0m \u001B[0mx\u001B[0m\u001B[1;33m.\u001B[0m\u001B[0mshape\u001B[0m\u001B[1;33m[\u001B[0m\u001B[1;36m0\u001B[0m\u001B[1;33m]\u001B[0m \u001B[1;33m!=\u001B[0m \u001B[0my\u001B[0m\u001B[1;33m.\u001B[0m\u001B[0mshape\u001B[0m\u001B[1;33m[\u001B[0m\u001B[1;36m0\u001B[0m\u001B[1;33m]\u001B[0m\u001B[1;33m:\u001B[0m\u001B[1;33m\u001B[0m\u001B[1;33m\u001B[0m\u001B[0m\n\u001B[1;32m--> 342\u001B[1;33m             raise ValueError(f\"x and y must have same first dimension, but \"\n\u001B[0m\u001B[0;32m    343\u001B[0m                              f\"have shapes {x.shape} and {y.shape}\")\n\u001B[0;32m    344\u001B[0m         \u001B[1;32mif\u001B[0m \u001B[0mx\u001B[0m\u001B[1;33m.\u001B[0m\u001B[0mndim\u001B[0m \u001B[1;33m>\u001B[0m \u001B[1;36m2\u001B[0m \u001B[1;32mor\u001B[0m \u001B[0my\u001B[0m\u001B[1;33m.\u001B[0m\u001B[0mndim\u001B[0m \u001B[1;33m>\u001B[0m \u001B[1;36m2\u001B[0m\u001B[1;33m:\u001B[0m\u001B[1;33m\u001B[0m\u001B[1;33m\u001B[0m\u001B[0m\n",
      "\u001B[1;31mValueError\u001B[0m: x and y must have same first dimension, but have shapes (13,) and (12,)"
     ]
    },
    {
     "data": {
      "image/png": "[encoded data removed]",
      "text/plain": [
       "<Figure size 432x288 with 1 Axes>"
      ]
     },
     "metadata": {
      "needs_background": "light"
     },
     "output_type": "display_data"
    }
   ],
   "source": [
    "#plot results:\n",
    "\n",
    "x_graph = np.arange(-200,1000,length_per_window)\n",
    "y_graph = scoreMean\n",
    "sem = np.array(sem)\n",
    "error = sem\n",
    "plt.plot(x_graph, y_graph, 'k-')\n",
    "plt.fill_between(x_graph, y_graph-error, y_graph+error)\n",
    "plt.show()"
   ]
  },
  {
   "cell_type": "markdown",
   "metadata": {},
   "source": [
    "### Get t-mass"
   ]
  },
  {
   "cell_type": "code",
   "execution_count": null,
   "metadata": {
    "pycharm": {
     "name": "#%%\n"
    }
   },
   "outputs": [],
   "source": [
    "stats.ttest_1samp(results[i], .5)"
   ]
  },
  {
   "cell_type": "code",
   "execution_count": null,
   "metadata": {
    "pycharm": {
     "name": "#%%\n"
    }
   },
   "outputs": [],
   "source": [
    "clusters"
   ]
  },
  {
   "cell_type": "code",
   "execution_count": null,
   "metadata": {
    "pycharm": {
     "name": "#%%\n"
    }
   },
   "outputs": [],
   "source": [
    "pvalues = []\n",
    "tvalues = []\n",
    "for i in range(len(results)):\n",
    "    # change the second argument below for comparison\n",
    "    istat = stats.ttest_1samp(results[i], .5)\n",
    "    pvalues += [istat.pvalue] if istat.statistic > 0 else [1]\n",
    "    tvalues += [istat.statistic] if istat.statistic > 0 else [0]\n",
    "\n",
    "valid_window = [i for i,v in enumerate(pvalues) if v <= 0.025]\n",
    "print(\"Valid windows are: {0}\\n\".format(valid_window))\n",
    "\n",
    "# Obtain clusters (3 or more consecutive meaningful time)\n",
    "clusters = [list(group) for group in mit.consecutive_groups(valid_window)]\n",
    "clusters = [group for group in clusters if len(group) >= 3]\n",
    "\n",
    "adj_clusters = []\n",
    "for c in clusters: \n",
    "    new_list = [((x*10)-200) for x in c]\n",
    "    adj_clusters.append(new_list)\n",
    "print(\"Clusters are: {0}\\n\".format(adj_clusters))\n",
    "\n",
    "t_mass = [0]\n",
    "for c in clusters:\n",
    "    t_scores = 0\n",
    "    for time in c:\n",
    "        t_scores += tvalues[time]\n",
    "    t_mass += [t_scores]\n",
    "\n",
    "max_t_mass = max(t_mass)\n",
    "print(\"The max t mass is: {0}\\n\".format(max_t_mass))"
   ]
  },
  {
   "cell_type": "markdown",
   "metadata": {},
   "source": [
    "## Null distribution"
   ]
  },
  {
   "cell_type": "code",
   "execution_count": null,
   "metadata": {
    "pycharm": {
     "name": "#%%\n"
    }
   },
   "outputs": [],
   "source": [
    "\n",
    "num_iter = 10\n",
    "\n",
    "results = {}\n",
    "\n",
    "\n",
    "for i in range(num_iter): \n",
    "\n",
    "    X, y, good_trial_count = prep_cluster_analysis(cleaned_data_filepath, participants, downsample_num=1000, averaging=\"no_average_labels\", length_per_window=length_per_window)\n",
    "    #remap x labels\n",
    "    \n",
    "    \n",
    "    X_train, y_train, X_test, y_test, X_test_t, y_test_t, X_test_pt, y_test_pt = prep_raw_pred_avg(X, participants, length_per_window, num_sliding_windows)\n",
    "\n",
    "    \n",
    "    model = LinearSVC(C=1e-9, max_iter=1000)\n",
    "    #model = SVC(gamma=.001, kernel = 'rbf', C = 100)\n",
    "\n",
    "\n",
    "    for j in range(num_sliding_windows):\n",
    "\n",
    "            model.fit(X_train[j], y_train[j])\n",
    "\n",
    "            # validation, predict raw\n",
    "    #         y_pred = model.predict(X_train[j])\n",
    "    #         testScore = accuracy_score(y_train[j],y_pred)\n",
    "\n",
    "            # predict averaged across trials\n",
    "#             y_pred = model.predict(X_test_t[j])\n",
    "#             testScore = accuracy_score(y_test_t[j],y_pred)\n",
    "\n",
    "            # predict averaged across trials and ps\n",
    "            y_pred = model.predict(X_test_pt[j])\n",
    "            testScore = accuracy_score(y_test_pt[j],y_pred)\n",
    "\n",
    "\n",
    "            if j in results.keys(): \n",
    "                results[j].append(testScore)\n",
    "            else:\n",
    "                results[j]=[]\n",
    "                results[j].append(testScore)\n",
    "                \n",
    "    print(i)\n",
    "\n",
    "pvalues = []\n",
    "for i in range(len(results)):\n",
    "    # change the second argument below for comparison\n",
    "    istat = stats.ttest_1samp(results[i], .5)\n",
    "    pvalues += [istat.pvalue] if istat.statistic > 0 else [1]\n",
    "\n",
    "valid_window = [i for i,v in enumerate(pvalues) if v <= 0.025]\n",
    "print(\"Valid windows are: {0}\\n\".format(valid_window))\n",
    "\n",
    "# Obtain clusters (3 or more consecutive meaningful time)\n",
    "clusters = [list(group) for group in mit.consecutive_groups(valid_window)]\n",
    "clusters = [group for group in clusters if len(group) >= 3]\n",
    "\n",
    "adj_clusters = []\n",
    "for c in clusters: \n",
    "    new_list = [((x*10)-200) for x in c]\n",
    "    adj_clusters.append(new_list)\n",
    "print(\"Clusters are: {0}\\n\".format(adj_clusters))\n",
    "\n",
    "t_mass = []\n",
    "for c in clusters:\n",
    "    t_scores = 0\n",
    "    for time in c:\n",
    "        t_scores += pvalues[time]\n",
    "    t_mass += [t_scores]\n",
    "\n",
    "max_t_mass = max(t_mass)\n",
    "print(\"The max t mass is: {0}\\n\".format(max_t_mass))\n",
    "\n"
   ]
  },
  {
   "cell_type": "markdown",
   "metadata": {},
   "source": [
    "## Cross validation\n",
    "For raw data"
   ]
  },
  {
   "cell_type": "code",
   "execution_count": null,
   "metadata": {
    "pycharm": {
     "name": "#%%\n"
    }
   },
   "outputs": [],
   "source": [
    "# Randomized order of cross val, for raw data matrix\n",
    "\n",
    "X, y, good_trial_count = prep_cluster_analysis(cleaned_data_filepath, participants, downsample_num=1200, averaging=\"no_averaging\", length_per_window=length_per_window)\n",
    "\n",
    "\n",
    "num_iterations = 5\n",
    "num_folds = 5\n",
    "\n",
    "results = {}\n",
    "for i in range(num_iterations):\n",
    "    for j in range(num_sliding_windows):\n",
    "        Xfirst = X[j]\n",
    "        yfirst = y[j]\n",
    "        Xfirst['label'] = yfirst\n",
    "        Xfirst = Xfirst.sample(frac=1).reset_index(drop=True) #randomization\n",
    "        ys = Xfirst['label']\n",
    "        Xs = Xfirst.drop(columns=['label'])\n",
    "        \n",
    "        #model = SVC(gamma=.001, kernel = 'rbf', C=1)\n",
    "        model = LinearSVC(C=1, max_iter=5000)\n",
    "        cv_results = cross_validate(model, Xs, ys, cv=num_folds)\n",
    "        if j in results.keys(): \n",
    "            results[j] += cv_results['test_score'].tolist()\n",
    "        else:\n",
    "            results[j] = cv_results['test_score'].tolist()\n",
    "    print(i)\n",
    "\n",
    "    \n",
    "for i in range(num_sliding_windows):\n",
    "    assert len(results[i]) == num_iterations * num_folds\n"
   ]
  },
  {
   "cell_type": "code",
   "execution_count": null,
   "metadata": {
    "pycharm": {
     "name": "#%%\n"
    }
   },
   "outputs": [],
   "source": [
    "X[0].shape\n",
    "X.shape"
   ]
  },
  {
   "cell_type": "markdown",
   "metadata": {},
   "source": [
    "## Cross validation\n",
    "For averaged data"
   ]
  },
  {
   "cell_type": "code",
   "execution_count": null,
   "metadata": {
    "pycharm": {
     "name": "#%%\n"
    }
   },
   "outputs": [],
   "source": [
    "# Cross validation with RepeatedKFold for averaged matrices\n",
    "\n",
    "#Xwin, ywin, good_trial_count = prep_cluster_analysis(cleaned_data_filepath, participants, downsample_num=1000, averaging=\"average_trials\", length_per_window=length_per_window)\n",
    "#Xwin, ywin, good_trial_count = prep_cluster_analysis(cleaned_data_filepath, participants, downsample_num=1000, averaging=\"average_trials_and_participants\", length_per_window=length_per_window)\n",
    "\n",
    "\n",
    "num_iterations = 3\n",
    "num_folds = 5\n",
    "\n",
    "\n",
    "import numpy as np\n",
    "from sklearn.model_selection import RepeatedKFold\n",
    "from sklearn.model_selection import train_test_split\n",
    "from sklearn.metrics import accuracy_score,recall_score,precision_score,f1_score\n",
    "\n",
    "\n",
    "\n",
    "results = {}\n",
    "for j in range(num_sliding_windows):\n",
    "    X = Xwin[j]\n",
    "    y = ywin[j]\n",
    "\n",
    "    #model = SVC(gamma=.001, kernel = 'rbf', C=1e-4)\n",
    "    model = LinearSVC(C=1, max_iter=5000)\n",
    "    rkf = RepeatedKFold(n_splits=num_folds, n_repeats=num_iterations, random_state=2652124)\n",
    "    for train_index, test_index in rkf.split(X):\n",
    "        X_train, X_test = X[train_index], X[test_index]\n",
    "        y_train, y_test = y[train_index], y[test_index]\n",
    "\n",
    "        model.fit(X_train, y_train)\n",
    "        y_pred = model.predict(X_test)\n",
    "        testScore = accuracy_score(y_test,y_pred)\n",
    "\n",
    "        if j in results.keys(): \n",
    "            results[j].append(testScore)\n",
    "        else:\n",
    "            results[j]=[]\n",
    "            results[j].append(testScore)\n",
    "    \n",
    "\n",
    "for i in range(num_sliding_windows):\n",
    "    assert len(results[i]) == num_iterations * num_folds"
   ]
  },
  {
   "cell_type": "code",
   "execution_count": null,
   "metadata": {
    "pycharm": {
     "name": "#%%\n"
    }
   },
   "outputs": [],
   "source": []
  },
  {
   "cell_type": "code",
   "execution_count": null,
   "metadata": {
    "pycharm": {
     "name": "#%%\n"
    }
   },
   "outputs": [],
   "source": []
  },
  {
   "cell_type": "code",
   "execution_count": null,
   "metadata": {
    "pycharm": {
     "name": "#%%\n"
    }
   },
   "outputs": [],
   "source": [
    "scoreMean = []\n",
    "stdev = []\n",
    "\n",
    "for i in range(num_sliding_windows):\n",
    "    scoreMean.append(np.mean(results[i]))\n",
    "    stdev.append(np.std(results[i]))\n",
    "\n",
    "print( np.mean(scoreMean))\n",
    "print(scoreMean)\n",
    "print(stdev)"
   ]
  },
  {
   "cell_type": "code",
   "execution_count": null,
   "metadata": {
    "pycharm": {
     "name": "#%%\n"
    }
   },
   "outputs": [],
   "source": [
    "# T-test\n",
    "accuracy_by_guessing = [0.5] * (num_iterations * num_folds)\n",
    "pvalues = []\n",
    "for i in range(num_sliding_windows):\n",
    "    istat = stats.ttest_1samp(results[i], .5)\n",
    "    pvalues += [istat.pvalue] if istat.statistic > 0 else [1]"
   ]
  },
  {
   "cell_type": "code",
   "execution_count": null,
   "metadata": {
    "pycharm": {
     "name": "#%%\n"
    }
   },
   "outputs": [],
   "source": [
    "# Finding contiguous time cluster\n",
    "valid_window = [i for i,v in enumerate(pvalues) if v <= 0.025]\n",
    "print(valid_window)"
   ]
  },
  {
   "cell_type": "markdown",
   "metadata": {},
   "source": [
    "# Feature Extraction"
   ]
  },
  {
   "cell_type": "code",
   "execution_count": null,
   "metadata": {
    "pycharm": {
     "name": "#%%\n"
    }
   },
   "outputs": [],
   "source": [
    "# X, y, good_trial_count = prep_cluster_analysis(cleaned_data_filepath, participants, downsample_num=1200, averaging=\"no_averaging\", length_per_window=length_per_window)\n",
    "\n"
   ]
  },
  {
   "cell_type": "code",
   "execution_count": null,
   "metadata": {
    "pycharm": {
     "name": "#%%\n"
    }
   },
   "outputs": [],
   "source": [
    "#X, y, good_trial_count = prep_cluster_analysis(cleaned_data_filepath, participants, downsample_num=1000, averaging=\"average_trials\", length_per_window=length_per_window)\n",
    "X, y, good_trial_count = prep_cluster_analysis(cleaned_data_filepath, participants, downsample_num=1000, averaging=\"average_trials_and_participants\", length_per_window=length_per_window)\n",
    "\n",
    "\n",
    "\n",
    "for k in range(len(X)):\n",
    "    X[k] = pd.DataFrame(data=X[k][0:,0:])"
   ]
  },
  {
   "cell_type": "code",
   "execution_count": null,
   "metadata": {
    "pycharm": {
     "name": "#%%\n"
    }
   },
   "outputs": [],
   "source": [
    "#Normalization \n",
    "\n",
    "\n",
    "#funcs = [np.mean, np.min, np.max, np.var, skew, kurtosis]\n",
    "funcs = [np.mean, np.min, np.max, np.var]\n",
    "\n",
    "df_feats_list = []\n",
    "\n",
    "for j in range(num_sliding_windows):  \n",
    "    df_feats = X[j].apply(funcs, axis=1)\n",
    "    \n",
    "    # calc skew\n",
    "    skew_j = skew(X[j], axis = 1)\n",
    "    df_feats['skew'] = skew_j\n",
    "\n",
    "    # calc kurtosis\n",
    "    kurt_j = kurtosis(X[j], axis = 1)\n",
    "    df_feats['kurtosis'] = kurt_j\n",
    "\n",
    "\n",
    "    \n",
    "    #normalize: (x-xmin)/(max-min)\n",
    "\n",
    "    # Get column names first\n",
    "    names = df_feats.columns\n",
    "\n",
    "    normalized_df = []\n",
    "    for i in names: \n",
    "        x_array = np.array(df_feats[i])\n",
    "        normalized_X = preprocessing.normalize([x_array])\n",
    "        normalized_df.append(normalized_X)\n",
    "    \n",
    "    \n",
    "    df_1 = pd.DataFrame(np.concatenate(normalized_df))\n",
    "    df = df_1.T #transpose\n",
    "    df.columns= ['mean', 'amin', 'amax', 'var', 'skew', 'kurtosis']\n",
    "\n",
    "    \n",
    "\n",
    "    #put all windows together into a list\n",
    "    df_feats_list.append(df)\n",
    "    \n",
    "    \n",
    "\n",
    "\n"
   ]
  },
  {
   "cell_type": "code",
   "execution_count": null,
   "metadata": {
    "pycharm": {
     "name": "#%%\n"
    }
   },
   "outputs": [],
   "source": [
    "# # Standarization: \n",
    "\n",
    "# #funcs = [np.mean, np.min, np.max, np.var, skew, kurtosis]\n",
    "# funcs = [np.mean, np.min, np.max, np.var]\n",
    "\n",
    "# df_feats_list = []\n",
    "\n",
    "# for j in range(num_sliding_windows):  \n",
    "#     df_feats = X[j].apply(funcs, axis=1)\n",
    "    \n",
    "#     # calc skew\n",
    "#     skew_j = skew(X[j], axis = 1)\n",
    "#     df_feats['skew'] = skew_j\n",
    "\n",
    "#     # calc kurtosis\n",
    "#     kurt_j = kurtosis(X[j], axis = 1)\n",
    "#     df_feats['kurtosis'] = kurt_j\n",
    "\n",
    "\n",
    "#     #standarized: (x-mean)/(stdev)\n",
    "\n",
    "#      # Get column names first\n",
    "#     names = df_feats.columns\n",
    "\n",
    "#     # Create the Scaler object\n",
    "#     scaler = preprocessing.StandardScaler()\n",
    "#     # Fit your data on the scaler object\n",
    "#     scaled_df = scaler.fit_transform(df_feats)\n",
    "#     scaled_df = pd.DataFrame(scaled_df, columns=names)\n",
    "\n",
    "#     #put all windows together into a list\n",
    "#     df_feats_list.append(scaled_df)\n",
    "\n"
   ]
  },
  {
   "cell_type": "markdown",
   "metadata": {},
   "source": [
    "# Cross val on extracted features"
   ]
  },
  {
   "cell_type": "code",
   "execution_count": null,
   "metadata": {
    "pycharm": {
     "name": "#%%\n"
    }
   },
   "outputs": [],
   "source": [
    "\n",
    "num_iterations = 5\n",
    "num_folds = 5\n",
    "\n",
    "results = {}\n",
    "for i in range(num_iterations):\n",
    "    for j in range(num_sliding_windows):\n",
    "        Xfirst = df_feats_list[j]\n",
    "        yfirst = y[j]\n",
    "        Xfirst['label'] = yfirst\n",
    "        Xfirst = Xfirst.sample(frac=1).reset_index(drop=True) #randomization\n",
    "        ys = Xfirst['label']\n",
    "        Xs = Xfirst.drop(columns=['label'])\n",
    "        \n",
    "        #model = SVC(gamma=.001, kernel = 'rbf', C=100)\n",
    "        model = LinearSVC(C=1e-3, max_iter=1000)\n",
    "        cv_results = cross_validate(model, Xs, ys, cv=num_folds)\n",
    "        if j in results.keys(): \n",
    "            results[j] += cv_results['test_score'].tolist()\n",
    "        else:\n",
    "            results[j] = cv_results['test_score'].tolist()\n",
    "    print(i)\n",
    "\n",
    "    \n",
    "for i in range(num_sliding_windows):\n",
    "    assert len(results[i]) == num_iterations * num_folds"
   ]
  },
  {
   "cell_type": "code",
   "execution_count": null,
   "metadata": {
    "pycharm": {
     "name": "#%%\n"
    }
   },
   "outputs": [],
   "source": []
  },
  {
   "cell_type": "code",
   "execution_count": null,
   "metadata": {
    "pycharm": {
     "name": "#%%\n"
    }
   },
   "outputs": [],
   "source": [
    "scoreMean = []\n",
    "stdev = []\n",
    "\n",
    "for i in range(num_sliding_windows):\n",
    "    scoreMean.append(np.mean(results[i]))\n",
    "    stdev.append(np.std(results[i]))\n",
    "\n"
   ]
  },
  {
   "cell_type": "code",
   "execution_count": null,
   "metadata": {
    "pycharm": {
     "name": "#%%\n"
    }
   },
   "outputs": [],
   "source": [
    "scoreMean"
   ]
  },
  {
   "cell_type": "code",
   "execution_count": null,
   "metadata": {
    "pycharm": {
     "name": "#%%\n"
    }
   },
   "outputs": [],
   "source": [
    "max(scoreMean)"
   ]
  },
  {
   "cell_type": "code",
   "execution_count": null,
   "metadata": {
    "pycharm": {
     "name": "#%%\n"
    }
   },
   "outputs": [],
   "source": [
    "stdev"
   ]
  },
  {
   "cell_type": "code",
   "execution_count": null,
   "metadata": {
    "pycharm": {
     "name": "#%%\n"
    }
   },
   "outputs": [],
   "source": [
    "# T-test\n",
    "accuracy_by_guessing = [0.5] * (num_iterations * num_folds)\n",
    "pvalues = []\n",
    "for i in range(num_sliding_windows):\n",
    "    istat = stats.ttest_1samp(results[i], .5)\n",
    "    pvalues += [istat.pvalue] if istat.statistic > 0 else [1]"
   ]
  },
  {
   "cell_type": "code",
   "execution_count": null,
   "metadata": {
    "pycharm": {
     "name": "#%%\n"
    }
   },
   "outputs": [],
   "source": [
    "# Finding contiguous time cluster\n",
    "valid_window = [i for i,v in enumerate(pvalues) if v <= 0.025]\n",
    "print(valid_window)"
   ]
  },
  {
   "cell_type": "code",
   "execution_count": null,
   "metadata": {
    "pycharm": {
     "name": "#%%\n"
    }
   },
   "outputs": [],
   "source": [
    "#plot results:\n",
    "\n",
    "x_graph = np.arange(-200,1000,length_per_window)\n",
    "y_graph = scoreMean\n",
    "stdev = np.array(stdev)\n",
    "error = stdev\n",
    "plt.plot(x_graph, y_graph, 'k-')\n",
    "plt.fill_between(x_graph, y_graph-error, y_graph+error)\n",
    "plt.show()"
   ]
  },
  {
   "cell_type": "code",
   "execution_count": null,
   "metadata": {
    "pycharm": {
     "name": "#%%\n"
    }
   },
   "outputs": [],
   "source": []
  },
  {
   "cell_type": "code",
   "execution_count": null,
   "metadata": {
    "pycharm": {
     "name": "#%%\n"
    }
   },
   "outputs": [],
   "source": []
  }
 ],
 "metadata": {
  "kernelspec": {
   "display_name": "Python 3",
   "language": "python",
   "name": "python3"
  },
  "language_info": {
   "codemirror_mode": {
    "name": "ipython",
    "version": 3
   },
   "file_extension": ".py",
   "mimetype": "text/x-python",
   "name": "python",
   "nbconvert_exporter": "python",
   "pygments_lexer": "ipython3",
   "version": "3.7.4"
  }
 },
 "nbformat": 4,
 "nbformat_minor": 4
}