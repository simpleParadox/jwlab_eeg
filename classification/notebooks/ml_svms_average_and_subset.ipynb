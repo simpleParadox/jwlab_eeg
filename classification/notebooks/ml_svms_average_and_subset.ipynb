{
 "cells": [
  {
   "cell_type": "markdown",
   "metadata": {},
   "source": [
    "# Training Model: SVM"
   ]
  },
  {
   "cell_type": "markdown",
   "metadata": {},
   "source": [
    "## 1. Importing libraries ..."
   ]
  },
  {
   "cell_type": "code",
   "execution_count": 1,
   "metadata": {},
   "outputs": [],
   "source": [
    "import pandas as pd\n",
    "import numpy as np\n",
    "import setup_jwlab\n",
    "from jwlab.constants import cleaned_data_filepath\n",
    "from jwlab.ml_prep import prep_ml\n",
    "from sklearn.svm import LinearSVC\n",
    "from sklearn.model_selection import train_test_split"
   ]
  },
  {
   "cell_type": "markdown",
   "metadata": {},
   "source": [
    "## 2. Importing Participants data set ...\n",
    "Note: choose only one of the data set below"
   ]
  },
  {
   "cell_type": "markdown",
   "metadata": {},
   "source": [
    "#### 2.1 All participants"
   ]
  },
  {
   "cell_type": "code",
   "execution_count": 2,
   "metadata": {},
   "outputs": [],
   "source": [
    "participants = [\"105\", \"106\", \"107\", \"109\", \"111\", \"904\", \"905\", \"906\", \"112\", \"909\", \"910\", \"115\", \"116\", \"912\", \"908\"]"
   ]
  },
  {
   "cell_type": "markdown",
   "metadata": {},
   "source": [
    "#### 2.2 All 13-month participants"
   ]
  },
  {
   "cell_type": "code",
   "execution_count": 2,
   "metadata": {},
   "outputs": [],
   "source": [
    "participants = [\"105\", \"106\", \"107\", \"109\", \"111\", \"112\", \"115\", \"116\"]"
   ]
  },
  {
   "cell_type": "markdown",
   "metadata": {},
   "source": [
    "#### 2.3 All 9-month participants"
   ]
  },
  {
   "cell_type": "code",
   "execution_count": 2,
   "metadata": {},
   "outputs": [],
   "source": [
    "participants = [\"904\", \"905\", \"906\", \"909\", \"910\", \"912\", \"908\"]"
   ]
  },
  {
   "cell_type": "markdown",
   "metadata": {},
   "source": [
    "## 3. Generating random subsets of the chosen participant list"
   ]
  },
  {
   "cell_type": "code",
   "execution_count": 3,
   "metadata": {},
   "outputs": [
    {
     "name": "stdout",
     "output_type": "stream",
     "text": [
      "12 3\n"
     ]
    }
   ],
   "source": [
    "participants_train, participants_test = train_test_split(participants,test_size=0.2)\n",
    "print(len(participants_train), len(participants_test))"
   ]
  },
  {
   "cell_type": "markdown",
   "metadata": {},
   "source": [
    "## 4. Preparing the data set for the ML model ...\n",
    "Note: the dimensions are also verified"
   ]
  },
  {
   "cell_type": "markdown",
   "metadata": {},
   "source": [
    "#### 4.1 No_averaging data"
   ]
  },
  {
   "cell_type": "code",
   "execution_count": 4,
   "metadata": {},
   "outputs": [
    {
     "name": "stdout",
     "output_type": "stream",
     "text": [
      "The number of bad trials of the participant - [105] that are removed is [10].\n",
      "The number of bad channels that are removed is - [7].\n",
      "The number of bad trials of the participant - [910] that are removed is [39].\n",
      "The number of bad channels that are removed is - [11].\n",
      "The number of bad trials of the participant - [908] that are removed is [7].\n",
      "The number of bad channels that are removed is - [15].\n",
      "The number of bad trials of the participant - [107] that are removed is [15].\n",
      "The number of bad channels that are removed is - [34].\n",
      "The number of bad trials of the participant - [909] that are removed is [17].\n",
      "The number of bad channels that are removed is - [6].\n",
      "The number of bad trials of the participant - [912] that are removed is [22].\n",
      "The number of bad channels that are removed is - [10].\n",
      "The number of bad trials of the participant - [904] that are removed is [30].\n",
      "The number of bad channels that are removed is - [50].\n",
      "The number of bad trials of the participant - [112] that are removed is [29].\n",
      "The number of bad channels that are removed is - [15].\n",
      "The number of bad trials of the participant - [116] that are removed is [10].\n",
      "The number of bad channels that are removed is - [14].\n",
      "The number of bad trials of the participant - [109] that are removed is [25].\n",
      "The number of bad channels that are removed is - [0].\n",
      "The number of bad trials of the participant - [106] that are removed is [8].\n",
      "The number of bad channels that are removed is - [6].\n",
      "The number of bad trials of the participant - [905] that are removed is [6].\n",
      "The number of bad channels that are removed is - [22].\n",
      "The number of good trials left for participant - [105] is - [29].\n",
      "The number of good trials left for participant - [910] is - [3].\n",
      "The number of good trials left for participant - [908] is - [56].\n",
      "The number of good trials left for participant - [107] is - [60].\n",
      "The number of good trials left for participant - [909] is - [40].\n",
      "The number of good trials left for participant - [912] is - [37].\n",
      "The number of good trials left for participant - [904] is - [37].\n",
      "The number of good trials left for participant - [112] is - [58].\n",
      "The number of good trials left for participant - [116] is - [27].\n",
      "The number of good trials left for participant - [109] is - [85].\n",
      "The number of good trials left for participant - [106] is - [18].\n",
      "The number of good trials left for participant - [905] is - [56].\n",
      "The number of bad trials of the participant - [111] that are removed is [32].\n",
      "The number of bad channels that are removed is - [30].\n",
      "The number of bad trials of the participant - [906] that are removed is [34].\n",
      "The number of bad channels that are removed is - [30].\n",
      "The number of bad trials of the participant - [115] that are removed is [20].\n",
      "The number of bad channels that are removed is - [14].\n",
      "The number of good trials left for participant - [111] is - [47].\n",
      "The number of good trials left for participant - [906] is - [0].\n",
      "The number of good trials left for participant - [115] is - [102].\n"
     ]
    }
   ],
   "source": [
    "X_train_n,y_train_n,p_train_n,w_train_n,df_train_n = prep_ml(cleaned_data_filepath, participants_train, downsample_num=1000, averaging=\"no_averaging\")\n",
    "X_test_n, y_test_n, p_test_n, w_test_n, df_test_n = prep_ml(cleaned_data_filepath, participants_test, downsample_num=1000, averaging=\"no_averaging\")\n",
    "\n",
    "(n_train, d_train) = X_train_n.shape\n",
    "assert n_train == y_train_n.shape[0]\n",
    "\n",
    "(n_test, d_test) = X_test_n.shape\n",
    "assert n_test == y_test_n.shape[0]"
   ]
  },
  {
   "cell_type": "markdown",
   "metadata": {},
   "source": [
    "#### 4.2 Average_trials"
   ]
  },
  {
   "cell_type": "code",
   "execution_count": 5,
   "metadata": {},
   "outputs": [
    {
     "name": "stdout",
     "output_type": "stream",
     "text": [
      "The number of bad trials of the participant - [105] that are removed is [10].\n",
      "The number of bad channels that are removed is - [7].\n",
      "The number of bad trials of the participant - [910] that are removed is [39].\n",
      "The number of bad channels that are removed is - [11].\n",
      "The number of bad trials of the participant - [908] that are removed is [7].\n",
      "The number of bad channels that are removed is - [15].\n",
      "The number of bad trials of the participant - [107] that are removed is [15].\n",
      "The number of bad channels that are removed is - [34].\n",
      "The number of bad trials of the participant - [909] that are removed is [17].\n",
      "The number of bad channels that are removed is - [6].\n",
      "The number of bad trials of the participant - [912] that are removed is [22].\n",
      "The number of bad channels that are removed is - [10].\n",
      "The number of bad trials of the participant - [904] that are removed is [30].\n",
      "The number of bad channels that are removed is - [50].\n",
      "The number of bad trials of the participant - [112] that are removed is [29].\n",
      "The number of bad channels that are removed is - [15].\n",
      "The number of bad trials of the participant - [116] that are removed is [10].\n",
      "The number of bad channels that are removed is - [14].\n",
      "The number of bad trials of the participant - [109] that are removed is [25].\n",
      "The number of bad channels that are removed is - [0].\n",
      "The number of bad trials of the participant - [106] that are removed is [8].\n",
      "The number of bad channels that are removed is - [6].\n",
      "The number of bad trials of the participant - [905] that are removed is [6].\n",
      "The number of bad channels that are removed is - [22].\n",
      "The number of good trials left for participant - [105] is - [29].\n",
      "The number of good trials left for participant - [910] is - [3].\n",
      "The number of good trials left for participant - [908] is - [56].\n",
      "The number of good trials left for participant - [107] is - [60].\n",
      "The number of good trials left for participant - [909] is - [40].\n",
      "The number of good trials left for participant - [912] is - [37].\n",
      "The number of good trials left for participant - [904] is - [37].\n",
      "The number of good trials left for participant - [112] is - [58].\n",
      "The number of good trials left for participant - [116] is - [27].\n",
      "The number of good trials left for participant - [109] is - [85].\n",
      "The number of good trials left for participant - [106] is - [18].\n",
      "The number of good trials left for participant - [905] is - [56].\n",
      "The number of bad trials of the participant - [111] that are removed is [32].\n",
      "The number of bad channels that are removed is - [30].\n",
      "The number of bad trials of the participant - [906] that are removed is [34].\n",
      "The number of bad channels that are removed is - [30].\n",
      "The number of bad trials of the participant - [115] that are removed is [20].\n",
      "The number of bad channels that are removed is - [14].\n",
      "The number of good trials left for participant - [111] is - [47].\n",
      "The number of good trials left for participant - [906] is - [0].\n",
      "The number of good trials left for participant - [115] is - [102].\n"
     ]
    }
   ],
   "source": [
    "X_train_t, y_train_t, p_train_t, w_train_t,df_train_t = prep_ml(cleaned_data_filepath, participants_train, downsample_num=1000, averaging=\"average_trials\")\n",
    "X_test_t, y_test_t, p_test_t, w_test_t, df_test_t = prep_ml(cleaned_data_filepath, participants_test, downsample_num=1000, averaging=\"average_trials\")\n",
    "\n",
    "(n_train, d_train) = X_train_t.shape\n",
    "assert n_train == y_train_t.shape[0]\n",
    "\n",
    "(n_test, d_test) = X_test_t.shape\n",
    "assert n_test == y_test_t.shape[0]"
   ]
  },
  {
   "cell_type": "markdown",
   "metadata": {},
   "source": [
    "#### 4.3 Average_trials_and_participants"
   ]
  },
  {
   "cell_type": "code",
   "execution_count": 6,
   "metadata": {},
   "outputs": [
    {
     "name": "stdout",
     "output_type": "stream",
     "text": [
      "The number of bad trials of the participant - [105] that are removed is [10].\n",
      "The number of bad channels that are removed is - [7].\n",
      "The number of bad trials of the participant - [910] that are removed is [39].\n",
      "The number of bad channels that are removed is - [11].\n",
      "The number of bad trials of the participant - [908] that are removed is [7].\n",
      "The number of bad channels that are removed is - [15].\n",
      "The number of bad trials of the participant - [107] that are removed is [15].\n",
      "The number of bad channels that are removed is - [34].\n",
      "The number of bad trials of the participant - [909] that are removed is [17].\n",
      "The number of bad channels that are removed is - [6].\n",
      "The number of bad trials of the participant - [912] that are removed is [22].\n",
      "The number of bad channels that are removed is - [10].\n",
      "The number of bad trials of the participant - [904] that are removed is [30].\n",
      "The number of bad channels that are removed is - [50].\n",
      "The number of bad trials of the participant - [112] that are removed is [29].\n",
      "The number of bad channels that are removed is - [15].\n",
      "The number of bad trials of the participant - [116] that are removed is [10].\n",
      "The number of bad channels that are removed is - [14].\n",
      "The number of bad trials of the participant - [109] that are removed is [25].\n",
      "The number of bad channels that are removed is - [0].\n",
      "The number of bad trials of the participant - [106] that are removed is [8].\n",
      "The number of bad channels that are removed is - [6].\n",
      "The number of bad trials of the participant - [905] that are removed is [6].\n",
      "The number of bad channels that are removed is - [22].\n",
      "The number of good trials left for participant - [105] is - [29].\n",
      "The number of good trials left for participant - [910] is - [3].\n",
      "The number of good trials left for participant - [908] is - [56].\n",
      "The number of good trials left for participant - [107] is - [60].\n",
      "The number of good trials left for participant - [909] is - [40].\n",
      "The number of good trials left for participant - [912] is - [37].\n",
      "The number of good trials left for participant - [904] is - [37].\n",
      "The number of good trials left for participant - [112] is - [58].\n",
      "The number of good trials left for participant - [116] is - [27].\n",
      "The number of good trials left for participant - [109] is - [85].\n",
      "The number of good trials left for participant - [106] is - [18].\n",
      "The number of good trials left for participant - [905] is - [56].\n",
      "The number of bad trials of the participant - [111] that are removed is [32].\n",
      "The number of bad channels that are removed is - [30].\n",
      "The number of bad trials of the participant - [906] that are removed is [34].\n",
      "The number of bad channels that are removed is - [30].\n",
      "The number of bad trials of the participant - [115] that are removed is [20].\n",
      "The number of bad channels that are removed is - [14].\n",
      "The number of good trials left for participant - [111] is - [47].\n",
      "The number of good trials left for participant - [906] is - [0].\n",
      "The number of good trials left for participant - [115] is - [102].\n"
     ]
    }
   ],
   "source": [
    "X_train_tp, y_train_tp, p_train_tp, w_train_tp, df_train_tp = prep_ml(cleaned_data_filepath, participants_train, downsample_num=1000, averaging=\"average_trials_and_participants\")\n",
    "X_test_tp, y_test_tp, p_test_tp, w_test_tp, df_test_tp = prep_ml(cleaned_data_filepath, participants_test, downsample_num=1000, averaging=\"average_trials_and_participants\")\n",
    "\n",
    "(n_train, d_train) = X_train_tp.shape\n",
    "assert n_train == y_train_tp.shape[0]\n",
    "\n",
    "(n_test, d_test) = X_test_tp.shape\n",
    "assert n_test == y_test_tp.shape[0]"
   ]
  },
  {
   "cell_type": "markdown",
   "metadata": {},
   "source": [
    "## 5. Setting up the SVM model ..."
   ]
  },
  {
   "cell_type": "code",
   "execution_count": 7,
   "metadata": {},
   "outputs": [],
   "source": [
    "model = LinearSVC(C=1e-9, max_iter=1000)"
   ]
  },
  {
   "cell_type": "markdown",
   "metadata": {},
   "source": [
    "## 6. Training and testing the model ..."
   ]
  },
  {
   "cell_type": "markdown",
   "metadata": {},
   "source": [
    "### 6.1 Train on no_average, with error rate ..."
   ]
  },
  {
   "cell_type": "code",
   "execution_count": 8,
   "metadata": {},
   "outputs": [
    {
     "data": {
      "text/plain": [
       "0.49714285714285716"
      ]
     },
     "execution_count": 8,
     "metadata": {},
     "output_type": "execute_result"
    }
   ],
   "source": [
    "model.fit(X_train_n, y_train_n)\n",
    "\n",
    "np.mean(model.predict(X_test_n) != y_test_n)"
   ]
  },
  {
   "cell_type": "markdown",
   "metadata": {},
   "source": [
    "### 6.2 Train on average_trials, with error rate ..."
   ]
  },
  {
   "cell_type": "code",
   "execution_count": 9,
   "metadata": {},
   "outputs": [
    {
     "data": {
      "text/plain": [
       "0.5"
      ]
     },
     "execution_count": 9,
     "metadata": {},
     "output_type": "execute_result"
    }
   ],
   "source": [
    "model.fit(X_train_t, y_train_t)\n",
    "\n",
    "np.mean(model.predict(X_test_t) != y_test_t)"
   ]
  },
  {
   "cell_type": "markdown",
   "metadata": {},
   "source": [
    "### 6.3 Train on average_trials_and_participants, with error rate ..."
   ]
  },
  {
   "cell_type": "code",
   "execution_count": 10,
   "metadata": {},
   "outputs": [
    {
     "data": {
      "text/plain": [
       "0.5625"
      ]
     },
     "execution_count": 10,
     "metadata": {},
     "output_type": "execute_result"
    }
   ],
   "source": [
    "model.fit(X_train_tp, y_train_tp)\n",
    "\n",
    "np.mean(model.predict(X_test_tp) != y_test_tp)"
   ]
  },
  {
   "cell_type": "code",
   "execution_count": null,
   "metadata": {},
   "outputs": [],
   "source": []
  },
  {
   "cell_type": "code",
   "execution_count": 17,
   "metadata": {},
   "outputs": [
    {
     "data": {
      "text/plain": [
       "(461, 60000)"
      ]
     },
     "execution_count": 17,
     "metadata": {},
     "output_type": "execute_result"
    }
   ],
   "source": [
    "X_n.shape"
   ]
  },
  {
   "cell_type": "code",
   "execution_count": 18,
   "metadata": {},
   "outputs": [
    {
     "data": {
      "text/plain": [
       "(16, 60000)"
      ]
     },
     "execution_count": 18,
     "metadata": {},
     "output_type": "execute_result"
    }
   ],
   "source": [
    "X_tp.shape"
   ]
  },
  {
   "cell_type": "code",
   "execution_count": 19,
   "metadata": {},
   "outputs": [
    {
     "data": {
      "text/plain": [
       "(128, 60000)"
      ]
     },
     "execution_count": 19,
     "metadata": {},
     "output_type": "execute_result"
    }
   ],
   "source": [
    "X_t.shape"
   ]
  },
  {
   "cell_type": "code",
   "execution_count": null,
   "metadata": {},
   "outputs": [],
   "source": []
  }
 ],
 "metadata": {
  "kernelspec": {
   "display_name": "Python 3",
   "language": "python",
   "name": "python3"
  },
  "language_info": {
   "codemirror_mode": {
    "name": "ipython",
    "version": 3
   },
   "file_extension": ".py",
   "mimetype": "text/x-python",
   "name": "python",
   "nbconvert_exporter": "python",
   "pygments_lexer": "ipython3",
   "version": "3.7.4"
  }
 },
 "nbformat": 4,
 "nbformat_minor": 2
}
