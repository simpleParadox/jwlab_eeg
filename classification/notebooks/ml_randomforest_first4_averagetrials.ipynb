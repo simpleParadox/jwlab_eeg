{
 "cells": [
  {
   "cell_type": "code",
   "execution_count": 1,
   "metadata": {},
   "outputs": [],
   "source": [
    "import pandas as pd\n",
    "import numpy as np"
   ]
  },
  {
   "cell_type": "code",
   "execution_count": 2,
   "metadata": {
    "scrolled": true
   },
   "outputs": [],
   "source": [
    "from constants import cleaned_data_filepath\n",
    "participants = [\"105\", \"106\", \"107\", \"109\", \"111\", \"904\", \"905\", \n",
    "                \"906\", \"112\", \"909\", \"910\", \"115\", \"116\", \"912\"]\n",
    "\n",
    "from ml_prep import prep_ml\n",
    "X,y,p,w = prep_ml(cleaned_data_filepath, participants, downsample_num=200, averaging=\"no_averaging\")"
   ]
  },
  {
   "cell_type": "code",
   "execution_count": 3,
   "metadata": {
    "scrolled": true
   },
   "outputs": [
    {
     "data": {
      "text/plain": [
       "272"
      ]
     },
     "execution_count": 3,
     "metadata": {},
     "output_type": "execute_result"
    }
   ],
   "source": [
    "y.shape[0]"
   ]
  },
  {
   "cell_type": "code",
   "execution_count": null,
   "metadata": {},
   "outputs": [],
   "source": [
    "(n, d) = X.shape\n",
    "assert n == y.shape[0]"
   ]
  },
  {
   "cell_type": "code",
   "execution_count": 7,
   "metadata": {},
   "outputs": [],
   "source": [
    "from sklearn.ensemble import RandomForestClassifier\n",
    "model = RandomForestClassifier()"
   ]
  },
  {
   "cell_type": "code",
   "execution_count": 8,
   "metadata": {},
   "outputs": [],
   "source": [
    "# from eval import eval_across_categories\n",
    "# errs = eval_across_categories(model, X, y, p, 1000, random_state=50)\n",
    "# print(\"\\n---\\n\")\n",
    "# for j in range(errs.shape[0]):\n",
    "#   print(np.mean(errs[j, :]))"
   ]
  },
  {
   "cell_type": "code",
   "execution_count": 10,
   "metadata": {},
   "outputs": [
    {
     "name": "stdout",
     "output_type": "stream",
     "text": [
      "[====================] 100%"
     ]
    },
    {
     "data": {
      "text/plain": [
       "0.5927272727272725"
      ]
     },
     "execution_count": 10,
     "metadata": {},
     "output_type": "execute_result"
    }
   ],
   "source": [
    "from eval import eval_normal\n",
    "errs = eval_normal(model, X, y, 10, random_state=0)\n",
    "np.mean(errs)"
   ]
  },
  {
   "cell_type": "code",
   "execution_count": 9,
   "metadata": {},
   "outputs": [
    {
     "name": "stdout",
     "output_type": "stream",
     "text": [
      "[====================] 100%\n",
      "---\n",
      "\n",
      "0.4513071428571428\n",
      "0.5190785714285714\n",
      "0.5025746031746031\n",
      "0.46338452380952383\n",
      "0.5015690476190476\n",
      "0.4361353174603174\n",
      "0.5014361111111111\n",
      "0.48082698412698416\n",
      "0.6752253968253968\n",
      "0.6719146825396826\n",
      "0.6624416666666666\n",
      "0.6683916666666666\n",
      "0.6544955266955267\n",
      "0.662422113997114\n",
      "0.6868551587301587\n",
      "0.6569722222222222\n"
     ]
    }
   ],
   "source": [
    "from eval import eval_across_categories\n",
    "errs = eval_across_categories(model, X, y, w, 1000, random_state=50)\n",
    "print(\"\\n---\\n\")\n",
    "for j in range(errs.shape[0]):\n",
    "  print(np.mean(errs[j, :]))"
   ]
  },
  {
   "cell_type": "code",
   "execution_count": 10,
   "metadata": {},
   "outputs": [
    {
     "name": "stdout",
     "output_type": "stream",
     "text": [
      "\r",
      "[====================] 100%\n",
      "---\n",
      "\n",
      "0.5\n",
      "0.6666666666666666\n",
      "0.75\n",
      "0.3333333333333333\n",
      "0.6666666666666666\n",
      "0.4\n",
      "0.0\n",
      "0.0\n",
      "1.0\n",
      "0.5\n",
      "0.0\n",
      "0.6666666666666666\n",
      "0.2857142857142857\n",
      "0.6\n",
      "0.6666666666666666\n",
      "0.0\n"
     ]
    }
   ],
   "source": [
    "from eval import eval_across_words\n",
    "errs2 = eval_across_words(model, X, y, w, 1, random_state=50)\n",
    "print(\"\\n---\\n\")\n",
    "for j in range(errs2.shape[0]):\n",
    "  print(np.mean(errs2[j, :]))"
   ]
  },
  {
   "cell_type": "code",
   "execution_count": null,
   "metadata": {},
   "outputs": [],
   "source": []
  }
 ],
 "metadata": {
  "kernelspec": {
   "display_name": "Python 3",
   "language": "python",
   "name": "python3"
  },
  "language_info": {
   "codemirror_mode": {
    "name": "ipython",
    "version": 3
   },
   "file_extension": ".py",
   "mimetype": "text/x-python",
   "name": "python",
   "nbconvert_exporter": "python",
   "pygments_lexer": "ipython3",
   "version": "3.6.3"
  }
 },
 "nbformat": 4,
 "nbformat_minor": 2
}
