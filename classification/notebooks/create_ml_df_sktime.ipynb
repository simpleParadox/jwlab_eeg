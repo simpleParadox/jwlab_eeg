{
 "cells": [
  {
   "cell_type": "code",
   "execution_count": 1,
   "metadata": {},
   "outputs": [],
   "source": [
    "import setup_jwlab\n",
    "\n",
    "import pandas as pd\n",
    "import numpy as np\n",
    "\n",
    "from jwlab.run.computecanada_constants import cleaned_data_filepath\n",
    "from jwlab.ml_prep import create_ml_df_internal, load_ml_data, save_ml_df\n",
    "from jwlab.bad_trials import get_bad_trials\n",
    "from jwlab.participants_map import map_participants\n",
    "import sys"
   ]
  },
  {
   "cell_type": "code",
   "execution_count": 2,
   "metadata": {},
   "outputs": [
    {
     "name": "stdout",
     "output_type": "stream",
     "text": [
      "loaded\n"
     ]
    }
   ],
   "source": [
    "participants = [\"107\", \"109\", \"111\", \"112\", \"115\", \"116\", \"117\", \"119\", \"120\", \"121\", \"122\", \"124\", \n",
    "                \"904\", \"905\", \"906\", \"908\", \"909\", \"910\", \"912\", \"913\", \"914\", \"916\", \"917\", \"919\", \"920\",\n",
    "               \"921\", \"923\", \"924\", \"927\", \"928\", \"929\", \"930\", \"932\"]\n",
    "df, ys = load_ml_data(cleaned_data_filepath, participants)"
   ]
  },
  {
   "cell_type": "code",
   "execution_count": 3,
   "metadata": {},
   "outputs": [],
   "source": [
    "df = df[df.Time >= 0]\n",
    "df = df.drop(columns=[\"Time\", \"E65\", \"E64\", \"E63\", \"E62\", \"E61\"], axis=1)\n",
    "\n",
    "df['id'] = np.concatenate([[i] * 1000 for i in range(len(df.index) // 1000)])\n",
    "\n",
    "w, h = 60, df.id.max() + 1\n",
    "new_data = [[None for x in range(w)] for y in range(h)]\n",
    "\n",
    "for y in range(h):\n",
    "    t_dp = df[df.id == y]\n",
    "    for x in range(w):\n",
    "        new_data[y][x] = pd.Series(t_dp[\"E\" + str(x + 1)]).reset_index(drop=True)\n",
    "\n",
    "new_df = pd.DataFrame(data=new_data)\n",
    "\n",
    "ybad = get_bad_trials(participants)\n",
    "ys = map_participants(ys, participants)\n",
    "for each_ps in range(len(ys)):\n",
    "    for bad_trial in range(len(ybad[each_ps])):\n",
    "        ys[each_ps][ybad[each_ps][bad_trial]-1] = -1\n",
    "y = np.concatenate(ys)\n",
    "\n",
    "new_df = new_df[y != -1]\n",
    "y = y[y != -1]\n",
    "y -= 1\n",
    "\n",
    "new_df = new_df.reset_index(drop=True)\n",
    "new_df[\"label\"] = y"
   ]
  },
  {
   "cell_type": "code",
   "execution_count": 4,
   "metadata": {},
   "outputs": [],
   "source": [
    "save_ml_df(new_df, \"/home/kjslakov/projects/def-jwerker/kjslakov/data/ml_df_sktime.pkl\")"
   ]
  },
  {
   "cell_type": "code",
   "execution_count": null,
   "metadata": {},
   "outputs": [],
   "source": []
  }
 ],
 "metadata": {
  "kernelspec": {
   "display_name": "Python 3",
   "language": "python",
   "name": "python3"
  },
  "language_info": {
   "codemirror_mode": {
    "name": "ipython",
    "version": 3
   },
   "file_extension": ".py",
   "mimetype": "text/x-python",
   "name": "python",
   "nbconvert_exporter": "python",
   "pygments_lexer": "ipython3",
   "version": "3.6.3"
  }
 },
 "nbformat": 4,
 "nbformat_minor": 4
}
