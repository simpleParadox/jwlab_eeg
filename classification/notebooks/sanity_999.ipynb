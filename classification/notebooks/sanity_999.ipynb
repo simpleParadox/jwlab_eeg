{
 "cells": [
  {
   "cell_type": "code",
   "execution_count": 62,
   "metadata": {},
   "outputs": [],
   "source": [
    "import pandas as pd\n",
    "import numpy as np"
   ]
  },
  {
   "cell_type": "code",
   "execution_count": 63,
   "metadata": {},
   "outputs": [],
   "source": [
    "FILEPATH = \"../../../data/ml_ready/999_cleaned_ml.csv\"\n",
    "\n",
    "df = pd.read_csv(FILEPATH)"
   ]
  },
  {
   "cell_type": "code",
   "execution_count": 64,
   "metadata": {},
   "outputs": [
    {
     "data": {
      "text/html": [
       "<div>\n",
       "<style scoped>\n",
       "    .dataframe tbody tr th:only-of-type {\n",
       "        vertical-align: middle;\n",
       "    }\n",
       "\n",
       "    .dataframe tbody tr th {\n",
       "        vertical-align: top;\n",
       "    }\n",
       "\n",
       "    .dataframe thead th {\n",
       "        text-align: right;\n",
       "    }\n",
       "</style>\n",
       "<table border=\"1\" class=\"dataframe\">\n",
       "  <thead>\n",
       "    <tr style=\"text-align: right;\">\n",
       "      <th></th>\n",
       "      <th>Time</th>\n",
       "      <th>E1</th>\n",
       "      <th>E2</th>\n",
       "      <th>E3</th>\n",
       "      <th>E4</th>\n",
       "      <th>E5</th>\n",
       "      <th>E6</th>\n",
       "      <th>E7</th>\n",
       "      <th>E8</th>\n",
       "      <th>E9</th>\n",
       "      <th>...</th>\n",
       "      <th>E56</th>\n",
       "      <th>E57</th>\n",
       "      <th>E58</th>\n",
       "      <th>E59</th>\n",
       "      <th>E60</th>\n",
       "      <th>E61</th>\n",
       "      <th>E62</th>\n",
       "      <th>E63</th>\n",
       "      <th>E64</th>\n",
       "      <th>E65</th>\n",
       "    </tr>\n",
       "  </thead>\n",
       "  <tbody>\n",
       "    <tr>\n",
       "      <th>count</th>\n",
       "      <td>140400.000000</td>\n",
       "      <td>140400.000000</td>\n",
       "      <td>140400.000000</td>\n",
       "      <td>140400.000000</td>\n",
       "      <td>140400.000000</td>\n",
       "      <td>140400.000000</td>\n",
       "      <td>140400.000000</td>\n",
       "      <td>140400.000000</td>\n",
       "      <td>140400.000000</td>\n",
       "      <td>140400.000000</td>\n",
       "      <td>...</td>\n",
       "      <td>140400.000000</td>\n",
       "      <td>140400.000000</td>\n",
       "      <td>140400.000000</td>\n",
       "      <td>140400.000000</td>\n",
       "      <td>140400.000000</td>\n",
       "      <td>140400.000000</td>\n",
       "      <td>140400.000000</td>\n",
       "      <td>140400.000000</td>\n",
       "      <td>140400.000000</td>\n",
       "      <td>140400.000000</td>\n",
       "    </tr>\n",
       "    <tr>\n",
       "      <th>mean</th>\n",
       "      <td>399.500000</td>\n",
       "      <td>0.326398</td>\n",
       "      <td>5.497308</td>\n",
       "      <td>4.391559</td>\n",
       "      <td>4.275709</td>\n",
       "      <td>1.146284</td>\n",
       "      <td>3.733715</td>\n",
       "      <td>7.418393</td>\n",
       "      <td>4.196285</td>\n",
       "      <td>3.497647</td>\n",
       "      <td>...</td>\n",
       "      <td>3.541667</td>\n",
       "      <td>5.317720</td>\n",
       "      <td>2.871461</td>\n",
       "      <td>5.557729</td>\n",
       "      <td>5.203823</td>\n",
       "      <td>2.860058</td>\n",
       "      <td>2.860058</td>\n",
       "      <td>2.860058</td>\n",
       "      <td>2.860058</td>\n",
       "      <td>2.860058</td>\n",
       "    </tr>\n",
       "    <tr>\n",
       "      <th>std</th>\n",
       "      <td>346.411275</td>\n",
       "      <td>86.360609</td>\n",
       "      <td>38.543504</td>\n",
       "      <td>20.696607</td>\n",
       "      <td>14.933305</td>\n",
       "      <td>49.129299</td>\n",
       "      <td>17.376537</td>\n",
       "      <td>83.996985</td>\n",
       "      <td>31.516075</td>\n",
       "      <td>17.203462</td>\n",
       "      <td>...</td>\n",
       "      <td>19.621094</td>\n",
       "      <td>18.686428</td>\n",
       "      <td>28.594721</td>\n",
       "      <td>26.990124</td>\n",
       "      <td>36.443826</td>\n",
       "      <td>14.427196</td>\n",
       "      <td>14.427196</td>\n",
       "      <td>14.427196</td>\n",
       "      <td>14.427196</td>\n",
       "      <td>14.427196</td>\n",
       "    </tr>\n",
       "    <tr>\n",
       "      <th>min</th>\n",
       "      <td>-200.000000</td>\n",
       "      <td>-1124.686768</td>\n",
       "      <td>-254.052292</td>\n",
       "      <td>-100.759499</td>\n",
       "      <td>-69.306091</td>\n",
       "      <td>-291.487335</td>\n",
       "      <td>-87.718178</td>\n",
       "      <td>-595.640442</td>\n",
       "      <td>-170.522079</td>\n",
       "      <td>-101.009491</td>\n",
       "      <td>...</td>\n",
       "      <td>-91.266334</td>\n",
       "      <td>-93.246368</td>\n",
       "      <td>-137.076279</td>\n",
       "      <td>-120.142029</td>\n",
       "      <td>-210.062347</td>\n",
       "      <td>-67.642334</td>\n",
       "      <td>-67.642334</td>\n",
       "      <td>-67.642334</td>\n",
       "      <td>-67.642334</td>\n",
       "      <td>-67.642334</td>\n",
       "    </tr>\n",
       "    <tr>\n",
       "      <th>25%</th>\n",
       "      <td>99.750000</td>\n",
       "      <td>-24.966866</td>\n",
       "      <td>-10.523659</td>\n",
       "      <td>-6.714929</td>\n",
       "      <td>-4.513655</td>\n",
       "      <td>-16.734442</td>\n",
       "      <td>-6.011759</td>\n",
       "      <td>-5.136086</td>\n",
       "      <td>-9.946945</td>\n",
       "      <td>-5.938697</td>\n",
       "      <td>...</td>\n",
       "      <td>-7.146462</td>\n",
       "      <td>-5.899804</td>\n",
       "      <td>-10.543979</td>\n",
       "      <td>-9.190728</td>\n",
       "      <td>-10.585828</td>\n",
       "      <td>-5.700868</td>\n",
       "      <td>-5.700868</td>\n",
       "      <td>-5.700868</td>\n",
       "      <td>-5.700868</td>\n",
       "      <td>-5.700868</td>\n",
       "    </tr>\n",
       "    <tr>\n",
       "      <th>50%</th>\n",
       "      <td>399.500000</td>\n",
       "      <td>0.778072</td>\n",
       "      <td>3.349213</td>\n",
       "      <td>3.181908</td>\n",
       "      <td>3.088097</td>\n",
       "      <td>2.859373</td>\n",
       "      <td>3.008024</td>\n",
       "      <td>2.748234</td>\n",
       "      <td>3.630306</td>\n",
       "      <td>2.909085</td>\n",
       "      <td>...</td>\n",
       "      <td>3.276697</td>\n",
       "      <td>4.216379</td>\n",
       "      <td>2.944930</td>\n",
       "      <td>5.093300</td>\n",
       "      <td>3.425295</td>\n",
       "      <td>2.218385</td>\n",
       "      <td>2.218385</td>\n",
       "      <td>2.218385</td>\n",
       "      <td>2.218385</td>\n",
       "      <td>2.218385</td>\n",
       "    </tr>\n",
       "    <tr>\n",
       "      <th>75%</th>\n",
       "      <td>699.250000</td>\n",
       "      <td>27.042214</td>\n",
       "      <td>19.910015</td>\n",
       "      <td>15.299859</td>\n",
       "      <td>12.325269</td>\n",
       "      <td>21.521421</td>\n",
       "      <td>12.990615</td>\n",
       "      <td>11.743638</td>\n",
       "      <td>18.687775</td>\n",
       "      <td>12.366368</td>\n",
       "      <td>...</td>\n",
       "      <td>14.254051</td>\n",
       "      <td>16.162963</td>\n",
       "      <td>17.129122</td>\n",
       "      <td>19.675857</td>\n",
       "      <td>20.405481</td>\n",
       "      <td>11.153640</td>\n",
       "      <td>11.153640</td>\n",
       "      <td>11.153640</td>\n",
       "      <td>11.153640</td>\n",
       "      <td>11.153640</td>\n",
       "    </tr>\n",
       "    <tr>\n",
       "      <th>max</th>\n",
       "      <td>999.000000</td>\n",
       "      <td>489.538086</td>\n",
       "      <td>195.419922</td>\n",
       "      <td>96.011970</td>\n",
       "      <td>89.002991</td>\n",
       "      <td>332.491638</td>\n",
       "      <td>89.900177</td>\n",
       "      <td>1772.739380</td>\n",
       "      <td>151.228745</td>\n",
       "      <td>84.758247</td>\n",
       "      <td>...</td>\n",
       "      <td>116.127716</td>\n",
       "      <td>83.077087</td>\n",
       "      <td>167.497192</td>\n",
       "      <td>160.136810</td>\n",
       "      <td>201.659683</td>\n",
       "      <td>80.635612</td>\n",
       "      <td>80.635612</td>\n",
       "      <td>80.635612</td>\n",
       "      <td>80.635612</td>\n",
       "      <td>80.635612</td>\n",
       "    </tr>\n",
       "  </tbody>\n",
       "</table>\n",
       "<p>8 rows × 66 columns</p>\n",
       "</div>"
      ],
      "text/plain": [
       "                Time             E1             E2             E3  \\\n",
       "count  140400.000000  140400.000000  140400.000000  140400.000000   \n",
       "mean      399.500000       0.326398       5.497308       4.391559   \n",
       "std       346.411275      86.360609      38.543504      20.696607   \n",
       "min      -200.000000   -1124.686768    -254.052292    -100.759499   \n",
       "25%        99.750000     -24.966866     -10.523659      -6.714929   \n",
       "50%       399.500000       0.778072       3.349213       3.181908   \n",
       "75%       699.250000      27.042214      19.910015      15.299859   \n",
       "max       999.000000     489.538086     195.419922      96.011970   \n",
       "\n",
       "                  E4             E5             E6             E7  \\\n",
       "count  140400.000000  140400.000000  140400.000000  140400.000000   \n",
       "mean        4.275709       1.146284       3.733715       7.418393   \n",
       "std        14.933305      49.129299      17.376537      83.996985   \n",
       "min       -69.306091    -291.487335     -87.718178    -595.640442   \n",
       "25%        -4.513655     -16.734442      -6.011759      -5.136086   \n",
       "50%         3.088097       2.859373       3.008024       2.748234   \n",
       "75%        12.325269      21.521421      12.990615      11.743638   \n",
       "max        89.002991     332.491638      89.900177    1772.739380   \n",
       "\n",
       "                  E8             E9  ...            E56            E57  \\\n",
       "count  140400.000000  140400.000000  ...  140400.000000  140400.000000   \n",
       "mean        4.196285       3.497647  ...       3.541667       5.317720   \n",
       "std        31.516075      17.203462  ...      19.621094      18.686428   \n",
       "min      -170.522079    -101.009491  ...     -91.266334     -93.246368   \n",
       "25%        -9.946945      -5.938697  ...      -7.146462      -5.899804   \n",
       "50%         3.630306       2.909085  ...       3.276697       4.216379   \n",
       "75%        18.687775      12.366368  ...      14.254051      16.162963   \n",
       "max       151.228745      84.758247  ...     116.127716      83.077087   \n",
       "\n",
       "                 E58            E59            E60            E61  \\\n",
       "count  140400.000000  140400.000000  140400.000000  140400.000000   \n",
       "mean        2.871461       5.557729       5.203823       2.860058   \n",
       "std        28.594721      26.990124      36.443826      14.427196   \n",
       "min      -137.076279    -120.142029    -210.062347     -67.642334   \n",
       "25%       -10.543979      -9.190728     -10.585828      -5.700868   \n",
       "50%         2.944930       5.093300       3.425295       2.218385   \n",
       "75%        17.129122      19.675857      20.405481      11.153640   \n",
       "max       167.497192     160.136810     201.659683      80.635612   \n",
       "\n",
       "                 E62            E63            E64            E65  \n",
       "count  140400.000000  140400.000000  140400.000000  140400.000000  \n",
       "mean        2.860058       2.860058       2.860058       2.860058  \n",
       "std        14.427196      14.427196      14.427196      14.427196  \n",
       "min       -67.642334     -67.642334     -67.642334     -67.642334  \n",
       "25%        -5.700868      -5.700868      -5.700868      -5.700868  \n",
       "50%         2.218385       2.218385       2.218385       2.218385  \n",
       "75%        11.153640      11.153640      11.153640      11.153640  \n",
       "max        80.635612      80.635612      80.635612      80.635612  \n",
       "\n",
       "[8 rows x 66 columns]"
      ]
     },
     "execution_count": 64,
     "metadata": {},
     "output_type": "execute_result"
    }
   ],
   "source": [
    "df.describe()"
   ]
  },
  {
   "cell_type": "code",
   "execution_count": 65,
   "metadata": {},
   "outputs": [
    {
     "name": "stderr",
     "output_type": "stream",
     "text": [
      "c:\\users\\karl\\appdata\\local\\programs\\python\\python37\\lib\\site-packages\\ipykernel_launcher.py:5: UserWarning: Boolean Series key will be reindexed to match DataFrame index.\n",
      "  \"\"\"\n"
     ]
    }
   ],
   "source": [
    "# samples are df rows mod 1200, pre is 0-199, post is 200-1199\n",
    "\n",
    "# extract pre rows and post rows, randomly choose 200-400ms as post\n",
    "pre = df[df.Time < 0]\n",
    "post = df[df.Time >= 200][df.Time < 400]"
   ]
  },
  {
   "cell_type": "code",
   "execution_count": 66,
   "metadata": {},
   "outputs": [],
   "source": [
    "pre = pre.drop(columns=[\"Time\", \"E65\"], axis=1)\n",
    "post = post.drop(columns=[\"Time\", \"E65\"], axis=1)"
   ]
  },
  {
   "cell_type": "code",
   "execution_count": 67,
   "metadata": {},
   "outputs": [],
   "source": [
    "timeFrame = 200\n",
    "\n",
    "preX = pre.values\n",
    "(i,j) = preX.shape\n",
    "preX = np.reshape(preX, (i // 200, j * 200))"
   ]
  },
  {
   "cell_type": "code",
   "execution_count": 68,
   "metadata": {},
   "outputs": [],
   "source": [
    "postX = post.values\n",
    "(i,j) = postX.shape\n",
    "postX = np.reshape(postX, (i // 200, j * 200))"
   ]
  },
  {
   "cell_type": "code",
   "execution_count": 69,
   "metadata": {},
   "outputs": [],
   "source": [
    "(preN, preD) = preX.shape\n",
    "(postN, postD) = postX.shape"
   ]
  },
  {
   "cell_type": "code",
   "execution_count": 70,
   "metadata": {},
   "outputs": [],
   "source": [
    "X = np.concatenate((preX, postX), axis=0)\n",
    "(n, d) = X.shape\n",
    "assert(n == preN + postN)\n",
    "assert(d == postD)\n",
    "assert(d == preD)"
   ]
  },
  {
   "cell_type": "code",
   "execution_count": 71,
   "metadata": {},
   "outputs": [],
   "source": [
    "y = np.concatenate((np.zeros(preN), np.ones(postN)))\n",
    "assert(y.shape == (n,))"
   ]
  },
  {
   "cell_type": "code",
   "execution_count": 72,
   "metadata": {},
   "outputs": [],
   "source": [
    "rand_indices = np.random.permutation(n)\n",
    "split = int(n * 0.8)\n",
    "train_idx, valid_idx = rand_indices[:split], rand_indices[split:]\n",
    "train_X, valid_X, train_y, valid_y = X[train_idx, :], X[valid_idx, :], y[train_idx], y[valid_idx]"
   ]
  },
  {
   "cell_type": "code",
   "execution_count": 78,
   "metadata": {},
   "outputs": [
    {
     "data": {
      "text/plain": [
       "SVC(C=1.0, cache_size=200, class_weight=None, coef0=0.0,\n",
       "    decision_function_shape='ovr', degree=3, gamma='auto', kernel='linear',\n",
       "    max_iter=-1, probability=False, random_state=None, shrinking=True,\n",
       "    tol=0.001, verbose=False)"
      ]
     },
     "execution_count": 78,
     "metadata": {},
     "output_type": "execute_result"
    }
   ],
   "source": [
    "from sklearn.svm import SVC\n",
    "model = SVC(gamma='auto', kernel='linear')\n",
    "model.fit(train_X, train_y)"
   ]
  },
  {
   "cell_type": "code",
   "execution_count": 79,
   "metadata": {},
   "outputs": [],
   "source": [
    "Xhat = model.predict(valid_X)"
   ]
  },
  {
   "cell_type": "code",
   "execution_count": 80,
   "metadata": {},
   "outputs": [
    {
     "data": {
      "text/plain": [
       "0.2765957446808511"
      ]
     },
     "execution_count": 80,
     "metadata": {},
     "output_type": "execute_result"
    }
   ],
   "source": [
    "np.mean(Xhat != valid_y)"
   ]
  },
  {
   "cell_type": "code",
   "execution_count": 82,
   "metadata": {},
   "outputs": [
    {
     "data": {
      "text/plain": [
       "array([1., 0., 0., 1., 0., 0., 0., 0., 1., 0., 0., 0., 1., 0., 0., 0., 1.,\n",
       "       0., 0., 1., 0., 1., 1., 1., 0., 0., 0., 1., 0., 0., 0., 0., 0., 0.,\n",
       "       0., 1., 1., 0., 0., 0., 1., 0., 1., 1., 0., 0., 1.])"
      ]
     },
     "execution_count": 82,
     "metadata": {},
     "output_type": "execute_result"
    }
   ],
   "source": [
    "Xhat"
   ]
  },
  {
   "cell_type": "code",
   "execution_count": 83,
   "metadata": {},
   "outputs": [
    {
     "data": {
      "text/plain": [
       "array([1., 0., 1., 1., 0., 0., 0., 0., 0., 1., 0., 1., 1., 0., 0., 0., 0.,\n",
       "       0., 0., 1., 0., 1., 1., 1., 0., 1., 0., 1., 0., 0., 1., 0., 0., 0.,\n",
       "       1., 1., 1., 0., 0., 1., 0., 1., 0., 0., 0., 0., 1.])"
      ]
     },
     "execution_count": 83,
     "metadata": {},
     "output_type": "execute_result"
    }
   ],
   "source": [
    "valid_y"
   ]
  },
  {
   "cell_type": "code",
   "execution_count": 84,
   "metadata": {},
   "outputs": [
    {
     "data": {
      "text/plain": [
       "0.0"
      ]
     },
     "execution_count": 84,
     "metadata": {},
     "output_type": "execute_result"
    }
   ],
   "source": [
    "np.mean(model.predict(train_X) != train_y)"
   ]
  }
 ],
 "metadata": {
  "kernelspec": {
   "display_name": "Python 3",
   "language": "python",
   "name": "python3"
  },
  "language_info": {
   "codemirror_mode": {
    "name": "ipython",
    "version": 3
   },
   "file_extension": ".py",
   "mimetype": "text/x-python",
   "name": "python",
   "nbconvert_exporter": "python",
   "pygments_lexer": "ipython3",
   "version": "3.7.4"
  }
 },
 "nbformat": 4,
 "nbformat_minor": 2
}
