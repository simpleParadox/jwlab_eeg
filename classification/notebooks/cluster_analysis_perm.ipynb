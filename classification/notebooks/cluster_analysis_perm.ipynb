{
 "cells": [
  {
   "cell_type": "code",
   "execution_count": 1,
   "metadata": {},
   "outputs": [],
   "source": [
    "import pandas as pd\n",
    "import numpy as np\n",
    "import setup_jwlab\n",
    "from jwlab.constants import cleaned_data_filepath\n",
    "from jwlab.cluster_analysis_perm import prep_cluster_analysis, cluster_analysis_procedure, cluster_analysis_procedure_610_1000, cluster_analysis_procedure_permutation\n",
    "from sklearn.svm import SVC\n",
    "from sklearn.model_selection import cross_validate, RepeatedKFold\n",
    "from scipy import stats\n",
    "import more_itertools as mit\n",
    "from sklearn.metrics import accuracy_score\n"
   ]
  },
  {
   "cell_type": "code",
   "execution_count": 2,
   "metadata": {},
   "outputs": [
    {
     "name": "stdout",
     "output_type": "stream",
     "text": [
      "loaded\n",
      "mean: [0.51, 0.5, 0.48, 0.53, 0.53, 0.49, 0.52, 0.5, 0.47, 0.49, 0.54, 0.54, 0.53, 0.52, 0.51, 0.45, 0.48, 0.5, 0.5, 0.48, 0.5, 0.49, 0.53, 0.51, 0.52, 0.49, 0.48, 0.51, 0.5, 0.49, 0.47, 0.49, 0.49, 0.5, 0.48, 0.47, 0.49, 0.47, 0.48, 0.49, 0.51, 0.48, 0.47, 0.49, 0.48, 0.5, 0.48, 0.49, 0.5, 0.53, 0.5, 0.47, 0.47, 0.47, 0.48, 0.46, 0.5, 0.47, 0.46, 0.48, 0.45, 0.47, 0.47, 0.45, 0.48, 0.47, 0.5, 0.46, 0.48, 0.51, 0.48, 0.48, 0.51, 0.49, 0.49, 0.52, 0.5, 0.49, 0.48, 0.5, 0.48, 0.46, 0.48, 0.49, 0.45, 0.47, 0.47, 0.46, 0.48, 0.45, 0.44, 0.45, 0.46, 0.43, 0.45, 0.47, 0.47, 0.46, 0.45, 0.47, 0.47, 0.44, 0.46, 0.46, 0.47, 0.47, 0.46, 0.45, 0.46, 0.45, 0.47, 0.48, 0.45, 0.49, 0.48, 0.47, 0.47, 0.47, 0.48, 0.49]\n",
      "stdev: [0.06, 0.07, 0.06, 0.06, 0.06, 0.05, 0.06, 0.05, 0.05, 0.05, 0.06, 0.04, 0.06, 0.05, 0.06, 0.05, 0.06, 0.06, 0.05, 0.06, 0.07, 0.06, 0.06, 0.04, 0.06, 0.06, 0.05, 0.06, 0.05, 0.04, 0.05, 0.03, 0.06, 0.06, 0.07, 0.05, 0.06, 0.06, 0.06, 0.06, 0.05, 0.06, 0.05, 0.04, 0.04, 0.07, 0.06, 0.05, 0.05, 0.05, 0.07, 0.04, 0.06, 0.05, 0.05, 0.05, 0.05, 0.05, 0.04, 0.04, 0.06, 0.04, 0.06, 0.05, 0.05, 0.04, 0.05, 0.05, 0.05, 0.06, 0.04, 0.05, 0.06, 0.05, 0.06, 0.05, 0.06, 0.06, 0.05, 0.05, 0.04, 0.05, 0.06, 0.05, 0.05, 0.05, 0.05, 0.05, 0.05, 0.05, 0.05, 0.07, 0.06, 0.06, 0.06, 0.04, 0.05, 0.04, 0.05, 0.04, 0.04, 0.04, 0.05, 0.05, 0.05, 0.06, 0.04, 0.04, 0.05, 0.04, 0.05, 0.05, 0.04, 0.05, 0.05, 0.06, 0.05, 0.06, 0.05, 0.06]\n",
      "Valid windows are: [3, 4, 10, 11, 12, 22, 49]\n",
      "\n",
      "Clusters are: [[10, 11, 12]]\n",
      "\n",
      "The max t mass is: 0.013129544608861923\n",
      "\n"
     ]
    },
    {
     "data": {
      "text/plain": [
       "0.013129544608861923"
      ]
     },
     "execution_count": 2,
     "metadata": {},
     "output_type": "execute_result"
    }
   ],
   "source": [
    "cluster_analysis_procedure_permutation(9, False)"
   ]
  },
  {
   "cell_type": "code",
   "execution_count": null,
   "metadata": {},
   "outputs": [],
   "source": [
    "#obtain t-mass\n",
    "#cluster_analysis_procedure(11, False)"
   ]
  },
  {
   "cell_type": "code",
   "execution_count": null,
   "metadata": {},
   "outputs": [],
   "source": [
    "#null distribution\n",
    "# null_distribution_t_mass = []\n",
    "# for i in range(1000):\n",
    "#     max_t_mass = cluster_analysis_procedure_permutation(11, True)\n",
    "#     null_distribution_t_mass += [max_t_mass]"
   ]
  },
  {
   "cell_type": "code",
   "execution_count": null,
   "metadata": {},
   "outputs": [],
   "source": [
    "# # Get frequency of the t-mass, plot\n",
    "# import matplotlib.pyplot as plt\n",
    "# plt.hist(null_distribution_t_mass)"
   ]
  },
  {
   "cell_type": "code",
   "execution_count": null,
   "metadata": {},
   "outputs": [],
   "source": [
    "# cluster_analysis_procedure_610_1000(9, False)"
   ]
  }
 ],
 "metadata": {
  "kernelspec": {
   "display_name": "Python 3",
   "language": "python",
   "name": "python3"
  },
  "language_info": {
   "codemirror_mode": {
    "name": "ipython",
    "version": 3
   },
   "file_extension": ".py",
   "mimetype": "text/x-python",
   "name": "python",
   "nbconvert_exporter": "python",
   "pygments_lexer": "ipython3",
   "version": "3.7.4"
  }
 },
 "nbformat": 4,
 "nbformat_minor": 4
}
