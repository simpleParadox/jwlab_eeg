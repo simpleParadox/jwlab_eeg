{
 "cells": [
  {
   "cell_type": "code",
   "execution_count": 2,
   "metadata": {},
   "outputs": [],
   "source": [
    "import pandas as pd\n",
    "import numpy as np\n",
    "import setup_jwlab\n",
    "from jwlab.constants import cleaned_data_filepath\n",
    "from jwlab.cluster_analysis_perm import cluster_analysis_procedure\n",
    "from sklearn.svm import SVC\n",
    "from sklearn.model_selection import cross_validate, RepeatedKFold\n",
    "from scipy import stats\n",
    "import more_itertools as mit\n",
    "from sklearn.metrics import accuracy_score\n"
   ]
  },
  {
   "cell_type": "code",
   "execution_count": 3,
   "metadata": {},
   "outputs": [
    {
     "name": "stdout",
     "output_type": "stream",
     "text": [
      "loaded\n",
      "mean: [[0.63, 0.63, 0.66, 0.49, 0.61, 0.58, 0.57, 0.61, 0.57, 0.65, 0.58, 0.63], [0.61, 0.63, 0.51, 0.57, 0.63, 0.54, 0.54, 0.57, 0.61, 0.49, 0.54]]\n",
      "stdev: [[0.12, 0.15, 0.16, 0.15, 0.17, 0.11, 0.13, 0.13, 0.11, 0.13, 0.16, 0.11], [0.18, 0.19, 0.15, 0.16, 0.14, 0.14, 0.15, 0.11, 0.1, 0.14, 0.13]]\n",
      "Valid windows are: [0, 1, 2, 4, 5, 6, 7, 8, 9, 10, 11, 12, 13, 16, 19, 20]\n",
      "\n",
      "Clusters are: [[0, 1, 2], [4, 5, 6, 7, 8, 9, 10, 11, 12, 13]]\n",
      "\n",
      "The max t mass is: 0.0246650596249484\n",
      "\n"
     ]
    },
    {
     "data": {
      "text/plain": [
       "0.0246650596249484"
      ]
     },
     "execution_count": 3,
     "metadata": {},
     "output_type": "execute_result"
    }
   ],
   "source": [
    "# Argument 1: 9 or 11 (month olds)\n",
    "# Argument 2: Boolean, True to randomize the labels, False otherwise\n",
    "# Argument 3: averaging, could be: no_averaging, average_trials, average_trials_and_participants, permutation\n",
    "# Argument 4: sliding_window_config[start_time, end_time, window_lengths[], step_length]\n",
    "# Argument 5: cross_val_config[num_fold, num_iterations]\n",
    "\n",
    "cluster_analysis_procedure(9, False, \"permutation\", [-200, 1000, [100, 200], 100], [3, 10])"
   ]
  },
  {
   "cell_type": "code",
   "execution_count": null,
   "metadata": {},
   "outputs": [],
   "source": [
    "#obtain t-mass\n",
    "#cluster_analysis_procedure(11, False)"
   ]
  },
  {
   "cell_type": "code",
   "execution_count": null,
   "metadata": {},
   "outputs": [],
   "source": [
    "#null distribution\n",
    "# null_distribution_t_mass = []\n",
    "# for i in range(1000):\n",
    "#     max_t_mass = cluster_analysis_procedure_permutation(11, True)\n",
    "#     null_distribution_t_mass += [max_t_mass]"
   ]
  },
  {
   "cell_type": "code",
   "execution_count": null,
   "metadata": {},
   "outputs": [],
   "source": [
    "# # Get frequency of the t-mass, plot\n",
    "# import matplotlib.pyplot as plt\n",
    "# plt.hist(null_distribution_t_mass)"
   ]
  },
  {
   "cell_type": "code",
   "execution_count": null,
   "metadata": {},
   "outputs": [],
   "source": [
    "# cluster_analysis_procedure_610_1000(9, False)"
   ]
  }
 ],
 "metadata": {
  "kernelspec": {
   "display_name": "Python 3",
   "language": "python",
   "name": "python3"
  },
  "language_info": {
   "codemirror_mode": {
    "name": "ipython",
    "version": 3
   },
   "file_extension": ".py",
   "mimetype": "text/x-python",
   "name": "python",
   "nbconvert_exporter": "python",
   "pygments_lexer": "ipython3",
   "version": "3.7.4"
  }
 },
 "nbformat": 4,
 "nbformat_minor": 4
}
