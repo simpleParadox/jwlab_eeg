{
 "cells": [
  {
   "cell_type": "code",
   "execution_count": 1,
   "metadata": {},
   "outputs": [],
   "source": [
    "import pandas as pd\n",
    "import numpy as np"
   ]
  },
  {
   "cell_type": "code",
   "execution_count": 3,
   "metadata": {},
   "outputs": [],
   "source": [
    "import ml_prep\n",
    "FILEPATH = \"Y:/Members_Current/Jenn/EEG study/Imported data/cleaned/\"\n",
    "participants = [\"107\", \"904\", \"905\", \"906\"] # 105 and 106 aren't being used since they use a different set of words\n",
    "df, ys = ml_prep.load_ml_data(FILEPATH, participants)"
   ]
  },
  {
   "cell_type": "code",
   "execution_count": 7,
   "metadata": {
    "scrolled": true
   },
   "outputs": [
    {
     "name": "stdout",
     "output_type": "stream",
     "text": [
      "200 64 374\n"
     ]
    },
    {
     "name": "stderr",
     "output_type": "stream",
     "text": [
      "C:\\Users\\Karl\\Documents\\jwlab_eeg\\code\\jwlab_eeg\\classification\\ml_prep.py:77: RuntimeWarning: Mean of empty slice.\n",
      "  means = df_data[np.logical_and(df.participant == p, df.label == w)].values.mean()\n",
      "c:\\users\\karl\\appdata\\local\\programs\\python\\python37\\lib\\site-packages\\numpy\\core\\_methods.py:85: RuntimeWarning: invalid value encountered in double_scalars\n",
      "  ret = ret.dtype.type(ret / rcount)\n"
     ]
    }
   ],
   "source": [
    "import importlib\n",
    "import bad_trials\n",
    "importlib.reload(ml_prep)\n",
    "importlib.reload(bad_trials)\n",
    "X,y,p,w = ml_prep.prep_ml_internal(df, ys, participants, downsample_num=200)"
   ]
  },
  {
   "cell_type": "code",
   "execution_count": 8,
   "metadata": {},
   "outputs": [
    {
     "data": {
      "text/plain": [
       "array([[ 0.01479058,  0.01479058,  0.01479058, ...,  0.01479058,\n",
       "         0.01479058,  0.01479058],\n",
       "       [-0.57335037, -0.57335037, -0.57335037, ..., -0.57335037,\n",
       "        -0.57335037, -0.57335037],\n",
       "       [-0.68528362, -0.68528362, -0.68528362, ..., -0.68528362,\n",
       "        -0.68528362, -0.68528362],\n",
       "       ...,\n",
       "       [-0.01190053, -0.01190053, -0.01190053, ..., -0.01190053,\n",
       "        -0.01190053, -0.01190053],\n",
       "       [ 0.1044729 ,  0.1044729 ,  0.1044729 , ...,  0.1044729 ,\n",
       "         0.1044729 ,  0.1044729 ],\n",
       "       [ 0.17931821,  0.17931821,  0.17931821, ...,  0.17931821,\n",
       "         0.17931821,  0.17931821]])"
      ]
     },
     "execution_count": 8,
     "metadata": {},
     "output_type": "execute_result"
    }
   ],
   "source": []
  },
  {
   "cell_type": "code",
   "execution_count": 4,
   "metadata": {},
   "outputs": [],
   "source": [
    "df2 = df[df.label != -1]"
   ]
  },
  {
   "cell_type": "code",
   "execution_count": 5,
   "metadata": {},
   "outputs": [
    {
     "data": {
      "text/plain": [
       "82"
      ]
     },
     "execution_count": 5,
     "metadata": {},
     "output_type": "execute_result"
    }
   ],
   "source": [
    "len(df2[df2.participant == 0])"
   ]
  },
  {
   "cell_type": "code",
   "execution_count": 6,
   "metadata": {},
   "outputs": [
    {
     "data": {
      "text/plain": [
       "83"
      ]
     },
     "execution_count": 6,
     "metadata": {},
     "output_type": "execute_result"
    }
   ],
   "source": [
    "len(df2[df2.participant == 1])"
   ]
  },
  {
   "cell_type": "code",
   "execution_count": 7,
   "metadata": {},
   "outputs": [
    {
     "data": {
      "text/plain": [
       "77"
      ]
     },
     "execution_count": 7,
     "metadata": {},
     "output_type": "execute_result"
    }
   ],
   "source": [
    "len(df2[df2.participant == 2])"
   ]
  },
  {
   "cell_type": "code",
   "execution_count": 8,
   "metadata": {},
   "outputs": [
    {
     "data": {
      "text/plain": [
       "30"
      ]
     },
     "execution_count": 8,
     "metadata": {},
     "output_type": "execute_result"
    }
   ],
   "source": [
    "len(df2[df2.participant == 3])"
   ]
  },
  {
   "cell_type": "code",
   "execution_count": null,
   "metadata": {},
   "outputs": [],
   "source": []
  }
 ],
 "metadata": {
  "kernelspec": {
   "display_name": "Python 3",
   "language": "python",
   "name": "python3"
  },
  "language_info": {
   "codemirror_mode": {
    "name": "ipython",
    "version": 3
   },
   "file_extension": ".py",
   "mimetype": "text/x-python",
   "name": "python",
   "nbconvert_exporter": "python",
   "pygments_lexer": "ipython3",
   "version": "3.7.3"
  }
 },
 "nbformat": 4,
 "nbformat_minor": 2
}
