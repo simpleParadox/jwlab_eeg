{
 "cells": [
  {
   "cell_type": "code",
   "execution_count": 1,
   "metadata": {},
   "outputs": [],
   "source": [
    "import pandas as pd\n",
    "import numpy as np"
   ]
  },
  {
   "cell_type": "code",
   "execution_count": 2,
   "metadata": {},
   "outputs": [],
   "source": [
    "import setup_jwlab\n",
    "from jwlab.run.computecanada_constants import df_path\n",
    "from jwlab.ml_prep import load_ml_df, y_to_binary, no_average\n",
    "\n",
    "df = load_ml_df(df_path)"
   ]
  },
  {
   "cell_type": "code",
   "execution_count": 3,
   "metadata": {},
   "outputs": [
    {
     "data": {
      "text/html": [
       "<div>\n",
       "<style scoped>\n",
       "    .dataframe tbody tr th:only-of-type {\n",
       "        vertical-align: middle;\n",
       "    }\n",
       "\n",
       "    .dataframe tbody tr th {\n",
       "        vertical-align: top;\n",
       "    }\n",
       "\n",
       "    .dataframe thead th {\n",
       "        text-align: right;\n",
       "    }\n",
       "</style>\n",
       "<table border=\"1\" class=\"dataframe\">\n",
       "  <thead>\n",
       "    <tr style=\"text-align: right;\">\n",
       "      <th></th>\n",
       "      <th>0</th>\n",
       "      <th>1</th>\n",
       "      <th>2</th>\n",
       "      <th>3</th>\n",
       "      <th>4</th>\n",
       "      <th>5</th>\n",
       "      <th>6</th>\n",
       "      <th>7</th>\n",
       "      <th>8</th>\n",
       "      <th>9</th>\n",
       "      <th>...</th>\n",
       "      <th>59992</th>\n",
       "      <th>59993</th>\n",
       "      <th>59994</th>\n",
       "      <th>59995</th>\n",
       "      <th>59996</th>\n",
       "      <th>59997</th>\n",
       "      <th>59998</th>\n",
       "      <th>59999</th>\n",
       "      <th>label</th>\n",
       "      <th>participant</th>\n",
       "    </tr>\n",
       "  </thead>\n",
       "  <tbody>\n",
       "    <tr>\n",
       "      <th>3</th>\n",
       "      <td>-6.267445</td>\n",
       "      <td>-10.671413</td>\n",
       "      <td>0.578791</td>\n",
       "      <td>11.550019</td>\n",
       "      <td>-22.521194</td>\n",
       "      <td>10.500483</td>\n",
       "      <td>21.748081</td>\n",
       "      <td>4.407655</td>\n",
       "      <td>17.857426</td>\n",
       "      <td>-62.065185</td>\n",
       "      <td>...</td>\n",
       "      <td>-16.948093</td>\n",
       "      <td>-15.687716</td>\n",
       "      <td>36.943016</td>\n",
       "      <td>6.545364</td>\n",
       "      <td>-12.206253</td>\n",
       "      <td>28.711948</td>\n",
       "      <td>-3.582610</td>\n",
       "      <td>-13.335809</td>\n",
       "      <td>2.0</td>\n",
       "      <td>0</td>\n",
       "    </tr>\n",
       "    <tr>\n",
       "      <th>4</th>\n",
       "      <td>-5.051580</td>\n",
       "      <td>-10.781385</td>\n",
       "      <td>0.190376</td>\n",
       "      <td>1.368724</td>\n",
       "      <td>5.463544</td>\n",
       "      <td>7.725687</td>\n",
       "      <td>-3.148193</td>\n",
       "      <td>11.126657</td>\n",
       "      <td>9.978209</td>\n",
       "      <td>12.743648</td>\n",
       "      <td>...</td>\n",
       "      <td>3.889105</td>\n",
       "      <td>1.637905</td>\n",
       "      <td>-4.101464</td>\n",
       "      <td>7.384897</td>\n",
       "      <td>4.721143</td>\n",
       "      <td>5.155228</td>\n",
       "      <td>1.844576</td>\n",
       "      <td>-2.275076</td>\n",
       "      <td>11.0</td>\n",
       "      <td>0</td>\n",
       "    </tr>\n",
       "    <tr>\n",
       "      <th>6</th>\n",
       "      <td>-5.336224</td>\n",
       "      <td>8.902582</td>\n",
       "      <td>1.747106</td>\n",
       "      <td>-3.788313</td>\n",
       "      <td>2.612656</td>\n",
       "      <td>-6.873928</td>\n",
       "      <td>-16.138010</td>\n",
       "      <td>-10.887217</td>\n",
       "      <td>-13.439786</td>\n",
       "      <td>-9.340491</td>\n",
       "      <td>...</td>\n",
       "      <td>-26.742655</td>\n",
       "      <td>-20.750853</td>\n",
       "      <td>12.206245</td>\n",
       "      <td>6.021628</td>\n",
       "      <td>-13.380303</td>\n",
       "      <td>16.875305</td>\n",
       "      <td>2.191557</td>\n",
       "      <td>-8.392258</td>\n",
       "      <td>9.0</td>\n",
       "      <td>0</td>\n",
       "    </tr>\n",
       "    <tr>\n",
       "      <th>7</th>\n",
       "      <td>14.368332</td>\n",
       "      <td>-7.143710</td>\n",
       "      <td>-1.941029</td>\n",
       "      <td>-4.037873</td>\n",
       "      <td>-16.169552</td>\n",
       "      <td>3.893104</td>\n",
       "      <td>-8.895123</td>\n",
       "      <td>2.405070</td>\n",
       "      <td>-0.573063</td>\n",
       "      <td>-19.320463</td>\n",
       "      <td>...</td>\n",
       "      <td>-4.218991</td>\n",
       "      <td>-15.093294</td>\n",
       "      <td>17.519402</td>\n",
       "      <td>5.642640</td>\n",
       "      <td>-7.015842</td>\n",
       "      <td>18.700117</td>\n",
       "      <td>-9.990950</td>\n",
       "      <td>-17.293606</td>\n",
       "      <td>6.0</td>\n",
       "      <td>0</td>\n",
       "    </tr>\n",
       "    <tr>\n",
       "      <th>9</th>\n",
       "      <td>5.921907</td>\n",
       "      <td>7.394731</td>\n",
       "      <td>11.163538</td>\n",
       "      <td>6.190385</td>\n",
       "      <td>14.727507</td>\n",
       "      <td>14.143522</td>\n",
       "      <td>0.216328</td>\n",
       "      <td>16.065905</td>\n",
       "      <td>22.855539</td>\n",
       "      <td>-21.799381</td>\n",
       "      <td>...</td>\n",
       "      <td>-19.998856</td>\n",
       "      <td>-12.777860</td>\n",
       "      <td>-122.127754</td>\n",
       "      <td>4.538394</td>\n",
       "      <td>-6.595347</td>\n",
       "      <td>-24.199774</td>\n",
       "      <td>-1.712019</td>\n",
       "      <td>-4.056543</td>\n",
       "      <td>5.0</td>\n",
       "      <td>0</td>\n",
       "    </tr>\n",
       "  </tbody>\n",
       "</table>\n",
       "<p>5 rows × 60002 columns</p>\n",
       "</div>"
      ],
      "text/plain": [
       "           0          1          2          3          4          5  \\\n",
       "3  -6.267445 -10.671413   0.578791  11.550019 -22.521194  10.500483   \n",
       "4  -5.051580 -10.781385   0.190376   1.368724   5.463544   7.725687   \n",
       "6  -5.336224   8.902582   1.747106  -3.788313   2.612656  -6.873928   \n",
       "7  14.368332  -7.143710  -1.941029  -4.037873 -16.169552   3.893104   \n",
       "9   5.921907   7.394731  11.163538   6.190385  14.727507  14.143522   \n",
       "\n",
       "           6          7          8          9  ...      59992      59993  \\\n",
       "3  21.748081   4.407655  17.857426 -62.065185  ... -16.948093 -15.687716   \n",
       "4  -3.148193  11.126657   9.978209  12.743648  ...   3.889105   1.637905   \n",
       "6 -16.138010 -10.887217 -13.439786  -9.340491  ... -26.742655 -20.750853   \n",
       "7  -8.895123   2.405070  -0.573063 -19.320463  ...  -4.218991 -15.093294   \n",
       "9   0.216328  16.065905  22.855539 -21.799381  ... -19.998856 -12.777860   \n",
       "\n",
       "        59994     59995      59996      59997     59998      59999  label  \\\n",
       "3   36.943016  6.545364 -12.206253  28.711948 -3.582610 -13.335809    2.0   \n",
       "4   -4.101464  7.384897   4.721143   5.155228  1.844576  -2.275076   11.0   \n",
       "6   12.206245  6.021628 -13.380303  16.875305  2.191557  -8.392258    9.0   \n",
       "7   17.519402  5.642640  -7.015842  18.700117 -9.990950 -17.293606    6.0   \n",
       "9 -122.127754  4.538394  -6.595347 -24.199774 -1.712019  -4.056543    5.0   \n",
       "\n",
       "   participant  \n",
       "3            0  \n",
       "4            0  \n",
       "6            0  \n",
       "7            0  \n",
       "9            0  \n",
       "\n",
       "[5 rows x 60002 columns]"
      ]
     },
     "execution_count": 3,
     "metadata": {},
     "output_type": "execute_result"
    }
   ],
   "source": [
    "df.head()"
   ]
  },
  {
   "cell_type": "code",
   "execution_count": 4,
   "metadata": {},
   "outputs": [
    {
     "name": "stderr",
     "output_type": "stream",
     "text": [
      "/project/6003615/kjslakov/jwlab_eeg/classification/notebooks/../code/jwlab/ml_prep.py:168: RuntimeWarning: Mean of empty slice.\n",
      "  means = df_data[np.logical_and(df.participant == p, df.label == w)].values.mean()\n",
      "/home/kjslakov/jupyter_py3/lib/python3.6/site-packages/numpy/core/_methods.py:161: RuntimeWarning: invalid value encountered in double_scalars\n",
      "  ret = ret.dtype.type(ret / rcount)\n"
     ]
    }
   ],
   "source": [
    "from jwlab.ml_prep import load_ml_df, y_to_binary, no_average, average_trials\n",
    "\n",
    "X,y,p,w = average_trials(df)"
   ]
  },
  {
   "cell_type": "code",
   "execution_count": 5,
   "metadata": {},
   "outputs": [
    {
     "data": {
      "text/plain": [
       "array([ 0.,  2.,  4.,  5.,  6.,  7.,  8.,  9., 10., 11., 13., 14.,  0.,\n",
       "        1.,  2.,  3.,  4.,  5.,  6.,  7.,  8.,  9., 10., 11., 12., 13.,\n",
       "       14., 15.,  0.,  1.,  2.,  3.,  4.,  5.,  6.,  7.,  8.,  9., 10.,\n",
       "       11., 12., 13., 14., 15.,  0.,  1.,  2.,  3.,  4.,  5.,  6.,  7.,\n",
       "        8.,  9., 10., 11., 12., 13., 14., 15.,  0.,  1.,  2.,  3.,  4.,\n",
       "        5.,  6.,  7.,  8.,  9., 10., 11., 12., 13., 14., 15.,  0.,  1.,\n",
       "        2.,  3.,  4.,  5.,  6.,  7.,  8.,  9., 10., 11., 12., 13., 14.,\n",
       "       15.,  0.,  2.,  4.,  5.,  6.,  7.,  8.,  9., 10., 11., 13., 14.,\n",
       "        0.,  2.,  4.,  5.,  6.,  7.,  8.,  9., 10., 11., 13., 14.,  0.,\n",
       "        2.,  6.,  7.,  8.,  9., 10., 13.,  0.,  1.,  2.,  3.,  4.,  5.,\n",
       "        6.,  7.,  8.,  9., 10., 11., 12., 13., 14., 15.,  0.,  1.,  2.,\n",
       "        3.,  4.,  5.,  6.,  7.,  8.,  9., 10., 11., 12., 13., 14., 15.,\n",
       "        0.,  1.,  4.,  6.,  7.,  8.,  9., 10., 12., 14., 15.,  0.,  1.,\n",
       "        2.,  3.,  4.,  5.,  6.,  7.,  8.,  9., 10., 11., 12., 13., 14.,\n",
       "       15.])"
      ]
     },
     "execution_count": 5,
     "metadata": {},
     "output_type": "execute_result"
    }
   ],
   "source": [
    "y"
   ]
  },
  {
   "cell_type": "code",
   "execution_count": 6,
   "metadata": {},
   "outputs": [
    {
     "data": {
      "text/plain": [
       "0.4972677595628415"
      ]
     },
     "execution_count": 6,
     "metadata": {},
     "output_type": "execute_result"
    }
   ],
   "source": [
    "np.mean(y_to_binary(y) == 0)"
   ]
  },
  {
   "cell_type": "code",
   "execution_count": null,
   "metadata": {},
   "outputs": [],
   "source": []
  }
 ],
 "metadata": {
  "kernelspec": {
   "display_name": "Python 3",
   "language": "python",
   "name": "python3"
  },
  "language_info": {
   "codemirror_mode": {
    "name": "ipython",
    "version": 3
   },
   "file_extension": ".py",
   "mimetype": "text/x-python",
   "name": "python",
   "nbconvert_exporter": "python",
   "pygments_lexer": "ipython3",
   "version": "3.6.3"
  }
 },
 "nbformat": 4,
 "nbformat_minor": 2
}
