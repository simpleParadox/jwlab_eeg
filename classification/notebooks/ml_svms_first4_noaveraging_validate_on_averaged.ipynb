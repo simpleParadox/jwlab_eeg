{
 "cells": [
  {
   "cell_type": "code",
   "execution_count": 1,
   "metadata": {},
   "outputs": [],
   "source": [
    "import pandas as pd\n",
    "import numpy as np"
   ]
  },
  {
   "cell_type": "code",
   "execution_count": 2,
   "metadata": {},
   "outputs": [],
   "source": [
    "import setup_jwlab\n",
    "from jwlab.constants import cleaned_data_filepath\n",
    "participants = [\"105\", \"106\", \"107\", \"109\", \"111\", \"904\", \"905\", \"906\", \"112\", \"909\", \"910\", \"115\", \"116\", \"912\", \"908\"]\n",
    "#participants = [\"105\", \"106\", \"107\", \"109\", \"111\", \"112\", \"115\", \"116\"]\n",
    "#participants = [\"904\", \"905\", \"906\", \"909\", \"910\", \"912\", \"908\"]"
   ]
  },
  {
   "cell_type": "code",
   "execution_count": 3,
   "metadata": {},
   "outputs": [],
   "source": [
    "#from jwlab.ml_prep import prep_ml\n",
    "#X,y,p,w,df = prep_ml(cleaned_data_filepath, participants, downsample_num=1000, averaging=\"no_averaging\")"
   ]
  },
  {
   "cell_type": "code",
   "execution_count": null,
   "metadata": {},
   "outputs": [],
   "source": [
    "from jwlab.ml_prep import prep_ml\n",
    "#X,y,p,w,df = prep_ml(cleaned_data_filepath, participants, downsample_num=1000, averaging=\"no_averaging\")\n",
    "#Xp,yp,pp,wp,dfp = prep_ml(cleaned_data_filepath, participants, downsample_num=1000, averaging=\"averaging\")\n",
    "Xa,ya,pa,wa,dfa = prep_ml(cleaned_data_filepath, participants, downsample_num=1000, averaging=\"average_trials\")"
   ]
  },
  {
   "cell_type": "code",
   "execution_count": null,
   "metadata": {},
   "outputs": [],
   "source": [
    "(n, d) = Xa.shape\n",
    "print(n)\n",
    "assert n == ya.shape[0]"
   ]
  },
  {
   "cell_type": "code",
   "execution_count": 5,
   "metadata": {},
   "outputs": [],
   "source": [
    "from sklearn.svm import LinearSVC\n",
    "model = LinearSVC(C=1.0, max_iter=1000)"
   ]
  },
  {
   "cell_type": "code",
   "execution_count": 6,
   "metadata": {},
   "outputs": [],
   "source": [
    "# from sklearn.ensemble import BaggingClassifier\n",
    "# model = BaggingClassifier(model)"
   ]
  },
  {
   "cell_type": "code",
   "execution_count": 7,
   "metadata": {},
   "outputs": [],
   "source": [
    "# from sklearn.model_selection import GridSearchCV\n",
    "\n",
    "# param_grid = [\n",
    "  # {'C': np.logspace(-10, -5, 3)}\n",
    " # ]\n",
    "\n",
    "# tuned_model = GridSearchCV(model, param_grid)\n",
    "# tuned_model.fit(X, y)\n",
    "\n",
    "# tuned_model.cv_results_"
   ]
  },
  {
   "cell_type": "code",
   "execution_count": null,
   "metadata": {},
   "outputs": [],
   "source": [
    "# from sklearn import preprocessing\n",
    "\n",
    "# scaler = preprocessing.StandardScaler().fit(X)\n",
    "# X,Xp = scaler.transform(X), scaler.transform(Xp)\n",
    "\n",
    "model.fit(X, y)\n",
    "np.mean(model.predict(Xp) != yp)"
   ]
  },
  {
   "cell_type": "code",
   "execution_count": null,
   "metadata": {},
   "outputs": [],
   "source": [
    "model.fit(Xp, yp)\n",
    "np.mean(model.predict(X) != y)"
   ]
  },
  {
   "cell_type": "code",
   "execution_count": null,
   "metadata": {},
   "outputs": [],
   "source": [
    "model.fit(X, y)\n",
    "np.mean(model.predict(X) != y)"
   ]
  },
  {
   "cell_type": "code",
   "execution_count": null,
   "metadata": {},
   "outputs": [],
   "source": []
  }
 ],
 "metadata": {
  "kernelspec": {
   "display_name": "Python 3",
   "language": "python",
   "name": "python3"
  },
  "language_info": {
   "codemirror_mode": {
    "name": "ipython",
    "version": 3
   },
   "file_extension": ".py",
   "mimetype": "text/x-python",
   "name": "python",
   "nbconvert_exporter": "python",
   "pygments_lexer": "ipython3",
   "version": "3.7.4"
  }
 },
 "nbformat": 4,
 "nbformat_minor": 2
}
