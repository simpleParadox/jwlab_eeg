{
 "cells": [
  {
   "cell_type": "code",
   "execution_count": 1,
   "metadata": {},
   "outputs": [],
   "source": [
    "import pandas as pd\n",
    "import numpy as np"
   ]
  },
  {
   "cell_type": "code",
   "execution_count": 2,
   "metadata": {},
   "outputs": [],
   "source": [
    "import setup_jwlab\n",
    "from jwlab.constants import cleaned_data_filepath\n",
    "participants = [\"105\", \"106\", \"107\", \"109\", \"111\", \"112\", \"909\", \"910\", \"115\", \"116\", \"912\", \"914\", \"904\", \"905\", \"906\", \"908\"]\n",
    "#participants = [\"908\"]\n",
    "from jwlab.ml_prep import create_ml_df\n",
    "df = create_ml_df(cleaned_data_filepath, participants, downsample_num=1000)"
   ]
  },
  {
   "cell_type": "code",
   "execution_count": null,
   "metadata": {},
   "outputs": [],
   "source": []
  },
  {
   "cell_type": "code",
   "execution_count": 3,
   "metadata": {},
   "outputs": [
    {
     "name": "stdout",
     "output_type": "stream",
     "text": [
      "[  39   54   55   57   66   72   78   96   85   95  110  127  137  138\n",
      "  139  140  141  146  149  172  173  175  176  177  178  186  187  194\n",
      "  201  202  203  208  212  215  219  228  257  262  266  267  288  293\n",
      "  311  318  319  320  325  326  327  328  329  331  347  367  368  371\n",
      "  384  388  392  399  400  401  406  409  410  416  418  419  421  422\n",
      "  426  428  433  436  437  450  456  454  458  460  461  465  462  466\n",
      "  476  481  482  483  485  491  492  493  494  495  501  503  513  514\n",
      "  515  517  518  524  526  528  529  531  533  557  566  567  568  569\n",
      "  578  584  586  593  594  607  608  611  619  624  625  632  633  635\n",
      "  642  644  646  648  656  658  659  660  662  663  664  702  704  732\n",
      "  744  747  748  750  752  755  756  758  762  769  770  771  773  775\n",
      "  776  777  778  779  782  785  786  787  788  790  797  799  800  801\n",
      "  802  803  804  805  808  809  810  811  812  843  833  847  856  863\n",
      "  873  875  876  879  881  882  884  886  887  889  890  891  894  896\n",
      "  898  899  905  906  907  909  910  911  912  913  919  928  929  934\n",
      "  936  944  954  958  959  961  962  964  967  968  969  975  976  977\n",
      "  978  980  981  982  985  989  990  995  996  998  999 1000 1001 1003\n",
      " 1005 1006 1007 1008 1009 1010 1012 1013 1014 1015 1016 1017 1018 1019\n",
      " 1020 1021 1022 1023 1024 1025 1026 1027 1028 1029 1030 1050 1069 1071\n",
      " 1081 1091 1101 1103 1110 1133 1135 1138 1139 1140 1141 1149 1150 1156\n",
      " 1161 1164 1166 1184 1201 1206 1207 1208 1212 1213 1214 1215 1216 1219\n",
      " 1220 1221 1218 1223 1220 1221 1245 1251 1265 1268 1271 1273 1276 1277\n",
      " 1278 1280 1281 1282 1283 1284 1254]\n",
      "[28. 13. 24. ... 18.  4. 27.]\n"
     ]
    },
    {
     "name": "stderr",
     "output_type": "stream",
     "text": [
      "/Users/roxyk/Documents/GitHub/jwlab_eeg/classification/ml_prep.py:83: RuntimeWarning: Mean of empty slice.\n",
      "  means = df_data[np.logical_and(df.participant == p, df.label == w)].values.mean()\n",
      "/Library/Frameworks/Python.framework/Versions/3.7/lib/python3.7/site-packages/numpy/core/_methods.py:161: RuntimeWarning: invalid value encountered in double_scalars\n",
      "  ret = ret.dtype.type(ret / rcount)\n"
     ]
    }
   ],
   "source": [
    "Xp,yp,pp,wp,df2 = prep_ml(cleaned_data_filepath, participants, downsample_num=1000, averaging=\"average_trials\")"
   ]
  },
  {
   "cell_type": "code",
   "execution_count": 3,
   "metadata": {},
   "outputs": [
    {
     "ename": "NameError",
     "evalue": "name 'X' is not defined",
     "output_type": "error",
     "traceback": [
      "\u001b[0;31m---------------------------------------------------------------------------\u001b[0m",
      "\u001b[0;31mNameError\u001b[0m                                 Traceback (most recent call last)",
      "\u001b[0;32m<ipython-input-3-66a58f3b150f>\u001b[0m in \u001b[0;36m<module>\u001b[0;34m\u001b[0m\n\u001b[0;32m----> 1\u001b[0;31m \u001b[0;34m(\u001b[0m\u001b[0mn\u001b[0m\u001b[0;34m,\u001b[0m \u001b[0md\u001b[0m\u001b[0;34m)\u001b[0m \u001b[0;34m=\u001b[0m \u001b[0mX\u001b[0m\u001b[0;34m.\u001b[0m\u001b[0mshape\u001b[0m\u001b[0;34m\u001b[0m\u001b[0;34m\u001b[0m\u001b[0m\n\u001b[0m\u001b[1;32m      2\u001b[0m \u001b[0;32massert\u001b[0m \u001b[0mn\u001b[0m \u001b[0;34m==\u001b[0m \u001b[0my\u001b[0m\u001b[0;34m.\u001b[0m\u001b[0mshape\u001b[0m\u001b[0;34m[\u001b[0m\u001b[0;36m0\u001b[0m\u001b[0;34m]\u001b[0m\u001b[0;34m\u001b[0m\u001b[0;34m\u001b[0m\u001b[0m\n",
      "\u001b[0;31mNameError\u001b[0m: name 'X' is not defined"
     ]
    }
   ],
   "source": [
    "(n, d) = X.shape\n",
    "assert n == y.shape[0]"
   ]
  },
  {
   "cell_type": "code",
   "execution_count": 4,
   "metadata": {},
   "outputs": [],
   "source": [
    "from sklearn.svm import LinearSVC\n",
    "model = LinearSVC(C=1.0, max_iter=1000)"
   ]
  },
  {
   "cell_type": "code",
   "execution_count": 6,
   "metadata": {},
   "outputs": [],
   "source": [
    "# from sklearn.ensemble import BaggingClassifier\n",
    "# model = BaggingClassifier(model)"
   ]
  },
  {
   "cell_type": "code",
   "execution_count": 7,
   "metadata": {},
   "outputs": [],
   "source": [
    "# from sklearn.model_selection import GridSearchCV\n",
    "\n",
    "# param_grid = [\n",
    "  # {'C': np.logspace(-10, -5, 3)}\n",
    " # ]\n",
    "\n",
    "# tuned_model = GridSearchCV(model, param_grid)\n",
    "# tuned_model.fit(X, y)\n",
    "\n",
    "# tuned_model.cv_results_"
   ]
  },
  {
   "cell_type": "code",
   "execution_count": null,
   "metadata": {},
   "outputs": [],
   "source": [
    "# from sklearn import preprocessing\n",
    "\n",
    "# scaler = preprocessing.StandardScaler().fit(X)\n",
    "# X,Xp = scaler.transform(X), scaler.transform(Xp)\n",
    "\n",
    "model.fit(X, y)\n",
    "np.mean(model.predict(Xp) != yp)"
   ]
  },
  {
   "cell_type": "code",
   "execution_count": null,
   "metadata": {},
   "outputs": [],
   "source": [
    "model.fit(Xp, yp)\n",
    "np.mean(model.predict(X) != y)"
   ]
  },
  {
   "cell_type": "code",
   "execution_count": null,
   "metadata": {},
   "outputs": [],
   "source": []
  }
 ],
 "metadata": {
  "kernelspec": {
   "display_name": "Python 3",
   "language": "python",
   "name": "python3"
  },
  "language_info": {
   "codemirror_mode": {
    "name": "ipython",
    "version": 3
   },
   "file_extension": ".py",
   "mimetype": "text/x-python",
   "name": "python",
   "nbconvert_exporter": "python",
   "pygments_lexer": "ipython3",
   "version": "3.7.4"
  }
 },
 "nbformat": 4,
 "nbformat_minor": 2
}
