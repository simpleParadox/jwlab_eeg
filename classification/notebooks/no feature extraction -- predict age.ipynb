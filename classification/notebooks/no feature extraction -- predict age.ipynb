{
 "cells": [
  {
   "cell_type": "code",
   "execution_count": 1,
   "metadata": {},
   "outputs": [],
   "source": [
    "import setup_jwlab\n",
    "import pandas as pd\n",
    "import numpy as np\n",
    "\n",
    "from jwlab.ml_prep import load_ml_df, y_to_binary\n",
    "from sklearn.model_selection import cross_val_score"
   ]
  },
  {
   "cell_type": "code",
   "execution_count": 2,
   "metadata": {
    "scrolled": false
   },
   "outputs": [],
   "source": [
    "df = load_ml_df(\"~/projects/def-jwerker/kjslakov/data/ml_df_readys.pkl\")"
   ]
  },
  {
   "cell_type": "code",
   "execution_count": 3,
   "metadata": {},
   "outputs": [],
   "source": [
    "y = df.participant.values\n",
    "y[y <= 11] = 0\n",
    "y[y > 11] = 1\n",
    "df = df.drop(columns=[\"label\", \"participant\"], axis=1)"
   ]
  },
  {
   "cell_type": "code",
   "execution_count": 4,
   "metadata": {},
   "outputs": [
    {
     "data": {
      "text/html": [
       "<div>\n",
       "<style scoped>\n",
       "    .dataframe tbody tr th:only-of-type {\n",
       "        vertical-align: middle;\n",
       "    }\n",
       "\n",
       "    .dataframe tbody tr th {\n",
       "        vertical-align: top;\n",
       "    }\n",
       "\n",
       "    .dataframe thead th {\n",
       "        text-align: right;\n",
       "    }\n",
       "</style>\n",
       "<table border=\"1\" class=\"dataframe\">\n",
       "  <thead>\n",
       "    <tr style=\"text-align: right;\">\n",
       "      <th></th>\n",
       "      <th>0</th>\n",
       "      <th>1</th>\n",
       "      <th>2</th>\n",
       "      <th>3</th>\n",
       "      <th>4</th>\n",
       "      <th>5</th>\n",
       "      <th>6</th>\n",
       "      <th>7</th>\n",
       "      <th>8</th>\n",
       "      <th>9</th>\n",
       "      <th>...</th>\n",
       "      <th>17990</th>\n",
       "      <th>17991</th>\n",
       "      <th>17992</th>\n",
       "      <th>17993</th>\n",
       "      <th>17994</th>\n",
       "      <th>17995</th>\n",
       "      <th>17996</th>\n",
       "      <th>17997</th>\n",
       "      <th>17998</th>\n",
       "      <th>17999</th>\n",
       "    </tr>\n",
       "  </thead>\n",
       "  <tbody>\n",
       "    <tr>\n",
       "      <th>0</th>\n",
       "      <td>50.449753</td>\n",
       "      <td>138.133133</td>\n",
       "      <td>126.717212</td>\n",
       "      <td>149.367197</td>\n",
       "      <td>36.781255</td>\n",
       "      <td>104.922580</td>\n",
       "      <td>55.184135</td>\n",
       "      <td>87.987745</td>\n",
       "      <td>129.338971</td>\n",
       "      <td>-71.151635</td>\n",
       "      <td>...</td>\n",
       "      <td>78.571593</td>\n",
       "      <td>171.155626</td>\n",
       "      <td>139.364090</td>\n",
       "      <td>124.335217</td>\n",
       "      <td>-204.489194</td>\n",
       "      <td>145.826677</td>\n",
       "      <td>271.538668</td>\n",
       "      <td>125.980671</td>\n",
       "      <td>180.188476</td>\n",
       "      <td>149.211144</td>\n",
       "    </tr>\n",
       "    <tr>\n",
       "      <th>1</th>\n",
       "      <td>-37.132645</td>\n",
       "      <td>161.466307</td>\n",
       "      <td>156.438376</td>\n",
       "      <td>115.736323</td>\n",
       "      <td>115.471507</td>\n",
       "      <td>108.654233</td>\n",
       "      <td>33.656159</td>\n",
       "      <td>146.176553</td>\n",
       "      <td>99.608679</td>\n",
       "      <td>23.079561</td>\n",
       "      <td>...</td>\n",
       "      <td>34.940964</td>\n",
       "      <td>-76.056590</td>\n",
       "      <td>-5.691290</td>\n",
       "      <td>23.843827</td>\n",
       "      <td>36.836227</td>\n",
       "      <td>-49.116065</td>\n",
       "      <td>-5.342957</td>\n",
       "      <td>-84.522853</td>\n",
       "      <td>1.558821</td>\n",
       "      <td>3.216763</td>\n",
       "    </tr>\n",
       "    <tr>\n",
       "      <th>2</th>\n",
       "      <td>7.893801</td>\n",
       "      <td>14.047359</td>\n",
       "      <td>22.842200</td>\n",
       "      <td>24.524011</td>\n",
       "      <td>114.983781</td>\n",
       "      <td>28.889022</td>\n",
       "      <td>54.507082</td>\n",
       "      <td>20.811691</td>\n",
       "      <td>28.713169</td>\n",
       "      <td>-13.137387</td>\n",
       "      <td>...</td>\n",
       "      <td>31.854351</td>\n",
       "      <td>-30.906935</td>\n",
       "      <td>0.060032</td>\n",
       "      <td>18.255586</td>\n",
       "      <td>-142.465714</td>\n",
       "      <td>-31.275570</td>\n",
       "      <td>-6.219524</td>\n",
       "      <td>-61.700972</td>\n",
       "      <td>-13.027648</td>\n",
       "      <td>-20.458329</td>\n",
       "    </tr>\n",
       "    <tr>\n",
       "      <th>3</th>\n",
       "      <td>-4.610002</td>\n",
       "      <td>-9.418404</td>\n",
       "      <td>10.674796</td>\n",
       "      <td>27.730582</td>\n",
       "      <td>84.877453</td>\n",
       "      <td>25.914138</td>\n",
       "      <td>57.652917</td>\n",
       "      <td>11.320962</td>\n",
       "      <td>31.576525</td>\n",
       "      <td>-52.901394</td>\n",
       "      <td>...</td>\n",
       "      <td>-170.306125</td>\n",
       "      <td>-95.309878</td>\n",
       "      <td>-155.809703</td>\n",
       "      <td>-148.276279</td>\n",
       "      <td>1302.220468</td>\n",
       "      <td>-141.464596</td>\n",
       "      <td>-136.894723</td>\n",
       "      <td>-165.490097</td>\n",
       "      <td>-161.881650</td>\n",
       "      <td>-160.968116</td>\n",
       "    </tr>\n",
       "    <tr>\n",
       "      <th>4</th>\n",
       "      <td>-173.983406</td>\n",
       "      <td>-164.342091</td>\n",
       "      <td>-157.416311</td>\n",
       "      <td>-97.254718</td>\n",
       "      <td>-167.746539</td>\n",
       "      <td>-129.771580</td>\n",
       "      <td>-130.356181</td>\n",
       "      <td>-149.251980</td>\n",
       "      <td>-138.944774</td>\n",
       "      <td>-242.672413</td>\n",
       "      <td>...</td>\n",
       "      <td>-164.324930</td>\n",
       "      <td>-30.746377</td>\n",
       "      <td>-126.832639</td>\n",
       "      <td>-90.449150</td>\n",
       "      <td>956.644648</td>\n",
       "      <td>-78.934968</td>\n",
       "      <td>-90.884256</td>\n",
       "      <td>-61.724444</td>\n",
       "      <td>-87.471211</td>\n",
       "      <td>-101.963853</td>\n",
       "    </tr>\n",
       "  </tbody>\n",
       "</table>\n",
       "<p>5 rows × 18000 columns</p>\n",
       "</div>"
      ],
      "text/plain": [
       "        0           1           2           3           4           5      \\\n",
       "0   50.449753  138.133133  126.717212  149.367197   36.781255  104.922580   \n",
       "1  -37.132645  161.466307  156.438376  115.736323  115.471507  108.654233   \n",
       "2    7.893801   14.047359   22.842200   24.524011  114.983781   28.889022   \n",
       "3   -4.610002   -9.418404   10.674796   27.730582   84.877453   25.914138   \n",
       "4 -173.983406 -164.342091 -157.416311  -97.254718 -167.746539 -129.771580   \n",
       "\n",
       "        6           7           8           9      ...       17990  \\\n",
       "0   55.184135   87.987745  129.338971  -71.151635  ...   78.571593   \n",
       "1   33.656159  146.176553   99.608679   23.079561  ...   34.940964   \n",
       "2   54.507082   20.811691   28.713169  -13.137387  ...   31.854351   \n",
       "3   57.652917   11.320962   31.576525  -52.901394  ... -170.306125   \n",
       "4 -130.356181 -149.251980 -138.944774 -242.672413  ... -164.324930   \n",
       "\n",
       "        17991       17992       17993        17994       17995       17996  \\\n",
       "0  171.155626  139.364090  124.335217  -204.489194  145.826677  271.538668   \n",
       "1  -76.056590   -5.691290   23.843827    36.836227  -49.116065   -5.342957   \n",
       "2  -30.906935    0.060032   18.255586  -142.465714  -31.275570   -6.219524   \n",
       "3  -95.309878 -155.809703 -148.276279  1302.220468 -141.464596 -136.894723   \n",
       "4  -30.746377 -126.832639  -90.449150   956.644648  -78.934968  -90.884256   \n",
       "\n",
       "        17997       17998       17999  \n",
       "0  125.980671  180.188476  149.211144  \n",
       "1  -84.522853    1.558821    3.216763  \n",
       "2  -61.700972  -13.027648  -20.458329  \n",
       "3 -165.490097 -161.881650 -160.968116  \n",
       "4  -61.724444  -87.471211 -101.963853  \n",
       "\n",
       "[5 rows x 18000 columns]"
      ]
     },
     "execution_count": 4,
     "metadata": {},
     "output_type": "execute_result"
    }
   ],
   "source": [
    "df.head()"
   ]
  },
  {
   "cell_type": "code",
   "execution_count": 5,
   "metadata": {},
   "outputs": [
    {
     "data": {
      "text/plain": [
       "0.36966192170818507"
      ]
     },
     "execution_count": 5,
     "metadata": {},
     "output_type": "execute_result"
    }
   ],
   "source": [
    "np.mean(y == 0)"
   ]
  },
  {
   "cell_type": "code",
   "execution_count": null,
   "metadata": {},
   "outputs": [
    {
     "name": "stderr",
     "output_type": "stream",
     "text": [
      "/home/kjslakov/jupyter_py3/lib/python3.6/site-packages/sklearn/svm/base.py:929: ConvergenceWarning: Liblinear failed to converge, increase the number of iterations.\n",
      "  \"the number of iterations.\", ConvergenceWarning)\n"
     ]
    }
   ],
   "source": [
    "from sklearn.svm import LinearSVC\n",
    "model = LinearSVC(C=1e-6, max_iter=10000)\n",
    "\n",
    "scores = cross_val_score(model, df, y, cv=5)\n",
    "print(scores)\n",
    "print(\"Accuracy: %0.2f (+/- %0.2f)\" % (scores.mean(), scores.std() * 2))"
   ]
  },
  {
   "cell_type": "code",
   "execution_count": 7,
   "metadata": {},
   "outputs": [
    {
     "name": "stdout",
     "output_type": "stream",
     "text": [
      "[0.62971175 0.63111111 0.61469933 0.71492205 0.63474388]\n",
      "Accuracy: 0.65 (+/- 0.07)\n"
     ]
    }
   ],
   "source": [
    "from sklearn.svm import SVC\n",
    "model = SVC(gamma='scale')\n",
    "\n",
    "scores = cross_val_score(model, df, y, cv=5)\n",
    "print(scores)\n",
    "print(\"Accuracy: %0.2f (+/- %0.2f)\" % (scores.mean(), scores.std() * 2))"
   ]
  },
  {
   "cell_type": "code",
   "execution_count": 6,
   "metadata": {},
   "outputs": [
    {
     "name": "stderr",
     "output_type": "stream",
     "text": [
      "/home/kjslakov/jupyter_py3/lib/python3.6/site-packages/sklearn/ensemble/forest.py:245: FutureWarning: The default value of n_estimators will change from 10 in version 0.20 to 100 in 0.22.\n",
      "  \"10 in version 0.20 to 100 in 0.22.\", FutureWarning)\n",
      "/home/kjslakov/jupyter_py3/lib/python3.6/site-packages/sklearn/ensemble/forest.py:245: FutureWarning: The default value of n_estimators will change from 10 in version 0.20 to 100 in 0.22.\n",
      "  \"10 in version 0.20 to 100 in 0.22.\", FutureWarning)\n",
      "/home/kjslakov/jupyter_py3/lib/python3.6/site-packages/sklearn/ensemble/forest.py:245: FutureWarning: The default value of n_estimators will change from 10 in version 0.20 to 100 in 0.22.\n",
      "  \"10 in version 0.20 to 100 in 0.22.\", FutureWarning)\n",
      "/home/kjslakov/jupyter_py3/lib/python3.6/site-packages/sklearn/ensemble/forest.py:245: FutureWarning: The default value of n_estimators will change from 10 in version 0.20 to 100 in 0.22.\n",
      "  \"10 in version 0.20 to 100 in 0.22.\", FutureWarning)\n",
      "/home/kjslakov/jupyter_py3/lib/python3.6/site-packages/sklearn/ensemble/forest.py:245: FutureWarning: The default value of n_estimators will change from 10 in version 0.20 to 100 in 0.22.\n",
      "  \"10 in version 0.20 to 100 in 0.22.\", FutureWarning)\n"
     ]
    },
    {
     "name": "stdout",
     "output_type": "stream",
     "text": [
      "[0.5631929  0.68       0.75946548 0.74387528 0.61247216]\n",
      "Accuracy: 0.67 (+/- 0.15)\n"
     ]
    }
   ],
   "source": [
    "from sklearn.ensemble import RandomForestClassifier\n",
    "\n",
    "model = RandomForestClassifier()\n",
    "scores = cross_val_score(model, df, y, cv=5)\n",
    "print(scores)\n",
    "print(\"Accuracy: %0.2f (+/- %0.2f)\" % (scores.mean(), scores.std() * 2))"
   ]
  },
  {
   "cell_type": "code",
   "execution_count": null,
   "metadata": {},
   "outputs": [],
   "source": []
  }
 ],
 "metadata": {
  "kernelspec": {
   "display_name": "Python 3",
   "language": "python",
   "name": "python3"
  },
  "language_info": {
   "codemirror_mode": {
    "name": "ipython",
    "version": 3
   },
   "file_extension": ".py",
   "mimetype": "text/x-python",
   "name": "python",
   "nbconvert_exporter": "python",
   "pygments_lexer": "ipython3",
   "version": "3.6.3"
  }
 },
 "nbformat": 4,
 "nbformat_minor": 2
}
