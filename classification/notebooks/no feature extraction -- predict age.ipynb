{
 "cells": [
  {
   "cell_type": "code",
   "execution_count": 1,
   "metadata": {},
   "outputs": [],
   "source": [
    "import setup_jwlab\n",
    "import pandas as pd\n",
    "import numpy as np\n",
    "\n",
    "from jwlab.ml_prep import load_ml_df, y_to_binary\n",
    "from sklearn.model_selection import cross_val_score"
   ]
  },
  {
   "cell_type": "code",
   "execution_count": 2,
   "metadata": {
    "scrolled": false
   },
   "outputs": [],
   "source": [
    "df = load_ml_df(\"~/projects/def-jwerker/kjslakov/data/ml_df_readys.pkl\")"
   ]
  },
  {
   "cell_type": "code",
   "execution_count": 3,
   "metadata": {},
   "outputs": [],
   "source": [
    "y = df.participant.values\n",
    "y[y < 6] = 0\n",
    "y[y >= 6] = 1\n",
    "df = df.drop(columns=[\"label\", \"participant\"], axis=1)"
   ]
  },
  {
   "cell_type": "code",
   "execution_count": 4,
   "metadata": {},
   "outputs": [
    {
     "data": {
      "text/html": [
       "<div>\n",
       "<style scoped>\n",
       "    .dataframe tbody tr th:only-of-type {\n",
       "        vertical-align: middle;\n",
       "    }\n",
       "\n",
       "    .dataframe tbody tr th {\n",
       "        vertical-align: top;\n",
       "    }\n",
       "\n",
       "    .dataframe thead th {\n",
       "        text-align: right;\n",
       "    }\n",
       "</style>\n",
       "<table border=\"1\" class=\"dataframe\">\n",
       "  <thead>\n",
       "    <tr style=\"text-align: right;\">\n",
       "      <th></th>\n",
       "      <th>0</th>\n",
       "      <th>1</th>\n",
       "      <th>2</th>\n",
       "      <th>3</th>\n",
       "      <th>4</th>\n",
       "      <th>5</th>\n",
       "      <th>6</th>\n",
       "      <th>7</th>\n",
       "      <th>8</th>\n",
       "      <th>9</th>\n",
       "      <th>...</th>\n",
       "      <th>59990</th>\n",
       "      <th>59991</th>\n",
       "      <th>59992</th>\n",
       "      <th>59993</th>\n",
       "      <th>59994</th>\n",
       "      <th>59995</th>\n",
       "      <th>59996</th>\n",
       "      <th>59997</th>\n",
       "      <th>59998</th>\n",
       "      <th>59999</th>\n",
       "    </tr>\n",
       "  </thead>\n",
       "  <tbody>\n",
       "    <tr>\n",
       "      <th>0</th>\n",
       "      <td>-13.517964</td>\n",
       "      <td>22.010553</td>\n",
       "      <td>10.012394</td>\n",
       "      <td>21.608709</td>\n",
       "      <td>-47.938713</td>\n",
       "      <td>3.326609</td>\n",
       "      <td>16.604320</td>\n",
       "      <td>-2.932594</td>\n",
       "      <td>7.207325</td>\n",
       "      <td>-30.335497</td>\n",
       "      <td>...</td>\n",
       "      <td>30.628658</td>\n",
       "      <td>-6.693759</td>\n",
       "      <td>32.954323</td>\n",
       "      <td>17.554173</td>\n",
       "      <td>-28.639063</td>\n",
       "      <td>18.128828</td>\n",
       "      <td>31.486328</td>\n",
       "      <td>14.813962</td>\n",
       "      <td>9.645177</td>\n",
       "      <td>29.282951</td>\n",
       "    </tr>\n",
       "    <tr>\n",
       "      <th>3</th>\n",
       "      <td>-6.267445</td>\n",
       "      <td>-10.671413</td>\n",
       "      <td>0.578791</td>\n",
       "      <td>11.550019</td>\n",
       "      <td>-22.521195</td>\n",
       "      <td>10.500483</td>\n",
       "      <td>21.748081</td>\n",
       "      <td>4.407655</td>\n",
       "      <td>17.857426</td>\n",
       "      <td>-62.065186</td>\n",
       "      <td>...</td>\n",
       "      <td>-17.182715</td>\n",
       "      <td>13.062177</td>\n",
       "      <td>-16.948093</td>\n",
       "      <td>-15.687716</td>\n",
       "      <td>36.943016</td>\n",
       "      <td>6.545364</td>\n",
       "      <td>-12.206253</td>\n",
       "      <td>28.711948</td>\n",
       "      <td>-3.582610</td>\n",
       "      <td>-13.335809</td>\n",
       "    </tr>\n",
       "    <tr>\n",
       "      <th>4</th>\n",
       "      <td>-5.051580</td>\n",
       "      <td>-10.781385</td>\n",
       "      <td>0.190375</td>\n",
       "      <td>1.368724</td>\n",
       "      <td>5.463544</td>\n",
       "      <td>7.725687</td>\n",
       "      <td>-3.148193</td>\n",
       "      <td>11.126657</td>\n",
       "      <td>9.978209</td>\n",
       "      <td>12.743648</td>\n",
       "      <td>...</td>\n",
       "      <td>-0.136852</td>\n",
       "      <td>11.134411</td>\n",
       "      <td>3.889105</td>\n",
       "      <td>1.637905</td>\n",
       "      <td>-4.101464</td>\n",
       "      <td>7.384897</td>\n",
       "      <td>4.721143</td>\n",
       "      <td>5.155228</td>\n",
       "      <td>1.844576</td>\n",
       "      <td>-2.275076</td>\n",
       "    </tr>\n",
       "    <tr>\n",
       "      <th>6</th>\n",
       "      <td>-5.336224</td>\n",
       "      <td>8.902582</td>\n",
       "      <td>1.747106</td>\n",
       "      <td>-3.788313</td>\n",
       "      <td>2.612656</td>\n",
       "      <td>-6.873928</td>\n",
       "      <td>-16.138010</td>\n",
       "      <td>-10.887217</td>\n",
       "      <td>-13.439786</td>\n",
       "      <td>-9.340491</td>\n",
       "      <td>...</td>\n",
       "      <td>-30.417248</td>\n",
       "      <td>6.879998</td>\n",
       "      <td>-26.742655</td>\n",
       "      <td>-20.750853</td>\n",
       "      <td>12.206245</td>\n",
       "      <td>6.021628</td>\n",
       "      <td>-13.380303</td>\n",
       "      <td>16.875305</td>\n",
       "      <td>2.191557</td>\n",
       "      <td>-8.392258</td>\n",
       "    </tr>\n",
       "    <tr>\n",
       "      <th>7</th>\n",
       "      <td>14.368332</td>\n",
       "      <td>-7.143710</td>\n",
       "      <td>-1.941029</td>\n",
       "      <td>-4.037873</td>\n",
       "      <td>-16.169552</td>\n",
       "      <td>3.893104</td>\n",
       "      <td>-8.895123</td>\n",
       "      <td>2.405070</td>\n",
       "      <td>-0.573063</td>\n",
       "      <td>-19.320463</td>\n",
       "      <td>...</td>\n",
       "      <td>-5.275133</td>\n",
       "      <td>27.263466</td>\n",
       "      <td>-4.218991</td>\n",
       "      <td>-15.093294</td>\n",
       "      <td>17.519402</td>\n",
       "      <td>5.642640</td>\n",
       "      <td>-7.015842</td>\n",
       "      <td>18.700117</td>\n",
       "      <td>-9.990950</td>\n",
       "      <td>-17.293606</td>\n",
       "    </tr>\n",
       "  </tbody>\n",
       "</table>\n",
       "<p>5 rows × 60000 columns</p>\n",
       "</div>"
      ],
      "text/plain": [
       "       0          1          2          3          4          5      \\\n",
       "0 -13.517964  22.010553  10.012394  21.608709 -47.938713   3.326609   \n",
       "3  -6.267445 -10.671413   0.578791  11.550019 -22.521195  10.500483   \n",
       "4  -5.051580 -10.781385   0.190375   1.368724   5.463544   7.725687   \n",
       "6  -5.336224   8.902582   1.747106  -3.788313   2.612656  -6.873928   \n",
       "7  14.368332  -7.143710  -1.941029  -4.037873 -16.169552   3.893104   \n",
       "\n",
       "       6          7          8          9      ...      59990      59991  \\\n",
       "0  16.604320  -2.932594   7.207325 -30.335497  ...  30.628658  -6.693759   \n",
       "3  21.748081   4.407655  17.857426 -62.065186  ... -17.182715  13.062177   \n",
       "4  -3.148193  11.126657   9.978209  12.743648  ...  -0.136852  11.134411   \n",
       "6 -16.138010 -10.887217 -13.439786  -9.340491  ... -30.417248   6.879998   \n",
       "7  -8.895123   2.405070  -0.573063 -19.320463  ...  -5.275133  27.263466   \n",
       "\n",
       "       59992      59993      59994      59995      59996      59997     59998  \\\n",
       "0  32.954323  17.554173 -28.639063  18.128828  31.486328  14.813962  9.645177   \n",
       "3 -16.948093 -15.687716  36.943016   6.545364 -12.206253  28.711948 -3.582610   \n",
       "4   3.889105   1.637905  -4.101464   7.384897   4.721143   5.155228  1.844576   \n",
       "6 -26.742655 -20.750853  12.206245   6.021628 -13.380303  16.875305  2.191557   \n",
       "7  -4.218991 -15.093294  17.519402   5.642640  -7.015842  18.700117 -9.990950   \n",
       "\n",
       "       59999  \n",
       "0  29.282951  \n",
       "3 -13.335809  \n",
       "4  -2.275076  \n",
       "6  -8.392258  \n",
       "7 -17.293606  \n",
       "\n",
       "[5 rows x 60000 columns]"
      ]
     },
     "execution_count": 4,
     "metadata": {},
     "output_type": "execute_result"
    }
   ],
   "source": [
    "df.head()"
   ]
  },
  {
   "cell_type": "code",
   "execution_count": 5,
   "metadata": {},
   "outputs": [
    {
     "data": {
      "text/plain": [
       "0.5860597439544808"
      ]
     },
     "execution_count": 5,
     "metadata": {},
     "output_type": "execute_result"
    }
   ],
   "source": [
    "np.mean(y == 0)"
   ]
  },
  {
   "cell_type": "code",
   "execution_count": 6,
   "metadata": {},
   "outputs": [
    {
     "name": "stdout",
     "output_type": "stream",
     "text": [
      "[0.53521127 0.4822695  0.54285714 0.57857143 0.53571429]\n",
      "Accuracy: 0.53 (+/- 0.06)\n"
     ]
    }
   ],
   "source": [
    "from sklearn.svm import LinearSVC\n",
    "model = LinearSVC(C=1e-6, max_iter=10000)\n",
    "\n",
    "scores = cross_val_score(model, df, y, cv=5)\n",
    "print(scores)\n",
    "print(\"Accuracy: %0.2f (+/- %0.2f)\" % (scores.mean(), scores.std() * 2))"
   ]
  },
  {
   "cell_type": "code",
   "execution_count": 7,
   "metadata": {},
   "outputs": [
    {
     "name": "stdout",
     "output_type": "stream",
     "text": [
      "[0.58450704 0.58865248 0.57857143 0.58571429 0.66428571]\n",
      "Accuracy: 0.60 (+/- 0.06)\n"
     ]
    }
   ],
   "source": [
    "from sklearn.svm import SVC\n",
    "model = SVC(gamma='scale')\n",
    "\n",
    "scores = cross_val_score(model, df, y, cv=5)\n",
    "print(scores)\n",
    "print(\"Accuracy: %0.2f (+/- %0.2f)\" % (scores.mean(), scores.std() * 2))"
   ]
  },
  {
   "cell_type": "code",
   "execution_count": 8,
   "metadata": {},
   "outputs": [
    {
     "name": "stderr",
     "output_type": "stream",
     "text": [
      "/home/kjslakov/jupyter_py3/lib/python3.6/site-packages/sklearn/ensemble/forest.py:245: FutureWarning: The default value of n_estimators will change from 10 in version 0.20 to 100 in 0.22.\n",
      "  \"10 in version 0.20 to 100 in 0.22.\", FutureWarning)\n",
      "/home/kjslakov/jupyter_py3/lib/python3.6/site-packages/sklearn/ensemble/forest.py:245: FutureWarning: The default value of n_estimators will change from 10 in version 0.20 to 100 in 0.22.\n",
      "  \"10 in version 0.20 to 100 in 0.22.\", FutureWarning)\n",
      "/home/kjslakov/jupyter_py3/lib/python3.6/site-packages/sklearn/ensemble/forest.py:245: FutureWarning: The default value of n_estimators will change from 10 in version 0.20 to 100 in 0.22.\n",
      "  \"10 in version 0.20 to 100 in 0.22.\", FutureWarning)\n",
      "/home/kjslakov/jupyter_py3/lib/python3.6/site-packages/sklearn/ensemble/forest.py:245: FutureWarning: The default value of n_estimators will change from 10 in version 0.20 to 100 in 0.22.\n",
      "  \"10 in version 0.20 to 100 in 0.22.\", FutureWarning)\n",
      "/home/kjslakov/jupyter_py3/lib/python3.6/site-packages/sklearn/ensemble/forest.py:245: FutureWarning: The default value of n_estimators will change from 10 in version 0.20 to 100 in 0.22.\n",
      "  \"10 in version 0.20 to 100 in 0.22.\", FutureWarning)\n"
     ]
    },
    {
     "name": "stdout",
     "output_type": "stream",
     "text": [
      "[0.55633803 0.4964539  0.58571429 0.58571429 0.62857143]\n",
      "Accuracy: 0.57 (+/- 0.09)\n"
     ]
    }
   ],
   "source": [
    "from sklearn.ensemble import RandomForestClassifier\n",
    "\n",
    "model = RandomForestClassifier()\n",
    "scores = cross_val_score(model, df, y, cv=5)\n",
    "print(scores)\n",
    "print(\"Accuracy: %0.2f (+/- %0.2f)\" % (scores.mean(), scores.std() * 2))"
   ]
  },
  {
   "cell_type": "code",
   "execution_count": null,
   "metadata": {},
   "outputs": [],
   "source": []
  }
 ],
 "metadata": {
  "kernelspec": {
   "display_name": "Python 3",
   "language": "python",
   "name": "python3"
  },
  "language_info": {
   "codemirror_mode": {
    "name": "ipython",
    "version": 3
   },
   "file_extension": ".py",
   "mimetype": "text/x-python",
   "name": "python",
   "nbconvert_exporter": "python",
   "pygments_lexer": "ipython3",
   "version": "3.6.3"
  }
 },
 "nbformat": 4,
 "nbformat_minor": 2
}
