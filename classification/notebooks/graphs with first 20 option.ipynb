{
 "cells": [
  {
   "cell_type": "code",
   "execution_count": 1,
   "metadata": {},
   "outputs": [],
   "source": [
    "import pandas as pd\n",
    "import numpy as np\n",
    "import setup_jwlab\n",
    "from jwlab.constants import cleaned_data_filepath\n",
    "from jwlab.ml_prep_graphs import prep_ml_graphs \n",
    "from jwlab.ml_prep_graphs_first20 import prep_ml_graphs_first20\n",
    "from sklearn.svm import SVC\n",
    "from sklearn.model_selection import train_test_split\n",
    "from jwlab.data_graph import plot_error_rate_window, run_plot, plot_error_rate_window_single\n",
    "import numpy"
   ]
  },
  {
   "cell_type": "code",
   "execution_count": null,
   "metadata": {},
   "outputs": [],
   "source": [
    "#participants = [\"109\", \"111\", \"112\", \"115\", \"116\", \"117\", \"119\", \"120\", \"122\", \"124\"]\n",
    "participants = [\"105\", \"107\", \"109\", \"111\", \"112\", \"115\", \"116\", \"117\", \"119\", \"121\", \"122\", \"120\", \"124\"]\n"
   ]
  },
  {
   "cell_type": "code",
   "execution_count": 2,
   "metadata": {},
   "outputs": [],
   "source": [
    "#participants = [\"930\", \"932\", \"904\", \"905\", \"906\", \"908\", \"909\", \"912\",\"913\", \"914\", \"916\", \"917\", \"919\",\\\n",
    "#               \"920\", \"921\", \"923\", \"924\", \"927\", \"928\", \"929\"]\n",
    "participants = [\"904\", \"905\", \"906\", \"909\", \"910\", \"912\", \"908\", \"913\", \"914\", \"916\", \"917\", \"919\", \"920\", \"921\", \"923\", \"924\",\"927\", \"928\", \"929\", \"930\", \"932\"]\n"
   ]
  },
  {
   "cell_type": "code",
   "execution_count": null,
   "metadata": {},
   "outputs": [],
   "source": [
    "#train on raw, test on avg\n",
    "\n",
    "participants_test = participants[:]\n",
    "participants_train = participants[:]\n",
    "print(participants_train)\n",
    "print(participants_test)\n",
    "    \n",
    "X_train_n,y_train_n, good_trial_count= prep_ml_graphs_first20(cleaned_data_filepath, participants_train, downsample_num=1000, averaging=\"no_averaging\")\n",
    "#X_test_n,y_test_n, good_trial_count = prep_ml_graphs_first20(cleaned_data_filepath, participants, downsample_num=1000, averaging=\"average_trials\")\n",
    "X_test_n, y_test_n, good_trial_count = prep_ml_graphs_first20(cleaned_data_filepath, participants_test, downsample_num=1000, averaging=\"average_trials_and_participants\")\n",
    "    \n",
    "model = SVC(gamma=.001, kernel = 'rbf', C = 1e-6)\n",
    "    \n",
    "prediction_error = [[0 for i in range(len(X_train_n[j]))] for j in range(len(X_train_n))]\n",
    "    \n",
    "for i in range(len(X_train_n)):\n",
    "    for j in range(len(X_train_n[i])):\n",
    "        model.fit(X_train_n[i][j], y_train_n[i][j])\n",
    "        prediction_error[i][j] = np.mean(model.predict(X_test_n[i][j]) != y_test_n[i][j])\n",
    "\n",
    "plot_error_rate_window(prediction_error, \"average_trials_12m_no121\")"
   ]
  },
  {
   "cell_type": "code",
   "execution_count": null,
   "metadata": {},
   "outputs": [],
   "source": [
    "# test withheld ps\n",
    "\n",
    "for p in participants:\n",
    "    participants_test = [p]\n",
    "    participants_train = participants[:]\n",
    "    participants_train.remove(p)\n",
    "    print(participants_train)\n",
    "    print(participants_test)\n",
    "    \n",
    "    X_train_n,y_train_n, good_trial_count= prep_ml_graphs(cleaned_data_filepath, participants_train, downsample_num=1000, averaging=\"no_averaging\")\n",
    "    X_test_n, y_test_n, good_trial_count = prep_ml_graphs(cleaned_data_filepath, participants_test, downsample_num=1000, averaging=\"no_averaging\")\n",
    "    \n",
    "    model = SVC(kernel = 'rbf')\n",
    "    \n",
    "    prediction_error = [[0 for i in range(len(X_train_n[j]))] for j in range(len(X_train_n))]\n",
    "    \n",
    "    unique, counts = numpy.unique(y_test_n[0][0], return_counts=True)\n",
    "    print(\"Participant: {0} -- {1}\".format(p, dict(zip(unique, counts))))\n",
    "    \n",
    "    for i in range(len(X_train_n)):\n",
    "        for j in range(len(X_train_n[i])):\n",
    "            model.fit(X_train_n[i][j], y_train_n[i][j])\n",
    "            prediction_error[i][j] = np.mean(model.predict(X_test_n[i][j]) != y_test_n[i][j])\n",
    "\n",
    "    plot_error_rate_window(prediction_error, p)"
   ]
  },
  {
   "cell_type": "code",
   "execution_count": null,
   "metadata": {},
   "outputs": [],
   "source": []
  },
  {
   "cell_type": "code",
   "execution_count": 3,
   "metadata": {},
   "outputs": [
    {
     "name": "stdout",
     "output_type": "stream",
     "text": [
      "16 5\n"
     ]
    },
    {
     "data": {
      "image/png": "[encoded data removed]",
      "text/plain": [
       "<Figure size 2160x720 with 1 Axes>"
      ]
     },
     "metadata": {
      "needs_background": "light"
     },
     "output_type": "display_data"
    }
   ],
   "source": [
    "# For testing on random subsets\n",
    "\n",
    "participants_train, participants_test = train_test_split(participants,test_size=0.2)\n",
    "print(len(participants_train), len(participants_test))\n",
    "\n",
    "# First 20 trials\n",
    "#X_train_n,y_train_n, good_trial_count= prep_ml_graphs_first20(cleaned_data_filepath, participants_train, downsample_num=1000, averaging=\"no_averaging\")\n",
    "#X_test_n, y_test_n, good_trial_count = prep_ml_graphs_first20(cleaned_data_filepath, participants_test, downsample_num=1000, averaging=\"no_averaging\")\n",
    "\n",
    "#X_train_n,y_train_n, good_trial_count= prep_ml_graphs_first20(cleaned_data_filepath, participants_train, downsample_num=1000, averaging=\"average_trials\")\n",
    "#X_test_n, y_test_n, good_trial_count = prep_ml_graphs_first20(cleaned_data_filepath, participants_test, downsample_num=1000, averaging=\"average_trials\")\n",
    "\n",
    "#X_train_n,y_train_n, good_trial_count= prep_ml_graphs_first20(cleaned_data_filepath, participants_train, downsample_num=1000, averaging=\"average_trials_and_participants\")\n",
    "#X_test_n, y_test_n, good_trial_count = prep_ml_graphs_first20(cleaned_data_filepath, participants_test, downsample_num=1000, averaging=\"average_trials_and_participants\")\n",
    "\n",
    "\n",
    "#All trials\n",
    "#X_train_n,y_train_n, good_trial_count= prep_ml_graphs(cleaned_data_filepath, participants_train, downsample_num=1000, averaging=\"no_averaging\")\n",
    "#X_test_n, y_test_n, good_trial_count = prep_ml_graphs(cleaned_data_filepath, participants_test, downsample_num=1000, averaging=\"no_averaging\")\n",
    "\n",
    "X_train_n,y_train_n, good_trial_count= prep_ml_graphs(cleaned_data_filepath, participants_train, downsample_num=1000, averaging=\"average_trials\")\n",
    "X_test_n, y_test_n, good_trial_count = prep_ml_graphs(cleaned_data_filepath, participants_test, downsample_num=1000, averaging=\"average_trials\")\n",
    "\n",
    "#X_train_n,y_train_n, good_trial_count= prep_ml_graphs(cleaned_data_filepath, participants_train, downsample_num=1000, averaging=\"average_trials_and_participants\")\n",
    "#X_test_n, y_test_n, good_trial_count = prep_ml_graphs(cleaned_data_filepath, participants_test, downsample_num=1000, averaging=\"average_trials_and_participants\")\n",
    "\n",
    "\n",
    "\n",
    "\n",
    "model = SVC(kernel = 'rbf', gamma = .001, C=1e-6)\n",
    "\n",
    "prediction_error = [[0 for i in range(len(X_train_n[j]))] for j in range(len(X_train_n))]\n",
    "\n",
    "for i in range(len(X_train_n)):\n",
    "    for j in range(len(X_train_n[i])):\n",
    "        model.fit(X_train_n[i][j], y_train_n[i][j])\n",
    "        prediction_error[i][j] = np.mean(model.predict(X_test_n[i][j]) != y_test_n[i][j])\n",
    "\n",
    "plot_error_rate_window(prediction_error, \"11\")"
   ]
  },
  {
   "cell_type": "code",
   "execution_count": null,
   "metadata": {},
   "outputs": [],
   "source": []
  }
 ],
 "metadata": {
  "kernelspec": {
   "display_name": "Python 3",
   "language": "python",
   "name": "python3"
  },
  "language_info": {
   "codemirror_mode": {
    "name": "ipython",
    "version": 3
   },
   "file_extension": ".py",
   "mimetype": "text/x-python",
   "name": "python",
   "nbconvert_exporter": "python",
   "pygments_lexer": "ipython3",
   "version": "3.7.4"
  }
 },
 "nbformat": 4,
 "nbformat_minor": 4
}
