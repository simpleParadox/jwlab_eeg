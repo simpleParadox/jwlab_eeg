{
 "cells": [
  {
   "cell_type": "code",
   "execution_count": 1,
   "metadata": {},
   "outputs": [],
   "source": [
    "import setup_jwlab\n",
    "import pandas as pd\n",
    "import numpy as np\n",
    "\n",
    "from jwlab.ml_prep import load_ml_df, y_to_binary, load_ml_data\n",
    "from sklearn.model_selection import cross_val_score"
   ]
  },
  {
   "cell_type": "code",
   "execution_count": 2,
   "metadata": {},
   "outputs": [],
   "source": [
    "#df = load_ml_df(\"~/projects/def-jwerker/kjslakov/data/ml_df_sktime.pkl\")\n",
    "df = load_ml_df(\"/Users/JennMacBook/Desktop/Studies/Animates EEG/7_Data/runningOffline/ml_df_sktime.pkl\")"
   ]
  },
  {
   "cell_type": "code",
   "execution_count": 3,
   "metadata": {},
   "outputs": [
    {
     "name": "stdout",
     "output_type": "stream",
     "text": [
      "loaded\n"
     ]
    }
   ],
   "source": []
  },
  {
   "cell_type": "code",
   "execution_count": 3,
   "metadata": {},
   "outputs": [],
   "source": [
    "y = y_to_binary(df.label.values.flatten())\n",
    "df = df.drop(columns=[\"label\"], axis=1)"
   ]
  },
  {
   "cell_type": "code",
   "execution_count": 4,
   "metadata": {},
   "outputs": [
    {
     "data": {
      "text/plain": [
       "0.5005793742757821"
      ]
     },
     "execution_count": 4,
     "metadata": {},
     "output_type": "execute_result"
    }
   ],
   "source": [
    "np.mean(y==0)"
   ]
  },
  {
   "cell_type": "code",
   "execution_count": 5,
   "metadata": {},
   "outputs": [],
   "source": [
    "from scipy.stats import entropy, kurtosis, skew\n",
    "funcs = [np.mean, np.min, np.max, np.var, skew, kurtosis]\n",
    "dfs_applied = [df.applymap(f) for f in funcs]"
   ]
  },
  {
   "cell_type": "code",
   "execution_count": 6,
   "metadata": {},
   "outputs": [],
   "source": [
    "from functools import reduce\n",
    "\n",
    "suffix = 0\n",
    "def join_dfs(a, b):\n",
    "    global suffix\n",
    "    suffix = suffix + 1\n",
    "    return a.join(b, rsuffix=\"_%d\" % suffix)\n",
    "\n",
    "df_concat = reduce(join_dfs, dfs_applied)"
   ]
  },
  {
   "cell_type": "code",
   "execution_count": 7,
   "metadata": {},
   "outputs": [
    {
     "data": {
      "text/html": [
       "<div>\n",
       "<style scoped>\n",
       "    .dataframe tbody tr th:only-of-type {\n",
       "        vertical-align: middle;\n",
       "    }\n",
       "\n",
       "    .dataframe tbody tr th {\n",
       "        vertical-align: top;\n",
       "    }\n",
       "\n",
       "    .dataframe thead th {\n",
       "        text-align: right;\n",
       "    }\n",
       "</style>\n",
       "<table border=\"1\" class=\"dataframe\">\n",
       "  <thead>\n",
       "    <tr style=\"text-align: right;\">\n",
       "      <th></th>\n",
       "      <th>0</th>\n",
       "      <th>1</th>\n",
       "      <th>2</th>\n",
       "      <th>3</th>\n",
       "      <th>4</th>\n",
       "      <th>5</th>\n",
       "      <th>6</th>\n",
       "      <th>7</th>\n",
       "      <th>8</th>\n",
       "      <th>9</th>\n",
       "      <th>...</th>\n",
       "      <th>50_5</th>\n",
       "      <th>51_5</th>\n",
       "      <th>52_5</th>\n",
       "      <th>53_5</th>\n",
       "      <th>54_5</th>\n",
       "      <th>55_5</th>\n",
       "      <th>56_5</th>\n",
       "      <th>57_5</th>\n",
       "      <th>58_5</th>\n",
       "      <th>59_5</th>\n",
       "    </tr>\n",
       "  </thead>\n",
       "  <tbody>\n",
       "    <tr>\n",
       "      <td>0</td>\n",
       "      <td>-0.272031</td>\n",
       "      <td>1.061153</td>\n",
       "      <td>1.536229</td>\n",
       "      <td>1.610506</td>\n",
       "      <td>-0.100752</td>\n",
       "      <td>1.265364</td>\n",
       "      <td>1.297782</td>\n",
       "      <td>0.029161</td>\n",
       "      <td>2.095260</td>\n",
       "      <td>-1.355529</td>\n",
       "      <td>...</td>\n",
       "      <td>-1.031427</td>\n",
       "      <td>-0.884059</td>\n",
       "      <td>-0.826336</td>\n",
       "      <td>-1.016336</td>\n",
       "      <td>-0.605733</td>\n",
       "      <td>-0.303770</td>\n",
       "      <td>0.750309</td>\n",
       "      <td>-0.789845</td>\n",
       "      <td>0.218234</td>\n",
       "      <td>0.888346</td>\n",
       "    </tr>\n",
       "    <tr>\n",
       "      <td>1</td>\n",
       "      <td>0.686243</td>\n",
       "      <td>-0.448588</td>\n",
       "      <td>-1.268795</td>\n",
       "      <td>-0.613641</td>\n",
       "      <td>0.120652</td>\n",
       "      <td>-2.538618</td>\n",
       "      <td>-0.316984</td>\n",
       "      <td>-1.065541</td>\n",
       "      <td>-1.292870</td>\n",
       "      <td>-0.278447</td>\n",
       "      <td>...</td>\n",
       "      <td>-0.114729</td>\n",
       "      <td>0.144532</td>\n",
       "      <td>-0.207249</td>\n",
       "      <td>-0.033365</td>\n",
       "      <td>-0.308429</td>\n",
       "      <td>0.259129</td>\n",
       "      <td>-0.029957</td>\n",
       "      <td>1.387946</td>\n",
       "      <td>0.058398</td>\n",
       "      <td>-0.427152</td>\n",
       "    </tr>\n",
       "    <tr>\n",
       "      <td>2</td>\n",
       "      <td>-0.060079</td>\n",
       "      <td>-0.451811</td>\n",
       "      <td>-0.563331</td>\n",
       "      <td>-0.525889</td>\n",
       "      <td>-0.453831</td>\n",
       "      <td>-0.981317</td>\n",
       "      <td>-0.812164</td>\n",
       "      <td>-0.310977</td>\n",
       "      <td>-0.771615</td>\n",
       "      <td>0.033736</td>\n",
       "      <td>...</td>\n",
       "      <td>1.440008</td>\n",
       "      <td>0.668225</td>\n",
       "      <td>0.751713</td>\n",
       "      <td>0.958503</td>\n",
       "      <td>-0.110867</td>\n",
       "      <td>0.573967</td>\n",
       "      <td>0.516879</td>\n",
       "      <td>0.454744</td>\n",
       "      <td>0.100228</td>\n",
       "      <td>0.415634</td>\n",
       "    </tr>\n",
       "    <tr>\n",
       "      <td>3</td>\n",
       "      <td>0.403587</td>\n",
       "      <td>0.139478</td>\n",
       "      <td>0.246425</td>\n",
       "      <td>-0.086942</td>\n",
       "      <td>0.536083</td>\n",
       "      <td>1.329740</td>\n",
       "      <td>0.351982</td>\n",
       "      <td>0.487611</td>\n",
       "      <td>0.636028</td>\n",
       "      <td>0.800632</td>\n",
       "      <td>...</td>\n",
       "      <td>-0.890473</td>\n",
       "      <td>0.288876</td>\n",
       "      <td>-0.548790</td>\n",
       "      <td>-0.590093</td>\n",
       "      <td>0.623750</td>\n",
       "      <td>1.007703</td>\n",
       "      <td>-0.100604</td>\n",
       "      <td>2.924539</td>\n",
       "      <td>1.810391</td>\n",
       "      <td>0.016063</td>\n",
       "    </tr>\n",
       "    <tr>\n",
       "      <td>4</td>\n",
       "      <td>3.985853</td>\n",
       "      <td>-0.160310</td>\n",
       "      <td>-0.592757</td>\n",
       "      <td>-0.253722</td>\n",
       "      <td>0.040797</td>\n",
       "      <td>-0.005113</td>\n",
       "      <td>-0.066781</td>\n",
       "      <td>-0.603454</td>\n",
       "      <td>-0.785278</td>\n",
       "      <td>-0.298385</td>\n",
       "      <td>...</td>\n",
       "      <td>0.365910</td>\n",
       "      <td>-0.295794</td>\n",
       "      <td>-0.610287</td>\n",
       "      <td>2.072710</td>\n",
       "      <td>-0.125737</td>\n",
       "      <td>-0.742365</td>\n",
       "      <td>-0.610178</td>\n",
       "      <td>1.499587</td>\n",
       "      <td>-0.395984</td>\n",
       "      <td>-0.504842</td>\n",
       "    </tr>\n",
       "  </tbody>\n",
       "</table>\n",
       "<p>5 rows × 360 columns</p>\n",
       "</div>"
      ],
      "text/plain": [
       "          0         1         2         3         4         5         6  \\\n",
       "0 -0.272031  1.061153  1.536229  1.610506 -0.100752  1.265364  1.297782   \n",
       "1  0.686243 -0.448588 -1.268795 -0.613641  0.120652 -2.538618 -0.316984   \n",
       "2 -0.060079 -0.451811 -0.563331 -0.525889 -0.453831 -0.981317 -0.812164   \n",
       "3  0.403587  0.139478  0.246425 -0.086942  0.536083  1.329740  0.351982   \n",
       "4  3.985853 -0.160310 -0.592757 -0.253722  0.040797 -0.005113 -0.066781   \n",
       "\n",
       "          7         8         9  ...      50_5      51_5      52_5      53_5  \\\n",
       "0  0.029161  2.095260 -1.355529  ... -1.031427 -0.884059 -0.826336 -1.016336   \n",
       "1 -1.065541 -1.292870 -0.278447  ... -0.114729  0.144532 -0.207249 -0.033365   \n",
       "2 -0.310977 -0.771615  0.033736  ...  1.440008  0.668225  0.751713  0.958503   \n",
       "3  0.487611  0.636028  0.800632  ... -0.890473  0.288876 -0.548790 -0.590093   \n",
       "4 -0.603454 -0.785278 -0.298385  ...  0.365910 -0.295794 -0.610287  2.072710   \n",
       "\n",
       "       54_5      55_5      56_5      57_5      58_5      59_5  \n",
       "0 -0.605733 -0.303770  0.750309 -0.789845  0.218234  0.888346  \n",
       "1 -0.308429  0.259129 -0.029957  1.387946  0.058398 -0.427152  \n",
       "2 -0.110867  0.573967  0.516879  0.454744  0.100228  0.415634  \n",
       "3  0.623750  1.007703 -0.100604  2.924539  1.810391  0.016063  \n",
       "4 -0.125737 -0.742365 -0.610178  1.499587 -0.395984 -0.504842  \n",
       "\n",
       "[5 rows x 360 columns]"
      ]
     },
     "execution_count": 7,
     "metadata": {},
     "output_type": "execute_result"
    }
   ],
   "source": [
    "df_normalized = (df_concat - df_concat.mean()) / df_concat.std()\n",
    "df_normalized.head()"
   ]
  },
  {
   "cell_type": "code",
   "execution_count": 8,
   "metadata": {},
   "outputs": [
    {
     "name": "stdout",
     "output_type": "stream",
     "text": [
      "1726\n",
      "(1726, 360)\n"
     ]
    }
   ],
   "source": [
    "print(len(y))\n",
    "print(df_normalized.shape)"
   ]
  },
  {
   "cell_type": "code",
   "execution_count": 9,
   "metadata": {},
   "outputs": [
    {
     "name": "stdout",
     "output_type": "stream",
     "text": [
      "[0.50578035 0.47687861 0.46086957 0.43478261 0.49709302]\n",
      "Accuracy: 0.48 (+/- 0.05)\n",
      "train error: 0.36\n",
      "test error: 0.52\n"
     ]
    }
   ],
   "source": [
    "from sklearn.svm import LinearSVC\n",
    "model = LinearSVC(max_iter=1000, C=1e-3)\n",
    "\n",
    "scores = cross_val_score(model, df_normalized, y, cv=5)\n",
    "print(scores)\n",
    "print(\"Accuracy: %0.2f (+/- %0.2f)\" % (scores.mean(), scores.std() * 2))\n",
    "\n",
    "from sklearn.model_selection import train_test_split\n",
    "X_train, X_test, y_train, y_test = train_test_split(df_normalized, y, test_size=0.2)\n",
    "model.fit(X_train, y_train)\n",
    "print(\"train error: %0.2f\" % np.mean(model.predict(X_train) != y_train))\n",
    "print(\"test error: %0.2f\" % np.mean(model.predict(X_test) != y_test))"
   ]
  },
  {
   "cell_type": "code",
   "execution_count": 10,
   "metadata": {},
   "outputs": [
    {
     "data": {
      "text/plain": [
       "0.49421965317919075"
      ]
     },
     "execution_count": 10,
     "metadata": {},
     "output_type": "execute_result"
    }
   ],
   "source": [
    "np.mean(y_test == 0)"
   ]
  },
  {
   "cell_type": "code",
   "execution_count": 9,
   "metadata": {},
   "outputs": [],
   "source": [
    "# from sklearn.svm import SVC\n",
    "# from sklearn.model_selection import GridSearchCV\n",
    "# parameters = [{'kernel': ['rbf'], 'gamma': [1e-3, 1e-4],\n",
    "#                     'C': [1e-6, 1e-5, 1e-4, 1e-3, 1e-2, 1e-1, 1, 10, 100, 1000]},\n",
    "#                    {'kernel': ['linear'], 'C': [1e-6, 1e-5, 1e-4, 1e-3, 1e-2, 1e-1, 1, 10, 100, 1000]}]\n",
    "# svc = SVC()\n",
    "# model = GridSearchCV(svc, parameters)\n",
    "# model.fit(df_normalized, y)\n",
    "\n",
    "# model.cv_results_"
   ]
  },
  {
   "cell_type": "code",
   "execution_count": 10,
   "metadata": {},
   "outputs": [],
   "source": [
    "# model.best_score_"
   ]
  },
  {
   "cell_type": "code",
   "execution_count": 13,
   "metadata": {},
   "outputs": [
    {
     "name": "stdout",
     "output_type": "stream",
     "text": [
      "[0.59555556 0.55555556 0.56666667 0.56888889 0.53571429]\n",
      "Accuracy: 0.56 (+/- 0.04)\n"
     ]
    }
   ],
   "source": [
    "from sklearn.ensemble import RandomForestClassifier\n",
    "\n",
    "model = RandomForestClassifier(n_estimators=100)\n",
    "scores = cross_val_score(model, df_normalized, y, cv=5)\n",
    "print(scores)\n",
    "print(\"Accuracy: %0.2f (+/- %0.2f)\" % (scores.mean(), scores.std() * 2))"
   ]
  },
  {
   "cell_type": "code",
   "execution_count": 15,
   "metadata": {},
   "outputs": [
    {
     "name": "stdout",
     "output_type": "stream",
     "text": [
      "train error: 0.00\n",
      "test error: 0.44\n"
     ]
    }
   ],
   "source": [
    "from sklearn.model_selection import train_test_split\n",
    "X_train, X_test, y_train, y_test = train_test_split(df_normalized, y, test_size=0.2)\n",
    "model.fit(X_train, y_train)\n",
    "print(\"train error: %0.2f\" % np.mean(model.predict(X_train) != y_train))\n",
    "print(\"test error: %0.2f\" % np.mean(model.predict(X_test) != y_test))"
   ]
  },
  {
   "cell_type": "code",
   "execution_count": 16,
   "metadata": {},
   "outputs": [
    {
     "name": "stdout",
     "output_type": "stream",
     "text": [
      "[0.58       0.56       0.58       0.58       0.58258929]\n",
      "Accuracy: 0.58 (+/- 0.02)\n"
     ]
    }
   ],
   "source": [
    "from sklearn.svm import SVC\n",
    "model = SVC(gamma='scale')\n",
    "\n",
    "scores = cross_val_score(model, df_normalized, y, cv=5)\n",
    "print(scores)\n",
    "print(\"Accuracy: %0.2f (+/- %0.2f)\" % (scores.mean(), scores.std() * 2))"
   ]
  },
  {
   "cell_type": "code",
   "execution_count": 17,
   "metadata": {},
   "outputs": [
    {
     "name": "stdout",
     "output_type": "stream",
     "text": [
      "train error: 0.39\n",
      "test error: 0.42\n"
     ]
    }
   ],
   "source": [
    "from sklearn.model_selection import train_test_split\n",
    "X_train, X_test, y_train, y_test = train_test_split(df_normalized, y, test_size=0.2)\n",
    "model.fit(X_train, y_train)\n",
    "print(\"train error: %0.2f\" % np.mean(model.predict(X_train) != y_train))\n",
    "print(\"test error: %0.2f\" % np.mean(model.predict(X_test) != y_test))"
   ]
  },
  {
   "cell_type": "code",
   "execution_count": null,
   "metadata": {},
   "outputs": [],
   "source": []
  }
 ],
 "metadata": {
  "kernelspec": {
   "display_name": "Python 3",
   "language": "python",
   "name": "python3"
  },
  "language_info": {
   "codemirror_mode": {
    "name": "ipython",
    "version": 3
   },
   "file_extension": ".py",
   "mimetype": "text/x-python",
   "name": "python",
   "nbconvert_exporter": "python",
   "pygments_lexer": "ipython3",
   "version": "3.7.4"
  }
 },
 "nbformat": 4,
 "nbformat_minor": 4
}
