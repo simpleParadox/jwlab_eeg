{
 "cells": [
  {
   "cell_type": "code",
   "execution_count": 1,
   "metadata": {},
   "outputs": [],
   "source": [
    "import setup_jwlab\n",
    "import pandas as pd\n",
    "import numpy as np\n",
    "\n",
    "from jwlab.ml_prep import load_ml_df, y_to_binary\n",
    "from sklearn.model_selection import cross_val_score"
   ]
  },
  {
   "cell_type": "code",
   "execution_count": 2,
   "metadata": {},
   "outputs": [],
   "source": [
    "df = load_ml_df(\"~/projects/def-jwerker/kjslakov/data/ml_df_sktime.pkl\")"
   ]
  },
  {
   "cell_type": "code",
   "execution_count": 5,
   "metadata": {},
   "outputs": [],
   "source": [
    "y = y_to_binary(df.label.values.flatten())\n",
    "df = df.drop(columns=[\"label\"], axis=1)"
   ]
  },
  {
   "cell_type": "code",
   "execution_count": 6,
   "metadata": {},
   "outputs": [
    {
     "data": {
      "text/plain": [
       "0.5800711743772242"
      ]
     },
     "execution_count": 6,
     "metadata": {},
     "output_type": "execute_result"
    }
   ],
   "source": [
    "np.mean(y==0)"
   ]
  },
  {
   "cell_type": "code",
   "execution_count": 7,
   "metadata": {},
   "outputs": [],
   "source": [
    "from scipy.stats import entropy, kurtosis, skew\n",
    "funcs = [np.mean, np.min, np.max, np.var, skew, kurtosis]\n",
    "dfs_applied = [df.applymap(f) for f in funcs]"
   ]
  },
  {
   "cell_type": "code",
   "execution_count": 8,
   "metadata": {},
   "outputs": [],
   "source": [
    "from functools import reduce\n",
    "\n",
    "suffix = 0\n",
    "def join_dfs(a, b):\n",
    "    global suffix\n",
    "    suffix = suffix + 1\n",
    "    return a.join(b, rsuffix=\"_%d\" % suffix)\n",
    "\n",
    "df_concat = reduce(join_dfs, dfs_applied)"
   ]
  },
  {
   "cell_type": "code",
   "execution_count": 9,
   "metadata": {},
   "outputs": [
    {
     "data": {
      "text/html": [
       "<div>\n",
       "<style scoped>\n",
       "    .dataframe tbody tr th:only-of-type {\n",
       "        vertical-align: middle;\n",
       "    }\n",
       "\n",
       "    .dataframe tbody tr th {\n",
       "        vertical-align: top;\n",
       "    }\n",
       "\n",
       "    .dataframe thead th {\n",
       "        text-align: right;\n",
       "    }\n",
       "</style>\n",
       "<table border=\"1\" class=\"dataframe\">\n",
       "  <thead>\n",
       "    <tr style=\"text-align: right;\">\n",
       "      <th></th>\n",
       "      <th>0</th>\n",
       "      <th>1</th>\n",
       "      <th>2</th>\n",
       "      <th>3</th>\n",
       "      <th>4</th>\n",
       "      <th>5</th>\n",
       "      <th>6</th>\n",
       "      <th>7</th>\n",
       "      <th>8</th>\n",
       "      <th>9</th>\n",
       "      <th>...</th>\n",
       "      <th>50_5</th>\n",
       "      <th>51_5</th>\n",
       "      <th>52_5</th>\n",
       "      <th>53_5</th>\n",
       "      <th>54_5</th>\n",
       "      <th>55_5</th>\n",
       "      <th>56_5</th>\n",
       "      <th>57_5</th>\n",
       "      <th>58_5</th>\n",
       "      <th>59_5</th>\n",
       "    </tr>\n",
       "  </thead>\n",
       "  <tbody>\n",
       "    <tr>\n",
       "      <th>0</th>\n",
       "      <td>-0.200222</td>\n",
       "      <td>0.118339</td>\n",
       "      <td>0.109668</td>\n",
       "      <td>0.078047</td>\n",
       "      <td>0.500283</td>\n",
       "      <td>0.188545</td>\n",
       "      <td>0.163598</td>\n",
       "      <td>0.053868</td>\n",
       "      <td>0.134007</td>\n",
       "      <td>0.046864</td>\n",
       "      <td>...</td>\n",
       "      <td>-0.089577</td>\n",
       "      <td>-0.565041</td>\n",
       "      <td>-0.187967</td>\n",
       "      <td>0.713228</td>\n",
       "      <td>0.220743</td>\n",
       "      <td>-0.083677</td>\n",
       "      <td>0.329732</td>\n",
       "      <td>0.003936</td>\n",
       "      <td>0.612799</td>\n",
       "      <td>0.208482</td>\n",
       "    </tr>\n",
       "    <tr>\n",
       "      <th>1</th>\n",
       "      <td>-0.018864</td>\n",
       "      <td>-0.006806</td>\n",
       "      <td>0.241084</td>\n",
       "      <td>0.134228</td>\n",
       "      <td>-0.591230</td>\n",
       "      <td>0.269561</td>\n",
       "      <td>0.091026</td>\n",
       "      <td>0.102379</td>\n",
       "      <td>0.087271</td>\n",
       "      <td>-0.040100</td>\n",
       "      <td>...</td>\n",
       "      <td>-0.115001</td>\n",
       "      <td>-0.323018</td>\n",
       "      <td>-0.148939</td>\n",
       "      <td>0.226491</td>\n",
       "      <td>-0.556190</td>\n",
       "      <td>-0.068544</td>\n",
       "      <td>-0.363142</td>\n",
       "      <td>-0.545593</td>\n",
       "      <td>-0.246371</td>\n",
       "      <td>-0.005476</td>\n",
       "    </tr>\n",
       "    <tr>\n",
       "      <th>2</th>\n",
       "      <td>-0.133886</td>\n",
       "      <td>0.571974</td>\n",
       "      <td>0.391102</td>\n",
       "      <td>-0.009741</td>\n",
       "      <td>-0.236433</td>\n",
       "      <td>0.055818</td>\n",
       "      <td>-0.037922</td>\n",
       "      <td>0.120091</td>\n",
       "      <td>-0.038804</td>\n",
       "      <td>-0.059586</td>\n",
       "      <td>...</td>\n",
       "      <td>-0.587535</td>\n",
       "      <td>0.651946</td>\n",
       "      <td>-0.763392</td>\n",
       "      <td>-0.392447</td>\n",
       "      <td>0.227768</td>\n",
       "      <td>0.621771</td>\n",
       "      <td>-0.689913</td>\n",
       "      <td>0.498617</td>\n",
       "      <td>-0.271392</td>\n",
       "      <td>-0.843243</td>\n",
       "    </tr>\n",
       "    <tr>\n",
       "      <th>3</th>\n",
       "      <td>0.096833</td>\n",
       "      <td>-0.150413</td>\n",
       "      <td>-0.156814</td>\n",
       "      <td>-0.004494</td>\n",
       "      <td>-0.013843</td>\n",
       "      <td>-0.007355</td>\n",
       "      <td>0.006220</td>\n",
       "      <td>-0.028851</td>\n",
       "      <td>0.041144</td>\n",
       "      <td>0.007749</td>\n",
       "      <td>...</td>\n",
       "      <td>-0.576664</td>\n",
       "      <td>1.026333</td>\n",
       "      <td>-0.703606</td>\n",
       "      <td>-0.650579</td>\n",
       "      <td>0.080670</td>\n",
       "      <td>1.423213</td>\n",
       "      <td>-0.790483</td>\n",
       "      <td>0.085851</td>\n",
       "      <td>-0.179552</td>\n",
       "      <td>-0.565844</td>\n",
       "    </tr>\n",
       "    <tr>\n",
       "      <th>4</th>\n",
       "      <td>0.061115</td>\n",
       "      <td>-0.076070</td>\n",
       "      <td>0.005231</td>\n",
       "      <td>0.051601</td>\n",
       "      <td>-0.038223</td>\n",
       "      <td>-0.000596</td>\n",
       "      <td>0.056631</td>\n",
       "      <td>-0.079848</td>\n",
       "      <td>0.033137</td>\n",
       "      <td>0.004414</td>\n",
       "      <td>...</td>\n",
       "      <td>0.668506</td>\n",
       "      <td>-0.579468</td>\n",
       "      <td>0.948937</td>\n",
       "      <td>0.218937</td>\n",
       "      <td>0.194155</td>\n",
       "      <td>-0.276274</td>\n",
       "      <td>-0.347828</td>\n",
       "      <td>-0.670813</td>\n",
       "      <td>0.079493</td>\n",
       "      <td>-0.481833</td>\n",
       "    </tr>\n",
       "  </tbody>\n",
       "</table>\n",
       "<p>5 rows × 360 columns</p>\n",
       "</div>"
      ],
      "text/plain": [
       "          0         1         2         3         4         5         6  \\\n",
       "0 -0.200222  0.118339  0.109668  0.078047  0.500283  0.188545  0.163598   \n",
       "1 -0.018864 -0.006806  0.241084  0.134228 -0.591230  0.269561  0.091026   \n",
       "2 -0.133886  0.571974  0.391102 -0.009741 -0.236433  0.055818 -0.037922   \n",
       "3  0.096833 -0.150413 -0.156814 -0.004494 -0.013843 -0.007355  0.006220   \n",
       "4  0.061115 -0.076070  0.005231  0.051601 -0.038223 -0.000596  0.056631   \n",
       "\n",
       "          7         8         9  ...      50_5      51_5      52_5      53_5  \\\n",
       "0  0.053868  0.134007  0.046864  ... -0.089577 -0.565041 -0.187967  0.713228   \n",
       "1  0.102379  0.087271 -0.040100  ... -0.115001 -0.323018 -0.148939  0.226491   \n",
       "2  0.120091 -0.038804 -0.059586  ... -0.587535  0.651946 -0.763392 -0.392447   \n",
       "3 -0.028851  0.041144  0.007749  ... -0.576664  1.026333 -0.703606 -0.650579   \n",
       "4 -0.079848  0.033137  0.004414  ...  0.668506 -0.579468  0.948937  0.218937   \n",
       "\n",
       "       54_5      55_5      56_5      57_5      58_5      59_5  \n",
       "0  0.220743 -0.083677  0.329732  0.003936  0.612799  0.208482  \n",
       "1 -0.556190 -0.068544 -0.363142 -0.545593 -0.246371 -0.005476  \n",
       "2  0.227768  0.621771 -0.689913  0.498617 -0.271392 -0.843243  \n",
       "3  0.080670  1.423213 -0.790483  0.085851 -0.179552 -0.565844  \n",
       "4  0.194155 -0.276274 -0.347828 -0.670813  0.079493 -0.481833  \n",
       "\n",
       "[5 rows x 360 columns]"
      ]
     },
     "execution_count": 9,
     "metadata": {},
     "output_type": "execute_result"
    }
   ],
   "source": [
    "df_normalized = (df_concat - df_concat.mean()) / df_concat.std()\n",
    "df_normalized.head()"
   ]
  },
  {
   "cell_type": "code",
   "execution_count": 10,
   "metadata": {},
   "outputs": [
    {
     "name": "stdout",
     "output_type": "stream",
     "text": [
      "2248\n",
      "(2248, 360)\n"
     ]
    }
   ],
   "source": [
    "print(len(y))\n",
    "print(df_normalized.shape)"
   ]
  },
  {
   "cell_type": "code",
   "execution_count": 11,
   "metadata": {},
   "outputs": [
    {
     "name": "stdout",
     "output_type": "stream",
     "text": [
      "[0.56       0.54       0.56888889 0.54666667 0.55803571]\n",
      "Accuracy: 0.55 (+/- 0.02)\n",
      "train error: 0.37\n",
      "test error: 0.45\n"
     ]
    }
   ],
   "source": [
    "from sklearn.svm import LinearSVC\n",
    "model = LinearSVC(max_iter=1000, C=1e-3)\n",
    "\n",
    "scores = cross_val_score(model, df_normalized, y, cv=5)\n",
    "print(scores)\n",
    "print(\"Accuracy: %0.2f (+/- %0.2f)\" % (scores.mean(), scores.std() * 2))\n",
    "\n",
    "from sklearn.model_selection import train_test_split\n",
    "X_train, X_test, y_train, y_test = train_test_split(df_normalized, y, test_size=0.2)\n",
    "model.fit(X_train, y_train)\n",
    "print(\"train error: %0.2f\" % np.mean(model.predict(X_train) != y_train))\n",
    "print(\"test error: %0.2f\" % np.mean(model.predict(X_test) != y_test))"
   ]
  },
  {
   "cell_type": "code",
   "execution_count": 12,
   "metadata": {},
   "outputs": [
    {
     "data": {
      "text/plain": [
       "0.5844444444444444"
      ]
     },
     "execution_count": 12,
     "metadata": {},
     "output_type": "execute_result"
    }
   ],
   "source": [
    "np.mean(y_test == 0)"
   ]
  },
  {
   "cell_type": "code",
   "execution_count": 9,
   "metadata": {},
   "outputs": [],
   "source": [
    "# from sklearn.svm import SVC\n",
    "# from sklearn.model_selection import GridSearchCV\n",
    "# parameters = [{'kernel': ['rbf'], 'gamma': [1e-3, 1e-4],\n",
    "#                     'C': [1e-6, 1e-5, 1e-4, 1e-3, 1e-2, 1e-1, 1, 10, 100, 1000]},\n",
    "#                    {'kernel': ['linear'], 'C': [1e-6, 1e-5, 1e-4, 1e-3, 1e-2, 1e-1, 1, 10, 100, 1000]}]\n",
    "# svc = SVC()\n",
    "# model = GridSearchCV(svc, parameters)\n",
    "# model.fit(df_normalized, y)\n",
    "\n",
    "# model.cv_results_"
   ]
  },
  {
   "cell_type": "code",
   "execution_count": 10,
   "metadata": {},
   "outputs": [],
   "source": [
    "# model.best_score_"
   ]
  },
  {
   "cell_type": "code",
   "execution_count": 13,
   "metadata": {},
   "outputs": [
    {
     "name": "stdout",
     "output_type": "stream",
     "text": [
      "[0.59555556 0.55555556 0.56666667 0.56888889 0.53571429]\n",
      "Accuracy: 0.56 (+/- 0.04)\n"
     ]
    }
   ],
   "source": [
    "from sklearn.ensemble import RandomForestClassifier\n",
    "\n",
    "model = RandomForestClassifier(n_estimators=100)\n",
    "scores = cross_val_score(model, df_normalized, y, cv=5)\n",
    "print(scores)\n",
    "print(\"Accuracy: %0.2f (+/- %0.2f)\" % (scores.mean(), scores.std() * 2))"
   ]
  },
  {
   "cell_type": "code",
   "execution_count": 15,
   "metadata": {},
   "outputs": [
    {
     "name": "stdout",
     "output_type": "stream",
     "text": [
      "train error: 0.00\n",
      "test error: 0.44\n"
     ]
    }
   ],
   "source": [
    "from sklearn.model_selection import train_test_split\n",
    "X_train, X_test, y_train, y_test = train_test_split(df_normalized, y, test_size=0.2)\n",
    "model.fit(X_train, y_train)\n",
    "print(\"train error: %0.2f\" % np.mean(model.predict(X_train) != y_train))\n",
    "print(\"test error: %0.2f\" % np.mean(model.predict(X_test) != y_test))"
   ]
  },
  {
   "cell_type": "code",
   "execution_count": 16,
   "metadata": {},
   "outputs": [
    {
     "name": "stdout",
     "output_type": "stream",
     "text": [
      "[0.58       0.56       0.58       0.58       0.58258929]\n",
      "Accuracy: 0.58 (+/- 0.02)\n"
     ]
    }
   ],
   "source": [
    "from sklearn.svm import SVC\n",
    "model = SVC(gamma='scale')\n",
    "\n",
    "scores = cross_val_score(model, df_normalized, y, cv=5)\n",
    "print(scores)\n",
    "print(\"Accuracy: %0.2f (+/- %0.2f)\" % (scores.mean(), scores.std() * 2))"
   ]
  },
  {
   "cell_type": "code",
   "execution_count": 17,
   "metadata": {},
   "outputs": [
    {
     "name": "stdout",
     "output_type": "stream",
     "text": [
      "train error: 0.39\n",
      "test error: 0.42\n"
     ]
    }
   ],
   "source": [
    "from sklearn.model_selection import train_test_split\n",
    "X_train, X_test, y_train, y_test = train_test_split(df_normalized, y, test_size=0.2)\n",
    "model.fit(X_train, y_train)\n",
    "print(\"train error: %0.2f\" % np.mean(model.predict(X_train) != y_train))\n",
    "print(\"test error: %0.2f\" % np.mean(model.predict(X_test) != y_test))"
   ]
  },
  {
   "cell_type": "code",
   "execution_count": null,
   "metadata": {},
   "outputs": [],
   "source": []
  }
 ],
 "metadata": {
  "kernelspec": {
   "display_name": "Python 3",
   "language": "python",
   "name": "python3"
  },
  "language_info": {
   "codemirror_mode": {
    "name": "ipython",
    "version": 3
   },
   "file_extension": ".py",
   "mimetype": "text/x-python",
   "name": "python",
   "nbconvert_exporter": "python",
   "pygments_lexer": "ipython3",
   "version": "3.7.4"
  }
 },
 "nbformat": 4,
 "nbformat_minor": 4
}
