{
 "cells": [
  {
   "cell_type": "code",
   "execution_count": 1,
   "metadata": {},
   "outputs": [],
   "source": [
    "import pandas as pd\n",
    "import numpy as np"
   ]
  },
  {
   "cell_type": "code",
   "execution_count": 2,
   "metadata": {},
   "outputs": [],
   "source": [
    "FILEPATH = \"Y:/Members_Current/Jenn/EEG study/Imported data/cleaned/\"\n",
    "participants = [\"107\", \"904\", \"905\", \"906\"]\n",
    "\n",
    "from ml_prep import prep_ml\n",
    "X,y = prep_ml(FILEPATH, participants)"
   ]
  },
  {
   "cell_type": "code",
   "execution_count": 3,
   "metadata": {},
   "outputs": [
    {
     "data": {
      "text/plain": [
       "353"
      ]
     },
     "execution_count": 3,
     "metadata": {},
     "output_type": "execute_result"
    }
   ],
   "source": [
    "y.shape[0]"
   ]
  },
  {
   "cell_type": "code",
   "execution_count": 4,
   "metadata": {},
   "outputs": [],
   "source": [
    "(n, d) = X.shape\n",
    "assert n == y.shape[0]"
   ]
  },
  {
   "cell_type": "code",
   "execution_count": 5,
   "metadata": {},
   "outputs": [],
   "source": [
    "# from sklearn.svm import SVC\n",
    "# model = SVC(gamma='auto', kernel='linear', C=1.0)"
   ]
  },
  {
   "cell_type": "code",
   "execution_count": 9,
   "metadata": {},
   "outputs": [],
   "source": [
    "from sklearn.ensemble import RandomForestClassifier\n",
    "model = RandomForestClassifier()"
   ]
  },
  {
   "cell_type": "code",
   "execution_count": 10,
   "metadata": {},
   "outputs": [],
   "source": [
    "# from sklearn.linear_model import LogisticRegression\n",
    "# model = LogisticRegression()"
   ]
  },
  {
   "cell_type": "code",
   "execution_count": 11,
   "metadata": {},
   "outputs": [
    {
     "name": "stderr",
     "output_type": "stream",
     "text": [
      "c:\\users\\karl\\appdata\\local\\programs\\python\\python37\\lib\\site-packages\\sklearn\\ensemble\\forest.py:245: FutureWarning: The default value of n_estimators will change from 10 in version 0.20 to 100 in 0.22.\n",
      "  \"10 in version 0.20 to 100 in 0.22.\", FutureWarning)\n"
     ]
    }
   ],
   "source": [
    "from sklearn.model_selection import train_test_split\n",
    "\n",
    "errs = np.zeros(100)\n",
    "for i in range(100):\n",
    "    X_train, X_test, y_train, y_test = train_test_split(X, y, test_size=0.2, random_state=i+2012)\n",
    "    model.fit(X_train, y_train)\n",
    "    errs[i] = np.mean(model.predict(X_test) != y_test)"
   ]
  },
  {
   "cell_type": "code",
   "execution_count": 12,
   "metadata": {},
   "outputs": [
    {
     "data": {
      "text/plain": [
       "0.49070422535211267"
      ]
     },
     "execution_count": 12,
     "metadata": {},
     "output_type": "execute_result"
    }
   ],
   "source": [
    "np.mean(errs)"
   ]
  },
  {
   "cell_type": "code",
   "execution_count": 13,
   "metadata": {},
   "outputs": [
    {
     "data": {
      "text/plain": [
       "array([0.56338028, 0.47887324, 0.46478873, 0.50704225, 0.53521127,\n",
       "       0.50704225, 0.50704225, 0.36619718, 0.45070423, 0.4084507 ,\n",
       "       0.56338028, 0.49295775, 0.42253521, 0.49295775, 0.43661972,\n",
       "       0.53521127, 0.43661972, 0.43661972, 0.50704225, 0.46478873,\n",
       "       0.46478873, 0.54929577, 0.45070423, 0.50704225, 0.49295775,\n",
       "       0.57746479, 0.54929577, 0.6056338 , 0.49295775, 0.5915493 ,\n",
       "       0.49295775, 0.43661972, 0.54929577, 0.47887324, 0.53521127,\n",
       "       0.46478873, 0.56338028, 0.53521127, 0.47887324, 0.54929577,\n",
       "       0.50704225, 0.45070423, 0.43661972, 0.54929577, 0.47887324,\n",
       "       0.53521127, 0.52112676, 0.46478873, 0.43661972, 0.56338028,\n",
       "       0.53521127, 0.43661972, 0.56338028, 0.43661972, 0.50704225,\n",
       "       0.47887324, 0.45070423, 0.57746479, 0.56338028, 0.43661972,\n",
       "       0.42253521, 0.54929577, 0.42253521, 0.52112676, 0.54929577,\n",
       "       0.53521127, 0.53521127, 0.47887324, 0.49295775, 0.54929577,\n",
       "       0.56338028, 0.45070423, 0.49295775, 0.53521127, 0.49295775,\n",
       "       0.47887324, 0.49295775, 0.33802817, 0.53521127, 0.3943662 ,\n",
       "       0.43661972, 0.3943662 , 0.4084507 , 0.49295775, 0.4084507 ,\n",
       "       0.46478873, 0.47887324, 0.52112676, 0.38028169, 0.54929577,\n",
       "       0.47887324, 0.50704225, 0.52112676, 0.56338028, 0.46478873,\n",
       "       0.49295775, 0.47887324, 0.4084507 , 0.49295775, 0.42253521])"
      ]
     },
     "execution_count": 13,
     "metadata": {},
     "output_type": "execute_result"
    }
   ],
   "source": [
    "errs"
   ]
  },
  {
   "cell_type": "code",
   "execution_count": null,
   "metadata": {},
   "outputs": [],
   "source": []
  }
 ],
 "metadata": {
  "kernelspec": {
   "display_name": "Python 3",
   "language": "python",
   "name": "python3"
  }
 },
 "nbformat": 4,
 "nbformat_minor": 2
}
