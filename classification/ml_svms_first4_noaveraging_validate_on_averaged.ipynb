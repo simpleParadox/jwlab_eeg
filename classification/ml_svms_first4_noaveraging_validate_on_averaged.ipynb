{
 "cells": [
  {
   "cell_type": "code",
   "execution_count": 3,
   "metadata": {},
   "outputs": [],
   "source": [
    "import pandas as pd\n",
    "import numpy as np"
   ]
  },
  {
   "cell_type": "code",
   "execution_count": 4,
   "metadata": {},
   "outputs": [
    {
     "name": "stdout",
     "output_type": "stream",
     "text": [
      "[ 3  4  7 12 14 30 31 33 34 35 36 43 44 45]\n",
      "[51 52 54 55 56 59 60 61 66 69 70 73 77]\n",
      "[ 86  89  97 101 105 111 112 115 120 122 123 124 125 146 151 165 169 176\n",
      " 177 178 179 180 181 183 184 185 186]\n",
      "[187 189 205 225 226 229 230 242 246 250 257 258 259 261 264 267 268 274\n",
      " 276 277 279 280 281 284 286 291 294 295]\n",
      "[297 303 306 308 314 309 312 315 316 318 319 323 320 324 330 333 334 339\n",
      " 340 341 343 344 345 349 350 351 352 353 358 359 361 365 366 371 372 373\n",
      " 375 376 379 382 384 386 387 389 391 392 394]\n",
      "[415. 424. 425. 426. 427. 436. 442. 444. 451. 452. 465. 466. 469. 477.\n",
      " 482. 483. 490. 491. 493. 500. 502. 504. 506. 514. 516. 517. 518. 520.\n",
      " 521. 522.  nan  nan  nan  nan  nan  nan  nan  nan  nan  nan  nan  nan\n",
      "  nan  nan  nan  nan  nan  nan  nan  nan  nan  nan  nan]\n",
      "[560. 562. 590. 602. 605. 606.  nan  nan  nan  nan  nan  nan  nan  nan\n",
      "  nan  nan  nan  nan  nan  nan  nan  nan  nan]\n",
      "[608. 610. 613. 614. 616. 620. 627. 628. 629. 631. 633. 634. 635. 636.\n",
      " 637. 640. 643. 644. 645. 646. 648. 655. 657. 658. 659. 660. 661. 662.\n",
      " 663. 666. 667. 668. 669. 670.  nan  nan  nan  nan  nan  nan  nan  nan\n",
      "  nan  nan  nan  nan  nan  nan  nan  nan  nan  nan  nan  nan  nan  nan\n",
      "  nan  nan  nan  nan  nan  nan  nan  nan  nan  nan]\n",
      "[673 701 691 705 714 721 731 733 734 737 739 740 742 744 745 747 748 749\n",
      " 752 754 756 757 763 764 765 767 768 769 770 771]\n",
      "[773 775 777 785 786 787 792 794 798 802 812 815 816 817 818 819 820 821\n",
      " 822 824 825 826 827 831 832 833 834 835]\n",
      "[836 838 839 840 841 842 843 845 847 848 849 851 852 853 854 855 856 857\n",
      " 858 859 860 861 862 863 864 865 866 867 868 870 871 872 873 874 875 876\n",
      " 877 878 879 880 881 882 883 884 885 886 887 888]\n",
      "[ 893  901  905  908  913  918  923  924  926  927  929  939  941  949\n",
      "  958  959  961  968  985  991  993  996  997  998  999 1007 1008 1009\n",
      " 1014 1019 1020 1022 1024]\n",
      "[1026 1031 1042 1044 1045 1050 1051 1052 1055 1059 1064 1065 1066 1068\n",
      " 1070 1071 1072 1073 1074 1075]\n",
      "[1077 1078 1079 1076 1081 1078 1079 1103 1109 1115 1116 1119 1123 1126\n",
      " 1129 1131 1134 1135 1136 1137 1138 1139 1140 1141 1142 1112]\n",
      "[1152 1157 1158 1163 1164 1170 1172 1176 1184 1186 1199 1200 1202 1205\n",
      " 1211 1217 1218 1223 1220]\n"
     ]
    },
    {
     "ename": "IndexError",
     "evalue": "index -2147483648 is out of bounds for axis 0 with size 1223",
     "output_type": "error",
     "traceback": [
      "\u001b[0;31m---------------------------------------------------------------------------\u001b[0m",
      "\u001b[0;31mIndexError\u001b[0m                                Traceback (most recent call last)",
      "\u001b[0;32m<ipython-input-4-d75325a7454c>\u001b[0m in \u001b[0;36m<module>\u001b[0;34m\u001b[0m\n\u001b[1;32m      4\u001b[0m \u001b[0mparticipants\u001b[0m \u001b[0;34m=\u001b[0m \u001b[0;34m[\u001b[0m\u001b[0;34m\"105\"\u001b[0m\u001b[0;34m,\u001b[0m \u001b[0;34m\"106\"\u001b[0m\u001b[0;34m,\u001b[0m \u001b[0;34m\"107\"\u001b[0m\u001b[0;34m,\u001b[0m \u001b[0;34m\"109\"\u001b[0m\u001b[0;34m,\u001b[0m \u001b[0;34m\"111\"\u001b[0m\u001b[0;34m,\u001b[0m \u001b[0;34m\"904\"\u001b[0m\u001b[0;34m,\u001b[0m \u001b[0;34m\"905\"\u001b[0m\u001b[0;34m,\u001b[0m \u001b[0;34m\"906\"\u001b[0m\u001b[0;34m,\u001b[0m \u001b[0;34m\"112\"\u001b[0m\u001b[0;34m,\u001b[0m \u001b[0;34m\"909\"\u001b[0m\u001b[0;34m,\u001b[0m \u001b[0;34m\"910\"\u001b[0m\u001b[0;34m,\u001b[0m \u001b[0;34m\"115\"\u001b[0m\u001b[0;34m,\u001b[0m \u001b[0;34m\"116\"\u001b[0m\u001b[0;34m,\u001b[0m \u001b[0;34m\"912\"\u001b[0m\u001b[0;34m,\u001b[0m \u001b[0;34m\"908\"\u001b[0m\u001b[0;34m]\u001b[0m\u001b[0;34m\u001b[0m\u001b[0;34m\u001b[0m\u001b[0m\n\u001b[1;32m      5\u001b[0m \u001b[0;32mfrom\u001b[0m \u001b[0mml_prep\u001b[0m \u001b[0;32mimport\u001b[0m \u001b[0mprep_ml\u001b[0m\u001b[0;34m\u001b[0m\u001b[0;34m\u001b[0m\u001b[0m\n\u001b[0;32m----> 6\u001b[0;31m \u001b[0mX\u001b[0m\u001b[0;34m,\u001b[0m\u001b[0my\u001b[0m\u001b[0;34m,\u001b[0m\u001b[0mp\u001b[0m\u001b[0;34m,\u001b[0m\u001b[0mw\u001b[0m\u001b[0;34m,\u001b[0m\u001b[0mdf\u001b[0m \u001b[0;34m=\u001b[0m \u001b[0mprep_ml\u001b[0m\u001b[0;34m(\u001b[0m\u001b[0mcleaned_data_filepath\u001b[0m\u001b[0;34m,\u001b[0m \u001b[0mparticipants\u001b[0m\u001b[0;34m,\u001b[0m \u001b[0mdownsample_num\u001b[0m\u001b[0;34m=\u001b[0m\u001b[0;36m1000\u001b[0m\u001b[0;34m,\u001b[0m \u001b[0maveraging\u001b[0m\u001b[0;34m=\u001b[0m\u001b[0;34m\"no_averaging\"\u001b[0m\u001b[0;34m)\u001b[0m\u001b[0;34m\u001b[0m\u001b[0;34m\u001b[0m\u001b[0m\n\u001b[0m",
      "\u001b[0;32m~/Documents/GitHub/jwlab_eeg/classification/ml_prep.py\u001b[0m in \u001b[0;36mprep_ml\u001b[0;34m(filepath, participants, downsample_num, averaging)\u001b[0m\n\u001b[1;32m      8\u001b[0m \u001b[0;32mdef\u001b[0m \u001b[0mprep_ml\u001b[0m\u001b[0;34m(\u001b[0m\u001b[0mfilepath\u001b[0m\u001b[0;34m,\u001b[0m \u001b[0mparticipants\u001b[0m\u001b[0;34m,\u001b[0m \u001b[0mdownsample_num\u001b[0m\u001b[0;34m=\u001b[0m\u001b[0;36m1000\u001b[0m\u001b[0;34m,\u001b[0m \u001b[0maveraging\u001b[0m\u001b[0;34m=\u001b[0m\u001b[0;34m\"average_trials\"\u001b[0m\u001b[0;34m)\u001b[0m\u001b[0;34m:\u001b[0m\u001b[0;34m\u001b[0m\u001b[0;34m\u001b[0m\u001b[0m\n\u001b[1;32m      9\u001b[0m     \u001b[0mdf\u001b[0m\u001b[0;34m,\u001b[0m \u001b[0mys\u001b[0m \u001b[0;34m=\u001b[0m \u001b[0mload_ml_data\u001b[0m\u001b[0;34m(\u001b[0m\u001b[0mfilepath\u001b[0m\u001b[0;34m,\u001b[0m \u001b[0mparticipants\u001b[0m\u001b[0;34m)\u001b[0m\u001b[0;34m\u001b[0m\u001b[0;34m\u001b[0m\u001b[0m\n\u001b[0;32m---> 10\u001b[0;31m     \u001b[0;32mreturn\u001b[0m \u001b[0mprep_ml_internal\u001b[0m\u001b[0;34m(\u001b[0m\u001b[0mdf\u001b[0m\u001b[0;34m,\u001b[0m \u001b[0mys\u001b[0m\u001b[0;34m,\u001b[0m \u001b[0mparticipants\u001b[0m\u001b[0;34m,\u001b[0m \u001b[0mdownsample_num\u001b[0m\u001b[0;34m=\u001b[0m\u001b[0mdownsample_num\u001b[0m\u001b[0;34m,\u001b[0m \u001b[0maveraging\u001b[0m\u001b[0;34m=\u001b[0m\u001b[0maveraging\u001b[0m\u001b[0;34m)\u001b[0m\u001b[0;34m\u001b[0m\u001b[0;34m\u001b[0m\u001b[0m\n\u001b[0m\u001b[1;32m     11\u001b[0m \u001b[0;34m\u001b[0m\u001b[0m\n\u001b[1;32m     12\u001b[0m \u001b[0;32mdef\u001b[0m \u001b[0mload_ml_data\u001b[0m\u001b[0;34m(\u001b[0m\u001b[0mfilepath\u001b[0m\u001b[0;34m,\u001b[0m \u001b[0mparticipants\u001b[0m\u001b[0;34m)\u001b[0m\u001b[0;34m:\u001b[0m\u001b[0;34m\u001b[0m\u001b[0;34m\u001b[0m\u001b[0m\n",
      "\u001b[0;32m~/Documents/GitHub/jwlab_eeg/classification/ml_prep.py\u001b[0m in \u001b[0;36mprep_ml_internal\u001b[0;34m(df, ys, participants, downsample_num, averaging)\u001b[0m\n\u001b[1;32m     39\u001b[0m     \u001b[0my\u001b[0m \u001b[0;34m=\u001b[0m \u001b[0mnp\u001b[0m\u001b[0;34m.\u001b[0m\u001b[0mconcatenate\u001b[0m\u001b[0;34m(\u001b[0m\u001b[0mys\u001b[0m\u001b[0;34m)\u001b[0m\u001b[0;34m\u001b[0m\u001b[0;34m\u001b[0m\u001b[0m\n\u001b[1;32m     40\u001b[0m     \u001b[0mybad\u001b[0m \u001b[0;34m=\u001b[0m \u001b[0mtransform_ybad_indices\u001b[0m\u001b[0;34m(\u001b[0m\u001b[0mybad\u001b[0m\u001b[0;34m,\u001b[0m \u001b[0mys\u001b[0m\u001b[0;34m)\u001b[0m\u001b[0;34m\u001b[0m\u001b[0;34m\u001b[0m\u001b[0m\n\u001b[0;32m---> 41\u001b[0;31m     \u001b[0my\u001b[0m\u001b[0;34m[\u001b[0m\u001b[0mybad\u001b[0m\u001b[0;34m]\u001b[0m \u001b[0;34m=\u001b[0m \u001b[0;34m-\u001b[0m\u001b[0;36m1\u001b[0m\u001b[0;34m\u001b[0m\u001b[0;34m\u001b[0m\u001b[0m\n\u001b[0m\u001b[1;32m     42\u001b[0m \u001b[0;34m\u001b[0m\u001b[0m\n\u001b[1;32m     43\u001b[0m     \u001b[0;32massert\u001b[0m \u001b[0my\u001b[0m\u001b[0;34m.\u001b[0m\u001b[0mshape\u001b[0m\u001b[0;34m[\u001b[0m\u001b[0;36m0\u001b[0m\u001b[0;34m]\u001b[0m \u001b[0;34m==\u001b[0m \u001b[0mX\u001b[0m\u001b[0;34m.\u001b[0m\u001b[0mshape\u001b[0m\u001b[0;34m[\u001b[0m\u001b[0;36m0\u001b[0m\u001b[0;34m]\u001b[0m\u001b[0;34m\u001b[0m\u001b[0;34m\u001b[0m\u001b[0m\n",
      "\u001b[0;31mIndexError\u001b[0m: index -2147483648 is out of bounds for axis 0 with size 1223"
     ]
    }
   ],
   "source": [
    "from constants import cleaned_data_filepath\n",
    "#participants = ['107']\n",
    "#participants = [\"107\", \"904\", \"905\", \"906\"]\n",
    "participants = [\"105\", \"106\", \"107\", \"109\", \"111\", \"904\", \"905\", \"906\", \"112\", \"909\", \"910\", \"115\", \"116\", \"912\", \"908\"]\n",
    "from ml_prep import prep_ml\n",
    "X,y,p,w,df = prep_ml(cleaned_data_filepath, participants, downsample_num=1000, averaging=\"no_averaging\")"
   ]
  },
  {
   "cell_type": "code",
   "execution_count": null,
   "metadata": {},
   "outputs": [],
   "source": [
    "Xp,yp,pp,wp,df2 = prep_ml(cleaned_data_filepath, participants, downsample_num=1000, averaging=\"average_trials\")"
   ]
  },
  {
   "cell_type": "code",
   "execution_count": null,
   "metadata": {},
   "outputs": [],
   "source": [
    "(n, d) = X.shape\n",
    "assert n == y.shape[0]\n",
    "# test"
   ]
  },
  {
   "cell_type": "code",
   "execution_count": null,
   "metadata": {},
   "outputs": [],
   "source": [
    "from sklearn.svm import LinearSVC\n",
    "model = LinearSVC(C=1.0, max_iter=1e9)"
   ]
  },
  {
   "cell_type": "code",
   "execution_count": null,
   "metadata": {},
   "outputs": [],
   "source": [
    "# from sklearn.ensemble import BaggingClassifier\n",
    "# model = BaggingClassifier(model)"
   ]
  },
  {
   "cell_type": "code",
   "execution_count": null,
   "metadata": {},
   "outputs": [],
   "source": [
    "# from sklearn.model_selection import GridSearchCV\n",
    "\n",
    "# param_grid = [\n",
    "  # {'C': np.logspace(-10, -5, 3)}\n",
    " # ]\n",
    "\n",
    "# tuned_model = GridSearchCV(model, param_grid)\n",
    "# tuned_model.fit(X, y)\n",
    "\n",
    "# tuned_model.cv_results_"
   ]
  },
  {
   "cell_type": "code",
   "execution_count": null,
   "metadata": {},
   "outputs": [],
   "source": [
    "# from sklearn import preprocessing\n",
    "\n",
    "# scaler = preprocessing.StandardScaler().fit(X)\n",
    "# X,Xp = scaler.transform(X), scaler.transform(Xp)\n",
    "\n",
    "model.fit(X, y)\n",
    "np.mean(model.predict(Xp) != yp)"
   ]
  },
  {
   "cell_type": "code",
   "execution_count": null,
   "metadata": {},
   "outputs": [],
   "source": [
    "model.fit(Xp, yp)\n",
    "np.mean(model.predict(X) != y)"
   ]
  },
  {
   "cell_type": "code",
   "execution_count": null,
   "metadata": {},
   "outputs": [],
   "source": [
    "model.fit(Xp, yp)\n",
    "np.mean(model.predict(Xp) != yp)"
   ]
  },
  {
   "cell_type": "code",
   "execution_count": null,
   "metadata": {},
   "outputs": [],
   "source": []
  },
  {
   "cell_type": "code",
   "execution_count": null,
   "metadata": {},
   "outputs": [],
   "source": []
  },
  {
   "cell_type": "code",
   "execution_count": null,
   "metadata": {},
   "outputs": [],
   "source": []
  }
 ],
 "metadata": {
  "kernelspec": {
   "display_name": "Python 3",
   "language": "python",
   "name": "python3"
  },
  "language_info": {
   "codemirror_mode": {
    "name": "ipython",
    "version": 3
   },
   "file_extension": ".py",
   "mimetype": "text/x-python",
   "name": "python",
   "nbconvert_exporter": "python",
   "pygments_lexer": "ipython3",
   "version": "3.7.4"
  }
 },
 "nbformat": 4,
 "nbformat_minor": 2
}
