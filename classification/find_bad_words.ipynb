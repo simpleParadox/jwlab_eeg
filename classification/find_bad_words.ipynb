{
 "cells": [
  {
   "cell_type": "code",
   "execution_count": 1,
   "metadata": {},
   "outputs": [],
   "source": [
    "from constants import word_list\n",
    "from first_participants_map import words"
   ]
  },
  {
   "cell_type": "code",
   "execution_count": 2,
   "metadata": {},
   "outputs": [
    {
     "data": {
      "text/plain": [
       "['baby',\n",
       " 'bear',\n",
       " 'bird',\n",
       " 'bunny',\n",
       " 'cat',\n",
       " 'dog',\n",
       " 'duck',\n",
       " 'mommy',\n",
       " 'banana',\n",
       " 'bottle',\n",
       " 'cookie',\n",
       " 'cracker',\n",
       " 'cup',\n",
       " 'juice',\n",
       " 'milk',\n",
       " 'spoon']"
      ]
     },
     "execution_count": 2,
     "metadata": {},
     "output_type": "execute_result"
    }
   ],
   "source": [
    "word_list"
   ]
  },
  {
   "cell_type": "code",
   "execution_count": 8,
   "metadata": {},
   "outputs": [
    {
     "name": "stdout",
     "output_type": "stream",
     "text": [
      "105 fork\n",
      "105 turkey\n",
      "105 cheese\n",
      "105 egg\n",
      "105 horse\n",
      "105 orange\n",
      "105 fish\n",
      "105 egg\n",
      "105 squirrel\n",
      "105 fork\n",
      "106 horse\n",
      "106 fork\n",
      "106 orange\n",
      "106 turkey\n",
      "106 turkey\n",
      "106 cheese\n",
      "106 -\n",
      "106 egg\n",
      "106 apple\n",
      "106 fish\n",
      "106 egg\n",
      "106 fork\n",
      "106 orange\n",
      "107 -\n",
      "107 -\n",
      "904 -\n",
      "904 -\n",
      "904 -\n",
      "904 -\n",
      "905 -\n"
     ]
    }
   ],
   "source": [
    "for k in words:\n",
    "    for s in words[k]:\n",
    "        if s not in word_list:\n",
    "            print(k, s)"
   ]
  },
  {
   "cell_type": "code",
   "execution_count": null,
   "metadata": {},
   "outputs": [],
   "source": []
  }
 ],
 "metadata": {
  "kernelspec": {
   "display_name": "Python 3",
   "language": "python",
   "name": "python3"
  },
  "language_info": {
   "codemirror_mode": {
    "name": "ipython",
    "version": 3
   },
   "file_extension": ".py",
   "mimetype": "text/x-python",
   "name": "python",
   "nbconvert_exporter": "python",
   "pygments_lexer": "ipython3",
   "version": "3.7.3"
  }
 },
 "nbformat": 4,
 "nbformat_minor": 2
}
