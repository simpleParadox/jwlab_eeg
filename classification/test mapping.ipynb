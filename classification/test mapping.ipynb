{
 "cells": [
  {
   "cell_type": "code",
   "execution_count": 1,
   "metadata": {},
   "outputs": [],
   "source": [
    "import pandas as pd\n",
    "import numpy as np"
   ]
  },
  {
   "cell_type": "code",
   "execution_count": 2,
   "metadata": {},
   "outputs": [],
   "source": [
    "import ml_prep\n",
    "FILEPATH = \"Y:/Members_Current/Jenn/EEG study/Imported data/cleaned/\"\n",
    "participants = [\"107\", \"904\", \"905\", \"906\"] # 105 and 106 aren't being used since they use a different set of words\n",
    "df, ys = ml_prep.load_ml_data(FILEPATH, participants)"
   ]
  },
  {
   "cell_type": "code",
   "execution_count": 3,
   "metadata": {
    "scrolled": true
   },
   "outputs": [
    {
     "name": "stdout",
     "output_type": "stream",
     "text": [
      "[[8, 11, 19, 23, 27, 33, 34, 37, 42, 44, 45, 46, 47, 68, 73, 87, 91, 98, 99, 100, 101, 102, 103, 105, 106, 107, 108], [9.0, 18.0, 19.0, 20.0, 21.0, 30.0, 36.0, 38.0, 45.0, 46.0, 59.0, 60.0, 63.0, 71.0, 76.0, 77.0, 84.0, 85.0, 87.0, 94.0, 96.0, 98.0, 100.0, 108.0, 110.0, 111.0, 112.0, 114.0, 115.0, 116.0], [37.0, 39.0, 67.0, 79.0, 82.0, 83.0], [1.0, 3.0, 6.0, 7.0, 9.0, 13.0, 20.0, 21.0, 22.0, 24.0, 26.0, 27.0, 28.0, 29.0, 30.0, 33.0, 36.0, 37.0, 38.0, 39.0, 41.0, 48.0, 50.0, 51.0, 52.0, 53.0, 54.0, 55.0, 56.0, 59.0, 60.0, 61.0, 62.0, 63.0]]\n",
      "0\n",
      "109\n",
      "226\n",
      "310\n",
      "[  8  11  19  23  27  33  34  37  42  44  45  46  47  68  73  87  91  98\n",
      "  99 100 101 102 103 105 106 107 108 118 127 128 129 130 139 145 147 154\n",
      " 155 168 169 172 180 185 186 193 194 196 203 205 207 209 217 219 220 221\n",
      " 223 224 225 263 265 293 305 308 309 311 313 316 317 319 323 330 331 332\n",
      " 334 336 337 338 339 340 343 346 347 348 349 351 358 360 361 362 363 364\n",
      " 365 366 369 370 371 372 373]\n"
     ]
    }
   ],
   "source": [
    "import importlib\n",
    "import bad_trials\n",
    "importlib.reload(ml_prep)\n",
    "importlib.reload(bad_trials)\n",
    "df = ml_prep.prep_ml_internal(df, ys, participants)"
   ]
  },
  {
   "cell_type": "code",
   "execution_count": 4,
   "metadata": {},
   "outputs": [],
   "source": [
    "df2 = df[df.label != -1]"
   ]
  },
  {
   "cell_type": "code",
   "execution_count": 5,
   "metadata": {},
   "outputs": [
    {
     "data": {
      "text/plain": [
       "82"
      ]
     },
     "execution_count": 5,
     "metadata": {},
     "output_type": "execute_result"
    }
   ],
   "source": [
    "len(df2[df2.participant == 0])"
   ]
  },
  {
   "cell_type": "code",
   "execution_count": 6,
   "metadata": {},
   "outputs": [
    {
     "data": {
      "text/plain": [
       "83"
      ]
     },
     "execution_count": 6,
     "metadata": {},
     "output_type": "execute_result"
    }
   ],
   "source": [
    "len(df2[df2.participant == 1])"
   ]
  },
  {
   "cell_type": "code",
   "execution_count": 7,
   "metadata": {},
   "outputs": [
    {
     "data": {
      "text/plain": [
       "77"
      ]
     },
     "execution_count": 7,
     "metadata": {},
     "output_type": "execute_result"
    }
   ],
   "source": [
    "len(df2[df2.participant == 2])"
   ]
  },
  {
   "cell_type": "code",
   "execution_count": 8,
   "metadata": {},
   "outputs": [
    {
     "data": {
      "text/plain": [
       "30"
      ]
     },
     "execution_count": 8,
     "metadata": {},
     "output_type": "execute_result"
    }
   ],
   "source": [
    "len(df2[df2.participant == 3])"
   ]
  },
  {
   "cell_type": "code",
   "execution_count": null,
   "metadata": {},
   "outputs": [],
   "source": []
  }
 ],
 "metadata": {
  "kernelspec": {
   "display_name": "Python 3",
   "language": "python",
   "name": "python3"
  },
  "language_info": {
   "codemirror_mode": {
    "name": "ipython",
    "version": 3
   },
   "file_extension": ".py",
   "mimetype": "text/x-python",
   "name": "python",
   "nbconvert_exporter": "python",
   "pygments_lexer": "ipython3",
   "version": "3.7.3"
  }
 },
 "nbformat": 4,
 "nbformat_minor": 2
}
