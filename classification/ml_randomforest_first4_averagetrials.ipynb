{
 "cells": [
  {
   "cell_type": "code",
   "execution_count": 27,
   "metadata": {},
   "outputs": [],
   "source": [
    "import pandas as pd\n",
    "import numpy as np"
   ]
  },
  {
   "cell_type": "code",
   "execution_count": 28,
   "metadata": {
    "scrolled": true
   },
   "outputs": [
    {
     "name": "stdout",
     "output_type": "stream",
     "text": [
      "[0.03580066 0.03580066 0.03580066 ... 0.03580066 0.03580066 0.03580066]\n",
      "[0. 0. 0. ... 0. 0. 0.]\n",
      "[-0.24644155 -0.24644155 -0.24644155 ... -0.24644155 -0.24644155\n",
      " -0.24644155]\n",
      "[0. 0. 0. ... 0. 0. 0.]\n",
      "[-0.04095134 -0.04095134 -0.04095134 ... -0.04095134 -0.04095134\n",
      " -0.04095134]\n",
      "[0.03777912 0.03777912 0.03777912 ... 0.03777912 0.03777912 0.03777912]\n",
      "[0.05511384 0.05511384 0.05511384 ... 0.05511384 0.05511384 0.05511384]\n",
      "[-0.02006319 -0.02006319 -0.02006319 ... -0.02006319 -0.02006319\n",
      " -0.02006319]\n",
      "[-0.1902079 -0.1902079 -0.1902079 ... -0.1902079 -0.1902079 -0.1902079]\n",
      "[0.1967419 0.1967419 0.1967419 ... 0.1967419 0.1967419 0.1967419]\n",
      "[-0.06509225 -0.06509225 -0.06509225 ... -0.06509225 -0.06509225\n",
      " -0.06509225]\n",
      "[-0.16430205 -0.16430205 -0.16430205 ... -0.16430205 -0.16430205\n",
      " -0.16430205]\n",
      "[0. 0. 0. ... 0. 0. 0.]\n",
      "[-0.01691592 -0.01691592 -0.01691592 ... -0.01691592 -0.01691592\n",
      " -0.01691592]\n",
      "[-0.12557656 -0.12557656 -0.12557656 ... -0.12557656 -0.12557656\n",
      " -0.12557656]\n",
      "[0. 0. 0. ... 0. 0. 0.]\n"
     ]
    }
   ],
   "source": [
    "from constants import cleaned_data_filepath\n",
    "participants = [\"107\", \"904\", \"905\", \"906\"]\n",
    "\n",
    "from ml_prep import prep_ml\n",
    "X,y,p,w = prep_ml(cleaned_data_filepath, participants, downsample_num=200, averaging=\"average_trials_and_participants\")\n",
    "for x in range(len(X)): \n",
    "    print(X[x])"
   ]
  },
  {
   "cell_type": "code",
   "execution_count": 29,
   "metadata": {
    "scrolled": true
   },
   "outputs": [
    {
     "data": {
      "text/plain": [
       "16"
      ]
     },
     "execution_count": 29,
     "metadata": {},
     "output_type": "execute_result"
    }
   ],
   "source": [
    "y.shape[0]"
   ]
  },
  {
   "cell_type": "code",
   "execution_count": 30,
   "metadata": {},
   "outputs": [],
   "source": [
    "(n, d) = X.shape\n",
    "assert n == y.shape[0]"
   ]
  },
  {
   "cell_type": "code",
   "execution_count": 31,
   "metadata": {},
   "outputs": [],
   "source": [
    "from sklearn.ensemble import RandomForestClassifier\n",
    "model = RandomForestClassifier()"
   ]
  },
  {
   "cell_type": "code",
   "execution_count": null,
   "metadata": {},
   "outputs": [],
   "source": []
  },
  {
   "cell_type": "code",
   "execution_count": 32,
   "metadata": {},
   "outputs": [],
   "source": [
    "# from eval import eval_across_participants\n",
    "# errs = eval_across_participants(model, X, y, p, 1000, random_state=50)\n",
    "# print(\"\\n---\\n\")\n",
    "# for j in range(errs.shape[0]):\n",
    "#   print(np.mean(errs[j, :]))"
   ]
  },
  {
   "cell_type": "code",
   "execution_count": 33,
   "metadata": {},
   "outputs": [
    {
     "name": "stdout",
     "output_type": "stream",
     "text": [
      "\r",
      "[                    ] 0%\r",
      "[                    ] 0%\r",
      "[                    ] 0%\r",
      "[                    ] 0%\r",
      "[                    ] 0%\r",
      "[                    ] 0%\r",
      "[                    ] 0%\r",
      "[                    ] 0%\r",
      "[                    ] 0%"
     ]
    },
    {
     "name": "stderr",
     "output_type": "stream",
     "text": [
      "/Library/Frameworks/Python.framework/Versions/3.7/lib/python3.7/site-packages/sklearn/ensemble/forest.py:245: FutureWarning: The default value of n_estimators will change from 10 in version 0.20 to 100 in 0.22.\n",
      "  \"10 in version 0.20 to 100 in 0.22.\", FutureWarning)\n"
     ]
    },
    {
     "name": "stdout",
     "output_type": "stream",
     "text": [
      "[====================] 100%"
     ]
    }
   ],
   "source": [
    "from eval import eval_normal\n",
    "errs = eval_normal(model, X, y, 1000, random_state=0)\n"
   ]
  },
  {
   "cell_type": "code",
   "execution_count": 34,
   "metadata": {},
   "outputs": [
    {
     "data": {
      "text/plain": [
       "0.5305"
      ]
     },
     "execution_count": 34,
     "metadata": {},
     "output_type": "execute_result"
    }
   ],
   "source": [
    "np.mean(errs)"
   ]
  },
  {
   "cell_type": "code",
   "execution_count": null,
   "metadata": {},
   "outputs": [],
   "source": []
  },
  {
   "cell_type": "code",
   "execution_count": null,
   "metadata": {},
   "outputs": [],
   "source": []
  },
  {
   "cell_type": "code",
   "execution_count": null,
   "metadata": {},
   "outputs": [],
   "source": []
  },
  {
   "cell_type": "code",
   "execution_count": null,
   "metadata": {},
   "outputs": [],
   "source": []
  },
  {
   "cell_type": "code",
   "execution_count": null,
   "metadata": {},
   "outputs": [],
   "source": []
  }
 ],
 "metadata": {
  "kernelspec": {
   "display_name": "Python 3",
   "language": "python",
   "name": "python3"
  },
  "language_info": {
   "codemirror_mode": {
    "name": "ipython",
    "version": 3
   },
   "file_extension": ".py",
   "mimetype": "text/x-python",
   "name": "python",
   "nbconvert_exporter": "python",
   "pygments_lexer": "ipython3",
   "version": "3.7.4"
  }
 },
 "nbformat": 4,
 "nbformat_minor": 2
}
