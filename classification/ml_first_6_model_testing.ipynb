{
 "cells": [
  {
   "cell_type": "code",
   "execution_count": 5,
   "metadata": {},
   "outputs": [],
   "source": [
    "import pandas as pd\n",
    "import numpy as np"
   ]
  },
  {
   "cell_type": "code",
   "execution_count": 6,
   "metadata": {},
   "outputs": [],
   "source": [
    "FILEPATH = \"/Volumes/OFFCAMPUS/Jenn/Imported data/cleaned/\"\n",
    "participants = [\"107\", \"904\", \"905\", \"906\"]\n",
    "\n",
    "from ml_prep import prep_ml\n",
    "X,y = prep_ml(FILEPATH, participants)"
   ]
  },
  {
   "cell_type": "code",
   "execution_count": 4,
   "metadata": {},
   "outputs": [
    {
     "data": {
      "text/plain": [
       "353"
      ]
     },
     "execution_count": 4,
     "metadata": {},
     "output_type": "execute_result"
    }
   ],
   "source": [
    "y.shape[0]"
   ]
  },
  {
   "cell_type": "code",
   "execution_count": 4,
   "metadata": {},
   "outputs": [],
   "source": [
    "(n, d) = X.shape\n",
    "assert n == y.shape[0]"
   ]
  },
  {
   "cell_type": "code",
   "execution_count": 5,
   "metadata": {},
   "outputs": [],
   "source": [
    "# from sklearn.svm import SVC\n",
    "# model = SVC(gamma='auto', kernel='linear')"
   ]
  },
  {
   "cell_type": "code",
   "execution_count": 6,
   "metadata": {},
   "outputs": [],
   "source": [
    "# from sklearn.svm import LinearSVC\n",
    "# model = LinearSVC(C=1e-6)"
   ]
  },
  {
   "cell_type": "code",
   "execution_count": 7,
   "metadata": {},
   "outputs": [],
   "source": [
    "from sklearn.ensemble import RandomForestClassifier\n",
    "model = RandomForestClassifier()"
   ]
  },
  {
   "cell_type": "code",
   "execution_count": 8,
   "metadata": {},
   "outputs": [],
   "source": [
    "# from sklearn.linear_model import LogisticRegression\n",
    "# model = LogisticRegression()"
   ]
  },
  {
   "cell_type": "code",
   "execution_count": 9,
   "metadata": {},
   "outputs": [],
   "source": [
    "# from sklearn.model_selection import GridSearchCV\n",
    "\n",
    "# param_grid = [\n",
    "  # {'C': np.logspace(-10, -5, 3)}\n",
    " # ]\n",
    "\n",
    "# tuned_model = GridSearchCV(model, param_grid)\n",
    "# tuned_model.fit(X, y)\n",
    "\n",
    "# tuned_model.cv_results_"
   ]
  },
  {
   "cell_type": "code",
   "execution_count": 10,
   "metadata": {},
   "outputs": [
    {
     "name": "stderr",
     "output_type": "stream",
     "text": [
      "c:\\users\\karl\\appdata\\local\\programs\\python\\python37\\lib\\site-packages\\sklearn\\ensemble\\forest.py:245: FutureWarning: The default value of n_estimators will change from 10 in version 0.20 to 100 in 0.22.\n",
      "  \"10 in version 0.20 to 100 in 0.22.\", FutureWarning)\n"
     ]
    }
   ],
   "source": [
    "from sklearn.model_selection import train_test_split\n",
    "\n",
    "num_tries = 100\n",
    "errs = np.zeros(num_tries)\n",
    "for i in range(num_tries):\n",
    "    X_train, X_test, y_train, y_test = train_test_split(X, y, test_size=0.2, random_state=i+1114)\n",
    "    model.fit(X_train, y_train)\n",
    "    errs[i] = np.mean(model.predict(X_test) != y_test)"
   ]
  },
  {
   "cell_type": "code",
   "execution_count": 11,
   "metadata": {},
   "outputs": [
    {
     "data": {
      "text/plain": [
       "0.4908450704225352"
      ]
     },
     "execution_count": 11,
     "metadata": {},
     "output_type": "execute_result"
    }
   ],
   "source": [
    "np.mean(errs)"
   ]
  },
  {
   "cell_type": "code",
   "execution_count": 12,
   "metadata": {},
   "outputs": [
    {
     "data": {
      "text/plain": [
       "array([0.49295775, 0.3943662 , 0.5915493 , 0.50704225, 0.42253521,\n",
       "       0.47887324, 0.47887324, 0.57746479, 0.45070423, 0.57746479,\n",
       "       0.5915493 , 0.47887324, 0.50704225, 0.45070423, 0.50704225,\n",
       "       0.43661972, 0.4084507 , 0.3943662 , 0.4084507 , 0.54929577,\n",
       "       0.43661972, 0.52112676, 0.50704225, 0.54929577, 0.5915493 ,\n",
       "       0.50704225, 0.49295775, 0.49295775, 0.6056338 , 0.53521127,\n",
       "       0.46478873, 0.6056338 , 0.53521127, 0.42253521, 0.50704225,\n",
       "       0.54929577, 0.45070423, 0.30985915, 0.56338028, 0.56338028,\n",
       "       0.53521127, 0.53521127, 0.53521127, 0.43661972, 0.52112676,\n",
       "       0.46478873, 0.43661972, 0.6056338 , 0.52112676, 0.54929577,\n",
       "       0.43661972, 0.47887324, 0.50704225, 0.47887324, 0.54929577,\n",
       "       0.50704225, 0.45070423, 0.52112676, 0.47887324, 0.49295775,\n",
       "       0.36619718, 0.49295775, 0.46478873, 0.4084507 , 0.45070423,\n",
       "       0.42253521, 0.43661972, 0.3943662 , 0.42253521, 0.46478873,\n",
       "       0.6056338 , 0.42253521, 0.38028169, 0.49295775, 0.56338028,\n",
       "       0.46478873, 0.45070423, 0.57746479, 0.47887324, 0.54929577,\n",
       "       0.46478873, 0.3943662 , 0.54929577, 0.46478873, 0.56338028,\n",
       "       0.43661972, 0.52112676, 0.50704225, 0.35211268, 0.54929577,\n",
       "       0.45070423, 0.50704225, 0.3943662 , 0.47887324, 0.54929577,\n",
       "       0.56338028, 0.43661972, 0.52112676, 0.57746479, 0.53521127])"
      ]
     },
     "execution_count": 12,
     "metadata": {},
     "output_type": "execute_result"
    }
   ],
   "source": [
    "errs"
   ]
  },
  {
   "cell_type": "code",
   "execution_count": null,
   "metadata": {},
   "outputs": [],
   "source": []
  }
 ],
 "metadata": {
  "kernelspec": {
   "display_name": "Python 3",
   "language": "python",
   "name": "python3"
  },
  "language_info": {
   "codemirror_mode": {
    "name": "ipython",
    "version": 3
   },
   "file_extension": ".py",
   "mimetype": "text/x-python",
   "name": "python",
   "nbconvert_exporter": "python",
   "pygments_lexer": "ipython3",
   "version": "3.7.4"
  }
 },
 "nbformat": 4,
 "nbformat_minor": 2
}
