{
 "cells": [
  {
   "cell_type": "code",
   "execution_count": 1,
   "metadata": {},
   "outputs": [],
   "source": [
    "import pandas as pd\n",
    "import numpy as np"
   ]
  },
  {
   "cell_type": "code",
   "execution_count": 7,
   "metadata": {},
   "outputs": [],
   "source": [
<<<<<<< Updated upstream
    "from constants import cleaned_data_filepath\n",
=======
    "FILEPATH = \"/Volumes/OFFCAMPUS/Jenn/Imported data/cleaned/\"\n",
    "\n",
>>>>>>> Stashed changes
    "participants = [\"105\", \"106\", \"107\", \"904\", \"905\", \"906\"]\n",
    "\n",
    "dfs = [pd.read_csv(\"%s%s_cleaned_ml.csv\" % (cleaned_data_filepath, s)) for s in participants]\n",
    "\n",
    "df = pd.concat(dfs, axis=0, ignore_index=True)"
   ]
  },
  {
   "cell_type": "code",
   "execution_count": 8,
   "metadata": {},
   "outputs": [
    {
     "data": {
      "text/html": [
       "<div>\n",
       "<style scoped>\n",
       "    .dataframe tbody tr th:only-of-type {\n",
       "        vertical-align: middle;\n",
       "    }\n",
       "\n",
       "    .dataframe tbody tr th {\n",
       "        vertical-align: top;\n",
       "    }\n",
       "\n",
       "    .dataframe thead th {\n",
       "        text-align: right;\n",
       "    }\n",
       "</style>\n",
       "<table border=\"1\" class=\"dataframe\">\n",
       "  <thead>\n",
       "    <tr style=\"text-align: right;\">\n",
       "      <th></th>\n",
       "      <th>Time</th>\n",
       "      <th>E1</th>\n",
       "      <th>E2</th>\n",
       "      <th>E3</th>\n",
       "      <th>E4</th>\n",
       "      <th>E5</th>\n",
       "      <th>E6</th>\n",
       "      <th>E7</th>\n",
       "      <th>E8</th>\n",
       "      <th>E9</th>\n",
       "      <th>...</th>\n",
       "      <th>E56</th>\n",
       "      <th>E57</th>\n",
       "      <th>E58</th>\n",
       "      <th>E59</th>\n",
       "      <th>E60</th>\n",
       "      <th>E61</th>\n",
       "      <th>E62</th>\n",
       "      <th>E63</th>\n",
       "      <th>E64</th>\n",
       "      <th>E65</th>\n",
       "    </tr>\n",
       "  </thead>\n",
       "  <tbody>\n",
       "    <tr>\n",
       "      <td>0</td>\n",
       "      <td>-200.0</td>\n",
       "      <td>13.649351</td>\n",
       "      <td>4.253679</td>\n",
       "      <td>9.996485</td>\n",
       "      <td>9.481434</td>\n",
       "      <td>18.026508</td>\n",
       "      <td>5.564005</td>\n",
       "      <td>12.778870</td>\n",
       "      <td>1.174925</td>\n",
       "      <td>13.478706</td>\n",
       "      <td>...</td>\n",
       "      <td>-2.362542</td>\n",
       "      <td>-0.461481</td>\n",
       "      <td>-9.263395</td>\n",
       "      <td>-2.207499</td>\n",
       "      <td>3.446589</td>\n",
       "      <td>-3.198227</td>\n",
       "      <td>-3.198227</td>\n",
       "      <td>-3.198227</td>\n",
       "      <td>-3.198227</td>\n",
       "      <td>-3.198227</td>\n",
       "    </tr>\n",
       "    <tr>\n",
       "      <td>1</td>\n",
       "      <td>-199.0</td>\n",
       "      <td>13.828758</td>\n",
       "      <td>4.976443</td>\n",
       "      <td>10.084705</td>\n",
       "      <td>9.582227</td>\n",
       "      <td>18.480547</td>\n",
       "      <td>5.537510</td>\n",
       "      <td>12.838730</td>\n",
       "      <td>1.211721</td>\n",
       "      <td>13.147108</td>\n",
       "      <td>...</td>\n",
       "      <td>-3.272416</td>\n",
       "      <td>-0.463592</td>\n",
       "      <td>-10.913692</td>\n",
       "      <td>-2.212922</td>\n",
       "      <td>3.910747</td>\n",
       "      <td>-3.019854</td>\n",
       "      <td>-3.019854</td>\n",
       "      <td>-3.019854</td>\n",
       "      <td>-3.019854</td>\n",
       "      <td>-3.019854</td>\n",
       "    </tr>\n",
       "    <tr>\n",
       "      <td>2</td>\n",
       "      <td>-198.0</td>\n",
       "      <td>14.142060</td>\n",
       "      <td>5.850959</td>\n",
       "      <td>10.178824</td>\n",
       "      <td>9.686580</td>\n",
       "      <td>19.001780</td>\n",
       "      <td>5.393631</td>\n",
       "      <td>12.747041</td>\n",
       "      <td>1.206468</td>\n",
       "      <td>12.338480</td>\n",
       "      <td>...</td>\n",
       "      <td>-4.002994</td>\n",
       "      <td>-0.402802</td>\n",
       "      <td>-11.890976</td>\n",
       "      <td>-2.120070</td>\n",
       "      <td>4.458347</td>\n",
       "      <td>-2.751333</td>\n",
       "      <td>-2.751333</td>\n",
       "      <td>-2.751333</td>\n",
       "      <td>-2.751333</td>\n",
       "      <td>-2.751333</td>\n",
       "    </tr>\n",
       "    <tr>\n",
       "      <td>3</td>\n",
       "      <td>-197.0</td>\n",
       "      <td>14.560205</td>\n",
       "      <td>6.793514</td>\n",
       "      <td>10.284312</td>\n",
       "      <td>9.803214</td>\n",
       "      <td>19.552628</td>\n",
       "      <td>5.139943</td>\n",
       "      <td>12.524466</td>\n",
       "      <td>1.158097</td>\n",
       "      <td>11.103312</td>\n",
       "      <td>...</td>\n",
       "      <td>-4.511529</td>\n",
       "      <td>-0.304838</td>\n",
       "      <td>-12.029873</td>\n",
       "      <td>-1.959178</td>\n",
       "      <td>5.037091</td>\n",
       "      <td>-2.393907</td>\n",
       "      <td>-2.393907</td>\n",
       "      <td>-2.393907</td>\n",
       "      <td>-2.393907</td>\n",
       "      <td>-2.393907</td>\n",
       "    </tr>\n",
       "    <tr>\n",
       "      <td>4</td>\n",
       "      <td>-196.0</td>\n",
       "      <td>15.053234</td>\n",
       "      <td>7.721226</td>\n",
       "      <td>10.407560</td>\n",
       "      <td>9.938207</td>\n",
       "      <td>20.092878</td>\n",
       "      <td>4.792314</td>\n",
       "      <td>12.198002</td>\n",
       "      <td>1.070401</td>\n",
       "      <td>9.519570</td>\n",
       "      <td>...</td>\n",
       "      <td>-4.765975</td>\n",
       "      <td>-0.191731</td>\n",
       "      <td>-11.221484</td>\n",
       "      <td>-1.756361</td>\n",
       "      <td>5.597899</td>\n",
       "      <td>-1.954948</td>\n",
       "      <td>-1.954948</td>\n",
       "      <td>-1.954948</td>\n",
       "      <td>-1.954948</td>\n",
       "      <td>-1.954948</td>\n",
       "    </tr>\n",
       "    <tr>\n",
       "      <td>...</td>\n",
       "      <td>...</td>\n",
       "      <td>...</td>\n",
       "      <td>...</td>\n",
       "      <td>...</td>\n",
       "      <td>...</td>\n",
       "      <td>...</td>\n",
       "      <td>...</td>\n",
       "      <td>...</td>\n",
       "      <td>...</td>\n",
       "      <td>...</td>\n",
       "      <td>...</td>\n",
       "      <td>...</td>\n",
       "      <td>...</td>\n",
       "      <td>...</td>\n",
       "      <td>...</td>\n",
       "      <td>...</td>\n",
       "      <td>...</td>\n",
       "      <td>...</td>\n",
       "      <td>...</td>\n",
       "      <td>...</td>\n",
       "      <td>...</td>\n",
       "    </tr>\n",
       "    <tr>\n",
       "      <td>542395</td>\n",
       "      <td>995.0</td>\n",
       "      <td>-233.694122</td>\n",
       "      <td>7.769695</td>\n",
       "      <td>8.263282</td>\n",
       "      <td>-34.424835</td>\n",
       "      <td>74.074875</td>\n",
       "      <td>16.008013</td>\n",
       "      <td>-66.621674</td>\n",
       "      <td>28.767864</td>\n",
       "      <td>18.601503</td>\n",
       "      <td>...</td>\n",
       "      <td>-51.375248</td>\n",
       "      <td>-27.745144</td>\n",
       "      <td>-11.294678</td>\n",
       "      <td>14.642734</td>\n",
       "      <td>4.838850</td>\n",
       "      <td>-120.415878</td>\n",
       "      <td>-152.254807</td>\n",
       "      <td>22.633812</td>\n",
       "      <td>66.947205</td>\n",
       "      <td>74.557816</td>\n",
       "    </tr>\n",
       "    <tr>\n",
       "      <td>542396</td>\n",
       "      <td>996.0</td>\n",
       "      <td>-233.596756</td>\n",
       "      <td>7.821805</td>\n",
       "      <td>7.365407</td>\n",
       "      <td>-35.303608</td>\n",
       "      <td>73.046166</td>\n",
       "      <td>15.163234</td>\n",
       "      <td>-67.140457</td>\n",
       "      <td>28.350851</td>\n",
       "      <td>17.708069</td>\n",
       "      <td>...</td>\n",
       "      <td>-51.273594</td>\n",
       "      <td>-28.642437</td>\n",
       "      <td>-10.040168</td>\n",
       "      <td>15.589846</td>\n",
       "      <td>4.592117</td>\n",
       "      <td>-121.814385</td>\n",
       "      <td>-147.267349</td>\n",
       "      <td>25.017849</td>\n",
       "      <td>67.780792</td>\n",
       "      <td>74.212090</td>\n",
       "    </tr>\n",
       "    <tr>\n",
       "      <td>542397</td>\n",
       "      <td>997.0</td>\n",
       "      <td>-233.481140</td>\n",
       "      <td>7.782219</td>\n",
       "      <td>6.621273</td>\n",
       "      <td>-36.059338</td>\n",
       "      <td>70.529800</td>\n",
       "      <td>14.454845</td>\n",
       "      <td>-67.453232</td>\n",
       "      <td>27.820776</td>\n",
       "      <td>17.149921</td>\n",
       "      <td>...</td>\n",
       "      <td>-51.154018</td>\n",
       "      <td>-29.295010</td>\n",
       "      <td>-9.149659</td>\n",
       "      <td>16.343340</td>\n",
       "      <td>4.526050</td>\n",
       "      <td>-123.629273</td>\n",
       "      <td>-143.011612</td>\n",
       "      <td>29.931921</td>\n",
       "      <td>68.535294</td>\n",
       "      <td>74.022133</td>\n",
       "    </tr>\n",
       "    <tr>\n",
       "      <td>542398</td>\n",
       "      <td>998.0</td>\n",
       "      <td>-233.399612</td>\n",
       "      <td>7.643509</td>\n",
       "      <td>6.047417</td>\n",
       "      <td>-36.694870</td>\n",
       "      <td>66.741524</td>\n",
       "      <td>13.892268</td>\n",
       "      <td>-67.572365</td>\n",
       "      <td>27.217438</td>\n",
       "      <td>16.867893</td>\n",
       "      <td>...</td>\n",
       "      <td>-51.033100</td>\n",
       "      <td>-29.711704</td>\n",
       "      <td>-8.681676</td>\n",
       "      <td>16.838526</td>\n",
       "      <td>4.602078</td>\n",
       "      <td>-125.815170</td>\n",
       "      <td>-139.802063</td>\n",
       "      <td>36.825619</td>\n",
       "      <td>69.078316</td>\n",
       "      <td>73.987007</td>\n",
       "    </tr>\n",
       "    <tr>\n",
       "      <td>542399</td>\n",
       "      <td>999.0</td>\n",
       "      <td>-233.405914</td>\n",
       "      <td>7.419993</td>\n",
       "      <td>5.654030</td>\n",
       "      <td>-37.219276</td>\n",
       "      <td>61.962593</td>\n",
       "      <td>13.475890</td>\n",
       "      <td>-67.528046</td>\n",
       "      <td>26.588888</td>\n",
       "      <td>16.776771</td>\n",
       "      <td>...</td>\n",
       "      <td>-50.918606</td>\n",
       "      <td>-29.912426</td>\n",
       "      <td>-8.662592</td>\n",
       "      <td>17.035040</td>\n",
       "      <td>4.785510</td>\n",
       "      <td>-128.288773</td>\n",
       "      <td>-137.849853</td>\n",
       "      <td>44.995388</td>\n",
       "      <td>69.285149</td>\n",
       "      <td>74.097336</td>\n",
       "    </tr>\n",
       "  </tbody>\n",
       "</table>\n",
       "<p>542400 rows × 66 columns</p>\n",
       "</div>"
      ],
      "text/plain": [
       "         Time          E1        E2         E3         E4         E5  \\\n",
       "0      -200.0   13.649351  4.253679   9.996485   9.481434  18.026508   \n",
       "1      -199.0   13.828758  4.976443  10.084705   9.582227  18.480547   \n",
       "2      -198.0   14.142060  5.850959  10.178824   9.686580  19.001780   \n",
       "3      -197.0   14.560205  6.793514  10.284312   9.803214  19.552628   \n",
       "4      -196.0   15.053234  7.721226  10.407560   9.938207  20.092878   \n",
       "...       ...         ...       ...        ...        ...        ...   \n",
       "542395  995.0 -233.694122  7.769695   8.263282 -34.424835  74.074875   \n",
       "542396  996.0 -233.596756  7.821805   7.365407 -35.303608  73.046166   \n",
       "542397  997.0 -233.481140  7.782219   6.621273 -36.059338  70.529800   \n",
       "542398  998.0 -233.399612  7.643509   6.047417 -36.694870  66.741524   \n",
       "542399  999.0 -233.405914  7.419993   5.654030 -37.219276  61.962593   \n",
       "\n",
       "               E6         E7         E8         E9  ...        E56        E57  \\\n",
       "0        5.564005  12.778870   1.174925  13.478706  ...  -2.362542  -0.461481   \n",
       "1        5.537510  12.838730   1.211721  13.147108  ...  -3.272416  -0.463592   \n",
       "2        5.393631  12.747041   1.206468  12.338480  ...  -4.002994  -0.402802   \n",
       "3        5.139943  12.524466   1.158097  11.103312  ...  -4.511529  -0.304838   \n",
       "4        4.792314  12.198002   1.070401   9.519570  ...  -4.765975  -0.191731   \n",
       "...           ...        ...        ...        ...  ...        ...        ...   \n",
       "542395  16.008013 -66.621674  28.767864  18.601503  ... -51.375248 -27.745144   \n",
       "542396  15.163234 -67.140457  28.350851  17.708069  ... -51.273594 -28.642437   \n",
       "542397  14.454845 -67.453232  27.820776  17.149921  ... -51.154018 -29.295010   \n",
       "542398  13.892268 -67.572365  27.217438  16.867893  ... -51.033100 -29.711704   \n",
       "542399  13.475890 -67.528046  26.588888  16.776771  ... -50.918606 -29.912426   \n",
       "\n",
       "              E58        E59       E60         E61         E62        E63  \\\n",
       "0       -9.263395  -2.207499  3.446589   -3.198227   -3.198227  -3.198227   \n",
       "1      -10.913692  -2.212922  3.910747   -3.019854   -3.019854  -3.019854   \n",
       "2      -11.890976  -2.120070  4.458347   -2.751333   -2.751333  -2.751333   \n",
       "3      -12.029873  -1.959178  5.037091   -2.393907   -2.393907  -2.393907   \n",
       "4      -11.221484  -1.756361  5.597899   -1.954948   -1.954948  -1.954948   \n",
       "...           ...        ...       ...         ...         ...        ...   \n",
       "542395 -11.294678  14.642734  4.838850 -120.415878 -152.254807  22.633812   \n",
       "542396 -10.040168  15.589846  4.592117 -121.814385 -147.267349  25.017849   \n",
       "542397  -9.149659  16.343340  4.526050 -123.629273 -143.011612  29.931921   \n",
       "542398  -8.681676  16.838526  4.602078 -125.815170 -139.802063  36.825619   \n",
       "542399  -8.662592  17.035040  4.785510 -128.288773 -137.849853  44.995388   \n",
       "\n",
       "              E64        E65  \n",
       "0       -3.198227  -3.198227  \n",
       "1       -3.019854  -3.019854  \n",
       "2       -2.751333  -2.751333  \n",
       "3       -2.393907  -2.393907  \n",
       "4       -1.954948  -1.954948  \n",
       "...           ...        ...  \n",
       "542395  66.947205  74.557816  \n",
       "542396  67.780792  74.212090  \n",
       "542397  68.535294  74.022133  \n",
       "542398  69.078316  73.987007  \n",
       "542399  69.285149  74.097336  \n",
       "\n",
       "[542400 rows x 66 columns]"
      ]
     },
     "execution_count": 8,
     "metadata": {},
     "output_type": "execute_result"
    }
   ],
   "source": [
    "df"
   ]
  },
  {
   "cell_type": "code",
   "execution_count": 9,
   "metadata": {},
   "outputs": [
    {
     "name": "stderr",
     "output_type": "stream",
     "text": [
      "/Users/JennMacBook/opt/anaconda3/lib/python3.7/site-packages/ipykernel_launcher.py:5: UserWarning: Boolean Series key will be reindexed to match DataFrame index.\n",
      "  \"\"\"\n"
     ]
    }
   ],
   "source": [
    "# samples are df rows mod 1200, pre is 0-199, post is 200-1199\n",
    "\n",
    "# extract pre rows and post rows, randomly choose 200-400ms as post\n",
    "pre = df[df.Time < 0]\n",
    "post = df[df.Time >= 200][df.Time < 400]"
   ]
  },
  {
   "cell_type": "code",
   "execution_count": 10,
   "metadata": {},
   "outputs": [],
   "source": [
    "pre = pre.drop(columns=[\"Time\", \"E65\"], axis=1)\n",
    "post = post.drop(columns=[\"Time\", \"E65\"], axis=1)"
   ]
  },
  {
   "cell_type": "code",
   "execution_count": 11,
   "metadata": {},
   "outputs": [],
   "source": [
    "timeFrame = 200\n",
    "\n",
    "preX = pre.values\n",
    "(i,j) = preX.shape\n",
    "preX = np.reshape(preX, (i // 200, j * 200))"
   ]
  },
  {
   "cell_type": "code",
   "execution_count": 12,
   "metadata": {},
   "outputs": [],
   "source": [
    "postX = post.values\n",
    "(i,j) = postX.shape\n",
    "postX = np.reshape(postX, (i // 200, j * 200))"
   ]
  },
  {
   "cell_type": "code",
   "execution_count": 13,
   "metadata": {},
   "outputs": [],
   "source": [
    "(preN, preD) = preX.shape\n",
    "(postN, postD) = postX.shape"
   ]
  },
  {
   "cell_type": "code",
   "execution_count": 14,
   "metadata": {},
   "outputs": [],
   "source": [
    "X = np.concatenate((preX, postX), axis=0)\n",
    "(n, d) = X.shape\n",
    "assert(n == preN + postN)\n",
    "assert(d == postD)\n",
    "assert(d == preD)"
   ]
  },
  {
   "cell_type": "code",
   "execution_count": 15,
   "metadata": {},
   "outputs": [],
   "source": [
    "y = np.concatenate((np.zeros(preN), np.ones(postN)))\n",
    "assert(y.shape == (n,))"
   ]
  },
  {
   "cell_type": "code",
   "execution_count": 16,
   "metadata": {},
   "outputs": [],
   "source": [
    "# just use this : on next one\n",
    "# from sklearn.model_selection import train_test_split \n",
    "\n",
    "rand_indices = np.random.permutation(n)\n",
    "split = int(n * 0.8)\n",
    "train_idx, valid_idx = rand_indices[:split], rand_indices[split:]\n",
    "train_X, valid_X, train_y, valid_y = X[train_idx, :], X[valid_idx, :], y[train_idx], y[valid_idx]"
   ]
  },
  {
   "cell_type": "code",
   "execution_count": 17,
   "metadata": {},
   "outputs": [],
   "source": [
    "# from sklearn.svm import SVC\n",
    "# model = SVC(gamma='auto', kernel='linear')\n",
    "# model.fit(train_X, train_y)"
   ]
  },
  {
   "cell_type": "code",
   "execution_count": 18,
   "metadata": {
    "scrolled": true
   },
   "outputs": [
    {
     "name": "stderr",
     "output_type": "stream",
     "text": [
      "/Users/JennMacBook/opt/anaconda3/lib/python3.7/site-packages/sklearn/ensemble/forest.py:245: FutureWarning: The default value of n_estimators will change from 10 in version 0.20 to 100 in 0.22.\n",
      "  \"10 in version 0.20 to 100 in 0.22.\", FutureWarning)\n"
     ]
    },
    {
     "data": {
      "text/plain": [
       "RandomForestClassifier(bootstrap=True, class_weight=None, criterion='gini',\n",
       "                       max_depth=None, max_features='auto', max_leaf_nodes=None,\n",
       "                       min_impurity_decrease=0.0, min_impurity_split=None,\n",
       "                       min_samples_leaf=1, min_samples_split=2,\n",
       "                       min_weight_fraction_leaf=0.0, n_estimators=10,\n",
       "                       n_jobs=None, oob_score=False, random_state=None,\n",
       "                       verbose=0, warm_start=False)"
      ]
     },
     "execution_count": 18,
     "metadata": {},
     "output_type": "execute_result"
    }
   ],
   "source": [
    "from sklearn.ensemble import RandomForestClassifier\n",
    "model = RandomForestClassifier()\n",
    "model.fit(train_X, train_y)"
   ]
  },
  {
   "cell_type": "code",
   "execution_count": 19,
   "metadata": {},
   "outputs": [],
   "source": [
    "# from sklearn.neighbors import KNeighborsClassifier\n",
    "# from dtw import DTW\n",
    "\n",
    "# model = KNeighborsClassifier(metric=DTW)\n",
    "# model.fit(train_X, train_y)"
   ]
  },
  {
   "cell_type": "code",
   "execution_count": 20,
   "metadata": {},
   "outputs": [],
   "source": [
    "Xhat = model.predict(valid_X)"
   ]
  },
  {
   "cell_type": "code",
   "execution_count": 21,
   "metadata": {},
   "outputs": [
    {
     "data": {
      "text/plain": [
       "0.049723756906077346"
      ]
     },
     "execution_count": 21,
     "metadata": {},
     "output_type": "execute_result"
    }
   ],
   "source": [
    "np.mean(Xhat != valid_y)"
   ]
  },
  {
   "cell_type": "code",
   "execution_count": 91,
   "metadata": {},
   "outputs": [
    {
     "data": {
      "text/plain": [
       "array([1., 0., 1., 1., 0., 0., 0., 0., 1., 0., 0., 1., 1., 1., 0., 1., 1.,\n",
       "       1., 0., 0., 1., 1., 1., 1., 0., 1., 1., 1., 0., 0., 1., 0., 0., 1.,\n",
       "       1., 0., 0., 1., 1., 0., 0., 0., 0., 0., 1., 1., 0., 0., 0., 0., 0.,\n",
       "       0., 1., 0., 0., 1., 0., 0., 1., 1., 1., 0., 1., 0., 1., 0., 0., 1.,\n",
       "       1., 0., 1., 1., 1., 0., 0., 0., 1., 1., 0., 0., 0., 1., 1., 0., 0.,\n",
       "       1., 0., 0., 0., 0., 0., 0., 1., 1., 1., 0., 0., 0., 0., 0., 0., 1.,\n",
       "       0., 1., 0., 0., 0., 1., 0., 0., 0., 0., 0., 1., 0., 0., 1., 0., 0.,\n",
       "       1., 0., 0., 0., 1., 0., 0., 1., 0., 1., 0., 0., 1., 0., 0., 1., 0.,\n",
       "       0., 1., 0., 0., 0., 0., 0., 1., 0., 0., 0., 1., 0., 0., 1., 0., 1.,\n",
       "       0., 1., 1., 1., 0., 0., 1., 1., 1., 1., 1., 0., 0., 0., 0., 0., 0.,\n",
       "       1., 1., 1., 1., 1., 1., 0., 1., 0., 1., 1.])"
      ]
     },
     "execution_count": 91,
     "metadata": {},
     "output_type": "execute_result"
    }
   ],
   "source": [
    "Xhat"
   ]
  },
  {
   "cell_type": "code",
   "execution_count": 92,
   "metadata": {},
   "outputs": [
    {
     "data": {
      "text/plain": [
       "array([1., 0., 1., 1., 1., 0., 0., 0., 1., 0., 0., 1., 1., 1., 0., 1., 1.,\n",
       "       1., 0., 0., 1., 1., 1., 1., 0., 1., 1., 1., 0., 0., 1., 0., 0., 1.,\n",
       "       1., 0., 0., 1., 1., 0., 0., 0., 0., 0., 1., 1., 0., 0., 0., 0., 0.,\n",
       "       0., 1., 0., 0., 0., 0., 1., 1., 1., 1., 0., 1., 0., 1., 0., 0., 1.,\n",
       "       1., 0., 1., 1., 1., 0., 0., 0., 1., 1., 1., 0., 0., 1., 1., 0., 0.,\n",
       "       1., 0., 0., 0., 0., 0., 0., 1., 0., 1., 1., 0., 0., 0., 0., 0., 1.,\n",
       "       0., 1., 0., 0., 0., 1., 1., 1., 0., 0., 0., 1., 0., 0., 0., 0., 0.,\n",
       "       1., 0., 1., 0., 1., 0., 0., 1., 0., 1., 0., 0., 1., 0., 1., 1., 0.,\n",
       "       0., 1., 0., 0., 0., 0., 0., 0., 0., 0., 0., 1., 0., 1., 1., 0., 1.,\n",
       "       0., 1., 1., 1., 0., 0., 1., 1., 1., 1., 1., 0., 0., 0., 0., 0., 0.,\n",
       "       1., 1., 1., 1., 1., 1., 0., 1., 1., 1., 1.])"
      ]
     },
     "execution_count": 92,
     "metadata": {},
     "output_type": "execute_result"
    }
   ],
   "source": [
    "valid_y"
   ]
  },
  {
   "cell_type": "code",
   "execution_count": 93,
   "metadata": {},
   "outputs": [
    {
     "data": {
      "text/plain": [
       "0.0027662517289073307"
      ]
     },
     "execution_count": 93,
     "metadata": {},
     "output_type": "execute_result"
    }
   ],
   "source": [
    "np.mean(model.predict(train_X) != train_y)"
   ]
  },
  {
   "cell_type": "code",
   "execution_count": 94,
   "metadata": {},
   "outputs": [
    {
     "data": {
      "text/plain": [
       "array([False, False, False, False,  True, False, False, False, False,\n",
       "       False, False, False, False, False, False, False, False, False,\n",
       "       False, False, False, False, False, False, False, False, False,\n",
       "       False, False, False, False, False, False, False, False, False,\n",
       "       False, False, False, False, False, False, False, False, False,\n",
       "       False, False, False, False, False, False, False, False, False,\n",
       "       False,  True, False,  True, False, False, False, False, False,\n",
       "       False, False, False, False, False, False, False, False, False,\n",
       "       False, False, False, False, False, False,  True, False, False,\n",
       "       False, False, False, False, False, False, False, False, False,\n",
       "       False, False, False,  True, False,  True, False, False, False,\n",
       "       False, False, False, False, False, False, False, False, False,\n",
       "        True,  True, False, False, False, False, False, False,  True,\n",
       "       False, False, False, False,  True, False, False, False, False,\n",
       "       False, False, False, False, False, False, False,  True, False,\n",
       "       False, False, False, False, False, False, False, False,  True,\n",
       "       False, False, False, False, False,  True, False, False, False,\n",
       "       False, False, False, False, False, False, False, False, False,\n",
       "       False, False, False, False, False, False, False, False, False,\n",
       "       False, False, False, False, False, False, False,  True, False,\n",
       "       False])"
      ]
     },
     "execution_count": 94,
     "metadata": {},
     "output_type": "execute_result"
    }
   ],
   "source": [
    "Xhat != valid_y"
   ]
  },
  {
   "cell_type": "code",
   "execution_count": 95,
   "metadata": {},
   "outputs": [
    {
     "name": "stdout",
     "output_type": "stream",
     "text": [
      "              precision    recall  f1-score   support\n",
      "\n",
      "         0.0       0.90      0.96      0.93        98\n",
      "         1.0       0.95      0.88      0.91        83\n",
      "\n",
      "    accuracy                           0.92       181\n",
      "   macro avg       0.93      0.92      0.92       181\n",
      "weighted avg       0.92      0.92      0.92       181\n",
      "\n"
     ]
    }
   ],
   "source": [
    "from sklearn.metrics import classification_report\n",
    "print(classification_report(valid_y, Xhat))"
   ]
  }
 ],
 "metadata": {
  "kernelspec": {
   "display_name": "Python 3",
   "language": "python",
   "name": "python3"
  },
  "language_info": {
   "codemirror_mode": {
    "name": "ipython",
    "version": 3
   },
   "file_extension": ".py",
   "mimetype": "text/x-python",
   "name": "python",
   "nbconvert_exporter": "python",
   "pygments_lexer": "ipython3",
   "version": "3.7.4"
  }
 },
 "nbformat": 4,
 "nbformat_minor": 2
}
