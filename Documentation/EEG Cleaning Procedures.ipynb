{
 "cells": [
  {
   "cell_type": "markdown",
   "metadata": {},
   "source": [
    "# EEG Cleaning Procedures\n"
   ]
  },
  {
   "cell_type": "markdown",
   "metadata": {},
   "source": [
    "There is a spreadsheet (Ps Tracker) to track these stages on Datatracker_SHARE (on Scooter)"
   ]
  },
  {
   "cell_type": "markdown",
   "metadata": {},
   "source": [
    "## Preprocessing Stage 1: Attention\n",
    "1) All data is initially processed with EGI software\n",
    "- Run the scripts for filtering, baseline, epoching\n",
    "- This is done for both time windows (Post-Word and Post-Picture)\n",
    "2) Use EGI to record infant attention for each trial\n",
    "- Record attention in the Datatracker_SHARE (on Scooter) file under the appropriate tab\n",
    "    - This includes looking left, away, eye-blink, movement, touching the cap, etc.\n",
    "- Record bad channels in the Datatracker_SHARE (on Scooter) file under the appropriate tab\n",
    "    - Best way to identify these is to look at the good trials as identified by EGI processing \n",
    "    - A bad channel will be bad throughout the majority of the study\n",
    "    - Remember 60-64 always get removed anyway so you can disregard these"
   ]
  },
  {
   "cell_type": "markdown",
   "metadata": {},
   "source": [
    "## Preprocessing Stage 2: MatLab and Record Bad Channels\n",
    "1) Save .set files\n",
    "- Using EEGLab import each raw file (.mff) and save its dataset file (.set) \n",
    "- Save these files in /OFFCAMPUS/Jenn/Imported data\n",
    "2) Run Matlab cleaning file\n",
    "- Preprocess data using all_cleaning.m . \n",
    "- This will filter, baseline, epoch all the data for both ML and PICT\n",
    "- These files will save to /OFFCAMPUS/Jenn/Imported data/cleaned\n",
    "- Be sure to record this set in the PS_tracker, as these have not been fully cleaned\n",
    "3) Record any bad trials to be removed based on messy EEG data\n",
    "- There is a column in Datatracker_SHARE (on Scooter) to record these"
   ]
  },
  {
   "cell_type": "markdown",
   "metadata": {},
   "source": [
    "## Preprocessing Stage 3: Final Prep\n",
    "- All relavent MATLAB files are in jwlab_eeg/data_cleaning/ on git\n",
    "1) Interpolate bad channels\n",
    "- Open the raw .mff files in EGI lab\n",
    "- Mark the bad channels as indicated in the previous step\n",
    "- Use EGI to interpolate these bad channels, do not do any other pre processing here\n",
    "- Save these files in /OFFCAMPUS/Jenn/Imported data (save over previous data)\n",
    "2) Rerun Matlab cleaning file\n",
    "- Preprocess data using all_cleaning.m (. \n",
    "- This will filter, baseline, epoch all the data for both ML and PICT\n",
    "- These files will be saved in /OFFCAMPUS/Jenn/Imported data/cleaned (save over previous data)\n",
    "3) Get trial number\n",
    "- Run get_trial_cell_obs.m\n",
    "2) Updating .csv files for processing\n",
    "- These files live in /OFFCAMPUS/Jenn/Datatracker\n",
    "- Update ML_badtrials-Table 1.csv\n",
    "    - Check that any \"look left\" are marked as just \"left\"\n",
    "- Then check the messy data column in Datatracker, use the labels file to find the correct cell and observation and put in the the ML_badtrials-Table 1.csv\n",
    "    - We plan to later automate this procedure\n",
    "- Be sure not to add empty rows as this may cause crashes"
   ]
  },
  {
   "cell_type": "markdown",
   "metadata": {},
   "source": []
  }
 ],
 "metadata": {
  "kernelspec": {
   "display_name": "Python 3",
   "language": "python",
   "name": "python3"
  },
  "language_info": {
   "codemirror_mode": {
    "name": "ipython",
    "version": 3
   },
   "file_extension": ".py",
   "mimetype": "text/x-python",
   "name": "python",
   "nbconvert_exporter": "python",
   "pygments_lexer": "ipython3",
   "version": "3.7.4"
  }
 },
 "nbformat": 4,
 "nbformat_minor": 2
}
