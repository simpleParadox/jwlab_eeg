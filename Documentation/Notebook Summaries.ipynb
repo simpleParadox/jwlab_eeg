{
 "cells": [
  {
   "cell_type": "markdown",
   "metadata": {},
   "source": [
    "# Notebook Summaries\n",
    "\n",
    "### Analyze ml df\n",
    "### Basic feature extraction -- predict age\n",
    "### Basic feature extraction -- split age\n",
    "### Basic feature extraction \n",
    "### Create ml df\n",
    "### Create ml df_sktime\n",
    "- to create dataframe for compute canada\n",
    "### Feature extraction sanity\n",
    "### ML dtw first4 testing\n",
    "### ML extraced features first4 testing\n",
    "### ML randomforest frist4 averagetrials\n",
    "### ML svm avg\n",
    "- only has train on raw test on two types of average for each group\n",
    "### ML svm avg and subset\n",
    "- has code for testing on average, tesitng on .2/.8 split and sliding window\n",
    "### ML svm first4 noaveraging validate on avgaged sigtest\n",
    "### no feature extraction -- predict age\n",
    "### sanity 999\n",
    "- first sanity check, just for code creation - depreciated\n",
    "### sanity real multiple participants\n",
    "- first sanity check, just for code creation - depreciated\n",
    "### significance check\n",
    "### svm optimization\n",
    "### tsfresh_extract\n",
    "\n"
   ]
  },
  {
   "cell_type": "code",
   "execution_count": null,
   "metadata": {},
   "outputs": [],
   "source": []
  }
 ],
 "metadata": {
  "kernelspec": {
   "display_name": "Python 3",
   "language": "python",
   "name": "python3"
  },
  "language_info": {
   "codemirror_mode": {
    "name": "ipython",
    "version": 3
   },
   "file_extension": ".py",
   "mimetype": "text/x-python",
   "name": "python",
   "nbconvert_exporter": "python",
   "pygments_lexer": "ipython3",
   "version": "3.7.4"
  }
 },
 "nbformat": 4,
 "nbformat_minor": 2
}
