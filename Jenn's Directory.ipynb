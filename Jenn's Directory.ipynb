{
 "cells": [
  {
   "cell_type": "markdown",
   "metadata": {},
   "source": [
    "# Cluster analysis\n",
    "\n",
    "- Contains code for creating non-overlapping windows of x size\n",
    "- Has code for cross validation, predicting average, feature extraction\n",
    "- Feature extraction: \n",
    "    - Extracts: mean, max, min, variance kurtoisis \n",
    "    - Karl's code does something weird here (matrix has way too many columns)\n",
    "    - Karl's code standardized \n",
    "    - Have code for normalizaiton and standardization\n",
    "\n",
    "# Cluster permutation\n",
    "\n",
    "- Contains code for creating a df of randomly selected averages\n",
    "    - For each word, takes a random set of 5 trials (from random ps)\n",
    "    - Each set of 5 trials then is averaged together\n",
    "    - This is repeated for all the trials in the dataframe\n",
    "    - Result is a set of rows that are each an random averaged value for a word\n",
    "    \n",
    "# ML_svm_JC\n",
    "\n",
    "- Using raw to predict averaged\n",
    "- First 20 of each ps code\n",
    "- Predicting a subset of ps code\n",
    "- Multigroup\n",
    "- Some cross validation but not iterable (non-randomized) "
   ]
  },
  {
   "cell_type": "code",
   "execution_count": null,
   "metadata": {},
   "outputs": [],
   "source": []
  }
 ],
 "metadata": {
  "kernelspec": {
   "display_name": "Python 3",
   "language": "python",
   "name": "python3"
  },
  "language_info": {
   "codemirror_mode": {
    "name": "ipython",
    "version": 3
   },
   "file_extension": ".py",
   "mimetype": "text/x-python",
   "name": "python",
   "nbconvert_exporter": "python",
   "pygments_lexer": "ipython3",
   "version": "3.7.4"
  }
 },
 "nbformat": 4,
 "nbformat_minor": 2
}
