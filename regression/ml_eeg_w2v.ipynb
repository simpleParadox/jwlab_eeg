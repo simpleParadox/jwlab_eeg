{
 "cells": [
  {
   "cell_type": "markdown",
   "source": [
    "The following file tries to predict the w2v embeddings\n",
    "from the EEG data.\n",
    "\n",
    "First I'll try to predict using the raw data (without averaging)."
   ],
   "metadata": {
    "collapsed": false,
    "pycharm": {
     "name": "#%% md\n"
    }
   }
  },
  {
   "cell_type": "code",
   "execution_count": 1,
   "outputs": [],
   "source": [
    "import sklearn\n",
    "import pandas as pd\n",
    "import numpy as np\n",
    "import pickle\n",
    "import gensim\n",
    "from numpy import savez_compressed\n",
    "from numpy import load\n",
    "from sklearn.model_selection import train_test_split\n",
    "\n",
    "from sklearn.linear_model import Ridge\n",
    "from sklearn.kernel_ridge import KernelRidge\n",
    "# from sklearn.svm import LinearSVR\n",
    "# from sklearn.svm import SVR\n",
    "# from sklearn.linear_model import SGDRegressor\n",
    "from sklearn.linear_model import LinearRegression\n",
    "from sklearn.ensemble import RandomForestRegressor\n",
    "from sklearn.tree import DecisionTreeRegressor\n",
    "\n",
    "from sklearn.metrics.pairwise import cosine_similarity\n",
    "from sklearn.preprocessing import StandardScaler\n",
    "from sklearn.pipeline import make_pipeline"
   ],
   "metadata": {
    "collapsed": false,
    "pycharm": {
     "name": "#%%\n"
    }
   }
  },
  {
   "cell_type": "code",
   "execution_count": 4,
   "outputs": [],
   "source": [
    "readys_path = \"Z:\\\\Jenn\\\\ml_df_readys.pkl\"\n",
    "\n",
    "# with open(pkl_path, 'rb') as f:\n",
    "f = open(readys_path, 'rb')\n",
    "readys_data = pickle.load(f)\n",
    "f.close()\n"
   ],
   "metadata": {
    "collapsed": false,
    "pycharm": {
     "name": "#%%\n"
    }
   }
  },
  {
   "cell_type": "code",
   "execution_count": 7,
   "outputs": [],
   "source": [
    "# sktime_path = \"Z:\\\\Jenn\\\\ml_df_sktime.pkl\"\n",
    "#\n",
    "# # with open(pkl_path, 'rb') as f:\n",
    "# f1 = open(sktime_path, 'rb')\n",
    "# sktime_data = pickle.load(f1)\n",
    "# f1.close()"
   ],
   "metadata": {
    "collapsed": false,
    "pycharm": {
     "name": "#%%\n"
    }
   }
  },
  {
   "cell_type": "code",
   "execution_count": 4,
   "outputs": [],
   "source": [
    "# No need to run this cell.\n",
    "labels_mapping = {0:'baby', 1:'bear', 2:'bird', 3: 'bunny',\n",
    "                  4:'cat', 5 : 'dog', 6: 'duck', 7: 'mom',\n",
    "                  8: 'banana', 9: 'bottle', 10: 'cookie',\n",
    "                  11: 'cracker', 12: 'cup', 13: 'juice',\n",
    "                  14: 'milk', 15: 'spoon'}"
   ],
   "metadata": {
    "collapsed": false,
    "pycharm": {
     "name": "#%%\n"
    }
   }
  },
  {
   "cell_type": "code",
   "execution_count": 15,
   "outputs": [],
   "source": [
    "# No need to run this cell.\n",
    "# Extract the word labels first and store it locally.\n",
    "def create_w2v_embeds():\n",
    "    word_labels = readys_data['label'].values\n",
    "    model = gensim.models.KeyedVectors.load_word2vec_format('GoogleNews-vectors-negative300.bin.gz', binary=True)\n",
    "    # First obtain all the embeddings for the words in the labels mapping.\n",
    "    w2v_label_embeds = {}\n",
    "    for key in labels_mapping:\n",
    "        w2v_label_embeds[key] = model[labels_mapping[key]]\n",
    "    all_embeds = []\n",
    "    for label in word_labels:\n",
    "        all_embeds.append(w2v_label_embeds[int(label)])\n",
    "    savez_compressed('w2v_embeds/all_w2v_embeds.npz', all_embeds)\n"
   ],
   "metadata": {
    "collapsed": false,
    "pycharm": {
     "name": "#%%\n"
    }
   }
  },
  {
   "cell_type": "code",
   "execution_count": 6,
   "outputs": [],
   "source": [
    "eeg_features = readys_data.iloc[:,:18000].values\n",
    "w2v_embeds_loaded = load('w2v_embeds/all_w2v_embeds.npz')\n",
    "w2v_embeds = w2v_embeds_loaded['arr_0']"
   ],
   "metadata": {
    "collapsed": false,
    "pycharm": {
     "name": "#%%\n"
    }
   }
  },
  {
   "cell_type": "code",
   "execution_count": null,
   "outputs": [
    {
     "name": "stdout",
     "output_type": "stream",
     "text": [
      "(1553, 18000)\n",
      "(1553, 300)\n"
     ]
    }
   ],
   "source": [
    "# Split into training and testing data\n",
    "X_train, X_test, y_train, y_test = train_test_split(eeg_features, w2v_embeds, test_size=0.1)\n",
    "print(X_train.shape)\n",
    "print(y_train.shape)\n",
    "ss = StandardScaler()\n",
    "X_train = ss.fit_transform(X_train)\n",
    "X_test = ss.transform(X_test)\n",
    "# X_train = X_train.reshape(X_train.shape[0],-1)\n",
    "# y_train = y_train.reshape(y_train.shape[0],300)\n",
    "ridge = DecisionTreeRegressor()\n",
    "ridge.fit(X_train, y_train)\n",
    "preds = ridge.predict(X_test)\n",
    "\n",
    "points = 0\n",
    "total_points = 0\n",
    "for i in range(preds.shape[0]-1):\n",
    "    s_i = y_test[i]\n",
    "    s_j = y_test[i+1]\n",
    "    s_i_pred = preds[i]\n",
    "    s_j_pred = preds[i+1]\n",
    "    dsii = cosine_similarity([s_i], [s_i_pred])\n",
    "    dsjj = cosine_similarity([s_j], [s_j_pred])\n",
    "    dsij = cosine_similarity([s_i], [s_j_pred])\n",
    "    dsji = cosine_similarity([s_j], [s_i_pred])\n",
    "    if (dsii + dsjj) >= (dsij + dsji):\n",
    "        points += 1\n",
    "    total_points += 1\n",
    "print( points / total_points)\n"
   ],
   "metadata": {
    "collapsed": false,
    "pycharm": {
     "name": "#%%\n",
     "is_executing": true
    }
   }
  },
  {
   "cell_type": "code",
   "execution_count": null,
   "outputs": [],
   "source": [],
   "metadata": {
    "collapsed": false,
    "pycharm": {
     "name": "#%%\n"
    }
   }
  }
 ],
 "metadata": {
  "kernelspec": {
   "display_name": "Python 3",
   "language": "python",
   "name": "python3"
  },
  "language_info": {
   "codemirror_mode": {
    "name": "ipython",
    "version": 2
   },
   "file_extension": ".py",
   "mimetype": "text/x-python",
   "name": "python",
   "nbconvert_exporter": "python",
   "pygments_lexer": "ipython2",
   "version": "2.7.6"
  }
 },
 "nbformat": 4,
 "nbformat_minor": 0
}